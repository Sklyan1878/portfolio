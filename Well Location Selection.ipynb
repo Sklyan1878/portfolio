{
 "cells": [
  {
   "cell_type": "markdown",
   "metadata": {},
   "source": [
    "# Well Location Selection"
   ]
  },
  {
   "cell_type": "markdown",
   "metadata": {},
   "source": [
    "<b>Aim</b>\n",
    "\n",
    "To select a region for drilling a new well.\n",
    "\n",
    "<br><b>Background</b>\n",
    "\n",
    "Oil samples from three regions have been provided: in each, there are 100,000 deposits where the oil quality and its reserves volume have been measured. It is necessary to construct a machine learning model that will help determine the region where production will yield the highest profit. Analyze potential profit and risks using the Bootstrap  *Bootstrap* technique.\n",
    "\n",
    "<br><b>Data Description</b>\n",
    "\n",
    "Features:\n",
    "- *id* — unique well identifier;\n",
    "- *f0, f1, f2* — three significant features of the points (it doesn't matter what they mean, but the features themselves are significant).\n",
    "\n",
    "Target Feature:\n",
    "- *product* — volume of reserves in the well (thousand barrels)."
   ]
  },
  {
   "cell_type": "markdown",
   "metadata": {},
   "source": [
    "## Data Loading and Preparation"
   ]
  },
  {
   "cell_type": "code",
   "execution_count": 1,
   "metadata": {},
   "outputs": [],
   "source": [
    "import pandas as pd\n",
    "import numpy as np\n",
    "import matplotlib.pyplot as plt\n",
    "import seaborn as sns\n",
    "\n",
    "from sklearn.linear_model import LinearRegression\n",
    "from sklearn.model_selection import train_test_split\n",
    "from sklearn.metrics import mean_squared_error\n",
    "from sklearn.preprocessing import StandardScaler\n",
    "\n",
    "import warnings\n",
    "warnings.simplefilter(\"ignore\")\n",
    "pd.options.mode.chained_assignment = None\n",
    "pd.set_option('display.max_columns', None)"
   ]
  },
  {
   "cell_type": "code",
   "execution_count": 2,
   "metadata": {},
   "outputs": [],
   "source": [
    "# save key values for calculations\n",
    "\n",
    "BUDGET = 1e10\n",
    "POINTS = 500\n",
    "POINTS_CHOOSE = 200\n",
    "BARREL_PRICE = 450 \n",
    "PRODUCT_PRICE = BARREL_PRICE * 1000"
   ]
  },
  {
   "cell_type": "code",
   "execution_count": 3,
   "metadata": {},
   "outputs": [],
   "source": [
    "# open databases\n",
    "\n",
    "try:\n",
    "    df0 = pd.read_csv('https://code.s3.yandex.net/datasets/geo_data_0.csv')\n",
    "except:\n",
    "    df0 = pd.read_csv('geo_data_0.csv')\n",
    "    \n",
    "try:\n",
    "    df1 = pd.read_csv('https://code.s3.yandex.net/datasets/geo_data_1.csv')\n",
    "except:\n",
    "    df1 = pd.read_csv('geo_data_1.csv')\n",
    "    \n",
    "try:\n",
    "    df2 = pd.read_csv('https://code.s3.yandex.net/datasets/geo_data_2.csv')\n",
    "except:\n",
    "    df2 = pd.read_csv('geo_data_2.csv')"
   ]
  },
  {
   "cell_type": "code",
   "execution_count": 4,
   "metadata": {},
   "outputs": [],
   "source": [
    "def df_information(df):\n",
    "    print(df.info())\n",
    "    print('')\n",
    "    print(df.head())\n",
    "    print('')\n",
    "    print('Duplicate Count:',df.duplicated().sum())\n",
    "    print('')\n",
    "# considering there might be non-obvious duplicates \n",
    "# (e.g., data from the same well obtained at different times), check if all wells are unique\n",
    "    print('Unique Well Count:', len(set(df['id'])))\n",
    "\n",
    "# function for describing and displaying processed data\n",
    "def df_description(df):\n",
    "    print(df.describe())\n",
    "    print('')\n",
    "    df.hist(figsize=(10,10))\n",
    "    plt.show()\n",
    "    plt.figure(figsize=(10,10))\n",
    "    sns.heatmap(df.corr(), cmap='OrRd', center=0, annot=True)\n",
    "    plt.show()"
   ]
  },
  {
   "cell_type": "code",
   "execution_count": 5,
   "metadata": {},
   "outputs": [
    {
     "name": "stdout",
     "output_type": "stream",
     "text": [
      "<class 'pandas.core.frame.DataFrame'>\n",
      "RangeIndex: 100000 entries, 0 to 99999\n",
      "Data columns (total 5 columns):\n",
      " #   Column   Non-Null Count   Dtype  \n",
      "---  ------   --------------   -----  \n",
      " 0   id       100000 non-null  object \n",
      " 1   f0       100000 non-null  float64\n",
      " 2   f1       100000 non-null  float64\n",
      " 3   f2       100000 non-null  float64\n",
      " 4   product  100000 non-null  float64\n",
      "dtypes: float64(4), object(1)\n",
      "memory usage: 3.8+ MB\n",
      "None\n",
      "\n",
      "      id        f0        f1        f2     product\n",
      "0  txEyH  0.705745 -0.497823  1.221170  105.280062\n",
      "1  2acmU  1.334711 -0.340164  4.365080   73.037750\n",
      "2  409Wp  1.022732  0.151990  1.419926   85.265647\n",
      "3  iJLyR -0.032172  0.139033  2.978566  168.620776\n",
      "4  Xdl7t  1.988431  0.155413  4.751769  154.036647\n",
      "\n",
      "Duplicate Count: 0\n",
      "\n",
      "Unique Well Count: 99990\n"
     ]
    }
   ],
   "source": [
    "# study the information on the region geo_data_0\n",
    "\n",
    "df_information(df0)"
   ]
  },
  {
   "cell_type": "code",
   "execution_count": 6,
   "metadata": {
    "scrolled": true
   },
   "outputs": [],
   "source": [
    "# since there are non-unique wells, delete them\n",
    "\n",
    "df0 = df0.drop_duplicates(subset=['id'], ignore_index=True)"
   ]
  },
  {
   "cell_type": "code",
   "execution_count": 7,
   "metadata": {},
   "outputs": [
    {
     "name": "stdout",
     "output_type": "stream",
     "text": [
      "<class 'pandas.core.frame.DataFrame'>\n",
      "RangeIndex: 100000 entries, 0 to 99999\n",
      "Data columns (total 5 columns):\n",
      " #   Column   Non-Null Count   Dtype  \n",
      "---  ------   --------------   -----  \n",
      " 0   id       100000 non-null  object \n",
      " 1   f0       100000 non-null  float64\n",
      " 2   f1       100000 non-null  float64\n",
      " 3   f2       100000 non-null  float64\n",
      " 4   product  100000 non-null  float64\n",
      "dtypes: float64(4), object(1)\n",
      "memory usage: 3.8+ MB\n",
      "None\n",
      "\n",
      "      id         f0         f1        f2     product\n",
      "0  kBEdx -15.001348  -8.276000 -0.005876    3.179103\n",
      "1  62mP7  14.272088  -3.475083  0.999183   26.953261\n",
      "2  vyE1P   6.263187  -5.948386  5.001160  134.766305\n",
      "3  KcrkZ -13.081196 -11.506057  4.999415  137.945408\n",
      "4  AHL4O  12.702195  -8.147433  5.004363  134.766305\n",
      "\n",
      "Duplicate Count: 0\n",
      "\n",
      "Unique Well Count: 99996\n"
     ]
    }
   ],
   "source": [
    "# study the information on the region geo_data_1\n",
    "\n",
    "df_information(df1)"
   ]
  },
  {
   "cell_type": "code",
   "execution_count": 8,
   "metadata": {
    "scrolled": true
   },
   "outputs": [],
   "source": [
    "# since there are non-unique wells, delete them\n",
    "\n",
    "df1 = df1.drop_duplicates(subset=['id'], ignore_index=True)"
   ]
  },
  {
   "cell_type": "code",
   "execution_count": 9,
   "metadata": {},
   "outputs": [
    {
     "name": "stdout",
     "output_type": "stream",
     "text": [
      "<class 'pandas.core.frame.DataFrame'>\n",
      "RangeIndex: 100000 entries, 0 to 99999\n",
      "Data columns (total 5 columns):\n",
      " #   Column   Non-Null Count   Dtype  \n",
      "---  ------   --------------   -----  \n",
      " 0   id       100000 non-null  object \n",
      " 1   f0       100000 non-null  float64\n",
      " 2   f1       100000 non-null  float64\n",
      " 3   f2       100000 non-null  float64\n",
      " 4   product  100000 non-null  float64\n",
      "dtypes: float64(4), object(1)\n",
      "memory usage: 3.8+ MB\n",
      "None\n",
      "\n",
      "      id        f0        f1        f2     product\n",
      "0  fwXo0 -1.146987  0.963328 -0.828965   27.758673\n",
      "1  WJtFt  0.262778  0.269839 -2.530187   56.069697\n",
      "2  ovLUW  0.194587  0.289035 -5.586433   62.871910\n",
      "3  q6cA6  2.236060 -0.553760  0.930038  114.572842\n",
      "4  WPMUX -0.515993  1.716266  5.899011  149.600746\n",
      "\n",
      "Duplicate Count: 0\n",
      "\n",
      "Unique Well Count: 99996\n"
     ]
    }
   ],
   "source": [
    "# study the information on the region geo_data_2\n",
    "\n",
    "df_information(df2)"
   ]
  },
  {
   "cell_type": "code",
   "execution_count": 10,
   "metadata": {},
   "outputs": [],
   "source": [
    "# since there are non-unique wells, delete them\n",
    "\n",
    "df2 = df2.drop_duplicates(subset=['id'], ignore_index=True)"
   ]
  },
  {
   "cell_type": "code",
   "execution_count": 11,
   "metadata": {},
   "outputs": [],
   "source": [
    "# the id column has served its purpose, it can now be removed\n",
    "df0.drop('id', axis=1, inplace=True)\n",
    "df1.drop('id', axis=1, inplace=True)\n",
    "df2.drop('id', axis=1, inplace=True)"
   ]
  },
  {
   "cell_type": "code",
   "execution_count": 12,
   "metadata": {
    "scrolled": false
   },
   "outputs": [
    {
     "name": "stdout",
     "output_type": "stream",
     "text": [
      "                 f0            f1            f2       product\n",
      "count  99990.000000  99990.000000  99990.000000  99990.000000\n",
      "mean       0.500454      0.250141      2.502629     92.499684\n",
      "std        0.871844      0.504430      3.248149     44.288304\n",
      "min       -1.408605     -0.848218    -12.088328      0.000000\n",
      "25%       -0.072572     -0.200877      0.287784     56.497069\n",
      "50%        0.502405      0.250252      2.515969     91.847928\n",
      "75%        1.073626      0.700640      4.715035    128.563699\n",
      "max        2.362331      1.343769     16.003790    185.364347\n",
      "\n"
     ]
    },
    {
     "data": {
      "image/png": "[encoded data removed]",
      "text/plain": [
       "<Figure size 720x720 with 4 Axes>"
      ]
     },
     "metadata": {
      "needs_background": "light"
     },
     "output_type": "display_data"
    },
    {
     "data": {
      "image/png": "[encoded data removed]",
      "text/plain": [
       "<Figure size 720x720 with 2 Axes>"
      ]
     },
     "metadata": {
      "needs_background": "light"
     },
     "output_type": "display_data"
    }
   ],
   "source": [
    "# The data is processed, and we can now take a detailed look at the data characteristics\n",
    "\n",
    "df_description(df0)"
   ]
  },
  {
   "cell_type": "code",
   "execution_count": 13,
   "metadata": {
    "scrolled": false
   },
   "outputs": [
    {
     "name": "stdout",
     "output_type": "stream",
     "text": [
      "                 f0            f1            f2       product\n",
      "count  99996.000000  99996.000000  99996.000000  99996.000000\n",
      "mean       1.141209     -4.796608      2.494501     68.823916\n",
      "std        8.965815      5.119906      1.703579     45.944663\n",
      "min      -31.609576    -26.358598     -0.018144      0.000000\n",
      "25%       -6.298551     -8.267985      1.000021     26.953261\n",
      "50%        1.153055     -4.813172      2.011475     57.085625\n",
      "75%        8.620964     -1.332816      3.999904    107.813044\n",
      "max       29.421755     18.734063      5.019721    137.945408\n",
      "\n"
     ]
    },
    {
     "data": {
      "image/png": "[encoded data removed]",
      "text/plain": [
       "<Figure size 720x720 with 4 Axes>"
      ]
     },
     "metadata": {
      "needs_background": "light"
     },
     "output_type": "display_data"
    },
    {
     "data": {
      "image/png": "[encoded data removed]",
      "text/plain": [
       "<Figure size 720x720 with 2 Axes>"
      ]
     },
     "metadata": {
      "needs_background": "light"
     },
     "output_type": "display_data"
    }
   ],
   "source": [
    "df_description(df1)"
   ]
  },
  {
   "cell_type": "code",
   "execution_count": 14,
   "metadata": {
    "scrolled": false
   },
   "outputs": [
    {
     "name": "stdout",
     "output_type": "stream",
     "text": [
      "                 f0            f1            f2       product\n",
      "count  99996.000000  99996.000000  99996.000000  99996.000000\n",
      "mean       0.002002     -0.002159      2.495084     94.998342\n",
      "std        1.732052      1.730397      3.473482     44.749573\n",
      "min       -8.760004     -7.084020    -11.970335      0.000000\n",
      "25%       -1.162328     -1.174841      0.130269     59.450028\n",
      "50%        0.009424     -0.009661      2.484236     94.925026\n",
      "75%        1.158477      1.163523      4.858720    130.586815\n",
      "max        7.238262      7.844801     16.739402    190.029838\n",
      "\n"
     ]
    },
    {
     "data": {
      "image/png": "[encoded data removed]",
      "text/plain": [
       "<Figure size 720x720 with 4 Axes>"
      ]
     },
     "metadata": {
      "needs_background": "light"
     },
     "output_type": "display_data"
    },
    {
     "data": {
      "image/png": "[encoded data removed]",
      "text/plain": [
       "<Figure size 720x720 with 2 Axes>"
      ]
     },
     "metadata": {
      "needs_background": "light"
     },
     "output_type": "display_data"
    }
   ],
   "source": [
    "df_description(df2)"
   ]
  },
  {
   "cell_type": "markdown",
   "metadata": {},
   "source": [
    "<b>Conclusions</b>\n",
    "\n",
    "At this stage, we have analyzed the data from the 3 provided datasets. The data types match the columns, no omissions or obvious duplicates were identified, however, all datasets contained non-unique wells which were removed from the analysis.\n",
    "\n",
    "After cleaning the data, we analyzed the features and the target feature in each dataset. In the datasets \"geo_data_0\" and \"geo_data_2\", no anomalies were recorded, the features are generally distributed normally, we see a weak positive correlation (0.48 and 0.45 respectively) between the f2 feature and the target feature product in both datasets.\n",
    "\n",
    "In the geo_data_1 dataset, the following oddities were recorded: a very large number of wells with extremely low and extremely high reserves with a very large \"plateau\" between these extremes. In addition, a correlation of one between the f2 feature and product also indicates that the data in the presented dataset might be defective (possibly even fabricated). Given the above, this dataset will be used for further analysis within the framework of the educational project."
   ]
  },
  {
   "cell_type": "markdown",
   "metadata": {},
   "source": [
    "## Training and Model Verification"
   ]
  },
  {
   "cell_type": "code",
   "execution_count": 15,
   "metadata": {},
   "outputs": [],
   "source": [
    "# function for model training and prediction\n",
    "\n",
    "def train_predict_model(df):\n",
    "    features = df.drop(['product'], axis=1)\n",
    "    target = df[\"product\"]\n",
    "    features_train, features_valid, target_train, target_valid = train_test_split(\n",
    "        features, target, test_size=0.25, random_state=12345)\n",
    "    numeric = ['f0', 'f1', 'f2']\n",
    "    scaler = StandardScaler()\n",
    "    scaler.fit(features_train[numeric])\n",
    "    features_train[numeric] = scaler.transform(features_train[numeric])\n",
    "    features_valid[numeric] = scaler.transform(features_valid[numeric])\n",
    "    \n",
    "    model = LinearRegression()\n",
    "    model.fit(features_train, target_train)\n",
    "    predicted_valid = model.predict(features_valid)\n",
    "    predicted_valid = pd.Series(predicted_valid, index=features_valid.index)\n",
    "    rmse = (mean_squared_error(predicted_valid, target_valid))**0.5\n",
    "    \n",
    "    print('Checking the uniformity of sample distribution:')\n",
    "    print('Training set size:', features_train.shape)\n",
    "    print('Validation set size:', features_valid.shape)\n",
    "    print('')\n",
    "    print('Modeling results:')\n",
    "    print('Average predicted oil reserves in the region: {0:.3f}'\n",
    "          .format((sum(predicted_valid) / len(predicted_valid))))\n",
    "    print('RMSE: {0:.3f}'.format(rmse))\n",
    "    return(predicted_valid, target_valid)"
   ]
  },
  {
   "cell_type": "code",
   "execution_count": 16,
   "metadata": {},
   "outputs": [
    {
     "name": "stdout",
     "output_type": "stream",
     "text": [
      "Region geo_data_0:\n",
      "\n",
      "Checking the uniformity of sample distribution:\n",
      "Training set size: (74992, 3)\n",
      "Validation set size: (24998, 3)\n",
      "\n",
      "Modeling results:\n",
      "Average predicted oil reserves in the region: 92.789\n",
      "RMSE: 37.854\n",
      "\n",
      "Region geo_data_1:\n",
      "\n",
      "Checking the uniformity of sample distribution:\n",
      "Training set size: (74997, 3)\n",
      "Validation set size: (24999, 3)\n",
      "\n",
      "Modeling results:\n",
      "Average predicted oil reserves in the region: 69.178\n",
      "RMSE: 0.892\n",
      "\n",
      "\n",
      "Region geo_data_2:\n",
      "\n",
      "Checking the uniformity of sample distribution:\n",
      "Training set size: (74997, 3)\n",
      "Validation set size: (24999, 3)\n",
      "\n",
      "Modeling results:\n",
      "Average predicted oil reserves in the region: 94.866\n",
      "RMSE: 40.076\n"
     ]
    }
   ],
   "source": [
    "print('Region geo_data_0:')\n",
    "print('')\n",
    "predicted_valid_0, target_valid_0 = train_predict_model(df0)\n",
    "print('')\n",
    "print('Region geo_data_1:')\n",
    "print('')\n",
    "predicted_valid_1, target_valid_1 = train_predict_model(df1)\n",
    "print('')\n",
    "print('')\n",
    "print('Region geo_data_2:')\n",
    "print('')\n",
    "predicted_valid_2, target_valid_2 = train_predict_model(df2)"
   ]
  },
  {
   "cell_type": "markdown",
   "metadata": {},
   "source": [
    "<b>Conclusions</b>\n",
    "\n",
    "In the geo_data_0 and geo_data_2 regions, the results are roughly similar - the geo_data_0 region has slightly fewer oil reserves, with a slightly smaller prediction error. The geo_data_1 region has the smallest amount of oil in the well with an extremely low prediction error - less than 1."
   ]
  },
  {
   "cell_type": "markdown",
   "metadata": {},
   "source": [
    "## Preparation for Profit Calculation"
   ]
  },
  {
   "cell_type": "code",
   "execution_count": 17,
   "metadata": {},
   "outputs": [
    {
     "name": "stdout",
     "output_type": "stream",
     "text": [
      "Oil volume required for a well's break-even development: 111.1 thousand barrels\n"
     ]
    }
   ],
   "source": [
    "# calculating the necessary oil volume for a well to break even\n",
    "\n",
    "average_point_budget = BUDGET / POINTS_CHOOSE\n",
    "potint_product_volume = average_point_budget / PRODUCT_PRICE\n",
    "\n",
    "print(\"Oil volume required for a well's break-even development: {:.1f} thousand barrels\".format(potint_product_volume))"
   ]
  },
  {
   "cell_type": "code",
   "execution_count": 18,
   "metadata": {
    "scrolled": true
   },
   "outputs": [
    {
     "name": "stdout",
     "output_type": "stream",
     "text": [
      "Percentage of deposits in the geo_data_0 region with oil reserves of more than 111.1 thousand barrels: 36.6%\n",
      "Percentage of deposits in the geo_data_1 region with oil reserves of more than 111.1 thousand barrels: 16.5%\n",
      "Percentage of deposits in the geo_data_2 region with oil reserves of more than 111.1 thousand barrels: 38.2%\n"
     ]
    }
   ],
   "source": [
    "# for information - how many percent of profitable wells are in each region.\n",
    "\n",
    "def points_111 (df):\n",
    "    return len(df.loc[df['product']>111.1]) / len(df)\n",
    "\n",
    "print(f'Percentage of deposits in the geo_data_0 region with oil reserves of more than 111.1 thousand barrels: {points_111(df0):.1%}')\n",
    "print(f'Percentage of deposits in the geo_data_1 region with oil reserves of more than 111.1 thousand barrels: {points_111(df1):.1%}')\n",
    "print(f'Percentage of deposits in the geo_data_2 region with oil reserves of more than 111.1 thousand barrels: {points_111(df2):.1%}')"
   ]
  },
  {
   "cell_type": "markdown",
   "metadata": {},
   "source": [
    "<b>Conclusions</b>\n",
    "\n",
    "The break-even point for a well is 111.1 thousand barrels. There are slightly more such wells in the geo_data_2 region. The smallest number of break-even wells is in the geo_data_1 region - almost half as many as in the other two regions."
   ]
  },
  {
   "cell_type": "markdown",
   "metadata": {},
   "source": [
    "## Profit and Risk Calculation"
   ]
  },
  {
   "cell_type": "code",
   "execution_count": 19,
   "metadata": {},
   "outputs": [],
   "source": [
    "# function for displaying oil volume and calculating profit in selected wells\n",
    "\n",
    "def oil_profit1(target_valid, predicted_valid, POINTS_CHOOSE):\n",
    "    top_points_pred = predicted_valid.sort_values(ascending=False)\n",
    "    top_points_targ = target_valid[top_points_pred.index][:POINTS_CHOOSE]\n",
    "    top_oil_volume = top_points_targ.sum()\n",
    "    profit = PRODUCT_PRICE * top_oil_volume - BUDGET\n",
    "    return profit, top_oil_volume"
   ]
  },
  {
   "cell_type": "code",
   "execution_count": 20,
   "metadata": {},
   "outputs": [],
   "source": [
    "profit_0, top_oil_volume_0 = oil_profit1(target_valid_0, predicted_valid_0, POINTS_CHOOSE)\n",
    "profit_1, top_oil_volume_1 = oil_profit1(target_valid_1, predicted_valid_1, POINTS_CHOOSE)\n",
    "profit_2, top_oil_volume_2 = oil_profit1(target_valid_2, predicted_valid_2, POINTS_CHOOSE)"
   ]
  },
  {
   "cell_type": "code",
   "execution_count": 21,
   "metadata": {},
   "outputs": [
    {
     "name": "stdout",
     "output_type": "stream",
     "text": [
      "Calculating profit and oil volume for the best wells in the regions:\n",
      "\n",
      "For the geo_data_0 region:\n",
      "Oil volume in the top 200 wells in the region: 29700.4 thousand barrels, profit from development: 3.4 billion rubles\n",
      "\n",
      "For the geo_data_1 region:\n",
      "Oil volume in the top 200 wells in the region: 27589.1 thousand barrels, profit from development: 2.4 billion rubles\n",
      "\n",
      "For the geo_data_2 region:\n",
      "Oil volume in the top 200 wells in the region: 27780.6 thousand barrels, profit from development: 2.5 billion rubles\n"
     ]
    }
   ],
   "source": [
    "print('Calculating profit and oil volume for the best wells in the regions:')\n",
    "print('')\n",
    "print('For the geo_data_0 region:')\n",
    "print('Oil volume in the top 200 wells in the region: {:.1f} thousand barrels,'\n",
    "      .format(top_oil_volume_0),'profit from development: {:.1f} billion rubles'\n",
    "      .format(profit_0/1e9))\n",
    "print('')\n",
    "print('For the geo_data_1 region:')\n",
    "print('Oil volume in the top 200 wells in the region: {:.1f} thousand barrels,'\n",
    "      .format(top_oil_volume_1),'profit from development: {:.1f} billion rubles'\n",
    "      .format(profit_1/1e9))\n",
    "print('')\n",
    "print('For the geo_data_2 region:')\n",
    "print('Oil volume in the top 200 wells in the region: {:.1f} thousand barrels,'\n",
    "      .format(top_oil_volume_2),'profit from development: {:.1f} billion rubles'\n",
    "      .format(profit_2/1e9))"
   ]
  },
  {
   "cell_type": "code",
   "execution_count": 22,
   "metadata": {},
   "outputs": [],
   "source": [
    "state = np.random.RandomState(12345)"
   ]
  },
  {
   "cell_type": "code",
   "execution_count": 23,
   "metadata": {},
   "outputs": [],
   "source": [
    "# Function for revenue, 95% CI, and risk for the region using bootstrap\n",
    "\n",
    "def oil_profit_boot(target_valid, predicted_valid):\n",
    "    values = []\n",
    "    for i in range(1000):\n",
    "        target_subsample = target_valid.sample(n=POINTS, replace=True, random_state=state)\n",
    "        probs_subsample = predicted_valid[target_subsample.index]\n",
    "        fin_profit,_ = oil_profit1(target_subsample, probs_subsample, POINTS_CHOOSE)\n",
    "        values.append(fin_profit)\n",
    "    values = pd.Series(values)\n",
    "    lower = values.quantile(0.025)\n",
    "    upper = values.quantile(0.975)\n",
    "    mean_profit = int(sum(values) / len(values))\n",
    "    risk = (values <= 0).sum() / 1000\n",
    "    \n",
    "    print('The average profit from the development of deposits in the region is: {:.3f} billion rub'\n",
    "      .format(mean_profit/10**9))\n",
    "    print('The 95% confidence interval ranges from {:.3f}'.format(lower/10**9), 'до {:.3f} billion rub'\n",
    "         .format(upper/10**9))\n",
    "    print(f'The risk of not making a profit from development is {risk:.1%}')"
   ]
  },
  {
   "cell_type": "code",
   "execution_count": 24,
   "metadata": {
    "scrolled": true
   },
   "outputs": [
    {
     "name": "stdout",
     "output_type": "stream",
     "text": [
      "For the geo_data_0 region:\n",
      "The average profit from the development of deposits in the region is: 0.409 billion rub\n",
      "The 95% confidence interval ranges from -0.132 до 0.944 billion rub\n",
      "The risk of not making a profit from development is 7.1%\n"
     ]
    }
   ],
   "source": [
    "print('For the geo_data_0 region:')\n",
    "oil_profit_boot(target_valid_0, predicted_valid_0)"
   ]
  },
  {
   "cell_type": "code",
   "execution_count": 25,
   "metadata": {},
   "outputs": [
    {
     "name": "stdout",
     "output_type": "stream",
     "text": [
      "For the geo_data_1 region:\n",
      "The average profit from the development of deposits in the region is: 0.536 billion rub\n",
      "The 95% confidence interval ranges from 0.113 до 0.999 billion rub\n",
      "The risk of not making a profit from development is 0.3%\n"
     ]
    }
   ],
   "source": [
    "print('For the geo_data_1 region:')\n",
    "oil_profit_boot(target_valid_1, predicted_valid_1)"
   ]
  },
  {
   "cell_type": "code",
   "execution_count": 26,
   "metadata": {},
   "outputs": [
    {
     "name": "stdout",
     "output_type": "stream",
     "text": [
      "For the geo_data_2 region:\n",
      "The average profit from the development of deposits in the region is: 0.339 billion rub\n",
      "The 95% confidence interval ranges from -0.224 до 0.847 billion rub\n",
      "The risk of not making a profit from development is 11.8%\n"
     ]
    }
   ],
   "source": [
    "print('For the geo_data_2 region:')\n",
    "oil_profit_boot(target_valid_2, predicted_valid_2)"
   ]
  },
  {
   "cell_type": "markdown",
   "metadata": {},
   "source": [
    "## Conclusions"
   ]
  },
  {
   "cell_type": "markdown",
   "metadata": {},
   "source": [
    "Our task was to analyze 3 regions to choose the best one for oil field development.\n",
    "\n",
    "An initial data analysis was conducted. It was found that the data in the geo_data_1 region was compiled and presented quite oddly - an abnormal distribution of the amount of oil in the wells (many wells with a small amount of oil and many with a large amount, which is questionable), one of the features shows a very strong correlation with the amount of oil (a correlation strength of 1, which is also very questionable). For these reasons, the geo_data_1 region was analyzed as part of a training project. Minimal changes were made to the databases of the other regions - duplicate wells were removed (there were very few of them - from 5 to 10), and after processing, the column with well identifiers was removed from the database as it was not needed for further analysis.\n",
    "\n",
    "A linear regression model was trained in two regions - in the geo_data_0 region, the model predicted an average oil reserve value of 92.789 thousand barrels per well with an RMSE of 37.854, in the geo_data_1 region - 69.178 with an RMSE of 0.892, geo_data_2 - 94.866 thousand barrels with a prediction error of 40.076. The break-even point in terms of oil volume in the well is 111.1 thousand barrels, which is more than the average volume of oil in the well in both regions. However, there are quite a few wells with an oil amount of more than 111.1 - over a third in the geo_data_0 and geo_data_2 regions (36.6% and 38.2% respectively) and only 16.5% in the geo_data_1 region.\n",
    "\n",
    "Then, using the Bootstrap procedure, the average profit from the development of deposits in the regions, the 95% confidence interval, and the risk of not making a profit were found. The target risk value (less than 2.5%) was achieved in the geo_data_1 region. It also shows the best profit indicator, higher values of the lower and upper quartile in the confidence interval.\n",
    "\n",
    "In light of the above, the geo_data_1 region is recommended for field development."
   ]
  }
 ],
 "metadata": {
  "ExecuteTimeLog": [
   {
    "duration": 1432,
    "start_time": "2023-02-04T19:21:31.225Z"
   },
   {
    "duration": 979,
    "start_time": "2023-02-04T19:21:34.317Z"
   },
   {
    "duration": 4,
    "start_time": "2023-02-04T19:24:48.673Z"
   },
   {
    "duration": 4,
    "start_time": "2023-02-04T19:26:37.194Z"
   },
   {
    "duration": 580,
    "start_time": "2023-02-04T19:26:48.041Z"
   },
   {
    "duration": 54,
    "start_time": "2023-02-04T19:39:26.173Z"
   },
   {
    "duration": 4,
    "start_time": "2023-02-04T19:40:15.481Z"
   },
   {
    "duration": 3,
    "start_time": "2023-02-04T19:40:18.776Z"
   },
   {
    "duration": 647,
    "start_time": "2023-02-04T19:40:20.415Z"
   },
   {
    "duration": 5,
    "start_time": "2023-02-04T19:40:27.646Z"
   },
   {
    "duration": 573,
    "start_time": "2023-02-04T19:40:28.888Z"
   },
   {
    "duration": 5,
    "start_time": "2023-02-04T19:40:36.337Z"
   },
   {
    "duration": 830,
    "start_time": "2023-02-04T19:40:37.045Z"
   },
   {
    "duration": 4,
    "start_time": "2023-02-04T19:41:02.465Z"
   },
   {
    "duration": 365,
    "start_time": "2023-02-04T19:41:05.129Z"
   },
   {
    "duration": 4,
    "start_time": "2023-02-04T19:41:18.257Z"
   },
   {
    "duration": 605,
    "start_time": "2023-02-04T19:41:20.433Z"
   },
   {
    "duration": 4,
    "start_time": "2023-02-04T19:41:31.749Z"
   },
   {
    "duration": 755,
    "start_time": "2023-02-04T19:41:32.463Z"
   },
   {
    "duration": 5,
    "start_time": "2023-02-04T19:41:53.788Z"
   },
   {
    "duration": 777,
    "start_time": "2023-02-04T19:41:54.334Z"
   },
   {
    "duration": 5,
    "start_time": "2023-02-04T19:42:28.329Z"
   },
   {
    "duration": 762,
    "start_time": "2023-02-04T19:42:28.762Z"
   },
   {
    "duration": 4,
    "start_time": "2023-02-04T19:43:11.037Z"
   },
   {
    "duration": 850,
    "start_time": "2023-02-04T19:43:11.841Z"
   },
   {
    "duration": 4,
    "start_time": "2023-02-04T19:44:24.250Z"
   },
   {
    "duration": 955,
    "start_time": "2023-02-04T19:44:25.569Z"
   },
   {
    "duration": 4,
    "start_time": "2023-02-04T19:44:43.262Z"
   },
   {
    "duration": 4,
    "start_time": "2023-02-04T19:45:01.098Z"
   },
   {
    "duration": 783,
    "start_time": "2023-02-04T19:45:03.362Z"
   },
   {
    "duration": 4,
    "start_time": "2023-02-04T19:45:54.522Z"
   },
   {
    "duration": 789,
    "start_time": "2023-02-04T19:45:55.180Z"
   },
   {
    "duration": 862,
    "start_time": "2023-02-04T19:49:15.154Z"
   },
   {
    "duration": 19,
    "start_time": "2023-02-04T19:49:28.270Z"
   },
   {
    "duration": 23,
    "start_time": "2023-02-04T19:49:40.630Z"
   },
   {
    "duration": 9,
    "start_time": "2023-02-04T19:49:53.142Z"
   },
   {
    "duration": 6,
    "start_time": "2023-02-04T19:50:04.399Z"
   },
   {
    "duration": 24,
    "start_time": "2023-02-04T19:51:36.458Z"
   },
   {
    "duration": 22,
    "start_time": "2023-02-04T19:51:42.638Z"
   },
   {
    "duration": 20,
    "start_time": "2023-02-04T19:51:48.350Z"
   },
   {
    "duration": 4,
    "start_time": "2023-02-04T19:58:45.527Z"
   },
   {
    "duration": 4,
    "start_time": "2023-02-04T20:00:05.035Z"
   },
   {
    "duration": 65,
    "start_time": "2023-02-04T20:00:07.883Z"
   },
   {
    "duration": 6,
    "start_time": "2023-02-04T20:06:02.539Z"
   },
   {
    "duration": 9,
    "start_time": "2023-02-04T20:06:14.943Z"
   },
   {
    "duration": 9,
    "start_time": "2023-02-04T20:06:18.678Z"
   },
   {
    "duration": 11,
    "start_time": "2023-02-04T20:11:54.983Z"
   },
   {
    "duration": 12,
    "start_time": "2023-02-04T20:13:14.289Z"
   },
   {
    "duration": 1236,
    "start_time": "2023-02-04T20:13:44.150Z"
   },
   {
    "duration": 984,
    "start_time": "2023-02-04T20:13:45.388Z"
   },
   {
    "duration": 4,
    "start_time": "2023-02-04T20:13:46.373Z"
   },
   {
    "duration": 69,
    "start_time": "2023-02-04T20:13:51.021Z"
   },
   {
    "duration": 29,
    "start_time": "2023-02-04T20:13:53.491Z"
   },
   {
    "duration": 31,
    "start_time": "2023-02-04T20:14:07.638Z"
   },
   {
    "duration": 15,
    "start_time": "2023-02-04T20:14:11.535Z"
   },
   {
    "duration": 21,
    "start_time": "2023-02-04T20:14:28.028Z"
   },
   {
    "duration": 14,
    "start_time": "2023-02-04T20:14:29.930Z"
   },
   {
    "duration": 898,
    "start_time": "2023-02-04T20:35:01.409Z"
   },
   {
    "duration": 4,
    "start_time": "2023-02-04T20:35:02.309Z"
   },
   {
    "duration": 73,
    "start_time": "2023-02-04T20:35:02.654Z"
   },
   {
    "duration": 21,
    "start_time": "2023-02-04T20:35:03.966Z"
   },
   {
    "duration": 15,
    "start_time": "2023-02-04T20:35:06.677Z"
   },
   {
    "duration": 62,
    "start_time": "2023-02-04T20:35:50.264Z"
   },
   {
    "duration": 24,
    "start_time": "2023-02-04T20:43:33.965Z"
   },
   {
    "duration": 66,
    "start_time": "2023-02-04T20:44:01.217Z"
   },
   {
    "duration": 21,
    "start_time": "2023-02-04T20:44:22.636Z"
   },
   {
    "duration": 13,
    "start_time": "2023-02-04T20:44:40.339Z"
   },
   {
    "duration": 14,
    "start_time": "2023-02-04T20:44:42.651Z"
   },
   {
    "duration": 17,
    "start_time": "2023-02-04T20:44:45.613Z"
   },
   {
    "duration": 39,
    "start_time": "2023-02-04T20:47:25.613Z"
   },
   {
    "duration": 815,
    "start_time": "2023-02-04T20:47:44.265Z"
   },
   {
    "duration": 5,
    "start_time": "2023-02-04T21:11:49.176Z"
   },
   {
    "duration": 932,
    "start_time": "2023-02-04T21:11:54.565Z"
   },
   {
    "duration": 4,
    "start_time": "2023-02-04T21:12:20.935Z"
   },
   {
    "duration": 801,
    "start_time": "2023-02-04T21:12:25.048Z"
   },
   {
    "duration": 801,
    "start_time": "2023-02-04T21:13:06.645Z"
   },
   {
    "duration": 771,
    "start_time": "2023-02-04T21:13:13.498Z"
   },
   {
    "duration": 874,
    "start_time": "2023-02-04T21:31:28.243Z"
   },
   {
    "duration": 1605,
    "start_time": "2023-02-05T08:11:27.195Z"
   },
   {
    "duration": 798,
    "start_time": "2023-02-05T08:11:28.802Z"
   },
   {
    "duration": 5,
    "start_time": "2023-02-05T08:11:29.603Z"
   },
   {
    "duration": 90,
    "start_time": "2023-02-05T08:11:29.611Z"
   },
   {
    "duration": 40,
    "start_time": "2023-02-05T08:11:29.703Z"
   },
   {
    "duration": 82,
    "start_time": "2023-02-05T08:11:29.815Z"
   },
   {
    "duration": 23,
    "start_time": "2023-02-05T08:11:30.058Z"
   },
   {
    "duration": 96,
    "start_time": "2023-02-05T08:11:30.266Z"
   },
   {
    "duration": 29,
    "start_time": "2023-02-05T08:11:30.514Z"
   },
   {
    "duration": 13,
    "start_time": "2023-02-05T08:11:30.725Z"
   },
   {
    "duration": 913,
    "start_time": "2023-02-05T08:11:30.970Z"
   },
   {
    "duration": 962,
    "start_time": "2023-02-05T08:11:31.885Z"
   },
   {
    "duration": 851,
    "start_time": "2023-02-05T08:11:32.849Z"
   },
   {
    "duration": 100,
    "start_time": "2023-02-05T08:11:33.703Z"
   },
   {
    "duration": 5,
    "start_time": "2023-02-05T08:11:48.240Z"
   },
   {
    "duration": 140,
    "start_time": "2023-02-05T08:12:33.552Z"
   },
   {
    "duration": 5,
    "start_time": "2023-02-05T08:12:37.830Z"
   },
   {
    "duration": 35,
    "start_time": "2023-02-05T08:12:38.331Z"
   },
   {
    "duration": 5,
    "start_time": "2023-02-05T08:15:10.103Z"
   },
   {
    "duration": 42,
    "start_time": "2023-02-05T08:15:10.731Z"
   },
   {
    "duration": 5,
    "start_time": "2023-02-05T08:15:28.376Z"
   },
   {
    "duration": 39,
    "start_time": "2023-02-05T08:15:29.777Z"
   },
   {
    "duration": 5,
    "start_time": "2023-02-05T08:16:12.583Z"
   },
   {
    "duration": 62,
    "start_time": "2023-02-05T08:16:12.966Z"
   },
   {
    "duration": 82,
    "start_time": "2023-02-05T08:17:27.045Z"
   },
   {
    "duration": 6,
    "start_time": "2023-02-05T08:49:23.558Z"
   },
   {
    "duration": 37,
    "start_time": "2023-02-05T08:49:24.321Z"
   },
   {
    "duration": 37,
    "start_time": "2023-02-05T08:49:25.907Z"
   },
   {
    "duration": 5,
    "start_time": "2023-02-05T08:49:37.960Z"
   },
   {
    "duration": 33,
    "start_time": "2023-02-05T08:50:10.791Z"
   },
   {
    "duration": 35,
    "start_time": "2023-02-05T08:50:41.993Z"
   },
   {
    "duration": 95,
    "start_time": "2023-02-05T08:50:44.333Z"
   },
   {
    "duration": 91,
    "start_time": "2023-02-05T08:53:22.264Z"
   },
   {
    "duration": 76,
    "start_time": "2023-02-05T08:53:27.464Z"
   },
   {
    "duration": 5,
    "start_time": "2023-02-05T08:53:31.980Z"
   },
   {
    "duration": 35,
    "start_time": "2023-02-05T08:53:34.559Z"
   },
   {
    "duration": 5,
    "start_time": "2023-02-05T08:54:03.037Z"
   },
   {
    "duration": 101,
    "start_time": "2023-02-05T08:54:03.826Z"
   },
   {
    "duration": 5,
    "start_time": "2023-02-05T08:54:24.940Z"
   },
   {
    "duration": 87,
    "start_time": "2023-02-05T08:54:26.040Z"
   },
   {
    "duration": 5,
    "start_time": "2023-02-05T08:54:32.114Z"
   },
   {
    "duration": 35,
    "start_time": "2023-02-05T08:54:32.580Z"
   },
   {
    "duration": 34,
    "start_time": "2023-02-05T08:54:33.540Z"
   },
   {
    "duration": 6,
    "start_time": "2023-02-05T09:00:34.270Z"
   },
   {
    "duration": 85,
    "start_time": "2023-02-05T09:00:34.947Z"
   },
   {
    "duration": 6,
    "start_time": "2023-02-05T09:01:40.866Z"
   },
   {
    "duration": 41,
    "start_time": "2023-02-05T09:01:41.314Z"
   },
   {
    "duration": 81,
    "start_time": "2023-02-05T09:02:03.948Z"
   },
   {
    "duration": 71,
    "start_time": "2023-02-05T09:02:12.959Z"
   },
   {
    "duration": 10,
    "start_time": "2023-02-05T09:27:43.584Z"
   },
   {
    "duration": 2,
    "start_time": "2023-02-05T09:27:49.005Z"
   },
   {
    "duration": 2,
    "start_time": "2023-02-05T09:28:10.811Z"
   },
   {
    "duration": 5,
    "start_time": "2023-02-05T09:28:28.575Z"
   },
   {
    "duration": 9,
    "start_time": "2023-02-05T09:41:24.792Z"
   },
   {
    "duration": 3,
    "start_time": "2023-02-05T09:41:36.436Z"
   },
   {
    "duration": 4,
    "start_time": "2023-02-05T09:41:36.922Z"
   },
   {
    "duration": 3,
    "start_time": "2023-02-05T09:41:53.218Z"
   },
   {
    "duration": 4,
    "start_time": "2023-02-05T09:42:09.112Z"
   },
   {
    "duration": 4,
    "start_time": "2023-02-05T09:42:14.320Z"
   },
   {
    "duration": 4,
    "start_time": "2023-02-05T09:42:21.277Z"
   },
   {
    "duration": 5,
    "start_time": "2023-02-05T09:43:16.350Z"
   },
   {
    "duration": 4,
    "start_time": "2023-02-05T09:46:25.416Z"
   },
   {
    "duration": 4,
    "start_time": "2023-02-05T09:47:52.747Z"
   },
   {
    "duration": 8,
    "start_time": "2023-02-05T09:58:07.614Z"
   },
   {
    "duration": 9,
    "start_time": "2023-02-05T09:58:13.721Z"
   },
   {
    "duration": 1110,
    "start_time": "2023-02-05T09:58:18.517Z"
   },
   {
    "duration": 8,
    "start_time": "2023-02-05T09:58:36.561Z"
   },
   {
    "duration": 7,
    "start_time": "2023-02-05T09:59:05.220Z"
   },
   {
    "duration": 6,
    "start_time": "2023-02-05T09:59:29.027Z"
   },
   {
    "duration": 7,
    "start_time": "2023-02-05T09:59:50.607Z"
   },
   {
    "duration": 6,
    "start_time": "2023-02-05T10:01:32.153Z"
   },
   {
    "duration": 7,
    "start_time": "2023-02-05T10:03:03.517Z"
   },
   {
    "duration": 5,
    "start_time": "2023-02-05T10:03:35.223Z"
   },
   {
    "duration": 4,
    "start_time": "2023-02-05T10:05:54.988Z"
   },
   {
    "duration": 4,
    "start_time": "2023-02-05T10:06:03.034Z"
   },
   {
    "duration": 4,
    "start_time": "2023-02-05T10:06:25.276Z"
   },
   {
    "duration": 74,
    "start_time": "2023-02-05T10:06:37.174Z"
   },
   {
    "duration": 69,
    "start_time": "2023-02-05T10:07:29.792Z"
   },
   {
    "duration": 91,
    "start_time": "2023-02-05T10:07:36.937Z"
   },
   {
    "duration": 82,
    "start_time": "2023-02-05T10:08:00.472Z"
   },
   {
    "duration": 77,
    "start_time": "2023-02-05T10:08:20.942Z"
   },
   {
    "duration": 71,
    "start_time": "2023-02-05T10:08:32.667Z"
   },
   {
    "duration": 8,
    "start_time": "2023-02-05T10:09:36.434Z"
   },
   {
    "duration": 13,
    "start_time": "2023-02-05T10:10:48.647Z"
   },
   {
    "duration": 5,
    "start_time": "2023-02-05T10:11:01.987Z"
   },
   {
    "duration": 6,
    "start_time": "2023-02-05T10:11:05.565Z"
   },
   {
    "duration": 6,
    "start_time": "2023-02-05T10:11:13.284Z"
   },
   {
    "duration": 6,
    "start_time": "2023-02-05T10:11:24.171Z"
   },
   {
    "duration": 6,
    "start_time": "2023-02-05T10:11:33.763Z"
   },
   {
    "duration": 14,
    "start_time": "2023-02-05T10:11:58.680Z"
   },
   {
    "duration": 6,
    "start_time": "2023-02-05T10:12:34.016Z"
   },
   {
    "duration": 7,
    "start_time": "2023-02-05T10:13:06.533Z"
   },
   {
    "duration": 1604,
    "start_time": "2023-02-05T13:50:01.218Z"
   },
   {
    "duration": 958,
    "start_time": "2023-02-05T13:50:02.823Z"
   },
   {
    "duration": 4,
    "start_time": "2023-02-05T13:50:03.783Z"
   },
   {
    "duration": 77,
    "start_time": "2023-02-05T13:50:03.789Z"
   },
   {
    "duration": 20,
    "start_time": "2023-02-05T13:50:03.868Z"
   },
   {
    "duration": 74,
    "start_time": "2023-02-05T13:50:03.890Z"
   },
   {
    "duration": 20,
    "start_time": "2023-02-05T13:50:03.966Z"
   },
   {
    "duration": 81,
    "start_time": "2023-02-05T13:50:03.988Z"
   },
   {
    "duration": 33,
    "start_time": "2023-02-05T13:50:04.071Z"
   },
   {
    "duration": 11,
    "start_time": "2023-02-05T13:50:04.106Z"
   },
   {
    "duration": 911,
    "start_time": "2023-02-05T13:50:04.119Z"
   },
   {
    "duration": 880,
    "start_time": "2023-02-05T13:50:05.032Z"
   },
   {
    "duration": 809,
    "start_time": "2023-02-05T13:50:05.914Z"
   },
   {
    "duration": 9,
    "start_time": "2023-02-05T13:50:06.725Z"
   },
   {
    "duration": 74,
    "start_time": "2023-02-05T13:50:06.735Z"
   },
   {
    "duration": 113,
    "start_time": "2023-02-05T14:08:33.213Z"
   },
   {
    "duration": 536,
    "start_time": "2023-02-05T14:08:48.769Z"
   },
   {
    "duration": 278,
    "start_time": "2023-02-05T14:09:44.527Z"
   },
   {
    "duration": 6,
    "start_time": "2023-02-05T14:10:22.928Z"
   },
   {
    "duration": 275,
    "start_time": "2023-02-05T14:10:24.330Z"
   },
   {
    "duration": 256,
    "start_time": "2023-02-05T14:10:44.151Z"
   },
   {
    "duration": 277,
    "start_time": "2023-02-05T14:10:58.329Z"
   },
   {
    "duration": 5,
    "start_time": "2023-02-05T14:11:53.560Z"
   },
   {
    "duration": 272,
    "start_time": "2023-02-05T14:11:54.234Z"
   },
   {
    "duration": 5,
    "start_time": "2023-02-05T14:18:27.128Z"
   },
   {
    "duration": 5,
    "start_time": "2023-02-05T14:18:47.460Z"
   },
   {
    "duration": 6,
    "start_time": "2023-02-05T14:18:57.298Z"
   },
   {
    "duration": 6,
    "start_time": "2023-02-05T14:19:06.896Z"
   },
   {
    "duration": 3,
    "start_time": "2023-02-05T14:21:45.027Z"
   },
   {
    "duration": 13,
    "start_time": "2023-02-05T14:24:13.881Z"
   },
   {
    "duration": 3,
    "start_time": "2023-02-05T14:24:26.547Z"
   },
   {
    "duration": 13,
    "start_time": "2023-02-05T14:24:27.267Z"
   },
   {
    "duration": 3,
    "start_time": "2023-02-05T14:24:44.008Z"
   },
   {
    "duration": 3,
    "start_time": "2023-02-05T14:24:54.487Z"
   },
   {
    "duration": 13,
    "start_time": "2023-02-05T14:24:55.724Z"
   },
   {
    "duration": 4,
    "start_time": "2023-02-05T14:25:08.759Z"
   },
   {
    "duration": 8,
    "start_time": "2023-02-05T14:25:10.985Z"
   },
   {
    "duration": 3,
    "start_time": "2023-02-05T14:25:13.856Z"
   },
   {
    "duration": 21,
    "start_time": "2023-02-05T14:25:14.764Z"
   },
   {
    "duration": 5,
    "start_time": "2023-02-05T14:27:03.256Z"
   },
   {
    "duration": 3,
    "start_time": "2023-02-05T14:31:28.392Z"
   },
   {
    "duration": 4,
    "start_time": "2023-02-05T14:31:44.074Z"
   },
   {
    "duration": 5,
    "start_time": "2023-02-05T14:31:47.831Z"
   },
   {
    "duration": 18,
    "start_time": "2023-02-05T14:31:48.803Z"
   },
   {
    "duration": 3,
    "start_time": "2023-02-05T14:44:40.172Z"
   },
   {
    "duration": 20,
    "start_time": "2023-02-05T14:45:01.971Z"
   },
   {
    "duration": 19,
    "start_time": "2023-02-05T14:47:40.655Z"
   },
   {
    "duration": 3,
    "start_time": "2023-02-05T15:08:52.113Z"
   },
   {
    "duration": 19,
    "start_time": "2023-02-05T15:08:53.047Z"
   },
   {
    "duration": 8,
    "start_time": "2023-02-05T15:09:43.699Z"
   },
   {
    "duration": 8,
    "start_time": "2023-02-05T15:09:58.611Z"
   },
   {
    "duration": 5,
    "start_time": "2023-02-05T15:10:11.120Z"
   },
   {
    "duration": 16,
    "start_time": "2023-02-05T15:18:48.996Z"
   },
   {
    "duration": 6,
    "start_time": "2023-02-05T15:19:41.532Z"
   },
   {
    "duration": 1346,
    "start_time": "2023-02-05T15:29:04.398Z"
   },
   {
    "duration": 836,
    "start_time": "2023-02-05T15:29:05.746Z"
   },
   {
    "duration": 4,
    "start_time": "2023-02-05T15:29:06.584Z"
   },
   {
    "duration": 75,
    "start_time": "2023-02-05T15:29:06.590Z"
   },
   {
    "duration": 21,
    "start_time": "2023-02-05T15:29:07.318Z"
   },
   {
    "duration": 62,
    "start_time": "2023-02-05T15:29:07.497Z"
   },
   {
    "duration": 19,
    "start_time": "2023-02-05T15:29:07.666Z"
   },
   {
    "duration": 73,
    "start_time": "2023-02-05T15:29:07.823Z"
   },
   {
    "duration": 23,
    "start_time": "2023-02-05T15:29:07.958Z"
   },
   {
    "duration": 12,
    "start_time": "2023-02-05T15:29:11.931Z"
   },
   {
    "duration": 841,
    "start_time": "2023-02-05T15:29:12.151Z"
   },
   {
    "duration": 988,
    "start_time": "2023-02-05T15:29:12.993Z"
   },
   {
    "duration": 814,
    "start_time": "2023-02-05T15:29:13.982Z"
   },
   {
    "duration": 5,
    "start_time": "2023-02-05T15:29:23.613Z"
   },
   {
    "duration": 206,
    "start_time": "2023-02-05T15:29:26.820Z"
   },
   {
    "duration": 3,
    "start_time": "2023-02-05T15:29:29.188Z"
   },
   {
    "duration": 5,
    "start_time": "2023-02-05T15:29:29.696Z"
   },
   {
    "duration": 9,
    "start_time": "2023-02-05T15:29:30.616Z"
   },
   {
    "duration": 4,
    "start_time": "2023-02-05T15:29:48.991Z"
   },
   {
    "duration": 116,
    "start_time": "2023-02-05T15:29:51.456Z"
   },
   {
    "duration": 3,
    "start_time": "2023-02-05T15:30:10.363Z"
   },
   {
    "duration": 17,
    "start_time": "2023-02-05T15:30:15.299Z"
   },
   {
    "duration": 7,
    "start_time": "2023-02-05T15:30:38.279Z"
   },
   {
    "duration": 4,
    "start_time": "2023-02-05T15:33:45.902Z"
   },
   {
    "duration": 5,
    "start_time": "2023-02-05T15:33:48.135Z"
   },
   {
    "duration": 18,
    "start_time": "2023-02-05T15:33:50.962Z"
   },
   {
    "duration": 3,
    "start_time": "2023-02-05T15:40:33.070Z"
   },
   {
    "duration": 21,
    "start_time": "2023-02-05T15:42:00.391Z"
   },
   {
    "duration": 10,
    "start_time": "2023-02-05T15:46:17.149Z"
   },
   {
    "duration": 3,
    "start_time": "2023-02-05T15:47:31.591Z"
   },
   {
    "duration": 6,
    "start_time": "2023-02-05T15:48:07.693Z"
   },
   {
    "duration": 5,
    "start_time": "2023-02-05T15:48:33.598Z"
   },
   {
    "duration": 11,
    "start_time": "2023-02-05T15:50:08.336Z"
   },
   {
    "duration": 16,
    "start_time": "2023-02-05T15:50:24.264Z"
   },
   {
    "duration": 18,
    "start_time": "2023-02-05T15:53:25.440Z"
   },
   {
    "duration": 4,
    "start_time": "2023-02-05T15:54:33.659Z"
   },
   {
    "duration": 3,
    "start_time": "2023-02-05T15:55:00.569Z"
   },
   {
    "duration": 18,
    "start_time": "2023-02-05T15:55:01.201Z"
   },
   {
    "duration": 7,
    "start_time": "2023-02-05T16:24:40.465Z"
   },
   {
    "duration": 6,
    "start_time": "2023-02-05T16:24:52.548Z"
   },
   {
    "duration": 6,
    "start_time": "2023-02-05T16:25:14.916Z"
   },
   {
    "duration": 5,
    "start_time": "2023-02-05T16:25:33.947Z"
   },
   {
    "duration": 5,
    "start_time": "2023-02-05T16:25:54.974Z"
   },
   {
    "duration": 5,
    "start_time": "2023-02-05T16:26:01.141Z"
   },
   {
    "duration": 7,
    "start_time": "2023-02-05T16:26:13.712Z"
   },
   {
    "duration": 3,
    "start_time": "2023-02-05T16:26:21.872Z"
   },
   {
    "duration": 6,
    "start_time": "2023-02-05T16:26:27.521Z"
   },
   {
    "duration": 766,
    "start_time": "2023-02-05T16:26:41.047Z"
   },
   {
    "duration": 509,
    "start_time": "2023-02-05T16:26:45.743Z"
   },
   {
    "duration": 6,
    "start_time": "2023-02-05T16:28:58.516Z"
   },
   {
    "duration": 5,
    "start_time": "2023-02-05T16:29:18.038Z"
   },
   {
    "duration": 8,
    "start_time": "2023-02-05T16:29:28.467Z"
   },
   {
    "duration": 5,
    "start_time": "2023-02-05T16:29:32.874Z"
   },
   {
    "duration": 1242,
    "start_time": "2023-02-05T16:32:34.960Z"
   },
   {
    "duration": 996,
    "start_time": "2023-02-05T16:32:36.204Z"
   },
   {
    "duration": 4,
    "start_time": "2023-02-05T16:32:37.202Z"
   },
   {
    "duration": 74,
    "start_time": "2023-02-05T16:32:37.208Z"
   },
   {
    "duration": 32,
    "start_time": "2023-02-05T16:32:37.284Z"
   },
   {
    "duration": 68,
    "start_time": "2023-02-05T16:32:37.318Z"
   },
   {
    "duration": 23,
    "start_time": "2023-02-05T16:32:38.417Z"
   },
   {
    "duration": 69,
    "start_time": "2023-02-05T16:32:38.576Z"
   },
   {
    "duration": 22,
    "start_time": "2023-02-05T16:32:38.717Z"
   },
   {
    "duration": 12,
    "start_time": "2023-02-05T16:32:38.851Z"
   },
   {
    "duration": 825,
    "start_time": "2023-02-05T16:32:39.016Z"
   },
   {
    "duration": 901,
    "start_time": "2023-02-05T16:32:39.844Z"
   },
   {
    "duration": 854,
    "start_time": "2023-02-05T16:32:42.688Z"
   },
   {
    "duration": 6,
    "start_time": "2023-02-05T16:32:54.815Z"
   },
   {
    "duration": 287,
    "start_time": "2023-02-05T16:32:57.318Z"
   },
   {
    "duration": 6,
    "start_time": "2023-02-05T16:33:00.795Z"
   },
   {
    "duration": 6,
    "start_time": "2023-02-05T16:33:01.745Z"
   },
   {
    "duration": 1565,
    "start_time": "2023-02-05T20:28:51.382Z"
   },
   {
    "duration": 899,
    "start_time": "2023-02-05T20:28:52.949Z"
   },
   {
    "duration": 4,
    "start_time": "2023-02-05T20:28:53.850Z"
   },
   {
    "duration": 89,
    "start_time": "2023-02-05T20:28:53.856Z"
   },
   {
    "duration": 21,
    "start_time": "2023-02-05T20:28:53.947Z"
   },
   {
    "duration": 96,
    "start_time": "2023-02-05T20:28:53.970Z"
   },
   {
    "duration": 43,
    "start_time": "2023-02-05T20:28:54.067Z"
   },
   {
    "duration": 95,
    "start_time": "2023-02-05T20:28:54.112Z"
   },
   {
    "duration": 22,
    "start_time": "2023-02-05T20:28:54.212Z"
   },
   {
    "duration": 14,
    "start_time": "2023-02-05T20:28:54.313Z"
   },
   {
    "duration": 974,
    "start_time": "2023-02-05T20:28:54.509Z"
   },
   {
    "duration": 1033,
    "start_time": "2023-02-05T20:28:55.485Z"
   },
   {
    "duration": 885,
    "start_time": "2023-02-05T20:28:56.521Z"
   },
   {
    "duration": 9,
    "start_time": "2023-02-05T20:29:08.924Z"
   },
   {
    "duration": 183,
    "start_time": "2023-02-05T20:29:11.633Z"
   },
   {
    "duration": 3,
    "start_time": "2023-02-05T20:29:23.407Z"
   },
   {
    "duration": 4,
    "start_time": "2023-02-05T20:29:24.681Z"
   },
   {
    "duration": 12,
    "start_time": "2023-02-05T20:29:24.992Z"
   },
   {
    "duration": 3,
    "start_time": "2023-02-05T20:29:35.010Z"
   },
   {
    "duration": 106,
    "start_time": "2023-02-05T20:36:35.237Z"
   },
   {
    "duration": 4,
    "start_time": "2023-02-05T20:36:47.109Z"
   },
   {
    "duration": 11,
    "start_time": "2023-02-05T20:36:48.513Z"
   },
   {
    "duration": 6,
    "start_time": "2023-02-05T20:37:11.371Z"
   },
   {
    "duration": 7,
    "start_time": "2023-02-05T20:37:11.623Z"
   },
   {
    "duration": 8,
    "start_time": "2023-02-05T20:38:43.817Z"
   },
   {
    "duration": 10,
    "start_time": "2023-02-05T20:38:58.021Z"
   },
   {
    "duration": 3,
    "start_time": "2023-02-05T20:52:09.917Z"
   },
   {
    "duration": 7,
    "start_time": "2023-02-06T06:46:58.755Z"
   },
   {
    "duration": 1473,
    "start_time": "2023-02-06T06:47:06.557Z"
   },
   {
    "duration": 884,
    "start_time": "2023-02-06T06:47:08.032Z"
   },
   {
    "duration": 5,
    "start_time": "2023-02-06T06:47:08.917Z"
   },
   {
    "duration": 72,
    "start_time": "2023-02-06T06:47:08.924Z"
   },
   {
    "duration": 18,
    "start_time": "2023-02-06T06:47:09.003Z"
   },
   {
    "duration": 63,
    "start_time": "2023-02-06T06:47:09.023Z"
   },
   {
    "duration": 24,
    "start_time": "2023-02-06T06:47:09.104Z"
   },
   {
    "duration": 81,
    "start_time": "2023-02-06T06:47:09.130Z"
   },
   {
    "duration": 19,
    "start_time": "2023-02-06T06:47:09.213Z"
   },
   {
    "duration": 11,
    "start_time": "2023-02-06T06:47:09.235Z"
   },
   {
    "duration": 862,
    "start_time": "2023-02-06T06:47:09.247Z"
   },
   {
    "duration": 890,
    "start_time": "2023-02-06T06:47:10.110Z"
   },
   {
    "duration": 888,
    "start_time": "2023-02-06T06:47:11.003Z"
   },
   {
    "duration": 11,
    "start_time": "2023-02-06T06:47:11.893Z"
   },
   {
    "duration": 299,
    "start_time": "2023-02-06T06:47:11.905Z"
   },
   {
    "duration": 93,
    "start_time": "2023-02-06T06:47:12.211Z"
   },
   {
    "duration": 4,
    "start_time": "2023-02-06T06:47:12.306Z"
   },
   {
    "duration": 14,
    "start_time": "2023-02-06T06:47:12.312Z"
   },
   {
    "duration": 3,
    "start_time": "2023-02-06T06:47:12.327Z"
   },
   {
    "duration": 3,
    "start_time": "2023-02-06T06:49:13.849Z"
   },
   {
    "duration": 12,
    "start_time": "2023-02-06T06:52:09.946Z"
   },
   {
    "duration": 12,
    "start_time": "2023-02-06T06:52:22.729Z"
   },
   {
    "duration": 120,
    "start_time": "2023-02-06T06:59:09.615Z"
   },
   {
    "duration": 13,
    "start_time": "2023-02-06T06:59:20.675Z"
   },
   {
    "duration": 3,
    "start_time": "2023-02-06T06:59:25.909Z"
   },
   {
    "duration": 9,
    "start_time": "2023-02-06T06:59:26.220Z"
   },
   {
    "duration": 10,
    "start_time": "2023-02-06T06:59:28.173Z"
   },
   {
    "duration": 3,
    "start_time": "2023-02-06T07:00:44.366Z"
   },
   {
    "duration": 10,
    "start_time": "2023-02-06T07:00:45.425Z"
   },
   {
    "duration": 5,
    "start_time": "2023-02-06T07:06:04.290Z"
   },
   {
    "duration": 91,
    "start_time": "2023-02-06T07:08:46.716Z"
   },
   {
    "duration": 9,
    "start_time": "2023-02-06T07:08:58.595Z"
   },
   {
    "duration": 65,
    "start_time": "2023-02-06T07:09:56.589Z"
   },
   {
    "duration": 61,
    "start_time": "2023-02-06T07:10:15.352Z"
   },
   {
    "duration": 9,
    "start_time": "2023-02-06T07:17:34.620Z"
   },
   {
    "duration": 11,
    "start_time": "2023-02-06T07:17:53.219Z"
   },
   {
    "duration": 13,
    "start_time": "2023-02-06T07:18:41.789Z"
   },
   {
    "duration": 21,
    "start_time": "2023-02-06T07:19:09.820Z"
   },
   {
    "duration": 19,
    "start_time": "2023-02-06T07:19:15.572Z"
   },
   {
    "duration": 23,
    "start_time": "2023-02-06T07:19:20.145Z"
   },
   {
    "duration": 33,
    "start_time": "2023-02-06T07:19:24.989Z"
   },
   {
    "duration": 23,
    "start_time": "2023-02-06T07:20:38.239Z"
   },
   {
    "duration": 33,
    "start_time": "2023-02-06T07:20:45.591Z"
   },
   {
    "duration": 23,
    "start_time": "2023-02-06T07:21:49.121Z"
   },
   {
    "duration": 26,
    "start_time": "2023-02-06T07:22:26.423Z"
   },
   {
    "duration": 30,
    "start_time": "2023-02-06T07:22:31.329Z"
   },
   {
    "duration": 5,
    "start_time": "2023-02-06T07:36:07.412Z"
   },
   {
    "duration": 44,
    "start_time": "2023-02-06T07:36:59.581Z"
   },
   {
    "duration": 16,
    "start_time": "2023-02-06T07:37:03.823Z"
   },
   {
    "duration": 4,
    "start_time": "2023-02-06T07:38:55.794Z"
   },
   {
    "duration": 16,
    "start_time": "2023-02-06T07:38:57.036Z"
   },
   {
    "duration": 5,
    "start_time": "2023-02-06T07:39:08.866Z"
   },
   {
    "duration": 7,
    "start_time": "2023-02-06T07:39:09.978Z"
   },
   {
    "duration": 8,
    "start_time": "2023-02-06T07:39:35.220Z"
   },
   {
    "duration": 8,
    "start_time": "2023-02-06T07:40:38.107Z"
   },
   {
    "duration": 8,
    "start_time": "2023-02-06T07:43:21.175Z"
   },
   {
    "duration": 1313,
    "start_time": "2023-02-06T07:43:24.914Z"
   },
   {
    "duration": 4,
    "start_time": "2023-02-06T07:48:19.509Z"
   },
   {
    "duration": 8,
    "start_time": "2023-02-06T07:48:19.920Z"
   },
   {
    "duration": 62,
    "start_time": "2023-02-06T07:48:46.218Z"
   },
   {
    "duration": 4,
    "start_time": "2023-02-06T07:50:17.832Z"
   },
   {
    "duration": 1303,
    "start_time": "2023-02-06T07:50:22.964Z"
   },
   {
    "duration": 5,
    "start_time": "2023-02-06T07:50:33.793Z"
   },
   {
    "duration": 1325,
    "start_time": "2023-02-06T07:50:34.945Z"
   },
   {
    "duration": 55,
    "start_time": "2023-02-06T07:55:09.771Z"
   },
   {
    "duration": 5,
    "start_time": "2023-02-06T07:55:19.509Z"
   },
   {
    "duration": 1263,
    "start_time": "2023-02-06T07:55:25.360Z"
   },
   {
    "duration": 6,
    "start_time": "2023-02-06T08:02:05.633Z"
   },
   {
    "duration": 1315,
    "start_time": "2023-02-06T08:02:06.788Z"
   },
   {
    "duration": 1336,
    "start_time": "2023-02-06T08:05:03.393Z"
   },
   {
    "duration": 5,
    "start_time": "2023-02-06T08:05:11.350Z"
   },
   {
    "duration": 1382,
    "start_time": "2023-02-06T08:05:11.635Z"
   },
   {
    "duration": 5,
    "start_time": "2023-02-06T08:05:36.539Z"
   },
   {
    "duration": 1279,
    "start_time": "2023-02-06T08:05:36.952Z"
   },
   {
    "duration": 1286,
    "start_time": "2023-02-06T08:06:11.125Z"
   },
   {
    "duration": 1295,
    "start_time": "2023-02-06T08:06:24.052Z"
   },
   {
    "duration": 5,
    "start_time": "2023-02-06T08:06:55.659Z"
   },
   {
    "duration": 1475,
    "start_time": "2023-02-06T08:06:56.276Z"
   },
   {
    "duration": 1312,
    "start_time": "2023-02-06T08:06:58.982Z"
   },
   {
    "duration": 6,
    "start_time": "2023-02-06T08:07:56.205Z"
   },
   {
    "duration": 1325,
    "start_time": "2023-02-06T08:07:59.167Z"
   },
   {
    "duration": 1395,
    "start_time": "2023-02-06T08:08:16.762Z"
   },
   {
    "duration": 6,
    "start_time": "2023-02-06T08:08:22.169Z"
   },
   {
    "duration": 1379,
    "start_time": "2023-02-06T08:08:22.576Z"
   },
   {
    "duration": 1381,
    "start_time": "2023-02-06T08:08:24.919Z"
   },
   {
    "duration": 3,
    "start_time": "2023-02-06T08:08:52.548Z"
   },
   {
    "duration": 5,
    "start_time": "2023-02-06T08:08:53.289Z"
   },
   {
    "duration": 1418,
    "start_time": "2023-02-06T08:08:55.823Z"
   },
   {
    "duration": 1318,
    "start_time": "2023-02-06T08:08:58.245Z"
   },
   {
    "duration": 1446,
    "start_time": "2023-02-06T08:12:40.872Z"
   },
   {
    "duration": 1479,
    "start_time": "2023-02-06T08:12:42.320Z"
   },
   {
    "duration": 5,
    "start_time": "2023-02-06T08:12:43.801Z"
   },
   {
    "duration": 81,
    "start_time": "2023-02-06T08:12:43.808Z"
   },
   {
    "duration": 32,
    "start_time": "2023-02-06T08:12:43.890Z"
   },
   {
    "duration": 68,
    "start_time": "2023-02-06T08:12:43.923Z"
   },
   {
    "duration": 21,
    "start_time": "2023-02-06T08:12:44.003Z"
   },
   {
    "duration": 81,
    "start_time": "2023-02-06T08:12:44.026Z"
   },
   {
    "duration": 20,
    "start_time": "2023-02-06T08:12:44.109Z"
   },
   {
    "duration": 12,
    "start_time": "2023-02-06T08:12:44.131Z"
   },
   {
    "duration": 892,
    "start_time": "2023-02-06T08:12:44.145Z"
   },
   {
    "duration": 908,
    "start_time": "2023-02-06T08:12:45.038Z"
   },
   {
    "duration": 911,
    "start_time": "2023-02-06T08:12:45.947Z"
   },
   {
    "duration": 7,
    "start_time": "2023-02-06T08:12:46.860Z"
   },
   {
    "duration": 262,
    "start_time": "2023-02-06T08:12:46.869Z"
   },
   {
    "duration": 5,
    "start_time": "2023-02-06T08:12:47.210Z"
   },
   {
    "duration": 8,
    "start_time": "2023-02-06T08:12:47.305Z"
   },
   {
    "duration": 11,
    "start_time": "2023-02-06T08:12:47.315Z"
   },
   {
    "duration": 4,
    "start_time": "2023-02-06T08:12:47.328Z"
   },
   {
    "duration": 26,
    "start_time": "2023-02-06T08:12:47.333Z"
   },
   {
    "duration": 3,
    "start_time": "2023-02-06T08:12:47.360Z"
   },
   {
    "duration": 8,
    "start_time": "2023-02-06T08:12:47.365Z"
   },
   {
    "duration": 1466,
    "start_time": "2023-02-06T08:12:47.403Z"
   },
   {
    "duration": 1310,
    "start_time": "2023-02-06T08:12:48.871Z"
   },
   {
    "duration": 5,
    "start_time": "2023-02-06T08:27:24.443Z"
   },
   {
    "duration": 6,
    "start_time": "2023-02-06T08:31:40.650Z"
   },
   {
    "duration": 307,
    "start_time": "2023-02-06T08:31:41.181Z"
   },
   {
    "duration": 6,
    "start_time": "2023-02-06T08:31:49.382Z"
   },
   {
    "duration": 228,
    "start_time": "2023-02-06T08:31:49.791Z"
   },
   {
    "duration": 5,
    "start_time": "2023-02-06T08:58:34.222Z"
   },
   {
    "duration": 1312,
    "start_time": "2023-02-06T08:58:35.066Z"
   },
   {
    "duration": 1329,
    "start_time": "2023-02-06T08:58:38.816Z"
   },
   {
    "duration": 5,
    "start_time": "2023-02-06T08:58:49.125Z"
   },
   {
    "duration": 1290,
    "start_time": "2023-02-06T08:58:49.727Z"
   },
   {
    "duration": 1307,
    "start_time": "2023-02-06T08:58:52.215Z"
   },
   {
    "duration": 7,
    "start_time": "2023-02-06T08:59:17.663Z"
   },
   {
    "duration": 1236,
    "start_time": "2023-02-06T08:59:18.319Z"
   },
   {
    "duration": 1314,
    "start_time": "2023-02-06T08:59:20.226Z"
   },
   {
    "duration": 1285,
    "start_time": "2023-02-06T08:59:25.174Z"
   },
   {
    "duration": 1313,
    "start_time": "2023-02-06T08:59:27.220Z"
   },
   {
    "duration": 1325,
    "start_time": "2023-02-06T09:00:11.674Z"
   },
   {
    "duration": 1336,
    "start_time": "2023-02-06T09:00:15.935Z"
   },
   {
    "duration": 1320,
    "start_time": "2023-02-06T09:00:20.246Z"
   },
   {
    "duration": 23,
    "start_time": "2023-02-06T09:09:20.916Z"
   },
   {
    "duration": 1302,
    "start_time": "2023-02-06T09:10:21.438Z"
   },
   {
    "duration": 960,
    "start_time": "2023-02-06T09:10:22.741Z"
   },
   {
    "duration": 5,
    "start_time": "2023-02-06T09:10:23.703Z"
   },
   {
    "duration": 85,
    "start_time": "2023-02-06T09:10:23.709Z"
   },
   {
    "duration": 20,
    "start_time": "2023-02-06T09:10:23.796Z"
   },
   {
    "duration": 63,
    "start_time": "2023-02-06T09:10:23.817Z"
   },
   {
    "duration": 34,
    "start_time": "2023-02-06T09:10:23.881Z"
   },
   {
    "duration": 87,
    "start_time": "2023-02-06T09:10:23.917Z"
   },
   {
    "duration": 22,
    "start_time": "2023-02-06T09:10:24.006Z"
   },
   {
    "duration": 13,
    "start_time": "2023-02-06T09:10:24.029Z"
   },
   {
    "duration": 858,
    "start_time": "2023-02-06T09:10:24.044Z"
   },
   {
    "duration": 939,
    "start_time": "2023-02-06T09:10:24.903Z"
   },
   {
    "duration": 864,
    "start_time": "2023-02-06T09:10:25.844Z"
   },
   {
    "duration": 6,
    "start_time": "2023-02-06T09:10:26.711Z"
   },
   {
    "duration": 287,
    "start_time": "2023-02-06T09:10:26.719Z"
   },
   {
    "duration": 3,
    "start_time": "2023-02-06T09:10:27.009Z"
   },
   {
    "duration": 91,
    "start_time": "2023-02-06T09:10:27.014Z"
   },
   {
    "duration": 14,
    "start_time": "2023-02-06T09:10:27.107Z"
   },
   {
    "duration": 3,
    "start_time": "2023-02-06T09:10:27.123Z"
   },
   {
    "duration": 28,
    "start_time": "2023-02-06T09:10:27.128Z"
   },
   {
    "duration": 3,
    "start_time": "2023-02-06T09:10:27.157Z"
   },
   {
    "duration": 6,
    "start_time": "2023-02-06T09:10:27.161Z"
   },
   {
    "duration": 1329,
    "start_time": "2023-02-06T09:10:27.169Z"
   },
   {
    "duration": 1312,
    "start_time": "2023-02-06T09:10:28.503Z"
   },
   {
    "duration": 5,
    "start_time": "2023-02-06T09:13:04.366Z"
   },
   {
    "duration": 1340,
    "start_time": "2023-02-06T09:13:04.927Z"
   },
   {
    "duration": 1513,
    "start_time": "2023-02-06T09:13:06.352Z"
   },
   {
    "duration": 8,
    "start_time": "2023-02-07T07:32:27.816Z"
   },
   {
    "duration": 5,
    "start_time": "2023-02-07T07:34:41.515Z"
   },
   {
    "duration": 1365,
    "start_time": "2023-02-07T07:38:12.150Z"
   },
   {
    "duration": 6,
    "start_time": "2023-02-07T07:38:13.517Z"
   },
   {
    "duration": 829,
    "start_time": "2023-02-07T07:38:13.804Z"
   },
   {
    "duration": 4,
    "start_time": "2023-02-07T07:38:14.635Z"
   },
   {
    "duration": 69,
    "start_time": "2023-02-07T07:38:14.753Z"
   },
   {
    "duration": 19,
    "start_time": "2023-02-07T07:38:15.122Z"
   },
   {
    "duration": 61,
    "start_time": "2023-02-07T07:38:15.315Z"
   },
   {
    "duration": 24,
    "start_time": "2023-02-07T07:38:15.505Z"
   },
   {
    "duration": 71,
    "start_time": "2023-02-07T07:38:15.677Z"
   },
   {
    "duration": 20,
    "start_time": "2023-02-07T07:38:15.859Z"
   },
   {
    "duration": 12,
    "start_time": "2023-02-07T07:38:16.031Z"
   },
   {
    "duration": 833,
    "start_time": "2023-02-07T07:38:16.387Z"
   },
   {
    "duration": 853,
    "start_time": "2023-02-07T07:38:17.222Z"
   },
   {
    "duration": 758,
    "start_time": "2023-02-07T07:38:18.076Z"
   },
   {
    "duration": 5,
    "start_time": "2023-02-07T07:38:20.833Z"
   },
   {
    "duration": 444,
    "start_time": "2023-02-07T07:38:26.520Z"
   },
   {
    "duration": 12,
    "start_time": "2023-02-07T07:43:09.103Z"
   },
   {
    "duration": 7,
    "start_time": "2023-02-07T07:46:15.977Z"
   },
   {
    "duration": 105,
    "start_time": "2023-02-07T07:46:20.997Z"
   },
   {
    "duration": 5,
    "start_time": "2023-02-07T07:46:40.217Z"
   },
   {
    "duration": 403,
    "start_time": "2023-02-07T07:46:41.462Z"
   },
   {
    "duration": 2,
    "start_time": "2023-02-07T07:46:44.909Z"
   },
   {
    "duration": 5,
    "start_time": "2023-02-07T07:46:46.817Z"
   },
   {
    "duration": 12,
    "start_time": "2023-02-07T07:46:48.277Z"
   },
   {
    "duration": 4,
    "start_time": "2023-02-07T07:46:51.767Z"
   },
   {
    "duration": 10,
    "start_time": "2023-02-07T07:46:53.470Z"
   },
   {
    "duration": 7,
    "start_time": "2023-02-07T07:47:15.493Z"
   },
   {
    "duration": 22,
    "start_time": "2023-02-07T07:48:10.028Z"
   },
   {
    "duration": 4,
    "start_time": "2023-02-07T07:48:50.656Z"
   },
   {
    "duration": 4,
    "start_time": "2023-02-07T07:49:36.545Z"
   },
   {
    "duration": 4,
    "start_time": "2023-02-07T07:49:43.125Z"
   },
   {
    "duration": 4,
    "start_time": "2023-02-07T07:51:11.620Z"
   },
   {
    "duration": 4,
    "start_time": "2023-02-07T07:51:35.691Z"
   },
   {
    "duration": 4,
    "start_time": "2023-02-07T07:51:44.298Z"
   },
   {
    "duration": 6,
    "start_time": "2023-02-07T07:52:56.236Z"
   },
   {
    "duration": 3,
    "start_time": "2023-02-07T07:55:19.694Z"
   },
   {
    "duration": 4,
    "start_time": "2023-02-07T07:55:26.839Z"
   },
   {
    "duration": 1250,
    "start_time": "2023-02-07T07:55:32.630Z"
   },
   {
    "duration": 5,
    "start_time": "2023-02-07T07:56:05.193Z"
   },
   {
    "duration": 1202,
    "start_time": "2023-02-07T07:56:07.243Z"
   },
   {
    "duration": 3,
    "start_time": "2023-02-07T08:00:24.101Z"
   },
   {
    "duration": 17,
    "start_time": "2023-02-07T08:00:27.531Z"
   },
   {
    "duration": 17,
    "start_time": "2023-02-07T08:01:37.876Z"
   },
   {
    "duration": 3,
    "start_time": "2023-02-07T08:01:56.712Z"
   },
   {
    "duration": 16,
    "start_time": "2023-02-07T08:01:57.972Z"
   },
   {
    "duration": 3,
    "start_time": "2023-02-07T08:03:09.560Z"
   },
   {
    "duration": 9,
    "start_time": "2023-02-07T08:03:10.172Z"
   },
   {
    "duration": 15,
    "start_time": "2023-02-07T08:03:12.597Z"
   },
   {
    "duration": 6,
    "start_time": "2023-02-07T08:03:13.637Z"
   },
   {
    "duration": 6,
    "start_time": "2023-02-07T08:04:14.604Z"
   },
   {
    "duration": 15,
    "start_time": "2023-02-07T08:04:17.348Z"
   },
   {
    "duration": 5,
    "start_time": "2023-02-07T08:04:42.980Z"
   },
   {
    "duration": 15,
    "start_time": "2023-02-07T08:04:43.923Z"
   },
   {
    "duration": 4,
    "start_time": "2023-02-07T08:05:06.429Z"
   },
   {
    "duration": 1218,
    "start_time": "2023-02-07T08:05:07.092Z"
   },
   {
    "duration": 3,
    "start_time": "2023-02-07T08:46:27.806Z"
   },
   {
    "duration": 5,
    "start_time": "2023-02-07T08:47:09.300Z"
   },
   {
    "duration": 7,
    "start_time": "2023-02-07T08:50:05.925Z"
   },
   {
    "duration": 5,
    "start_time": "2023-02-07T08:52:08.905Z"
   },
   {
    "duration": 7,
    "start_time": "2023-02-07T08:52:35.404Z"
   },
   {
    "duration": 5,
    "start_time": "2023-02-07T08:52:42.734Z"
   },
   {
    "duration": 5,
    "start_time": "2023-02-07T08:52:48.313Z"
   },
   {
    "duration": 1312,
    "start_time": "2023-02-07T08:52:54.073Z"
   },
   {
    "duration": 5,
    "start_time": "2023-02-07T08:55:00.928Z"
   },
   {
    "duration": 5,
    "start_time": "2023-02-07T08:55:09.364Z"
   },
   {
    "duration": 5,
    "start_time": "2023-02-07T08:55:16.491Z"
   },
   {
    "duration": 6,
    "start_time": "2023-02-07T08:55:20.573Z"
   },
   {
    "duration": 6,
    "start_time": "2023-02-07T08:55:24.593Z"
   },
   {
    "duration": 5,
    "start_time": "2023-02-07T08:55:32.680Z"
   },
   {
    "duration": 6,
    "start_time": "2023-02-07T08:55:37.715Z"
   },
   {
    "duration": 5,
    "start_time": "2023-02-07T08:55:43.125Z"
   },
   {
    "duration": 4,
    "start_time": "2023-02-07T08:57:14.624Z"
   },
   {
    "duration": 1198,
    "start_time": "2023-02-07T08:57:18.369Z"
   },
   {
    "duration": 1213,
    "start_time": "2023-02-07T08:57:36.407Z"
   },
   {
    "duration": 1221,
    "start_time": "2023-02-07T08:57:37.859Z"
   },
   {
    "duration": 2,
    "start_time": "2023-02-07T08:59:04.549Z"
   },
   {
    "duration": 4,
    "start_time": "2023-02-07T09:02:21.713Z"
   },
   {
    "duration": 3,
    "start_time": "2023-02-07T09:04:59.512Z"
   },
   {
    "duration": 5,
    "start_time": "2023-02-07T09:05:00.262Z"
   },
   {
    "duration": 1240,
    "start_time": "2023-02-07T09:05:03.135Z"
   },
   {
    "duration": 1335,
    "start_time": "2023-02-07T09:05:04.378Z"
   },
   {
    "duration": 1208,
    "start_time": "2023-02-07T09:05:05.715Z"
   },
   {
    "duration": 1724,
    "start_time": "2023-02-07T14:27:19.493Z"
   },
   {
    "duration": 3,
    "start_time": "2023-02-07T14:27:21.219Z"
   },
   {
    "duration": 899,
    "start_time": "2023-02-07T14:27:21.223Z"
   },
   {
    "duration": 5,
    "start_time": "2023-02-07T14:27:22.124Z"
   },
   {
    "duration": 100,
    "start_time": "2023-02-07T14:27:22.130Z"
   },
   {
    "duration": 21,
    "start_time": "2023-02-07T14:27:22.232Z"
   },
   {
    "duration": 69,
    "start_time": "2023-02-07T14:27:22.256Z"
   },
   {
    "duration": 22,
    "start_time": "2023-02-07T14:27:22.327Z"
   },
   {
    "duration": 80,
    "start_time": "2023-02-07T14:27:22.351Z"
   },
   {
    "duration": 28,
    "start_time": "2023-02-07T14:27:22.433Z"
   },
   {
    "duration": 32,
    "start_time": "2023-02-07T14:27:22.462Z"
   },
   {
    "duration": 813,
    "start_time": "2023-02-07T14:27:22.496Z"
   },
   {
    "duration": 841,
    "start_time": "2023-02-07T14:27:23.310Z"
   },
   {
    "duration": 847,
    "start_time": "2023-02-07T14:27:24.153Z"
   },
   {
    "duration": 5,
    "start_time": "2023-02-07T14:27:25.002Z"
   },
   {
    "duration": 453,
    "start_time": "2023-02-07T14:27:25.008Z"
   },
   {
    "duration": 87,
    "start_time": "2023-02-07T14:27:25.463Z"
   },
   {
    "duration": 92,
    "start_time": "2023-02-07T14:27:25.554Z"
   },
   {
    "duration": 23,
    "start_time": "2023-02-07T14:27:25.648Z"
   },
   {
    "duration": 53,
    "start_time": "2023-02-07T14:27:25.673Z"
   },
   {
    "duration": 49,
    "start_time": "2023-02-07T14:27:25.728Z"
   },
   {
    "duration": 8,
    "start_time": "2023-02-07T14:27:25.779Z"
   },
   {
    "duration": 18,
    "start_time": "2023-02-07T14:27:25.788Z"
   },
   {
    "duration": 18,
    "start_time": "2023-02-07T14:27:25.808Z"
   },
   {
    "duration": 11,
    "start_time": "2023-02-07T14:27:25.828Z"
   },
   {
    "duration": 1240,
    "start_time": "2023-02-07T14:27:25.841Z"
   },
   {
    "duration": 1218,
    "start_time": "2023-02-07T14:27:27.083Z"
   },
   {
    "duration": 1208,
    "start_time": "2023-02-07T14:27:28.303Z"
   }
  ],
  "kernelspec": {
   "display_name": "Python 3 (ipykernel)",
   "language": "python",
   "name": "python3"
  },
  "language_info": {
   "codemirror_mode": {
    "name": "ipython",
    "version": 3
   },
   "file_extension": ".py",
   "mimetype": "text/x-python",
   "name": "python",
   "nbconvert_exporter": "python",
   "pygments_lexer": "ipython3",
   "version": "3.9.12"
  },
  "toc": {
   "base_numbering": 1,
   "nav_menu": {},
   "number_sections": true,
   "sideBar": true,
   "skip_h1_title": true,
   "title_cell": "Table of Contents",
   "title_sidebar": "Contents",
   "toc_cell": false,
   "toc_position": {},
   "toc_section_display": true,
   "toc_window_display": true
  }
 },
 "nbformat": 4,
 "nbformat_minor": 2
}
