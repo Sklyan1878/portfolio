{
 "cells": [
  {
   "cell_type": "markdown",
   "metadata": {},
   "source": [
    "# Tariff Recommendations"
   ]
  },
  {
   "cell_type": "markdown",
   "metadata": {},
   "source": [
    "<b>Aim</b>\n",
    "\n",
    "Make a classification model that will choose the suitable tariff.\n",
    "\n",
    "<b>Project Stages</b>\n",
    "\n",
    "1. Opening the data file and studying the general information\n",
    "2. Splitting the data into samples\n",
    "3. Investigating the models\n",
    "4. Testing the best model on the test sample\n",
    "5. Checking the model for adequacy\n",
    "6. Conclusion\n",
    "\n",
    "<b>Data Description</b>\n",
    "\n",
    "Each object in the dataset is the information about one user's behavior for a month.\n",
    "- сalls — number of calls,\n",
    "- minutes — total call duration in minutes,\n",
    "- messages — number of sms messages,\n",
    "- mb_used — consumed internet traffic in Mb,\n",
    "- is_ultra — which tariff the user had for the month (\"Ultra\" — 1, \"Smart\" — 0)."
   ]
  },
  {
   "cell_type": "markdown",
   "metadata": {},
   "source": [
    "## Opening the data file and studying the general information"
   ]
  },
  {
   "cell_type": "code",
   "execution_count": 25,
   "metadata": {},
   "outputs": [],
   "source": [
    "import pandas as pd\n",
    "import numpy as np\n",
    "import matplotlib.pyplot as plt\n",
    "import seaborn as sns\n",
    "from scipy import stats as st\n",
    "from sklearn import tree\n",
    "from sklearn.tree import DecisionTreeClassifier\n",
    "from sklearn.ensemble import RandomForestClassifier\n",
    "from sklearn.linear_model import LogisticRegression\n",
    "from sklearn.model_selection import train_test_split\n",
    "from sklearn.metrics import accuracy_score\n",
    "from sklearn.dummy import DummyClassifier\n",
    "from statsmodels.stats.outliers_influence import variance_inflation_factor\n",
    "from tqdm import tqdm\n",
    "import warnings\n",
    "import graphviz\n",
    "warnings.simplefilter(\"ignore\")"
   ]
  },
  {
   "cell_type": "code",
   "execution_count": 26,
   "metadata": {},
   "outputs": [],
   "source": [
    "try:\n",
    "    df = pd.read_csv('https://code.s3.yandex.net/datasets/users_behavior.csv')\n",
    "except:\n",
    "    df = pd.read_csv('users_behavior.csv')"
   ]
  },
  {
   "cell_type": "code",
   "execution_count": 27,
   "metadata": {},
   "outputs": [
    {
     "data": {
      "text/html": [
       "<div>\n",
       "<style scoped>\n",
       "    .dataframe tbody tr th:only-of-type {\n",
       "        vertical-align: middle;\n",
       "    }\n",
       "\n",
       "    .dataframe tbody tr th {\n",
       "        vertical-align: top;\n",
       "    }\n",
       "\n",
       "    .dataframe thead th {\n",
       "        text-align: right;\n",
       "    }\n",
       "</style>\n",
       "<table border=\"1\" class=\"dataframe\">\n",
       "  <thead>\n",
       "    <tr style=\"text-align: right;\">\n",
       "      <th></th>\n",
       "      <th>calls</th>\n",
       "      <th>minutes</th>\n",
       "      <th>messages</th>\n",
       "      <th>mb_used</th>\n",
       "      <th>is_ultra</th>\n",
       "    </tr>\n",
       "  </thead>\n",
       "  <tbody>\n",
       "    <tr>\n",
       "      <th>0</th>\n",
       "      <td>40.0</td>\n",
       "      <td>311.90</td>\n",
       "      <td>83.0</td>\n",
       "      <td>19915.42</td>\n",
       "      <td>0</td>\n",
       "    </tr>\n",
       "    <tr>\n",
       "      <th>1</th>\n",
       "      <td>85.0</td>\n",
       "      <td>516.75</td>\n",
       "      <td>56.0</td>\n",
       "      <td>22696.96</td>\n",
       "      <td>0</td>\n",
       "    </tr>\n",
       "    <tr>\n",
       "      <th>2</th>\n",
       "      <td>77.0</td>\n",
       "      <td>467.66</td>\n",
       "      <td>86.0</td>\n",
       "      <td>21060.45</td>\n",
       "      <td>0</td>\n",
       "    </tr>\n",
       "    <tr>\n",
       "      <th>3</th>\n",
       "      <td>106.0</td>\n",
       "      <td>745.53</td>\n",
       "      <td>81.0</td>\n",
       "      <td>8437.39</td>\n",
       "      <td>1</td>\n",
       "    </tr>\n",
       "    <tr>\n",
       "      <th>4</th>\n",
       "      <td>66.0</td>\n",
       "      <td>418.74</td>\n",
       "      <td>1.0</td>\n",
       "      <td>14502.75</td>\n",
       "      <td>0</td>\n",
       "    </tr>\n",
       "    <tr>\n",
       "      <th>5</th>\n",
       "      <td>58.0</td>\n",
       "      <td>344.56</td>\n",
       "      <td>21.0</td>\n",
       "      <td>15823.37</td>\n",
       "      <td>0</td>\n",
       "    </tr>\n",
       "    <tr>\n",
       "      <th>6</th>\n",
       "      <td>57.0</td>\n",
       "      <td>431.64</td>\n",
       "      <td>20.0</td>\n",
       "      <td>3738.90</td>\n",
       "      <td>1</td>\n",
       "    </tr>\n",
       "    <tr>\n",
       "      <th>7</th>\n",
       "      <td>15.0</td>\n",
       "      <td>132.40</td>\n",
       "      <td>6.0</td>\n",
       "      <td>21911.60</td>\n",
       "      <td>0</td>\n",
       "    </tr>\n",
       "    <tr>\n",
       "      <th>8</th>\n",
       "      <td>7.0</td>\n",
       "      <td>43.39</td>\n",
       "      <td>3.0</td>\n",
       "      <td>2538.67</td>\n",
       "      <td>1</td>\n",
       "    </tr>\n",
       "    <tr>\n",
       "      <th>9</th>\n",
       "      <td>90.0</td>\n",
       "      <td>665.41</td>\n",
       "      <td>38.0</td>\n",
       "      <td>17358.61</td>\n",
       "      <td>0</td>\n",
       "    </tr>\n",
       "  </tbody>\n",
       "</table>\n",
       "</div>"
      ],
      "text/plain": [
       "   calls  minutes  messages   mb_used  is_ultra\n",
       "0   40.0   311.90      83.0  19915.42         0\n",
       "1   85.0   516.75      56.0  22696.96         0\n",
       "2   77.0   467.66      86.0  21060.45         0\n",
       "3  106.0   745.53      81.0   8437.39         1\n",
       "4   66.0   418.74       1.0  14502.75         0\n",
       "5   58.0   344.56      21.0  15823.37         0\n",
       "6   57.0   431.64      20.0   3738.90         1\n",
       "7   15.0   132.40       6.0  21911.60         0\n",
       "8    7.0    43.39       3.0   2538.67         1\n",
       "9   90.0   665.41      38.0  17358.61         0"
      ]
     },
     "execution_count": 27,
     "metadata": {},
     "output_type": "execute_result"
    }
   ],
   "source": [
    "pd.set_option('display.max_columns', None)\n",
    "df.head(10)"
   ]
  },
  {
   "cell_type": "code",
   "execution_count": 28,
   "metadata": {
    "scrolled": true
   },
   "outputs": [
    {
     "name": "stdout",
     "output_type": "stream",
     "text": [
      "<class 'pandas.core.frame.DataFrame'>\n",
      "RangeIndex: 3214 entries, 0 to 3213\n",
      "Data columns (total 5 columns):\n",
      " #   Column    Non-Null Count  Dtype  \n",
      "---  ------    --------------  -----  \n",
      " 0   calls     3214 non-null   float64\n",
      " 1   minutes   3214 non-null   float64\n",
      " 2   messages  3214 non-null   float64\n",
      " 3   mb_used   3214 non-null   float64\n",
      " 4   is_ultra  3214 non-null   int64  \n",
      "dtypes: float64(4), int64(1)\n",
      "memory usage: 125.7 KB\n"
     ]
    }
   ],
   "source": [
    "df.info()"
   ]
  },
  {
   "cell_type": "code",
   "execution_count": 29,
   "metadata": {},
   "outputs": [],
   "source": [
    "# considering that the number of calls and messages can't be a fraction, \n",
    "# it might be worth changing the data type of these features.\n",
    "\n",
    "df['calls'] = df['calls'].astype('Int64')\n",
    "df['messages'] = df['messages'].astype('Int64')\n",
    "df['is_ultra'] = df['is_ultra'].astype('Int64')"
   ]
  },
  {
   "cell_type": "code",
   "execution_count": 30,
   "metadata": {
    "scrolled": true
   },
   "outputs": [
    {
     "name": "stdout",
     "output_type": "stream",
     "text": [
      "<class 'pandas.core.frame.DataFrame'>\n",
      "RangeIndex: 3214 entries, 0 to 3213\n",
      "Data columns (total 5 columns):\n",
      " #   Column    Non-Null Count  Dtype  \n",
      "---  ------    --------------  -----  \n",
      " 0   calls     3214 non-null   Int64  \n",
      " 1   minutes   3214 non-null   float64\n",
      " 2   messages  3214 non-null   Int64  \n",
      " 3   mb_used   3214 non-null   float64\n",
      " 4   is_ultra  3214 non-null   Int64  \n",
      "dtypes: Int64(3), float64(2)\n",
      "memory usage: 135.1 KB\n"
     ]
    }
   ],
   "source": [
    "df.info()"
   ]
  },
  {
   "cell_type": "code",
   "execution_count": 31,
   "metadata": {},
   "outputs": [
    {
     "data": {
      "text/plain": [
       "0"
      ]
     },
     "execution_count": 31,
     "metadata": {},
     "output_type": "execute_result"
    }
   ],
   "source": [
    "df.duplicated().sum()"
   ]
  },
  {
   "cell_type": "markdown",
   "metadata": {},
   "source": [
    "<b>Conclusions</b>: No missing data, zero values, or duplicates; the type of two columns has been changed; we can move on to the main part of the project."
   ]
  },
  {
   "cell_type": "code",
   "execution_count": 32,
   "metadata": {
    "scrolled": true
   },
   "outputs": [
    {
     "data": {
      "text/html": [
       "<div>\n",
       "<style scoped>\n",
       "    .dataframe tbody tr th:only-of-type {\n",
       "        vertical-align: middle;\n",
       "    }\n",
       "\n",
       "    .dataframe tbody tr th {\n",
       "        vertical-align: top;\n",
       "    }\n",
       "\n",
       "    .dataframe thead th {\n",
       "        text-align: right;\n",
       "    }\n",
       "</style>\n",
       "<table border=\"1\" class=\"dataframe\">\n",
       "  <thead>\n",
       "    <tr style=\"text-align: right;\">\n",
       "      <th></th>\n",
       "      <th>calls</th>\n",
       "      <th>minutes</th>\n",
       "      <th>messages</th>\n",
       "      <th>mb_used</th>\n",
       "      <th>is_ultra</th>\n",
       "    </tr>\n",
       "  </thead>\n",
       "  <tbody>\n",
       "    <tr>\n",
       "      <th>calls</th>\n",
       "      <td>1.000000</td>\n",
       "      <td>0.982083</td>\n",
       "      <td>0.177385</td>\n",
       "      <td>0.286442</td>\n",
       "      <td>0.207122</td>\n",
       "    </tr>\n",
       "    <tr>\n",
       "      <th>minutes</th>\n",
       "      <td>0.982083</td>\n",
       "      <td>1.000000</td>\n",
       "      <td>0.173110</td>\n",
       "      <td>0.280967</td>\n",
       "      <td>0.206955</td>\n",
       "    </tr>\n",
       "    <tr>\n",
       "      <th>messages</th>\n",
       "      <td>0.177385</td>\n",
       "      <td>0.173110</td>\n",
       "      <td>1.000000</td>\n",
       "      <td>0.195721</td>\n",
       "      <td>0.203830</td>\n",
       "    </tr>\n",
       "    <tr>\n",
       "      <th>mb_used</th>\n",
       "      <td>0.286442</td>\n",
       "      <td>0.280967</td>\n",
       "      <td>0.195721</td>\n",
       "      <td>1.000000</td>\n",
       "      <td>0.198568</td>\n",
       "    </tr>\n",
       "    <tr>\n",
       "      <th>is_ultra</th>\n",
       "      <td>0.207122</td>\n",
       "      <td>0.206955</td>\n",
       "      <td>0.203830</td>\n",
       "      <td>0.198568</td>\n",
       "      <td>1.000000</td>\n",
       "    </tr>\n",
       "  </tbody>\n",
       "</table>\n",
       "</div>"
      ],
      "text/plain": [
       "             calls   minutes  messages   mb_used  is_ultra\n",
       "calls     1.000000  0.982083  0.177385  0.286442  0.207122\n",
       "minutes   0.982083  1.000000  0.173110  0.280967  0.206955\n",
       "messages  0.177385  0.173110  1.000000  0.195721  0.203830\n",
       "mb_used   0.286442  0.280967  0.195721  1.000000  0.198568\n",
       "is_ultra  0.207122  0.206955  0.203830  0.198568  1.000000"
      ]
     },
     "execution_count": 32,
     "metadata": {},
     "output_type": "execute_result"
    }
   ],
   "source": [
    "df.corr()"
   ]
  },
  {
   "cell_type": "markdown",
   "metadata": {},
   "source": [
    "We see that there is a very strong correlation between the number of calls and minutes. Let's calculate the Variance Inflation Factor (VIF)."
   ]
  },
  {
   "cell_type": "code",
   "execution_count": 33,
   "metadata": {
    "scrolled": true
   },
   "outputs": [
    {
     "data": {
      "text/html": [
       "<div>\n",
       "<style scoped>\n",
       "    .dataframe tbody tr th:only-of-type {\n",
       "        vertical-align: middle;\n",
       "    }\n",
       "\n",
       "    .dataframe tbody tr th {\n",
       "        vertical-align: top;\n",
       "    }\n",
       "\n",
       "    .dataframe thead th {\n",
       "        text-align: right;\n",
       "    }\n",
       "</style>\n",
       "<table border=\"1\" class=\"dataframe\">\n",
       "  <thead>\n",
       "    <tr style=\"text-align: right;\">\n",
       "      <th></th>\n",
       "      <th>Attribute</th>\n",
       "      <th>vif_scores</th>\n",
       "    </tr>\n",
       "  </thead>\n",
       "  <tbody>\n",
       "    <tr>\n",
       "      <th>0</th>\n",
       "      <td>calls</td>\n",
       "      <td>129.355144</td>\n",
       "    </tr>\n",
       "    <tr>\n",
       "      <th>1</th>\n",
       "      <td>minutes</td>\n",
       "      <td>126.502139</td>\n",
       "    </tr>\n",
       "    <tr>\n",
       "      <th>2</th>\n",
       "      <td>messages</td>\n",
       "      <td>2.236643</td>\n",
       "    </tr>\n",
       "    <tr>\n",
       "      <th>3</th>\n",
       "      <td>mb_used</td>\n",
       "      <td>4.467798</td>\n",
       "    </tr>\n",
       "    <tr>\n",
       "      <th>4</th>\n",
       "      <td>is_ultra</td>\n",
       "      <td>1.577978</td>\n",
       "    </tr>\n",
       "  </tbody>\n",
       "</table>\n",
       "</div>"
      ],
      "text/plain": [
       "  Attribute  vif_scores\n",
       "0     calls  129.355144\n",
       "1   minutes  126.502139\n",
       "2  messages    2.236643\n",
       "3   mb_used    4.467798\n",
       "4  is_ultra    1.577978"
      ]
     },
     "execution_count": 33,
     "metadata": {},
     "output_type": "execute_result"
    }
   ],
   "source": [
    "df['calls'] = df['calls'].astype('float64')\n",
    "df['messages'] = df['messages'].astype('float64')\n",
    "df['is_ultra'] = df['is_ultra'].astype('float64')\n",
    "\n",
    "#Calculating the VIF\n",
    "df_vif = df.loc[:, list(df.columns)]\n",
    "vif = pd.DataFrame() \n",
    "vif[\"Attribute\"] = df_vif.columns \n",
    "vif['vif_scores'] = [variance_inflation_factor(df_vif.values, i) for i in range(len(df_vif.columns))] \n",
    "  \n",
    "vif"
   ]
  },
  {
   "cell_type": "markdown",
   "metadata": {},
   "source": [
    "Thus, we see that the features calls and minutes have a very high VIF, confirming multicollinearity. This suggests it's not advisable to include both features in the model. It's better to remove one of them — we'll choose the feature with the highest VIF value: calls. Before doing so, let's check the VIFs of the features excluding calls."
   ]
  },
  {
   "cell_type": "code",
   "execution_count": 34,
   "metadata": {
    "scrolled": true
   },
   "outputs": [
    {
     "data": {
      "text/html": [
       "<div>\n",
       "<style scoped>\n",
       "    .dataframe tbody tr th:only-of-type {\n",
       "        vertical-align: middle;\n",
       "    }\n",
       "\n",
       "    .dataframe tbody tr th {\n",
       "        vertical-align: top;\n",
       "    }\n",
       "\n",
       "    .dataframe thead th {\n",
       "        text-align: right;\n",
       "    }\n",
       "</style>\n",
       "<table border=\"1\" class=\"dataframe\">\n",
       "  <thead>\n",
       "    <tr style=\"text-align: right;\">\n",
       "      <th></th>\n",
       "      <th>Attribute</th>\n",
       "      <th>vif_scores</th>\n",
       "    </tr>\n",
       "  </thead>\n",
       "  <tbody>\n",
       "    <tr>\n",
       "      <th>0</th>\n",
       "      <td>minutes</td>\n",
       "      <td>4.136889</td>\n",
       "    </tr>\n",
       "    <tr>\n",
       "      <th>1</th>\n",
       "      <td>messages</td>\n",
       "      <td>2.232629</td>\n",
       "    </tr>\n",
       "    <tr>\n",
       "      <th>2</th>\n",
       "      <td>mb_used</td>\n",
       "      <td>4.403647</td>\n",
       "    </tr>\n",
       "    <tr>\n",
       "      <th>3</th>\n",
       "      <td>is_ultra</td>\n",
       "      <td>1.577919</td>\n",
       "    </tr>\n",
       "  </tbody>\n",
       "</table>\n",
       "</div>"
      ],
      "text/plain": [
       "  Attribute  vif_scores\n",
       "0   minutes    4.136889\n",
       "1  messages    2.232629\n",
       "2   mb_used    4.403647\n",
       "3  is_ultra    1.577919"
      ]
     },
     "execution_count": 34,
     "metadata": {},
     "output_type": "execute_result"
    }
   ],
   "source": [
    "df_good = df.drop(['calls'], axis=1)\n",
    "df_vif_good = df_good.loc[:, list(df_good.columns)]\n",
    "vif_good = pd.DataFrame() \n",
    "vif_good[\"Attribute\"] = df_vif_good.columns \n",
    "vif_good['vif_scores'] = [variance_inflation_factor(df_vif_good.values, i) for i in range(len(df_vif_good.columns))] \n",
    "  \n",
    "vif_good"
   ]
  },
  {
   "cell_type": "markdown",
   "metadata": {},
   "source": [
    "Confirmed, we've eliminated multicollinearity."
   ]
  },
  {
   "cell_type": "code",
   "execution_count": 35,
   "metadata": {},
   "outputs": [
    {
     "data": {
      "text/plain": [
       "0.30647168637212197"
      ]
     },
     "execution_count": 35,
     "metadata": {},
     "output_type": "execute_result"
    }
   ],
   "source": [
    "len(df_good.loc[df_good['is_ultra'] == 1])/len(df_good.loc[df_good['is_ultra']])"
   ]
  },
  {
   "cell_type": "markdown",
   "metadata": {},
   "source": [
    "Class 1 is slightly more than 30% of the entire dataset - as far as I understand, this is right \"on the edge\" of being balanced."
   ]
  },
  {
   "cell_type": "markdown",
   "metadata": {},
   "source": [
    "## Splitting the data into samples"
   ]
  },
  {
   "cell_type": "code",
   "execution_count": 36,
   "metadata": {
    "scrolled": true
   },
   "outputs": [],
   "source": [
    "# we create 3 samples: training, validation, and testing.\n",
    "\n",
    "df_good_features = df_good.drop(['is_ultra'], axis=1)\n",
    "df_good_target = df_good['is_ultra']\n",
    "df_train, df_valid_and_test = train_test_split(df_good, test_size=0.4, random_state=12345, stratify=df_good_target)\n",
    "\n",
    "df_valid_and_test_features = df_valid_and_test.drop(['is_ultra'], axis=1)\n",
    "df_valid_and_test_target = df_valid_and_test['is_ultra']\n",
    "df_valid, df_test = train_test_split(df_valid_and_test, test_size=0.5, random_state=12345, stratify=df_valid_and_test_target)"
   ]
  },
  {
   "cell_type": "code",
   "execution_count": 37,
   "metadata": {},
   "outputs": [],
   "source": [
    "# setting up a feature set and target feature for each of the samples:\n",
    "\n",
    "#training\n",
    "features_train = df_train.drop(['is_ultra'], axis=1)\n",
    "target_train = df_train['is_ultra']\n",
    "\n",
    "#validation\n",
    "features_valid = df_valid.drop(['is_ultra'], axis=1)\n",
    "target_valid = df_valid['is_ultra']\n",
    "\n",
    "#testing\n",
    "features_test = df_test.drop(['is_ultra'], axis=1)\n",
    "target_test = df_test['is_ultra']"
   ]
  },
  {
   "cell_type": "code",
   "execution_count": 38,
   "metadata": {},
   "outputs": [
    {
     "data": {
      "text/plain": [
       "(1928, 4)"
      ]
     },
     "execution_count": 38,
     "metadata": {},
     "output_type": "execute_result"
    }
   ],
   "source": [
    "df_train.shape"
   ]
  },
  {
   "cell_type": "code",
   "execution_count": 39,
   "metadata": {},
   "outputs": [
    {
     "data": {
      "text/plain": [
       "(643, 4)"
      ]
     },
     "execution_count": 39,
     "metadata": {},
     "output_type": "execute_result"
    }
   ],
   "source": [
    "df_valid.shape"
   ]
  },
  {
   "cell_type": "code",
   "execution_count": 40,
   "metadata": {
    "scrolled": true
   },
   "outputs": [
    {
     "data": {
      "text/plain": [
       "(643, 4)"
      ]
     },
     "execution_count": 40,
     "metadata": {},
     "output_type": "execute_result"
    }
   ],
   "source": [
    "df_test.shape"
   ]
  },
  {
   "cell_type": "markdown",
   "metadata": {},
   "source": [
    "The quantitative division was done correctly."
   ]
  },
  {
   "cell_type": "markdown",
   "metadata": {},
   "source": [
    "## Investigating the models"
   ]
  },
  {
   "cell_type": "markdown",
   "metadata": {},
   "source": [
    "### Decision Tree"
   ]
  },
  {
   "cell_type": "code",
   "execution_count": 41,
   "metadata": {},
   "outputs": [
    {
     "name": "stdout",
     "output_type": "stream",
     "text": [
      "Accuracy of the best Decision Tree model on the validation sample: 0.7916018662519441 in max_depth: 8\n"
     ]
    }
   ],
   "source": [
    "best_model_dt = None\n",
    "best_result_dt = 0\n",
    "best_depth_dt = 0\n",
    "for depth in range(1, 20):\n",
    "    model_dt = DecisionTreeClassifier(random_state=12345, max_depth=depth)\n",
    "    model_dt.fit(features_train, target_train)\n",
    "    predictions_dt_valid = model_dt.predict(features_valid)\n",
    "    result_dt = accuracy_score(target_valid, predictions_dt_valid)\n",
    "    if result_dt > best_result_dt:\n",
    "        best_model_dt = model_dt\n",
    "        best_result_dt = result_dt\n",
    "        best_depth_dt = depth\n",
    "\n",
    "print('Accuracy of the best Decision Tree model on the validation sample:', best_result_dt, 'in max_depth:', best_depth_dt)"
   ]
  },
  {
   "cell_type": "code",
   "execution_count": 42,
   "metadata": {
    "scrolled": false
   },
   "outputs": [
    {
     "data": {
      "image/png": "[encoded data removed]",
      "text/plain": [
       "<Figure size 720x432 with 1 Axes>"
      ]
     },
     "metadata": {
      "needs_background": "light"
     },
     "output_type": "display_data"
    }
   ],
   "source": [
    "max_depth_list = list(range(1,20))\n",
    "train_list = []\n",
    "valid_list = []\n",
    "\n",
    "for depth in range(1, 20):\n",
    "    model_dt_fig = DecisionTreeClassifier(random_state=12345, max_depth=depth)\n",
    "    model_dt_fig.fit(features_train, target_train)\n",
    "    predictions_dt_valid_fig = model_dt_fig.predict(features_valid)\n",
    "    predictions_dt_train_fig = model_dt_fig.predict(features_train)\n",
    "    valid_list.append(accuracy_score(target_valid, predictions_dt_valid_fig))\n",
    "    train_list.append(accuracy_score(target_train, predictions_dt_train_fig))\n",
    "\n",
    "x_plt = np.arange(len(max_depth_list)) + 1\n",
    "plt.figure(figsize=(10,6))\n",
    "plt.plot(x_plt, train_list, label='Train')\n",
    "plt.plot(x_plt, valid_list, label='Valid')\n",
    "plt.title('Dependency of Accuracy on Depth')\n",
    "plt.xlabel('Depth')\n",
    "plt.ylabel('Accuracy')\n",
    "plt.legend()\n",
    "plt.show()"
   ]
  },
  {
   "cell_type": "code",
   "execution_count": 43,
   "metadata": {
    "scrolled": false
   },
   "outputs": [
    {
     "data": {
      "image/png": "[encoded data removed]",
      "text/plain": [
       "<Figure size 1800x1440 with 1 Axes>"
      ]
     },
     "metadata": {
      "needs_background": "light"
     },
     "output_type": "display_data"
    }
   ],
   "source": [
    "fig = plt.figure(figsize=(25,20))\n",
    "model_dt_fig_tree = DecisionTreeClassifier(random_state=12345, max_depth=3)\n",
    "model_dt_fig_tree = model_dt_fig_tree.fit(features_train, target_train)\n",
    "tree.plot_tree(model_dt_fig_tree, \n",
    "               feature_names=features_train.columns,\n",
    "               class_names=True,\n",
    "               filled=True, rounded=True)\n",
    "plt.show()"
   ]
  },
  {
   "cell_type": "markdown",
   "metadata": {},
   "source": [
    "### Random Forest"
   ]
  },
  {
   "cell_type": "code",
   "execution_count": 44,
   "metadata": {},
   "outputs": [
    {
     "name": "stderr",
     "output_type": "stream",
     "text": [
      "100%|██████████████████████████████████████████████████████████████████████████████████| 19/19 [00:07<00:00,  2.67it/s]"
     ]
    },
    {
     "name": "stdout",
     "output_type": "stream",
     "text": [
      "Accuracy of the best Random Forest model on the validation sample: 0.8118195956454122 in max_depth: 8 and n_estimators: 18\n"
     ]
    },
    {
     "name": "stderr",
     "output_type": "stream",
     "text": [
      "\n"
     ]
    }
   ],
   "source": [
    "best_model_rf = None\n",
    "best_result_rf = 0\n",
    "best_depth_rf = 0\n",
    "best_est_rf = 0\n",
    "for est in tqdm(range(1,20)):\n",
    "    for depth in range(1, 20):\n",
    "        model_rf = RandomForestClassifier(random_state=12345, n_estimators=est, max_depth=depth)\n",
    "        model_rf.fit(features_train, target_train)\n",
    "        prediction_forest = model_rf.predict(features_valid)\n",
    "        result_rf = accuracy_score(prediction_forest,target_valid)\n",
    "        if result_rf > best_result_rf:\n",
    "            best_model_rf = model_rf\n",
    "            best_result_rf = result_rf\n",
    "            best_depth_rf = depth\n",
    "            best_est_rf = est\n",
    "\n",
    "print('Accuracy of the best Random Forest model on the validation sample:', best_result_rf, 'in max_depth:', best_depth_rf,\n",
    "      'and n_estimators:', best_est_rf)"
   ]
  },
  {
   "cell_type": "markdown",
   "metadata": {},
   "source": [
    "### Logistic Regression"
   ]
  },
  {
   "cell_type": "code",
   "execution_count": 45,
   "metadata": {},
   "outputs": [
    {
     "name": "stdout",
     "output_type": "stream",
     "text": [
      "Accuracy of the Logistic Regression model on the validation sample 0.71850699844479\n"
     ]
    }
   ],
   "source": [
    "model_lr = LogisticRegression(random_state=12345, solver='lbfgs', max_iter=1000)\n",
    "model_lr.fit(features_train, target_train)\n",
    "prediction_lr_valid=model_lr.predict(features_valid)\n",
    "accuracy_lr = accuracy_score(prediction_lr_valid, target_valid)\n",
    "print('Accuracy of the Logistic Regression model on the validation sample', accuracy_lr)"
   ]
  },
  {
   "cell_type": "markdown",
   "metadata": {},
   "source": [
    "<b>Conclusions</b>: Thus, the best Accuracy on the validation sample is shown by the Random Forest model."
   ]
  },
  {
   "cell_type": "markdown",
   "metadata": {},
   "source": [
    "## Testing the Best Model on the Test Sample"
   ]
  },
  {
   "cell_type": "code",
   "execution_count": 46,
   "metadata": {},
   "outputs": [
    {
     "name": "stdout",
     "output_type": "stream",
     "text": [
      "Accuracy of the Random Forest model on the test sample: 0.8102643856920684\n"
     ]
    }
   ],
   "source": [
    "#We found out that the best model is Random Forest. Let's test it on the test sample.\n",
    "\n",
    "model_rf_test = RandomForestClassifier(random_state=12345, n_estimators=best_est_rf, max_depth=best_depth_rf)\n",
    "model_rf_test.fit(features_train, target_train)\n",
    "prediction_rf_test = model_rf_test.predict(features_test)\n",
    "result_rf_test = accuracy_score(target_test, prediction_rf_test)\n",
    "print('Accuracy of the Random Forest model on the test sample:', result_rf_test)"
   ]
  },
  {
   "cell_type": "markdown",
   "metadata": {},
   "source": [
    "<b>Conclusions</b>: Thus, the most accurate model when working on the test sample is Random Forest."
   ]
  },
  {
   "cell_type": "code",
   "execution_count": 47,
   "metadata": {},
   "outputs": [
    {
     "name": "stdout",
     "output_type": "stream",
     "text": [
      "Accuracy of the Random Forest model on the test sample: 0.8320373250388803\n"
     ]
    }
   ],
   "source": [
    "features_train_valid = pd.concat([features_train, features_valid], ignore_index = True)\n",
    "target_train_valid = pd.concat([target_train, target_valid], ignore_index = True) \n",
    "\n",
    "model_rf_test_t_v = RandomForestClassifier(random_state=12345, n_estimators=best_est_rf, max_depth=best_depth_rf)\n",
    "model_rf_test_t_v.fit(features_train_valid, target_train_valid)\n",
    "prediction_rf_test = model_rf_test_t_v.predict(features_test)\n",
    "result_rf_test_t_v = accuracy_score(target_test, prediction_rf_test)\n",
    "print('Accuracy of the Random Forest model on the test sample:', result_rf_test_t_v)"
   ]
  },
  {
   "cell_type": "markdown",
   "metadata": {},
   "source": [
    "Indeed, training on the combined sample (training + validation) led to an increase in the accuracy of the Random Forest model."
   ]
  },
  {
   "cell_type": "markdown",
   "metadata": {},
   "source": [
    "## Checking the Model for Adequacy"
   ]
  },
  {
   "cell_type": "code",
   "execution_count": 48,
   "metadata": {},
   "outputs": [
    {
     "name": "stdout",
     "output_type": "stream",
     "text": [
      "The Random Forest model is adequate\n"
     ]
    }
   ],
   "source": [
    "dummy_model = DummyClassifier(strategy=\"most_frequent\", random_state=12345)\n",
    "dummy_model.fit(features_train, target_train)\n",
    "result_dummy_model = dummy_model.score(features_test, target_test)\n",
    "if   result_rf_test > result_dummy_model:\n",
    "    print('The Random Forest model is adequate')\n",
    "else:\n",
    "    print('The model did not pass the adequacy check')"
   ]
  },
  {
   "cell_type": "markdown",
   "metadata": {},
   "source": [
    "## Conclusion"
   ]
  },
  {
   "cell_type": "markdown",
   "metadata": {},
   "source": [
    "We were tasked with building a classification model that would select the appropriate tariff.\n",
    "\n",
    "We analyzed the dataset. The most important finding was multicollinearity, which arose due to the very strong correlation between two features - the number of calls and the spent minutes. This issue was resolved by removing the feature with the highest Variance Inflation Factor (VIF) from the dataset - calls.\n",
    "\n",
    "Subsequently, we allocated 3 samples for training and testing models - training, validation, and testing. We trained 3 models - Decision Tree, Random Forest, and Logistic Regression. When checked on the validation sample, the Random Forest model showed the best Accuracy.\n",
    "\n",
    "When testing the model on the test sample, the model demonstrated a high Accuracy result - above 0.81. The model was improved by training it on a sample that simultaneously consisted of training and validation samples. Accuracy was raised to 0.83. Additionally, the Random Forest model passed the adequacy check."
   ]
  }
 ],
 "metadata": {
  "ExecuteTimeLog": [
   {
    "duration": 45,
    "start_time": "2023-01-03T19:26:52.467Z"
   },
   {
    "duration": 1400,
    "start_time": "2023-01-03T19:26:56.056Z"
   },
   {
    "duration": 122,
    "start_time": "2023-01-03T19:26:57.458Z"
   },
   {
    "duration": 22,
    "start_time": "2023-01-03T19:26:57.582Z"
   },
   {
    "duration": 18,
    "start_time": "2023-01-03T19:27:14.531Z"
   },
   {
    "duration": 12,
    "start_time": "2023-01-03T19:27:27.940Z"
   },
   {
    "duration": 6,
    "start_time": "2023-01-03T19:29:48.268Z"
   },
   {
    "duration": 13,
    "start_time": "2023-01-03T19:29:57.693Z"
   },
   {
    "duration": 15,
    "start_time": "2023-01-03T19:30:08.490Z"
   },
   {
    "duration": 10,
    "start_time": "2023-01-03T19:33:16.259Z"
   },
   {
    "duration": 9,
    "start_time": "2023-01-03T19:33:37.319Z"
   },
   {
    "duration": 7,
    "start_time": "2023-01-03T20:02:16.980Z"
   },
   {
    "duration": 71,
    "start_time": "2023-01-03T20:18:55.509Z"
   },
   {
    "duration": 15,
    "start_time": "2023-01-03T20:19:45.435Z"
   },
   {
    "duration": 4,
    "start_time": "2023-01-03T20:20:53.173Z"
   },
   {
    "duration": 19,
    "start_time": "2023-01-03T20:20:56.298Z"
   },
   {
    "duration": 6,
    "start_time": "2023-01-03T20:22:36.827Z"
   },
   {
    "duration": 30,
    "start_time": "2023-01-03T20:22:38.142Z"
   },
   {
    "duration": 29,
    "start_time": "2023-01-03T20:22:45.400Z"
   },
   {
    "duration": 6,
    "start_time": "2023-01-03T20:22:47.472Z"
   },
   {
    "duration": 18,
    "start_time": "2023-01-03T20:22:48.379Z"
   },
   {
    "duration": 7,
    "start_time": "2023-01-03T20:22:51.462Z"
   },
   {
    "duration": 30,
    "start_time": "2023-01-03T20:22:52.354Z"
   },
   {
    "duration": 3,
    "start_time": "2023-01-03T20:32:05.681Z"
   },
   {
    "duration": 6,
    "start_time": "2023-01-03T20:32:06.601Z"
   },
   {
    "duration": 19,
    "start_time": "2023-01-03T20:32:09.131Z"
   },
   {
    "duration": 35,
    "start_time": "2023-01-03T20:33:04.744Z"
   },
   {
    "duration": 128,
    "start_time": "2023-01-03T20:34:36.093Z"
   },
   {
    "duration": 286,
    "start_time": "2023-01-03T20:41:12.856Z"
   },
   {
    "duration": 57,
    "start_time": "2023-01-04T06:41:27.205Z"
   },
   {
    "duration": 1609,
    "start_time": "2023-01-04T06:41:36.260Z"
   },
   {
    "duration": 87,
    "start_time": "2023-01-04T06:41:37.870Z"
   },
   {
    "duration": 21,
    "start_time": "2023-01-04T06:41:37.959Z"
   },
   {
    "duration": 12,
    "start_time": "2023-01-04T06:41:37.982Z"
   },
   {
    "duration": 7,
    "start_time": "2023-01-04T06:41:37.996Z"
   },
   {
    "duration": 15,
    "start_time": "2023-01-04T06:41:38.004Z"
   },
   {
    "duration": 2,
    "start_time": "2023-01-04T06:41:38.021Z"
   },
   {
    "duration": 7,
    "start_time": "2023-01-04T06:41:41.504Z"
   },
   {
    "duration": 4,
    "start_time": "2023-01-04T06:41:46.021Z"
   },
   {
    "duration": 6,
    "start_time": "2023-01-04T07:08:34.626Z"
   },
   {
    "duration": 73,
    "start_time": "2023-01-04T07:11:43.540Z"
   },
   {
    "duration": 4,
    "start_time": "2023-01-04T07:12:41.576Z"
   },
   {
    "duration": 130,
    "start_time": "2023-01-04T07:12:48.813Z"
   },
   {
    "duration": 140,
    "start_time": "2023-01-04T07:23:20.158Z"
   },
   {
    "duration": 4,
    "start_time": "2023-01-04T07:26:55.141Z"
   },
   {
    "duration": 32,
    "start_time": "2023-01-04T07:27:03.882Z"
   },
   {
    "duration": 28,
    "start_time": "2023-01-04T07:27:18.585Z"
   },
   {
    "duration": 17,
    "start_time": "2023-01-04T07:47:35.333Z"
   },
   {
    "duration": 141,
    "start_time": "2023-01-04T07:47:50.347Z"
   },
   {
    "duration": 10,
    "start_time": "2023-01-04T07:47:52.310Z"
   },
   {
    "duration": 18,
    "start_time": "2023-01-04T07:49:34.361Z"
   },
   {
    "duration": 117,
    "start_time": "2023-01-04T07:50:12.272Z"
   },
   {
    "duration": 135,
    "start_time": "2023-01-04T07:50:31.298Z"
   },
   {
    "duration": 120,
    "start_time": "2023-01-04T07:53:11.509Z"
   },
   {
    "duration": 123,
    "start_time": "2023-01-04T07:53:43.363Z"
   },
   {
    "duration": 306,
    "start_time": "2023-01-04T07:54:02.098Z"
   },
   {
    "duration": 177,
    "start_time": "2023-01-04T07:54:06.672Z"
   },
   {
    "duration": 1182,
    "start_time": "2023-01-04T07:54:10.207Z"
   },
   {
    "duration": 185,
    "start_time": "2023-01-04T07:54:17.328Z"
   },
   {
    "duration": 19,
    "start_time": "2023-01-04T07:59:06.920Z"
   },
   {
    "duration": 12883,
    "start_time": "2023-01-04T07:59:16.445Z"
   },
   {
    "duration": 12980,
    "start_time": "2023-01-04T08:00:44.742Z"
   },
   {
    "duration": 21480,
    "start_time": "2023-01-04T08:01:07.810Z"
   },
   {
    "duration": 30,
    "start_time": "2023-01-04T08:06:47.105Z"
   },
   {
    "duration": 20,
    "start_time": "2023-01-04T08:07:17.918Z"
   },
   {
    "duration": 13032,
    "start_time": "2023-01-04T08:08:44.364Z"
   },
   {
    "duration": 26,
    "start_time": "2023-01-04T08:10:07.255Z"
   },
   {
    "duration": 90,
    "start_time": "2023-01-04T08:11:48.361Z"
   },
   {
    "duration": 12,
    "start_time": "2023-01-04T08:20:20.693Z"
   },
   {
    "duration": 75,
    "start_time": "2023-01-04T08:24:52.067Z"
   },
   {
    "duration": 27,
    "start_time": "2023-01-04T08:35:24.440Z"
   },
   {
    "duration": 8,
    "start_time": "2023-01-04T08:35:31.781Z"
   },
   {
    "duration": 7,
    "start_time": "2023-01-04T08:36:46.256Z"
   },
   {
    "duration": 1489,
    "start_time": "2023-01-04T08:36:58.027Z"
   },
   {
    "duration": 90,
    "start_time": "2023-01-04T08:36:59.519Z"
   },
   {
    "duration": 18,
    "start_time": "2023-01-04T08:36:59.611Z"
   },
   {
    "duration": 49,
    "start_time": "2023-01-04T08:36:59.631Z"
   },
   {
    "duration": 10,
    "start_time": "2023-01-04T08:36:59.683Z"
   },
   {
    "duration": 42,
    "start_time": "2023-01-04T08:36:59.695Z"
   },
   {
    "duration": 33,
    "start_time": "2023-01-04T08:36:59.739Z"
   },
   {
    "duration": 45,
    "start_time": "2023-01-04T08:36:59.775Z"
   },
   {
    "duration": 232,
    "start_time": "2023-01-04T08:36:59.822Z"
   },
   {
    "duration": 13444,
    "start_time": "2023-01-04T08:37:00.057Z"
   },
   {
    "duration": 29,
    "start_time": "2023-01-04T08:37:13.503Z"
   },
   {
    "duration": 27,
    "start_time": "2023-01-04T08:37:13.534Z"
   },
   {
    "duration": 88,
    "start_time": "2023-01-04T08:37:13.563Z"
   },
   {
    "duration": 7,
    "start_time": "2023-01-04T08:37:13.653Z"
   },
   {
    "duration": 115,
    "start_time": "2023-01-04T09:10:34.045Z"
   },
   {
    "duration": 4,
    "start_time": "2023-01-04T09:10:40.408Z"
   },
   {
    "duration": 6,
    "start_time": "2023-01-04T09:10:43.740Z"
   },
   {
    "duration": 6,
    "start_time": "2023-01-04T09:11:26.007Z"
   },
   {
    "duration": 79,
    "start_time": "2023-01-04T10:30:55.181Z"
   },
   {
    "duration": 6,
    "start_time": "2023-01-04T10:31:03.574Z"
   },
   {
    "duration": 5,
    "start_time": "2023-01-04T10:31:27.374Z"
   },
   {
    "duration": 6,
    "start_time": "2023-01-04T10:31:32.801Z"
   },
   {
    "duration": 4,
    "start_time": "2023-01-04T10:36:00.422Z"
   },
   {
    "duration": 93,
    "start_time": "2023-01-04T10:36:01.537Z"
   },
   {
    "duration": 12,
    "start_time": "2023-01-04T10:36:01.814Z"
   },
   {
    "duration": 11,
    "start_time": "2023-01-04T10:36:02.315Z"
   },
   {
    "duration": 6,
    "start_time": "2023-01-04T10:36:04.006Z"
   },
   {
    "duration": 11,
    "start_time": "2023-01-04T10:36:05.082Z"
   },
   {
    "duration": 14,
    "start_time": "2023-01-04T10:36:34.310Z"
   },
   {
    "duration": 8,
    "start_time": "2023-01-04T10:36:58.987Z"
   },
   {
    "duration": 13041,
    "start_time": "2023-01-04T11:31:03.159Z"
   },
   {
    "duration": 76,
    "start_time": "2023-01-04T11:32:18.817Z"
   },
   {
    "duration": 1137,
    "start_time": "2023-01-04T11:33:08.062Z"
   },
   {
    "duration": 51,
    "start_time": "2023-01-04T11:33:09.201Z"
   },
   {
    "duration": 19,
    "start_time": "2023-01-04T11:33:09.253Z"
   },
   {
    "duration": 12,
    "start_time": "2023-01-04T11:33:09.274Z"
   },
   {
    "duration": 10,
    "start_time": "2023-01-04T11:33:09.288Z"
   },
   {
    "duration": 14,
    "start_time": "2023-01-04T11:33:09.300Z"
   },
   {
    "duration": 5,
    "start_time": "2023-01-04T11:33:09.316Z"
   },
   {
    "duration": 28,
    "start_time": "2023-01-04T11:33:09.323Z"
   },
   {
    "duration": 6,
    "start_time": "2023-01-04T11:33:09.353Z"
   },
   {
    "duration": 192,
    "start_time": "2023-01-04T11:33:09.361Z"
   },
   {
    "duration": 13397,
    "start_time": "2023-01-04T11:33:09.555Z"
   },
   {
    "duration": 27,
    "start_time": "2023-01-04T11:33:22.954Z"
   },
   {
    "duration": 12,
    "start_time": "2023-01-04T11:33:22.983Z"
   },
   {
    "duration": 95,
    "start_time": "2023-01-04T11:33:22.997Z"
   },
   {
    "duration": 9,
    "start_time": "2023-01-04T11:33:23.094Z"
   },
   {
    "duration": 23,
    "start_time": "2023-01-04T11:33:23.105Z"
   },
   {
    "duration": 6,
    "start_time": "2023-01-04T11:33:32.571Z"
   },
   {
    "duration": 91,
    "start_time": "2023-01-04T11:34:09.586Z"
   },
   {
    "duration": 13920,
    "start_time": "2023-01-04T11:36:54.683Z"
   },
   {
    "duration": 15063,
    "start_time": "2023-01-04T11:37:41.467Z"
   },
   {
    "duration": 1237,
    "start_time": "2023-01-04T11:54:52.411Z"
   },
   {
    "duration": 181,
    "start_time": "2023-01-04T11:54:53.650Z"
   },
   {
    "duration": 19,
    "start_time": "2023-01-04T11:54:53.833Z"
   },
   {
    "duration": 13,
    "start_time": "2023-01-04T11:54:53.854Z"
   },
   {
    "duration": 31,
    "start_time": "2023-01-04T11:54:53.869Z"
   },
   {
    "duration": 32,
    "start_time": "2023-01-04T11:54:53.902Z"
   },
   {
    "duration": 46,
    "start_time": "2023-01-04T11:54:53.936Z"
   },
   {
    "duration": 25,
    "start_time": "2023-01-04T11:54:53.984Z"
   },
   {
    "duration": 13,
    "start_time": "2023-01-04T11:54:54.011Z"
   },
   {
    "duration": 214,
    "start_time": "2023-01-04T11:54:54.025Z"
   },
   {
    "duration": 13626,
    "start_time": "2023-01-04T11:54:54.241Z"
   },
   {
    "duration": 29,
    "start_time": "2023-01-04T11:55:07.869Z"
   },
   {
    "duration": 15,
    "start_time": "2023-01-04T11:55:07.900Z"
   },
   {
    "duration": 98,
    "start_time": "2023-01-04T11:55:07.918Z"
   },
   {
    "duration": 7,
    "start_time": "2023-01-04T11:55:08.018Z"
   },
   {
    "duration": 25,
    "start_time": "2023-01-04T11:55:08.028Z"
   },
   {
    "duration": 1894,
    "start_time": "2023-01-04T12:14:23.874Z"
   },
   {
    "duration": 70,
    "start_time": "2023-01-04T12:14:25.770Z"
   },
   {
    "duration": 16,
    "start_time": "2023-01-04T12:14:25.841Z"
   },
   {
    "duration": 10,
    "start_time": "2023-01-04T12:14:25.860Z"
   },
   {
    "duration": 11,
    "start_time": "2023-01-04T12:14:25.872Z"
   },
   {
    "duration": 12,
    "start_time": "2023-01-04T12:14:25.884Z"
   },
   {
    "duration": 5,
    "start_time": "2023-01-04T12:14:25.898Z"
   },
   {
    "duration": 13,
    "start_time": "2023-01-04T12:14:25.904Z"
   },
   {
    "duration": 5,
    "start_time": "2023-01-04T12:14:25.919Z"
   },
   {
    "duration": 174,
    "start_time": "2023-01-04T12:14:25.926Z"
   },
   {
    "duration": 11805,
    "start_time": "2023-01-04T12:14:26.101Z"
   },
   {
    "duration": 28,
    "start_time": "2023-01-04T12:14:37.908Z"
   },
   {
    "duration": 10,
    "start_time": "2023-01-04T12:14:37.937Z"
   },
   {
    "duration": 80,
    "start_time": "2023-01-04T12:14:37.949Z"
   },
   {
    "duration": 6,
    "start_time": "2023-01-04T12:14:38.031Z"
   },
   {
    "duration": 8,
    "start_time": "2023-01-04T12:14:38.038Z"
   },
   {
    "duration": 1555,
    "start_time": "2023-01-05T07:36:50.035Z"
   },
   {
    "duration": 120,
    "start_time": "2023-01-05T07:36:57.072Z"
   },
   {
    "duration": 14,
    "start_time": "2023-01-05T07:36:57.434Z"
   },
   {
    "duration": 21,
    "start_time": "2023-01-05T07:36:57.723Z"
   },
   {
    "duration": 7,
    "start_time": "2023-01-05T07:36:58.207Z"
   },
   {
    "duration": 11,
    "start_time": "2023-01-05T07:36:58.680Z"
   },
   {
    "duration": 6,
    "start_time": "2023-01-05T07:36:59.201Z"
   },
   {
    "duration": 9,
    "start_time": "2023-01-05T07:37:03.290Z"
   },
   {
    "duration": 27,
    "start_time": "2023-01-05T10:51:42.575Z"
   },
   {
    "duration": 115,
    "start_time": "2023-01-05T10:51:46.879Z"
   },
   {
    "duration": 12,
    "start_time": "2023-01-05T10:51:47.415Z"
   },
   {
    "duration": 10,
    "start_time": "2023-01-05T10:51:47.778Z"
   },
   {
    "duration": 6,
    "start_time": "2023-01-05T10:51:48.368Z"
   },
   {
    "duration": 11,
    "start_time": "2023-01-05T10:51:48.872Z"
   },
   {
    "duration": 7,
    "start_time": "2023-01-05T10:51:49.019Z"
   },
   {
    "duration": 10,
    "start_time": "2023-01-05T10:51:50.962Z"
   },
   {
    "duration": 109,
    "start_time": "2023-01-05T10:51:52.074Z"
   },
   {
    "duration": 9,
    "start_time": "2023-01-05T10:52:01.556Z"
   },
   {
    "duration": 39,
    "start_time": "2023-01-05T10:52:42.932Z"
   },
   {
    "duration": 26,
    "start_time": "2023-01-05T10:56:59.550Z"
   },
   {
    "duration": 4,
    "start_time": "2023-01-05T11:02:50.699Z"
   },
   {
    "duration": 23,
    "start_time": "2023-01-05T11:02:56.475Z"
   },
   {
    "duration": 26,
    "start_time": "2023-01-05T11:03:05.550Z"
   },
   {
    "duration": 27,
    "start_time": "2023-01-05T11:14:00.699Z"
   },
   {
    "duration": 4,
    "start_time": "2023-01-05T11:15:00.082Z"
   },
   {
    "duration": 25,
    "start_time": "2023-01-05T11:15:04.353Z"
   },
   {
    "duration": 3,
    "start_time": "2023-01-05T11:15:20.026Z"
   },
   {
    "duration": 4,
    "start_time": "2023-01-05T11:17:23.353Z"
   },
   {
    "duration": 10,
    "start_time": "2023-01-05T11:17:23.966Z"
   },
   {
    "duration": 6,
    "start_time": "2023-01-05T11:17:26.830Z"
   },
   {
    "duration": 10,
    "start_time": "2023-01-05T11:17:31.519Z"
   },
   {
    "duration": 26,
    "start_time": "2023-01-05T11:17:32.343Z"
   },
   {
    "duration": 5,
    "start_time": "2023-01-05T12:45:23.253Z"
   },
   {
    "duration": 3,
    "start_time": "2023-01-05T12:45:24.002Z"
   },
   {
    "duration": 16,
    "start_time": "2023-01-05T12:45:25.972Z"
   },
   {
    "duration": 6,
    "start_time": "2023-01-05T12:45:28.077Z"
   },
   {
    "duration": 112,
    "start_time": "2023-01-05T12:45:32.817Z"
   },
   {
    "duration": 11,
    "start_time": "2023-01-05T12:47:33.473Z"
   },
   {
    "duration": 6,
    "start_time": "2023-01-05T12:48:00.057Z"
   },
   {
    "duration": 11,
    "start_time": "2023-01-05T12:48:00.464Z"
   },
   {
    "duration": 6,
    "start_time": "2023-01-05T12:48:01.316Z"
   },
   {
    "duration": 15,
    "start_time": "2023-01-05T12:48:04.116Z"
   },
   {
    "duration": 32,
    "start_time": "2023-01-05T12:48:04.798Z"
   },
   {
    "duration": 53,
    "start_time": "2023-01-05T12:51:20.871Z"
   },
   {
    "duration": 26,
    "start_time": "2023-01-05T13:30:23.596Z"
   },
   {
    "duration": 89,
    "start_time": "2023-01-05T13:36:26.336Z"
   },
   {
    "duration": 70,
    "start_time": "2023-01-05T13:37:02.354Z"
   },
   {
    "duration": 4,
    "start_time": "2023-01-05T13:37:11.172Z"
   },
   {
    "duration": 135,
    "start_time": "2023-01-05T13:37:11.177Z"
   },
   {
    "duration": 13,
    "start_time": "2023-01-05T13:37:11.313Z"
   },
   {
    "duration": 42,
    "start_time": "2023-01-05T13:37:11.328Z"
   },
   {
    "duration": 38,
    "start_time": "2023-01-05T13:37:11.372Z"
   },
   {
    "duration": 38,
    "start_time": "2023-01-05T13:37:11.412Z"
   },
   {
    "duration": 32,
    "start_time": "2023-01-05T13:37:11.451Z"
   },
   {
    "duration": 28,
    "start_time": "2023-01-05T13:37:11.485Z"
   },
   {
    "duration": 109,
    "start_time": "2023-01-05T13:37:11.515Z"
   },
   {
    "duration": 17,
    "start_time": "2023-01-05T21:01:27.664Z"
   },
   {
    "duration": 116,
    "start_time": "2023-01-05T21:02:07.912Z"
   },
   {
    "duration": 33,
    "start_time": "2023-01-05T21:03:28.588Z"
   },
   {
    "duration": 11,
    "start_time": "2023-01-05T21:04:04.668Z"
   },
   {
    "duration": 18,
    "start_time": "2023-01-05T21:04:12.015Z"
   },
   {
    "duration": 6,
    "start_time": "2023-01-05T21:05:12.656Z"
   },
   {
    "duration": 5,
    "start_time": "2023-01-05T21:05:13.904Z"
   },
   {
    "duration": 6,
    "start_time": "2023-01-05T21:17:17.516Z"
   },
   {
    "duration": 6,
    "start_time": "2023-01-05T21:17:36.886Z"
   },
   {
    "duration": 69,
    "start_time": "2023-01-05T21:17:51.455Z"
   },
   {
    "duration": 5,
    "start_time": "2023-01-05T21:17:55.380Z"
   },
   {
    "duration": 7,
    "start_time": "2023-01-05T21:18:18.496Z"
   },
   {
    "duration": 7,
    "start_time": "2023-01-05T21:18:29.281Z"
   },
   {
    "duration": 34,
    "start_time": "2023-01-05T21:21:35.379Z"
   },
   {
    "duration": 14,
    "start_time": "2023-01-05T21:25:17.671Z"
   },
   {
    "duration": 11,
    "start_time": "2023-01-05T21:25:24.723Z"
   },
   {
    "duration": 18,
    "start_time": "2023-01-05T21:25:34.127Z"
   },
   {
    "duration": 13,
    "start_time": "2023-01-05T21:25:52.581Z"
   },
   {
    "duration": 33,
    "start_time": "2023-01-05T21:25:58.130Z"
   },
   {
    "duration": 40,
    "start_time": "2023-01-05T21:26:14.099Z"
   },
   {
    "duration": 14,
    "start_time": "2023-01-05T21:26:58.642Z"
   },
   {
    "duration": 15,
    "start_time": "2023-01-05T21:29:45.879Z"
   },
   {
    "duration": 23,
    "start_time": "2023-01-05T21:31:47.431Z"
   },
   {
    "duration": 9,
    "start_time": "2023-01-05T21:32:29.194Z"
   },
   {
    "duration": 7,
    "start_time": "2023-01-05T21:34:42.626Z"
   },
   {
    "duration": 9,
    "start_time": "2023-01-05T21:36:26.643Z"
   },
   {
    "duration": 4,
    "start_time": "2023-01-05T21:36:36.010Z"
   },
   {
    "duration": 3,
    "start_time": "2023-01-05T21:37:04.656Z"
   },
   {
    "duration": 4,
    "start_time": "2023-01-05T21:37:14.209Z"
   },
   {
    "duration": 4,
    "start_time": "2023-01-05T21:42:38.084Z"
   },
   {
    "duration": 81,
    "start_time": "2023-01-05T21:46:13.732Z"
   },
   {
    "duration": 68,
    "start_time": "2023-01-05T21:46:22.894Z"
   },
   {
    "duration": 8,
    "start_time": "2023-01-05T21:46:32.053Z"
   },
   {
    "duration": 130,
    "start_time": "2023-01-05T21:46:49.045Z"
   },
   {
    "duration": 20314,
    "start_time": "2023-01-05T21:46:53.190Z"
   },
   {
    "duration": 92,
    "start_time": "2023-01-05T21:47:29.683Z"
   },
   {
    "duration": 21500,
    "start_time": "2023-01-05T21:47:56.496Z"
   },
   {
    "duration": 607,
    "start_time": "2023-01-05T21:49:20.915Z"
   },
   {
    "duration": 4,
    "start_time": "2023-01-05T21:54:55.368Z"
   },
   {
    "duration": 209,
    "start_time": "2023-01-05T21:55:35.878Z"
   },
   {
    "duration": 154,
    "start_time": "2023-01-05T22:20:32.385Z"
   },
   {
    "duration": 191,
    "start_time": "2023-01-05T22:22:04.113Z"
   },
   {
    "duration": 163,
    "start_time": "2023-01-05T22:24:45.480Z"
   },
   {
    "duration": 188,
    "start_time": "2023-01-05T22:25:43.031Z"
   },
   {
    "duration": 71,
    "start_time": "2023-01-05T22:25:59.801Z"
   },
   {
    "duration": 73,
    "start_time": "2023-01-05T22:28:05.055Z"
   },
   {
    "duration": 282,
    "start_time": "2023-01-05T22:28:14.222Z"
   },
   {
    "duration": 292,
    "start_time": "2023-01-05T22:28:56.641Z"
   },
   {
    "duration": 291,
    "start_time": "2023-01-05T22:29:48.731Z"
   },
   {
    "duration": 329,
    "start_time": "2023-01-05T22:29:54.013Z"
   },
   {
    "duration": 289,
    "start_time": "2023-01-05T22:30:08.389Z"
   },
   {
    "duration": 294,
    "start_time": "2023-01-05T22:30:51.665Z"
   },
   {
    "duration": 270,
    "start_time": "2023-01-05T22:31:13.197Z"
   },
   {
    "duration": 283,
    "start_time": "2023-01-05T22:31:41.230Z"
   },
   {
    "duration": 272,
    "start_time": "2023-01-05T22:33:14.393Z"
   },
   {
    "duration": 3,
    "start_time": "2023-01-05T22:33:55.293Z"
   },
   {
    "duration": 275,
    "start_time": "2023-01-05T22:34:03.653Z"
   },
   {
    "duration": 283,
    "start_time": "2023-01-05T22:34:28.055Z"
   },
   {
    "duration": 352,
    "start_time": "2023-01-05T22:34:49.222Z"
   },
   {
    "duration": 303,
    "start_time": "2023-01-05T22:35:00.943Z"
   },
   {
    "duration": 298,
    "start_time": "2023-01-05T22:35:03.925Z"
   },
   {
    "duration": 284,
    "start_time": "2023-01-05T22:35:08.495Z"
   },
   {
    "duration": 256,
    "start_time": "2023-01-05T22:35:27.751Z"
   },
   {
    "duration": 409,
    "start_time": "2023-01-05T22:35:58.897Z"
   },
   {
    "duration": 388,
    "start_time": "2023-01-05T22:36:04.591Z"
   },
   {
    "duration": 292,
    "start_time": "2023-01-05T22:36:16.579Z"
   },
   {
    "duration": 293,
    "start_time": "2023-01-05T22:36:19.463Z"
   },
   {
    "duration": 300,
    "start_time": "2023-01-05T22:36:29.574Z"
   },
   {
    "duration": 304,
    "start_time": "2023-01-05T22:36:31.360Z"
   },
   {
    "duration": 305,
    "start_time": "2023-01-05T22:36:37.409Z"
   },
   {
    "duration": 281,
    "start_time": "2023-01-05T22:36:46.985Z"
   },
   {
    "duration": 301,
    "start_time": "2023-01-05T22:36:51.145Z"
   },
   {
    "duration": 387,
    "start_time": "2023-01-05T22:36:56.855Z"
   },
   {
    "duration": 571,
    "start_time": "2023-01-05T22:37:23.079Z"
   },
   {
    "duration": 9023,
    "start_time": "2023-01-06T06:27:24.718Z"
   },
   {
    "duration": 8897,
    "start_time": "2023-01-06T06:31:21.806Z"
   },
   {
    "duration": 12,
    "start_time": "2023-01-06T06:36:28.627Z"
   },
   {
    "duration": 8,
    "start_time": "2023-01-06T06:36:34.757Z"
   },
   {
    "duration": 70343,
    "start_time": "2023-01-06T06:36:40.212Z"
   },
   {
    "duration": 9208,
    "start_time": "2023-01-06T06:38:17.013Z"
   },
   {
    "duration": 313,
    "start_time": "2023-01-06T06:45:05.482Z"
   },
   {
    "duration": 2055,
    "start_time": "2023-01-06T09:28:01.911Z"
   },
   {
    "duration": 125,
    "start_time": "2023-01-06T09:28:03.968Z"
   },
   {
    "duration": 19,
    "start_time": "2023-01-06T09:28:04.096Z"
   },
   {
    "duration": 99,
    "start_time": "2023-01-06T09:28:04.118Z"
   },
   {
    "duration": 35,
    "start_time": "2023-01-06T09:28:04.225Z"
   },
   {
    "duration": 24,
    "start_time": "2023-01-06T09:28:04.268Z"
   },
   {
    "duration": 11,
    "start_time": "2023-01-06T09:28:04.294Z"
   },
   {
    "duration": 45,
    "start_time": "2023-01-06T09:28:04.307Z"
   },
   {
    "duration": 128,
    "start_time": "2023-01-06T09:28:04.354Z"
   },
   {
    "duration": 197,
    "start_time": "2023-01-06T09:28:04.542Z"
   },
   {
    "duration": 44,
    "start_time": "2023-01-06T09:28:04.753Z"
   },
   {
    "duration": 20,
    "start_time": "2023-01-06T09:28:04.800Z"
   },
   {
    "duration": 33,
    "start_time": "2023-01-06T09:28:04.822Z"
   },
   {
    "duration": 41,
    "start_time": "2023-01-06T09:28:04.856Z"
   },
   {
    "duration": 19,
    "start_time": "2023-01-06T09:28:04.898Z"
   },
   {
    "duration": 83,
    "start_time": "2023-01-06T09:28:04.920Z"
   },
   {
    "duration": 276,
    "start_time": "2023-01-06T09:28:05.005Z"
   },
   {
    "duration": 490,
    "start_time": "2023-01-06T09:28:05.283Z"
   },
   {
    "duration": 1099,
    "start_time": "2023-01-06T09:28:05.779Z"
   },
   {
    "duration": 14030,
    "start_time": "2023-01-06T09:28:06.880Z"
   },
   {
    "duration": 43,
    "start_time": "2023-01-06T09:28:20.923Z"
   },
   {
    "duration": 32,
    "start_time": "2023-01-06T09:28:20.971Z"
   },
   {
    "duration": 67,
    "start_time": "2023-01-06T09:28:21.005Z"
   },
   {
    "duration": 16,
    "start_time": "2023-01-06T09:28:21.073Z"
   },
   {
    "duration": 18,
    "start_time": "2023-01-06T09:28:21.091Z"
   },
   {
    "duration": 71,
    "start_time": "2023-01-06T09:48:40.547Z"
   },
   {
    "duration": 100,
    "start_time": "2023-01-06T09:55:31.391Z"
   },
   {
    "duration": 6,
    "start_time": "2023-01-06T10:15:22.685Z"
   },
   {
    "duration": 105,
    "start_time": "2023-01-06T10:15:22.694Z"
   },
   {
    "duration": 14,
    "start_time": "2023-01-06T10:15:22.801Z"
   },
   {
    "duration": 39,
    "start_time": "2023-01-06T10:15:22.818Z"
   },
   {
    "duration": 8,
    "start_time": "2023-01-06T10:15:22.860Z"
   },
   {
    "duration": 15,
    "start_time": "2023-01-06T10:15:22.869Z"
   },
   {
    "duration": 13,
    "start_time": "2023-01-06T10:15:22.887Z"
   },
   {
    "duration": 16,
    "start_time": "2023-01-06T10:15:22.902Z"
   },
   {
    "duration": 223,
    "start_time": "2023-01-06T10:15:22.920Z"
   },
   {
    "duration": 297,
    "start_time": "2023-01-06T10:15:23.150Z"
   },
   {
    "duration": 77,
    "start_time": "2023-01-06T10:15:23.459Z"
   },
   {
    "duration": 20,
    "start_time": "2023-01-06T10:15:23.541Z"
   },
   {
    "duration": 21,
    "start_time": "2023-01-06T10:15:23.563Z"
   },
   {
    "duration": 12,
    "start_time": "2023-01-06T10:15:23.586Z"
   },
   {
    "duration": 17,
    "start_time": "2023-01-06T10:15:23.600Z"
   },
   {
    "duration": 19,
    "start_time": "2023-01-06T10:15:23.620Z"
   },
   {
    "duration": 192,
    "start_time": "2023-01-06T10:15:23.640Z"
   },
   {
    "duration": 459,
    "start_time": "2023-01-06T10:15:23.834Z"
   },
   {
    "duration": 793,
    "start_time": "2023-01-06T10:15:24.296Z"
   },
   {
    "duration": 11505,
    "start_time": "2023-01-06T10:15:25.091Z"
   },
   {
    "duration": 43,
    "start_time": "2023-01-06T10:15:36.598Z"
   },
   {
    "duration": 50,
    "start_time": "2023-01-06T10:15:36.647Z"
   },
   {
    "duration": 73,
    "start_time": "2023-01-06T10:15:36.699Z"
   },
   {
    "duration": 7,
    "start_time": "2023-01-06T10:15:36.774Z"
   },
   {
    "duration": 41,
    "start_time": "2023-01-06T10:43:43.650Z"
   },
   {
    "duration": 752,
    "start_time": "2023-01-06T11:14:05.846Z"
   },
   {
    "duration": 697,
    "start_time": "2023-01-06T11:16:26.911Z"
   },
   {
    "duration": 767,
    "start_time": "2023-01-06T11:24:00.364Z"
   },
   {
    "duration": 760,
    "start_time": "2023-01-06T11:24:31.277Z"
   },
   {
    "duration": 128,
    "start_time": "2023-01-06T11:29:41.369Z"
   },
   {
    "duration": 22,
    "start_time": "2023-01-06T11:33:18.449Z"
   },
   {
    "duration": 27,
    "start_time": "2023-01-06T11:34:11.212Z"
   },
   {
    "duration": 793,
    "start_time": "2023-01-06T11:34:29.392Z"
   },
   {
    "duration": 35,
    "start_time": "2023-01-06T11:35:24.417Z"
   },
   {
    "duration": 50,
    "start_time": "2023-01-06T11:35:33.616Z"
   },
   {
    "duration": 232,
    "start_time": "2023-01-06T11:37:04.550Z"
   },
   {
    "duration": 169,
    "start_time": "2023-01-06T11:37:28.207Z"
   },
   {
    "duration": 255,
    "start_time": "2023-01-06T11:39:48.988Z"
   },
   {
    "duration": 217,
    "start_time": "2023-01-06T11:39:58.856Z"
   },
   {
    "duration": 18,
    "start_time": "2023-01-06T11:41:47.184Z"
   },
   {
    "duration": 11,
    "start_time": "2023-01-06T11:41:58.143Z"
   },
   {
    "duration": 195,
    "start_time": "2023-01-06T11:44:03.474Z"
   },
   {
    "duration": 187,
    "start_time": "2023-01-06T11:44:09.865Z"
   },
   {
    "duration": 185,
    "start_time": "2023-01-06T11:44:18.245Z"
   },
   {
    "duration": 1736,
    "start_time": "2023-01-06T11:44:29.100Z"
   },
   {
    "duration": 136,
    "start_time": "2023-01-06T11:44:30.841Z"
   },
   {
    "duration": 23,
    "start_time": "2023-01-06T11:44:30.980Z"
   },
   {
    "duration": 15,
    "start_time": "2023-01-06T11:44:31.006Z"
   },
   {
    "duration": 40,
    "start_time": "2023-01-06T11:44:31.023Z"
   },
   {
    "duration": 20,
    "start_time": "2023-01-06T11:44:31.065Z"
   },
   {
    "duration": 33,
    "start_time": "2023-01-06T11:44:31.087Z"
   },
   {
    "duration": 55,
    "start_time": "2023-01-06T11:44:31.121Z"
   },
   {
    "duration": 74,
    "start_time": "2023-01-06T11:44:31.178Z"
   },
   {
    "duration": 109,
    "start_time": "2023-01-06T11:44:31.256Z"
   },
   {
    "duration": 114,
    "start_time": "2023-01-06T11:44:31.421Z"
   },
   {
    "duration": 38,
    "start_time": "2023-01-06T11:44:31.538Z"
   },
   {
    "duration": 14,
    "start_time": "2023-01-06T11:44:31.578Z"
   },
   {
    "duration": 76,
    "start_time": "2023-01-06T11:44:31.595Z"
   },
   {
    "duration": 52,
    "start_time": "2023-01-06T11:44:31.673Z"
   },
   {
    "duration": 40,
    "start_time": "2023-01-06T11:44:31.730Z"
   },
   {
    "duration": 187,
    "start_time": "2023-01-06T11:44:31.771Z"
   },
   {
    "duration": 376,
    "start_time": "2023-01-06T11:44:31.964Z"
   },
   {
    "duration": 879,
    "start_time": "2023-01-06T11:44:32.341Z"
   },
   {
    "duration": 491,
    "start_time": "2023-01-06T11:44:33.221Z"
   },
   {
    "duration": 0,
    "start_time": "2023-01-06T11:44:33.714Z"
   },
   {
    "duration": 0,
    "start_time": "2023-01-06T11:44:33.716Z"
   },
   {
    "duration": 0,
    "start_time": "2023-01-06T11:44:33.729Z"
   },
   {
    "duration": 0,
    "start_time": "2023-01-06T11:44:33.730Z"
   },
   {
    "duration": 0,
    "start_time": "2023-01-06T11:44:33.731Z"
   },
   {
    "duration": 0,
    "start_time": "2023-01-06T11:44:33.732Z"
   },
   {
    "duration": 31,
    "start_time": "2023-01-06T11:45:34.049Z"
   },
   {
    "duration": 8,
    "start_time": "2023-01-06T11:45:48.091Z"
   },
   {
    "duration": 774,
    "start_time": "2023-01-06T11:46:40.204Z"
   },
   {
    "duration": 199,
    "start_time": "2023-01-06T11:46:42.193Z"
   },
   {
    "duration": 792,
    "start_time": "2023-01-06T11:48:17.497Z"
   },
   {
    "duration": 227,
    "start_time": "2023-01-06T11:48:21.045Z"
   },
   {
    "duration": 142,
    "start_time": "2023-01-06T11:52:13.969Z"
   },
   {
    "duration": 898,
    "start_time": "2023-01-06T12:02:27.237Z"
   },
   {
    "duration": 116,
    "start_time": "2023-01-06T12:02:33.669Z"
   },
   {
    "duration": 117,
    "start_time": "2023-01-06T12:02:44.062Z"
   },
   {
    "duration": 97,
    "start_time": "2023-01-06T12:02:51.105Z"
   },
   {
    "duration": 6,
    "start_time": "2023-01-06T12:10:17.288Z"
   },
   {
    "duration": 8,
    "start_time": "2023-01-06T12:10:46.624Z"
   },
   {
    "duration": 807,
    "start_time": "2023-01-06T12:11:05.940Z"
   },
   {
    "duration": 91,
    "start_time": "2023-01-06T12:11:11.319Z"
   },
   {
    "duration": 87,
    "start_time": "2023-01-06T12:12:03.221Z"
   },
   {
    "duration": 807,
    "start_time": "2023-01-06T12:18:05.147Z"
   },
   {
    "duration": 520,
    "start_time": "2023-01-06T12:18:32.964Z"
   },
   {
    "duration": 520,
    "start_time": "2023-01-06T12:18:41.147Z"
   },
   {
    "duration": 1683,
    "start_time": "2023-01-06T12:19:00.604Z"
   },
   {
    "duration": 78,
    "start_time": "2023-01-06T12:19:30.243Z"
   },
   {
    "duration": 1576,
    "start_time": "2023-01-06T12:19:43.376Z"
   },
   {
    "duration": 50,
    "start_time": "2023-01-06T12:19:44.954Z"
   },
   {
    "duration": 17,
    "start_time": "2023-01-06T12:19:45.006Z"
   },
   {
    "duration": 60,
    "start_time": "2023-01-06T12:19:45.026Z"
   },
   {
    "duration": 8,
    "start_time": "2023-01-06T12:19:45.088Z"
   },
   {
    "duration": 12,
    "start_time": "2023-01-06T12:19:45.098Z"
   },
   {
    "duration": 14,
    "start_time": "2023-01-06T12:19:45.112Z"
   },
   {
    "duration": 54,
    "start_time": "2023-01-06T12:19:45.128Z"
   },
   {
    "duration": 237,
    "start_time": "2023-01-06T12:19:45.185Z"
   },
   {
    "duration": 101,
    "start_time": "2023-01-06T12:19:45.429Z"
   },
   {
    "duration": 124,
    "start_time": "2023-01-06T12:19:45.543Z"
   },
   {
    "duration": 17,
    "start_time": "2023-01-06T12:19:45.669Z"
   },
   {
    "duration": 7,
    "start_time": "2023-01-06T12:19:45.689Z"
   },
   {
    "duration": 15,
    "start_time": "2023-01-06T12:19:45.698Z"
   },
   {
    "duration": 45,
    "start_time": "2023-01-06T12:19:45.716Z"
   },
   {
    "duration": 15,
    "start_time": "2023-01-06T12:19:45.763Z"
   },
   {
    "duration": 186,
    "start_time": "2023-01-06T12:19:45.780Z"
   },
   {
    "duration": 439,
    "start_time": "2023-01-06T12:19:45.968Z"
   },
   {
    "duration": 879,
    "start_time": "2023-01-06T12:19:46.409Z"
   },
   {
    "duration": 365,
    "start_time": "2023-01-06T12:19:47.290Z"
   },
   {
    "duration": 0,
    "start_time": "2023-01-06T12:19:47.657Z"
   },
   {
    "duration": 0,
    "start_time": "2023-01-06T12:19:47.662Z"
   },
   {
    "duration": 0,
    "start_time": "2023-01-06T12:19:47.663Z"
   },
   {
    "duration": 0,
    "start_time": "2023-01-06T12:19:47.666Z"
   },
   {
    "duration": 0,
    "start_time": "2023-01-06T12:19:47.667Z"
   },
   {
    "duration": 0,
    "start_time": "2023-01-06T12:19:47.669Z"
   },
   {
    "duration": 0,
    "start_time": "2023-01-06T12:19:47.670Z"
   },
   {
    "duration": 103,
    "start_time": "2023-01-06T12:21:14.959Z"
   },
   {
    "duration": 507,
    "start_time": "2023-01-06T12:21:53.104Z"
   },
   {
    "duration": 18880,
    "start_time": "2023-01-06T12:22:09.622Z"
   },
   {
    "duration": 1220,
    "start_time": "2023-01-06T12:22:31.565Z"
   },
   {
    "duration": 28541,
    "start_time": "2023-01-06T12:22:43.104Z"
   },
   {
    "duration": 95,
    "start_time": "2023-01-06T12:23:21.457Z"
   },
   {
    "duration": 837,
    "start_time": "2023-01-06T12:25:14.086Z"
   },
   {
    "duration": 14,
    "start_time": "2023-01-06T12:30:11.875Z"
   },
   {
    "duration": 25,
    "start_time": "2023-01-06T12:31:29.753Z"
   },
   {
    "duration": 28,
    "start_time": "2023-01-06T12:32:43.049Z"
   },
   {
    "duration": 24,
    "start_time": "2023-01-06T12:33:04.017Z"
   },
   {
    "duration": 127,
    "start_time": "2023-01-06T12:33:35.245Z"
   },
   {
    "duration": 105,
    "start_time": "2023-01-06T12:35:05.705Z"
   },
   {
    "duration": 1087,
    "start_time": "2023-01-06T12:38:32.895Z"
   },
   {
    "duration": 837,
    "start_time": "2023-01-06T12:38:50.207Z"
   },
   {
    "duration": 908,
    "start_time": "2023-01-06T12:38:57.557Z"
   },
   {
    "duration": 1384,
    "start_time": "2023-01-06T12:39:25.992Z"
   },
   {
    "duration": 771,
    "start_time": "2023-01-06T12:43:09.415Z"
   },
   {
    "duration": 74,
    "start_time": "2023-01-06T12:44:04.149Z"
   },
   {
    "duration": 72,
    "start_time": "2023-01-06T12:44:17.654Z"
   },
   {
    "duration": 206,
    "start_time": "2023-01-06T12:44:22.950Z"
   },
   {
    "duration": 1117,
    "start_time": "2023-01-06T12:44:34.262Z"
   },
   {
    "duration": 748,
    "start_time": "2023-01-06T12:45:21.774Z"
   },
   {
    "duration": 801,
    "start_time": "2023-01-06T12:45:35.298Z"
   },
   {
    "duration": 781,
    "start_time": "2023-01-06T12:46:00.179Z"
   },
   {
    "duration": 1030,
    "start_time": "2023-01-06T12:46:21.633Z"
   },
   {
    "duration": 743,
    "start_time": "2023-01-06T12:46:30.610Z"
   },
   {
    "duration": 94,
    "start_time": "2023-01-06T12:51:28.648Z"
   },
   {
    "duration": 20,
    "start_time": "2023-01-06T12:51:36.468Z"
   },
   {
    "duration": 21,
    "start_time": "2023-01-06T12:51:48.375Z"
   },
   {
    "duration": 24,
    "start_time": "2023-01-06T12:54:46.521Z"
   },
   {
    "duration": 20,
    "start_time": "2023-01-06T12:56:28.736Z"
   },
   {
    "duration": 19,
    "start_time": "2023-01-06T12:56:36.740Z"
   },
   {
    "duration": 731,
    "start_time": "2023-01-06T12:57:26.111Z"
   },
   {
    "duration": 249,
    "start_time": "2023-01-06T13:03:43.855Z"
   },
   {
    "duration": 297,
    "start_time": "2023-01-06T13:03:58.989Z"
   },
   {
    "duration": 219,
    "start_time": "2023-01-06T13:04:12.244Z"
   },
   {
    "duration": 8,
    "start_time": "2023-01-06T13:04:24.771Z"
   },
   {
    "duration": 7,
    "start_time": "2023-01-06T13:04:51.608Z"
   },
   {
    "duration": 21,
    "start_time": "2023-01-06T13:05:03.823Z"
   },
   {
    "duration": 469,
    "start_time": "2023-01-06T13:05:44.822Z"
   },
   {
    "duration": 285,
    "start_time": "2023-01-06T13:05:58.564Z"
   },
   {
    "duration": 231,
    "start_time": "2023-01-06T13:06:07.783Z"
   },
   {
    "duration": 6,
    "start_time": "2023-01-06T13:06:58.991Z"
   },
   {
    "duration": 8,
    "start_time": "2023-01-06T13:07:02.937Z"
   },
   {
    "duration": 853,
    "start_time": "2023-01-06T13:09:17.698Z"
   },
   {
    "duration": 15,
    "start_time": "2023-01-06T13:11:41.329Z"
   },
   {
    "duration": 6218,
    "start_time": "2023-01-06T13:12:34.635Z"
   },
   {
    "duration": 3029,
    "start_time": "2023-01-06T13:14:50.528Z"
   },
   {
    "duration": 5,
    "start_time": "2023-01-06T13:15:49.067Z"
   },
   {
    "duration": 1360,
    "start_time": "2023-01-06T13:16:11.790Z"
   },
   {
    "duration": 1743,
    "start_time": "2023-01-06T13:16:51.877Z"
   },
   {
    "duration": 67,
    "start_time": "2023-01-06T13:16:53.623Z"
   },
   {
    "duration": 20,
    "start_time": "2023-01-06T13:16:53.692Z"
   },
   {
    "duration": 15,
    "start_time": "2023-01-06T13:16:53.715Z"
   },
   {
    "duration": 20,
    "start_time": "2023-01-06T13:16:53.733Z"
   },
   {
    "duration": 13,
    "start_time": "2023-01-06T13:16:53.756Z"
   },
   {
    "duration": 14,
    "start_time": "2023-01-06T13:16:53.772Z"
   },
   {
    "duration": 42,
    "start_time": "2023-01-06T13:16:53.789Z"
   },
   {
    "duration": 99,
    "start_time": "2023-01-06T13:16:53.833Z"
   },
   {
    "duration": 107,
    "start_time": "2023-01-06T13:16:53.940Z"
   },
   {
    "duration": 106,
    "start_time": "2023-01-06T13:16:54.125Z"
   },
   {
    "duration": 20,
    "start_time": "2023-01-06T13:16:54.233Z"
   },
   {
    "duration": 23,
    "start_time": "2023-01-06T13:16:54.256Z"
   },
   {
    "duration": 25,
    "start_time": "2023-01-06T13:16:54.283Z"
   },
   {
    "duration": 19,
    "start_time": "2023-01-06T13:16:54.311Z"
   },
   {
    "duration": 27,
    "start_time": "2023-01-06T13:16:54.333Z"
   },
   {
    "duration": 254,
    "start_time": "2023-01-06T13:16:54.363Z"
   },
   {
    "duration": 543,
    "start_time": "2023-01-06T13:16:54.619Z"
   },
   {
    "duration": 916,
    "start_time": "2023-01-06T13:16:55.164Z"
   },
   {
    "duration": 13441,
    "start_time": "2023-01-06T13:16:56.082Z"
   },
   {
    "duration": 29,
    "start_time": "2023-01-06T13:17:09.525Z"
   },
   {
    "duration": 102,
    "start_time": "2023-01-06T13:17:09.556Z"
   },
   {
    "duration": 97,
    "start_time": "2023-01-06T13:17:09.660Z"
   },
   {
    "duration": 10,
    "start_time": "2023-01-06T13:17:09.760Z"
   },
   {
    "duration": 12,
    "start_time": "2023-01-06T18:17:28.683Z"
   },
   {
    "duration": 1371,
    "start_time": "2023-01-21T15:53:20.524Z"
   }
  ],
  "kernelspec": {
   "display_name": "Python 3 (ipykernel)",
   "language": "python",
   "name": "python3"
  },
  "language_info": {
   "codemirror_mode": {
    "name": "ipython",
    "version": 3
   },
   "file_extension": ".py",
   "mimetype": "text/x-python",
   "name": "python",
   "nbconvert_exporter": "python",
   "pygments_lexer": "ipython3",
   "version": "3.9.12"
  },
  "toc": {
   "base_numbering": 1,
   "nav_menu": {},
   "number_sections": true,
   "sideBar": true,
   "skip_h1_title": true,
   "title_cell": "Table of Contents",
   "title_sidebar": "Contents",
   "toc_cell": false,
   "toc_position": {},
   "toc_section_display": true,
   "toc_window_display": false
  }
 },
 "nbformat": 4,
 "nbformat_minor": 2
}
