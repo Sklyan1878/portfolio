{
 "cells": [
  {
   "cell_type": "markdown",
   "metadata": {},
   "source": [
    "# Analysis of Computer Game Sales"
   ]
  },
  {
   "cell_type": "markdown",
   "metadata": {},
   "source": [
    "<b>Aim</b>\n",
    "\n",
    "To identify patterns that determine the success of a game.\n",
    "\n",
    "<b>Project stages</b>\n",
    "\n",
    "1. Opening the data file and examining the general information\n",
    "2. Data preprocessing\n",
    "3. Exploratory data analysis:\n",
    "- Analyze how many games were released in different years. Determine if data from all periods is relevant.\n",
    "- Examine the sales trends across platforms. Choose platforms with the highest total sales and plot their distributions over the years. Evaluate the typical lifespan of platforms - when new ones emerge and old ones fade.\n",
    "- Filter data for the relevant period. The primary criterion is data that can aid in predicting the 2017 sales forecast. Analyze which platforms lead in sales, and which ones are growing or declining. Choose several potentially profitable platforms.\n",
    "- Create a box plot of global game sales broken down by platform. Describe the findings.\n",
    "- Investigate the influence of user and critic reviews on sales within a popular platform. Plot a scatter diagram and compute the correlation between reviews and sales. Draw conclusions.\n",
    "- Analyze the general distribution of games by genre. Describe the characteristics of the most profitable genres. Determine if there are genres with notably high or low sales.\n",
    "4. For each region (NA, EU, JP), determine:\n",
    "- The most popular platforms (top-5). Describe the variations in sales percentages.\n",
    "- The most popular genres (top-5). Explain the differences.\n",
    "- The impact of ESRB ratings on sales in a specific region.\n",
    "5. Hypothesis testing:\n",
    "- The average user ratings of the Xbox One and PC platforms are the same\n",
    "- The average user ratings for the Action and Sports genres are different.\n",
    "6. Overall conclusion.\n",
    "\n",
    "<b>Data Description</b>\n",
    "\n",
    "- Name — game title\n",
    "- Platform — gaming platform\n",
    "- Year_of_Release — year of release\n",
    "- Genre — game genre\n",
    "- NA_sales — sales in North America (millions of copies sold)\n",
    "- EU_sales — sales in Europe (millions of copies sold)\n",
    "- JP_sales — sales in Japan (millions of copies sold)\n",
    "- Other_sales — sales in other countries (millions of copies sold)\n",
    "- Critic_Score — critics' rating (out of 100)\n",
    "- User_Score — users' rating (out of 10)\n",
    "- Rating — rating from the ESRB (Entertainment Software Rating Board). This association determines the rating of computer games and assigns them an appropriate age category."
   ]
  },
  {
   "cell_type": "markdown",
   "metadata": {},
   "source": [
    "## Opening the data file and examining general information"
   ]
  },
  {
   "cell_type": "code",
   "execution_count": 1,
   "metadata": {},
   "outputs": [],
   "source": [
    "import pandas as pd\n",
    "import numpy as np\n",
    "import matplotlib.pyplot as plt\n",
    "from scipy import stats as st\n",
    "import seaborn as sns\n",
    "import warnings\n",
    "warnings.simplefilter(\"ignore\")"
   ]
  },
  {
   "cell_type": "code",
   "execution_count": 2,
   "metadata": {},
   "outputs": [],
   "source": [
    "try:\n",
    "    data = pd.read_csv('https://code.s3.yandex.net/datasets/games.csv')\n",
    "except:\n",
    "    data = pd.read_csv('games.csv')"
   ]
  },
  {
   "cell_type": "code",
   "execution_count": 3,
   "metadata": {
    "scrolled": true
   },
   "outputs": [
    {
     "data": {
      "text/html": [
       "<div>\n",
       "<style scoped>\n",
       "    .dataframe tbody tr th:only-of-type {\n",
       "        vertical-align: middle;\n",
       "    }\n",
       "\n",
       "    .dataframe tbody tr th {\n",
       "        vertical-align: top;\n",
       "    }\n",
       "\n",
       "    .dataframe thead th {\n",
       "        text-align: right;\n",
       "    }\n",
       "</style>\n",
       "<table border=\"1\" class=\"dataframe\">\n",
       "  <thead>\n",
       "    <tr style=\"text-align: right;\">\n",
       "      <th></th>\n",
       "      <th>Name</th>\n",
       "      <th>Platform</th>\n",
       "      <th>Year_of_Release</th>\n",
       "      <th>Genre</th>\n",
       "      <th>NA_sales</th>\n",
       "      <th>EU_sales</th>\n",
       "      <th>JP_sales</th>\n",
       "      <th>Other_sales</th>\n",
       "      <th>Critic_Score</th>\n",
       "      <th>User_Score</th>\n",
       "      <th>Rating</th>\n",
       "    </tr>\n",
       "  </thead>\n",
       "  <tbody>\n",
       "    <tr>\n",
       "      <th>0</th>\n",
       "      <td>Wii Sports</td>\n",
       "      <td>Wii</td>\n",
       "      <td>2006.0</td>\n",
       "      <td>Sports</td>\n",
       "      <td>41.36</td>\n",
       "      <td>28.96</td>\n",
       "      <td>3.77</td>\n",
       "      <td>8.45</td>\n",
       "      <td>76.0</td>\n",
       "      <td>8</td>\n",
       "      <td>E</td>\n",
       "    </tr>\n",
       "    <tr>\n",
       "      <th>1</th>\n",
       "      <td>Super Mario Bros.</td>\n",
       "      <td>NES</td>\n",
       "      <td>1985.0</td>\n",
       "      <td>Platform</td>\n",
       "      <td>29.08</td>\n",
       "      <td>3.58</td>\n",
       "      <td>6.81</td>\n",
       "      <td>0.77</td>\n",
       "      <td>NaN</td>\n",
       "      <td>NaN</td>\n",
       "      <td>NaN</td>\n",
       "    </tr>\n",
       "    <tr>\n",
       "      <th>2</th>\n",
       "      <td>Mario Kart Wii</td>\n",
       "      <td>Wii</td>\n",
       "      <td>2008.0</td>\n",
       "      <td>Racing</td>\n",
       "      <td>15.68</td>\n",
       "      <td>12.76</td>\n",
       "      <td>3.79</td>\n",
       "      <td>3.29</td>\n",
       "      <td>82.0</td>\n",
       "      <td>8.3</td>\n",
       "      <td>E</td>\n",
       "    </tr>\n",
       "    <tr>\n",
       "      <th>3</th>\n",
       "      <td>Wii Sports Resort</td>\n",
       "      <td>Wii</td>\n",
       "      <td>2009.0</td>\n",
       "      <td>Sports</td>\n",
       "      <td>15.61</td>\n",
       "      <td>10.93</td>\n",
       "      <td>3.28</td>\n",
       "      <td>2.95</td>\n",
       "      <td>80.0</td>\n",
       "      <td>8</td>\n",
       "      <td>E</td>\n",
       "    </tr>\n",
       "    <tr>\n",
       "      <th>4</th>\n",
       "      <td>Pokemon Red/Pokemon Blue</td>\n",
       "      <td>GB</td>\n",
       "      <td>1996.0</td>\n",
       "      <td>Role-Playing</td>\n",
       "      <td>11.27</td>\n",
       "      <td>8.89</td>\n",
       "      <td>10.22</td>\n",
       "      <td>1.00</td>\n",
       "      <td>NaN</td>\n",
       "      <td>NaN</td>\n",
       "      <td>NaN</td>\n",
       "    </tr>\n",
       "    <tr>\n",
       "      <th>5</th>\n",
       "      <td>Tetris</td>\n",
       "      <td>GB</td>\n",
       "      <td>1989.0</td>\n",
       "      <td>Puzzle</td>\n",
       "      <td>23.20</td>\n",
       "      <td>2.26</td>\n",
       "      <td>4.22</td>\n",
       "      <td>0.58</td>\n",
       "      <td>NaN</td>\n",
       "      <td>NaN</td>\n",
       "      <td>NaN</td>\n",
       "    </tr>\n",
       "    <tr>\n",
       "      <th>6</th>\n",
       "      <td>New Super Mario Bros.</td>\n",
       "      <td>DS</td>\n",
       "      <td>2006.0</td>\n",
       "      <td>Platform</td>\n",
       "      <td>11.28</td>\n",
       "      <td>9.14</td>\n",
       "      <td>6.50</td>\n",
       "      <td>2.88</td>\n",
       "      <td>89.0</td>\n",
       "      <td>8.5</td>\n",
       "      <td>E</td>\n",
       "    </tr>\n",
       "    <tr>\n",
       "      <th>7</th>\n",
       "      <td>Wii Play</td>\n",
       "      <td>Wii</td>\n",
       "      <td>2006.0</td>\n",
       "      <td>Misc</td>\n",
       "      <td>13.96</td>\n",
       "      <td>9.18</td>\n",
       "      <td>2.93</td>\n",
       "      <td>2.84</td>\n",
       "      <td>58.0</td>\n",
       "      <td>6.6</td>\n",
       "      <td>E</td>\n",
       "    </tr>\n",
       "    <tr>\n",
       "      <th>8</th>\n",
       "      <td>New Super Mario Bros. Wii</td>\n",
       "      <td>Wii</td>\n",
       "      <td>2009.0</td>\n",
       "      <td>Platform</td>\n",
       "      <td>14.44</td>\n",
       "      <td>6.94</td>\n",
       "      <td>4.70</td>\n",
       "      <td>2.24</td>\n",
       "      <td>87.0</td>\n",
       "      <td>8.4</td>\n",
       "      <td>E</td>\n",
       "    </tr>\n",
       "    <tr>\n",
       "      <th>9</th>\n",
       "      <td>Duck Hunt</td>\n",
       "      <td>NES</td>\n",
       "      <td>1984.0</td>\n",
       "      <td>Shooter</td>\n",
       "      <td>26.93</td>\n",
       "      <td>0.63</td>\n",
       "      <td>0.28</td>\n",
       "      <td>0.47</td>\n",
       "      <td>NaN</td>\n",
       "      <td>NaN</td>\n",
       "      <td>NaN</td>\n",
       "    </tr>\n",
       "    <tr>\n",
       "      <th>10</th>\n",
       "      <td>Nintendogs</td>\n",
       "      <td>DS</td>\n",
       "      <td>2005.0</td>\n",
       "      <td>Simulation</td>\n",
       "      <td>9.05</td>\n",
       "      <td>10.95</td>\n",
       "      <td>1.93</td>\n",
       "      <td>2.74</td>\n",
       "      <td>NaN</td>\n",
       "      <td>NaN</td>\n",
       "      <td>NaN</td>\n",
       "    </tr>\n",
       "    <tr>\n",
       "      <th>11</th>\n",
       "      <td>Mario Kart DS</td>\n",
       "      <td>DS</td>\n",
       "      <td>2005.0</td>\n",
       "      <td>Racing</td>\n",
       "      <td>9.71</td>\n",
       "      <td>7.47</td>\n",
       "      <td>4.13</td>\n",
       "      <td>1.90</td>\n",
       "      <td>91.0</td>\n",
       "      <td>8.6</td>\n",
       "      <td>E</td>\n",
       "    </tr>\n",
       "    <tr>\n",
       "      <th>12</th>\n",
       "      <td>Pokemon Gold/Pokemon Silver</td>\n",
       "      <td>GB</td>\n",
       "      <td>1999.0</td>\n",
       "      <td>Role-Playing</td>\n",
       "      <td>9.00</td>\n",
       "      <td>6.18</td>\n",
       "      <td>7.20</td>\n",
       "      <td>0.71</td>\n",
       "      <td>NaN</td>\n",
       "      <td>NaN</td>\n",
       "      <td>NaN</td>\n",
       "    </tr>\n",
       "    <tr>\n",
       "      <th>13</th>\n",
       "      <td>Wii Fit</td>\n",
       "      <td>Wii</td>\n",
       "      <td>2007.0</td>\n",
       "      <td>Sports</td>\n",
       "      <td>8.92</td>\n",
       "      <td>8.03</td>\n",
       "      <td>3.60</td>\n",
       "      <td>2.15</td>\n",
       "      <td>80.0</td>\n",
       "      <td>7.7</td>\n",
       "      <td>E</td>\n",
       "    </tr>\n",
       "    <tr>\n",
       "      <th>14</th>\n",
       "      <td>Kinect Adventures!</td>\n",
       "      <td>X360</td>\n",
       "      <td>2010.0</td>\n",
       "      <td>Misc</td>\n",
       "      <td>15.00</td>\n",
       "      <td>4.89</td>\n",
       "      <td>0.24</td>\n",
       "      <td>1.69</td>\n",
       "      <td>61.0</td>\n",
       "      <td>6.3</td>\n",
       "      <td>E</td>\n",
       "    </tr>\n",
       "    <tr>\n",
       "      <th>15</th>\n",
       "      <td>Wii Fit Plus</td>\n",
       "      <td>Wii</td>\n",
       "      <td>2009.0</td>\n",
       "      <td>Sports</td>\n",
       "      <td>9.01</td>\n",
       "      <td>8.49</td>\n",
       "      <td>2.53</td>\n",
       "      <td>1.77</td>\n",
       "      <td>80.0</td>\n",
       "      <td>7.4</td>\n",
       "      <td>E</td>\n",
       "    </tr>\n",
       "    <tr>\n",
       "      <th>16</th>\n",
       "      <td>Grand Theft Auto V</td>\n",
       "      <td>PS3</td>\n",
       "      <td>2013.0</td>\n",
       "      <td>Action</td>\n",
       "      <td>7.02</td>\n",
       "      <td>9.09</td>\n",
       "      <td>0.98</td>\n",
       "      <td>3.96</td>\n",
       "      <td>97.0</td>\n",
       "      <td>8.2</td>\n",
       "      <td>M</td>\n",
       "    </tr>\n",
       "    <tr>\n",
       "      <th>17</th>\n",
       "      <td>Grand Theft Auto: San Andreas</td>\n",
       "      <td>PS2</td>\n",
       "      <td>2004.0</td>\n",
       "      <td>Action</td>\n",
       "      <td>9.43</td>\n",
       "      <td>0.40</td>\n",
       "      <td>0.41</td>\n",
       "      <td>10.57</td>\n",
       "      <td>95.0</td>\n",
       "      <td>9</td>\n",
       "      <td>M</td>\n",
       "    </tr>\n",
       "    <tr>\n",
       "      <th>18</th>\n",
       "      <td>Super Mario World</td>\n",
       "      <td>SNES</td>\n",
       "      <td>1990.0</td>\n",
       "      <td>Platform</td>\n",
       "      <td>12.78</td>\n",
       "      <td>3.75</td>\n",
       "      <td>3.54</td>\n",
       "      <td>0.55</td>\n",
       "      <td>NaN</td>\n",
       "      <td>NaN</td>\n",
       "      <td>NaN</td>\n",
       "    </tr>\n",
       "    <tr>\n",
       "      <th>19</th>\n",
       "      <td>Brain Age: Train Your Brain in Minutes a Day</td>\n",
       "      <td>DS</td>\n",
       "      <td>2005.0</td>\n",
       "      <td>Misc</td>\n",
       "      <td>4.74</td>\n",
       "      <td>9.20</td>\n",
       "      <td>4.16</td>\n",
       "      <td>2.04</td>\n",
       "      <td>77.0</td>\n",
       "      <td>7.9</td>\n",
       "      <td>E</td>\n",
       "    </tr>\n",
       "    <tr>\n",
       "      <th>20</th>\n",
       "      <td>Pokemon Diamond/Pokemon Pearl</td>\n",
       "      <td>DS</td>\n",
       "      <td>2006.0</td>\n",
       "      <td>Role-Playing</td>\n",
       "      <td>6.38</td>\n",
       "      <td>4.46</td>\n",
       "      <td>6.04</td>\n",
       "      <td>1.36</td>\n",
       "      <td>NaN</td>\n",
       "      <td>NaN</td>\n",
       "      <td>NaN</td>\n",
       "    </tr>\n",
       "    <tr>\n",
       "      <th>21</th>\n",
       "      <td>Super Mario Land</td>\n",
       "      <td>GB</td>\n",
       "      <td>1989.0</td>\n",
       "      <td>Platform</td>\n",
       "      <td>10.83</td>\n",
       "      <td>2.71</td>\n",
       "      <td>4.18</td>\n",
       "      <td>0.42</td>\n",
       "      <td>NaN</td>\n",
       "      <td>NaN</td>\n",
       "      <td>NaN</td>\n",
       "    </tr>\n",
       "    <tr>\n",
       "      <th>22</th>\n",
       "      <td>Super Mario Bros. 3</td>\n",
       "      <td>NES</td>\n",
       "      <td>1988.0</td>\n",
       "      <td>Platform</td>\n",
       "      <td>9.54</td>\n",
       "      <td>3.44</td>\n",
       "      <td>3.84</td>\n",
       "      <td>0.46</td>\n",
       "      <td>NaN</td>\n",
       "      <td>NaN</td>\n",
       "      <td>NaN</td>\n",
       "    </tr>\n",
       "    <tr>\n",
       "      <th>23</th>\n",
       "      <td>Grand Theft Auto V</td>\n",
       "      <td>X360</td>\n",
       "      <td>2013.0</td>\n",
       "      <td>Action</td>\n",
       "      <td>9.66</td>\n",
       "      <td>5.14</td>\n",
       "      <td>0.06</td>\n",
       "      <td>1.41</td>\n",
       "      <td>97.0</td>\n",
       "      <td>8.1</td>\n",
       "      <td>M</td>\n",
       "    </tr>\n",
       "    <tr>\n",
       "      <th>24</th>\n",
       "      <td>Grand Theft Auto: Vice City</td>\n",
       "      <td>PS2</td>\n",
       "      <td>2002.0</td>\n",
       "      <td>Action</td>\n",
       "      <td>8.41</td>\n",
       "      <td>5.49</td>\n",
       "      <td>0.47</td>\n",
       "      <td>1.78</td>\n",
       "      <td>95.0</td>\n",
       "      <td>8.7</td>\n",
       "      <td>M</td>\n",
       "    </tr>\n",
       "    <tr>\n",
       "      <th>25</th>\n",
       "      <td>Pokemon Ruby/Pokemon Sapphire</td>\n",
       "      <td>GBA</td>\n",
       "      <td>2002.0</td>\n",
       "      <td>Role-Playing</td>\n",
       "      <td>6.06</td>\n",
       "      <td>3.90</td>\n",
       "      <td>5.38</td>\n",
       "      <td>0.50</td>\n",
       "      <td>NaN</td>\n",
       "      <td>NaN</td>\n",
       "      <td>NaN</td>\n",
       "    </tr>\n",
       "    <tr>\n",
       "      <th>26</th>\n",
       "      <td>Brain Age 2: More Training in Minutes a Day</td>\n",
       "      <td>DS</td>\n",
       "      <td>2005.0</td>\n",
       "      <td>Puzzle</td>\n",
       "      <td>3.43</td>\n",
       "      <td>5.35</td>\n",
       "      <td>5.32</td>\n",
       "      <td>1.18</td>\n",
       "      <td>77.0</td>\n",
       "      <td>7.1</td>\n",
       "      <td>E</td>\n",
       "    </tr>\n",
       "    <tr>\n",
       "      <th>27</th>\n",
       "      <td>Pokemon Black/Pokemon White</td>\n",
       "      <td>DS</td>\n",
       "      <td>2010.0</td>\n",
       "      <td>Role-Playing</td>\n",
       "      <td>5.51</td>\n",
       "      <td>3.17</td>\n",
       "      <td>5.65</td>\n",
       "      <td>0.80</td>\n",
       "      <td>NaN</td>\n",
       "      <td>NaN</td>\n",
       "      <td>NaN</td>\n",
       "    </tr>\n",
       "    <tr>\n",
       "      <th>28</th>\n",
       "      <td>Gran Turismo 3: A-Spec</td>\n",
       "      <td>PS2</td>\n",
       "      <td>2001.0</td>\n",
       "      <td>Racing</td>\n",
       "      <td>6.85</td>\n",
       "      <td>5.09</td>\n",
       "      <td>1.87</td>\n",
       "      <td>1.16</td>\n",
       "      <td>95.0</td>\n",
       "      <td>8.4</td>\n",
       "      <td>E</td>\n",
       "    </tr>\n",
       "    <tr>\n",
       "      <th>29</th>\n",
       "      <td>Call of Duty: Modern Warfare 3</td>\n",
       "      <td>X360</td>\n",
       "      <td>2011.0</td>\n",
       "      <td>Shooter</td>\n",
       "      <td>9.04</td>\n",
       "      <td>4.24</td>\n",
       "      <td>0.13</td>\n",
       "      <td>1.32</td>\n",
       "      <td>88.0</td>\n",
       "      <td>3.4</td>\n",
       "      <td>M</td>\n",
       "    </tr>\n",
       "    <tr>\n",
       "      <th>30</th>\n",
       "      <td>Pokémon Yellow: Special Pikachu Edition</td>\n",
       "      <td>GB</td>\n",
       "      <td>1998.0</td>\n",
       "      <td>Role-Playing</td>\n",
       "      <td>5.89</td>\n",
       "      <td>5.04</td>\n",
       "      <td>3.12</td>\n",
       "      <td>0.59</td>\n",
       "      <td>NaN</td>\n",
       "      <td>NaN</td>\n",
       "      <td>NaN</td>\n",
       "    </tr>\n",
       "    <tr>\n",
       "      <th>31</th>\n",
       "      <td>Call of Duty: Black Ops 3</td>\n",
       "      <td>PS4</td>\n",
       "      <td>2015.0</td>\n",
       "      <td>Shooter</td>\n",
       "      <td>6.03</td>\n",
       "      <td>5.86</td>\n",
       "      <td>0.36</td>\n",
       "      <td>2.38</td>\n",
       "      <td>NaN</td>\n",
       "      <td>NaN</td>\n",
       "      <td>NaN</td>\n",
       "    </tr>\n",
       "    <tr>\n",
       "      <th>32</th>\n",
       "      <td>Call of Duty: Black Ops</td>\n",
       "      <td>X360</td>\n",
       "      <td>2010.0</td>\n",
       "      <td>Shooter</td>\n",
       "      <td>9.70</td>\n",
       "      <td>3.68</td>\n",
       "      <td>0.11</td>\n",
       "      <td>1.13</td>\n",
       "      <td>87.0</td>\n",
       "      <td>6.3</td>\n",
       "      <td>M</td>\n",
       "    </tr>\n",
       "    <tr>\n",
       "      <th>33</th>\n",
       "      <td>Pokemon X/Pokemon Y</td>\n",
       "      <td>3DS</td>\n",
       "      <td>2013.0</td>\n",
       "      <td>Role-Playing</td>\n",
       "      <td>5.28</td>\n",
       "      <td>4.19</td>\n",
       "      <td>4.35</td>\n",
       "      <td>0.78</td>\n",
       "      <td>NaN</td>\n",
       "      <td>NaN</td>\n",
       "      <td>NaN</td>\n",
       "    </tr>\n",
       "    <tr>\n",
       "      <th>34</th>\n",
       "      <td>Call of Duty: Black Ops II</td>\n",
       "      <td>PS3</td>\n",
       "      <td>2012.0</td>\n",
       "      <td>Shooter</td>\n",
       "      <td>4.99</td>\n",
       "      <td>5.73</td>\n",
       "      <td>0.65</td>\n",
       "      <td>2.42</td>\n",
       "      <td>83.0</td>\n",
       "      <td>5.3</td>\n",
       "      <td>M</td>\n",
       "    </tr>\n",
       "    <tr>\n",
       "      <th>35</th>\n",
       "      <td>Call of Duty: Black Ops II</td>\n",
       "      <td>X360</td>\n",
       "      <td>2012.0</td>\n",
       "      <td>Shooter</td>\n",
       "      <td>8.25</td>\n",
       "      <td>4.24</td>\n",
       "      <td>0.07</td>\n",
       "      <td>1.12</td>\n",
       "      <td>83.0</td>\n",
       "      <td>4.8</td>\n",
       "      <td>M</td>\n",
       "    </tr>\n",
       "    <tr>\n",
       "      <th>36</th>\n",
       "      <td>Call of Duty: Modern Warfare 2</td>\n",
       "      <td>X360</td>\n",
       "      <td>2009.0</td>\n",
       "      <td>Shooter</td>\n",
       "      <td>8.52</td>\n",
       "      <td>3.59</td>\n",
       "      <td>0.08</td>\n",
       "      <td>1.28</td>\n",
       "      <td>94.0</td>\n",
       "      <td>6.3</td>\n",
       "      <td>M</td>\n",
       "    </tr>\n",
       "    <tr>\n",
       "      <th>37</th>\n",
       "      <td>Call of Duty: Modern Warfare 3</td>\n",
       "      <td>PS3</td>\n",
       "      <td>2011.0</td>\n",
       "      <td>Shooter</td>\n",
       "      <td>5.54</td>\n",
       "      <td>5.73</td>\n",
       "      <td>0.49</td>\n",
       "      <td>1.57</td>\n",
       "      <td>88.0</td>\n",
       "      <td>3.2</td>\n",
       "      <td>M</td>\n",
       "    </tr>\n",
       "    <tr>\n",
       "      <th>38</th>\n",
       "      <td>Grand Theft Auto III</td>\n",
       "      <td>PS2</td>\n",
       "      <td>2001.0</td>\n",
       "      <td>Action</td>\n",
       "      <td>6.99</td>\n",
       "      <td>4.51</td>\n",
       "      <td>0.30</td>\n",
       "      <td>1.30</td>\n",
       "      <td>97.0</td>\n",
       "      <td>8.5</td>\n",
       "      <td>M</td>\n",
       "    </tr>\n",
       "    <tr>\n",
       "      <th>39</th>\n",
       "      <td>Super Smash Bros. Brawl</td>\n",
       "      <td>Wii</td>\n",
       "      <td>2008.0</td>\n",
       "      <td>Fighting</td>\n",
       "      <td>6.62</td>\n",
       "      <td>2.55</td>\n",
       "      <td>2.66</td>\n",
       "      <td>1.01</td>\n",
       "      <td>93.0</td>\n",
       "      <td>8.9</td>\n",
       "      <td>T</td>\n",
       "    </tr>\n",
       "    <tr>\n",
       "      <th>40</th>\n",
       "      <td>Mario Kart 7</td>\n",
       "      <td>3DS</td>\n",
       "      <td>2011.0</td>\n",
       "      <td>Racing</td>\n",
       "      <td>5.03</td>\n",
       "      <td>4.02</td>\n",
       "      <td>2.69</td>\n",
       "      <td>0.91</td>\n",
       "      <td>85.0</td>\n",
       "      <td>8.2</td>\n",
       "      <td>E</td>\n",
       "    </tr>\n",
       "    <tr>\n",
       "      <th>41</th>\n",
       "      <td>Call of Duty: Black Ops</td>\n",
       "      <td>PS3</td>\n",
       "      <td>2010.0</td>\n",
       "      <td>Shooter</td>\n",
       "      <td>5.99</td>\n",
       "      <td>4.37</td>\n",
       "      <td>0.48</td>\n",
       "      <td>1.79</td>\n",
       "      <td>88.0</td>\n",
       "      <td>6.4</td>\n",
       "      <td>M</td>\n",
       "    </tr>\n",
       "    <tr>\n",
       "      <th>42</th>\n",
       "      <td>Grand Theft Auto V</td>\n",
       "      <td>PS4</td>\n",
       "      <td>2014.0</td>\n",
       "      <td>Action</td>\n",
       "      <td>3.96</td>\n",
       "      <td>6.31</td>\n",
       "      <td>0.38</td>\n",
       "      <td>1.97</td>\n",
       "      <td>97.0</td>\n",
       "      <td>8.3</td>\n",
       "      <td>M</td>\n",
       "    </tr>\n",
       "    <tr>\n",
       "      <th>43</th>\n",
       "      <td>Animal Crossing: Wild World</td>\n",
       "      <td>DS</td>\n",
       "      <td>2005.0</td>\n",
       "      <td>Simulation</td>\n",
       "      <td>2.50</td>\n",
       "      <td>3.45</td>\n",
       "      <td>5.33</td>\n",
       "      <td>0.86</td>\n",
       "      <td>86.0</td>\n",
       "      <td>8.7</td>\n",
       "      <td>E</td>\n",
       "    </tr>\n",
       "    <tr>\n",
       "      <th>44</th>\n",
       "      <td>Halo 3</td>\n",
       "      <td>X360</td>\n",
       "      <td>2007.0</td>\n",
       "      <td>Shooter</td>\n",
       "      <td>7.97</td>\n",
       "      <td>2.81</td>\n",
       "      <td>0.13</td>\n",
       "      <td>1.21</td>\n",
       "      <td>94.0</td>\n",
       "      <td>7.8</td>\n",
       "      <td>M</td>\n",
       "    </tr>\n",
       "    <tr>\n",
       "      <th>45</th>\n",
       "      <td>Super Mario 64</td>\n",
       "      <td>N64</td>\n",
       "      <td>1996.0</td>\n",
       "      <td>Platform</td>\n",
       "      <td>6.91</td>\n",
       "      <td>2.85</td>\n",
       "      <td>1.91</td>\n",
       "      <td>0.23</td>\n",
       "      <td>NaN</td>\n",
       "      <td>NaN</td>\n",
       "      <td>NaN</td>\n",
       "    </tr>\n",
       "    <tr>\n",
       "      <th>46</th>\n",
       "      <td>Pokemon HeartGold/Pokemon SoulSilver</td>\n",
       "      <td>DS</td>\n",
       "      <td>2009.0</td>\n",
       "      <td>Action</td>\n",
       "      <td>4.34</td>\n",
       "      <td>2.71</td>\n",
       "      <td>3.96</td>\n",
       "      <td>0.76</td>\n",
       "      <td>NaN</td>\n",
       "      <td>NaN</td>\n",
       "      <td>NaN</td>\n",
       "    </tr>\n",
       "    <tr>\n",
       "      <th>47</th>\n",
       "      <td>Pokemon Omega Ruby/Pokemon Alpha Sapphire</td>\n",
       "      <td>3DS</td>\n",
       "      <td>2014.0</td>\n",
       "      <td>Role-Playing</td>\n",
       "      <td>4.35</td>\n",
       "      <td>3.49</td>\n",
       "      <td>3.10</td>\n",
       "      <td>0.74</td>\n",
       "      <td>NaN</td>\n",
       "      <td>NaN</td>\n",
       "      <td>NaN</td>\n",
       "    </tr>\n",
       "    <tr>\n",
       "      <th>48</th>\n",
       "      <td>Gran Turismo 4</td>\n",
       "      <td>PS2</td>\n",
       "      <td>2004.0</td>\n",
       "      <td>Racing</td>\n",
       "      <td>3.01</td>\n",
       "      <td>0.01</td>\n",
       "      <td>1.10</td>\n",
       "      <td>7.53</td>\n",
       "      <td>89.0</td>\n",
       "      <td>8.5</td>\n",
       "      <td>E</td>\n",
       "    </tr>\n",
       "    <tr>\n",
       "      <th>49</th>\n",
       "      <td>Super Mario Galaxy</td>\n",
       "      <td>Wii</td>\n",
       "      <td>2007.0</td>\n",
       "      <td>Platform</td>\n",
       "      <td>6.06</td>\n",
       "      <td>3.35</td>\n",
       "      <td>1.20</td>\n",
       "      <td>0.74</td>\n",
       "      <td>97.0</td>\n",
       "      <td>8.9</td>\n",
       "      <td>E</td>\n",
       "    </tr>\n",
       "  </tbody>\n",
       "</table>\n",
       "</div>"
      ],
      "text/plain": [
       "                                            Name Platform  Year_of_Release  \\\n",
       "0                                     Wii Sports      Wii           2006.0   \n",
       "1                              Super Mario Bros.      NES           1985.0   \n",
       "2                                 Mario Kart Wii      Wii           2008.0   \n",
       "3                              Wii Sports Resort      Wii           2009.0   \n",
       "4                       Pokemon Red/Pokemon Blue       GB           1996.0   \n",
       "5                                         Tetris       GB           1989.0   \n",
       "6                          New Super Mario Bros.       DS           2006.0   \n",
       "7                                       Wii Play      Wii           2006.0   \n",
       "8                      New Super Mario Bros. Wii      Wii           2009.0   \n",
       "9                                      Duck Hunt      NES           1984.0   \n",
       "10                                    Nintendogs       DS           2005.0   \n",
       "11                                 Mario Kart DS       DS           2005.0   \n",
       "12                   Pokemon Gold/Pokemon Silver       GB           1999.0   \n",
       "13                                       Wii Fit      Wii           2007.0   \n",
       "14                            Kinect Adventures!     X360           2010.0   \n",
       "15                                  Wii Fit Plus      Wii           2009.0   \n",
       "16                            Grand Theft Auto V      PS3           2013.0   \n",
       "17                 Grand Theft Auto: San Andreas      PS2           2004.0   \n",
       "18                             Super Mario World     SNES           1990.0   \n",
       "19  Brain Age: Train Your Brain in Minutes a Day       DS           2005.0   \n",
       "20                 Pokemon Diamond/Pokemon Pearl       DS           2006.0   \n",
       "21                              Super Mario Land       GB           1989.0   \n",
       "22                           Super Mario Bros. 3      NES           1988.0   \n",
       "23                            Grand Theft Auto V     X360           2013.0   \n",
       "24                   Grand Theft Auto: Vice City      PS2           2002.0   \n",
       "25                 Pokemon Ruby/Pokemon Sapphire      GBA           2002.0   \n",
       "26   Brain Age 2: More Training in Minutes a Day       DS           2005.0   \n",
       "27                   Pokemon Black/Pokemon White       DS           2010.0   \n",
       "28                        Gran Turismo 3: A-Spec      PS2           2001.0   \n",
       "29                Call of Duty: Modern Warfare 3     X360           2011.0   \n",
       "30       Pokémon Yellow: Special Pikachu Edition       GB           1998.0   \n",
       "31                     Call of Duty: Black Ops 3      PS4           2015.0   \n",
       "32                       Call of Duty: Black Ops     X360           2010.0   \n",
       "33                           Pokemon X/Pokemon Y      3DS           2013.0   \n",
       "34                    Call of Duty: Black Ops II      PS3           2012.0   \n",
       "35                    Call of Duty: Black Ops II     X360           2012.0   \n",
       "36                Call of Duty: Modern Warfare 2     X360           2009.0   \n",
       "37                Call of Duty: Modern Warfare 3      PS3           2011.0   \n",
       "38                          Grand Theft Auto III      PS2           2001.0   \n",
       "39                       Super Smash Bros. Brawl      Wii           2008.0   \n",
       "40                                  Mario Kart 7      3DS           2011.0   \n",
       "41                       Call of Duty: Black Ops      PS3           2010.0   \n",
       "42                            Grand Theft Auto V      PS4           2014.0   \n",
       "43                   Animal Crossing: Wild World       DS           2005.0   \n",
       "44                                        Halo 3     X360           2007.0   \n",
       "45                                Super Mario 64      N64           1996.0   \n",
       "46          Pokemon HeartGold/Pokemon SoulSilver       DS           2009.0   \n",
       "47     Pokemon Omega Ruby/Pokemon Alpha Sapphire      3DS           2014.0   \n",
       "48                                Gran Turismo 4      PS2           2004.0   \n",
       "49                            Super Mario Galaxy      Wii           2007.0   \n",
       "\n",
       "           Genre  NA_sales  EU_sales  JP_sales  Other_sales  Critic_Score  \\\n",
       "0         Sports     41.36     28.96      3.77         8.45          76.0   \n",
       "1       Platform     29.08      3.58      6.81         0.77           NaN   \n",
       "2         Racing     15.68     12.76      3.79         3.29          82.0   \n",
       "3         Sports     15.61     10.93      3.28         2.95          80.0   \n",
       "4   Role-Playing     11.27      8.89     10.22         1.00           NaN   \n",
       "5         Puzzle     23.20      2.26      4.22         0.58           NaN   \n",
       "6       Platform     11.28      9.14      6.50         2.88          89.0   \n",
       "7           Misc     13.96      9.18      2.93         2.84          58.0   \n",
       "8       Platform     14.44      6.94      4.70         2.24          87.0   \n",
       "9        Shooter     26.93      0.63      0.28         0.47           NaN   \n",
       "10    Simulation      9.05     10.95      1.93         2.74           NaN   \n",
       "11        Racing      9.71      7.47      4.13         1.90          91.0   \n",
       "12  Role-Playing      9.00      6.18      7.20         0.71           NaN   \n",
       "13        Sports      8.92      8.03      3.60         2.15          80.0   \n",
       "14          Misc     15.00      4.89      0.24         1.69          61.0   \n",
       "15        Sports      9.01      8.49      2.53         1.77          80.0   \n",
       "16        Action      7.02      9.09      0.98         3.96          97.0   \n",
       "17        Action      9.43      0.40      0.41        10.57          95.0   \n",
       "18      Platform     12.78      3.75      3.54         0.55           NaN   \n",
       "19          Misc      4.74      9.20      4.16         2.04          77.0   \n",
       "20  Role-Playing      6.38      4.46      6.04         1.36           NaN   \n",
       "21      Platform     10.83      2.71      4.18         0.42           NaN   \n",
       "22      Platform      9.54      3.44      3.84         0.46           NaN   \n",
       "23        Action      9.66      5.14      0.06         1.41          97.0   \n",
       "24        Action      8.41      5.49      0.47         1.78          95.0   \n",
       "25  Role-Playing      6.06      3.90      5.38         0.50           NaN   \n",
       "26        Puzzle      3.43      5.35      5.32         1.18          77.0   \n",
       "27  Role-Playing      5.51      3.17      5.65         0.80           NaN   \n",
       "28        Racing      6.85      5.09      1.87         1.16          95.0   \n",
       "29       Shooter      9.04      4.24      0.13         1.32          88.0   \n",
       "30  Role-Playing      5.89      5.04      3.12         0.59           NaN   \n",
       "31       Shooter      6.03      5.86      0.36         2.38           NaN   \n",
       "32       Shooter      9.70      3.68      0.11         1.13          87.0   \n",
       "33  Role-Playing      5.28      4.19      4.35         0.78           NaN   \n",
       "34       Shooter      4.99      5.73      0.65         2.42          83.0   \n",
       "35       Shooter      8.25      4.24      0.07         1.12          83.0   \n",
       "36       Shooter      8.52      3.59      0.08         1.28          94.0   \n",
       "37       Shooter      5.54      5.73      0.49         1.57          88.0   \n",
       "38        Action      6.99      4.51      0.30         1.30          97.0   \n",
       "39      Fighting      6.62      2.55      2.66         1.01          93.0   \n",
       "40        Racing      5.03      4.02      2.69         0.91          85.0   \n",
       "41       Shooter      5.99      4.37      0.48         1.79          88.0   \n",
       "42        Action      3.96      6.31      0.38         1.97          97.0   \n",
       "43    Simulation      2.50      3.45      5.33         0.86          86.0   \n",
       "44       Shooter      7.97      2.81      0.13         1.21          94.0   \n",
       "45      Platform      6.91      2.85      1.91         0.23           NaN   \n",
       "46        Action      4.34      2.71      3.96         0.76           NaN   \n",
       "47  Role-Playing      4.35      3.49      3.10         0.74           NaN   \n",
       "48        Racing      3.01      0.01      1.10         7.53          89.0   \n",
       "49      Platform      6.06      3.35      1.20         0.74          97.0   \n",
       "\n",
       "   User_Score Rating  \n",
       "0           8      E  \n",
       "1         NaN    NaN  \n",
       "2         8.3      E  \n",
       "3           8      E  \n",
       "4         NaN    NaN  \n",
       "5         NaN    NaN  \n",
       "6         8.5      E  \n",
       "7         6.6      E  \n",
       "8         8.4      E  \n",
       "9         NaN    NaN  \n",
       "10        NaN    NaN  \n",
       "11        8.6      E  \n",
       "12        NaN    NaN  \n",
       "13        7.7      E  \n",
       "14        6.3      E  \n",
       "15        7.4      E  \n",
       "16        8.2      M  \n",
       "17          9      M  \n",
       "18        NaN    NaN  \n",
       "19        7.9      E  \n",
       "20        NaN    NaN  \n",
       "21        NaN    NaN  \n",
       "22        NaN    NaN  \n",
       "23        8.1      M  \n",
       "24        8.7      M  \n",
       "25        NaN    NaN  \n",
       "26        7.1      E  \n",
       "27        NaN    NaN  \n",
       "28        8.4      E  \n",
       "29        3.4      M  \n",
       "30        NaN    NaN  \n",
       "31        NaN    NaN  \n",
       "32        6.3      M  \n",
       "33        NaN    NaN  \n",
       "34        5.3      M  \n",
       "35        4.8      M  \n",
       "36        6.3      M  \n",
       "37        3.2      M  \n",
       "38        8.5      M  \n",
       "39        8.9      T  \n",
       "40        8.2      E  \n",
       "41        6.4      M  \n",
       "42        8.3      M  \n",
       "43        8.7      E  \n",
       "44        7.8      M  \n",
       "45        NaN    NaN  \n",
       "46        NaN    NaN  \n",
       "47        NaN    NaN  \n",
       "48        8.5      E  \n",
       "49        8.9      E  "
      ]
     },
     "execution_count": 3,
     "metadata": {},
     "output_type": "execute_result"
    }
   ],
   "source": [
    "pd.set_option('display.max_columns', None)\n",
    "data.head(50)"
   ]
  },
  {
   "cell_type": "code",
   "execution_count": 4,
   "metadata": {
    "scrolled": true
   },
   "outputs": [
    {
     "name": "stdout",
     "output_type": "stream",
     "text": [
      "<class 'pandas.core.frame.DataFrame'>\n",
      "RangeIndex: 16715 entries, 0 to 16714\n",
      "Data columns (total 11 columns):\n",
      " #   Column           Non-Null Count  Dtype  \n",
      "---  ------           --------------  -----  \n",
      " 0   Name             16713 non-null  object \n",
      " 1   Platform         16715 non-null  object \n",
      " 2   Year_of_Release  16446 non-null  float64\n",
      " 3   Genre            16713 non-null  object \n",
      " 4   NA_sales         16715 non-null  float64\n",
      " 5   EU_sales         16715 non-null  float64\n",
      " 6   JP_sales         16715 non-null  float64\n",
      " 7   Other_sales      16715 non-null  float64\n",
      " 8   Critic_Score     8137 non-null   float64\n",
      " 9   User_Score       10014 non-null  object \n",
      " 10  Rating           9949 non-null   object \n",
      "dtypes: float64(6), object(5)\n",
      "memory usage: 1.4+ MB\n"
     ]
    }
   ],
   "source": [
    "data.info()"
   ]
  },
  {
   "cell_type": "markdown",
   "metadata": {},
   "source": [
    "<b>Findings:</b>\n",
    "1. Mismatched column types:\n",
    "- User_Score should be of type float.\n",
    "- Year_of_Release - int.\n",
    "2. There are missing and zero values."
   ]
  },
  {
   "cell_type": "markdown",
   "metadata": {},
   "source": [
    "## Data Preprocessing"
   ]
  },
  {
   "cell_type": "code",
   "execution_count": 5,
   "metadata": {},
   "outputs": [],
   "source": [
    "#retain the original database for potential future comparisons with the processed version\n",
    "\n",
    "good_data = data"
   ]
  },
  {
   "cell_type": "code",
   "execution_count": 6,
   "metadata": {},
   "outputs": [
    {
     "data": {
      "text/plain": [
       "Index(['name', 'platform', 'year_of_release', 'genre', 'na_sales', 'eu_sales',\n",
       "       'jp_sales', 'other_sales', 'critic_score', 'user_score', 'rating'],\n",
       "      dtype='object')"
      ]
     },
     "execution_count": 6,
     "metadata": {},
     "output_type": "execute_result"
    }
   ],
   "source": [
    "# convert column names to lowercase\n",
    "\n",
    "good_data.columns = good_data.columns.str.lower()\n",
    "good_data.columns"
   ]
  },
  {
   "cell_type": "code",
   "execution_count": 7,
   "metadata": {},
   "outputs": [],
   "source": [
    "# transform data into the required types. \n",
    "\n",
    "good_data['year_of_release'] = good_data['year_of_release'].astype('Int64')"
   ]
  },
  {
   "cell_type": "code",
   "execution_count": 8,
   "metadata": {},
   "outputs": [
    {
     "data": {
      "text/plain": [
       "array(['8', nan, '8.3', '8.5', '6.6', '8.4', '8.6', '7.7', '6.3', '7.4',\n",
       "       '8.2', '9', '7.9', '8.1', '8.7', '7.1', '3.4', '5.3', '4.8', '3.2',\n",
       "       '8.9', '6.4', '7.8', '7.5', '2.6', '7.2', '9.2', '7', '7.3', '4.3',\n",
       "       '7.6', '5.7', '5', '9.1', '6.5', 'tbd', '8.8', '6.9', '9.4', '6.8',\n",
       "       '6.1', '6.7', '5.4', '4', '4.9', '4.5', '9.3', '6.2', '4.2', '6',\n",
       "       '3.7', '4.1', '5.8', '5.6', '5.5', '4.4', '4.6', '5.9', '3.9',\n",
       "       '3.1', '2.9', '5.2', '3.3', '4.7', '5.1', '3.5', '2.5', '1.9', '3',\n",
       "       '2.7', '2.2', '2', '9.5', '2.1', '3.6', '2.8', '1.8', '3.8', '0',\n",
       "       '1.6', '9.6', '2.4', '1.7', '1.1', '0.3', '1.5', '0.7', '1.2',\n",
       "       '2.3', '0.5', '1.3', '0.2', '0.6', '1.4', '0.9', '1', '9.7'],\n",
       "      dtype=object)"
      ]
     },
     "execution_count": 8,
     "metadata": {},
     "output_type": "execute_result"
    }
   ],
   "source": [
    "# it is essential to understand why the User_Score column is of type object.\n",
    "\n",
    "good_data['user_score'].unique()"
   ]
  },
  {
   "cell_type": "markdown",
   "metadata": {},
   "source": [
    "The abbreviation 'tbd' stands for \"to be determined\". This means that the game has not been rated yet for some reason. Essentially, this is equivalent to NaN. So, we can replace 'tbd' with NaN and subsequently change the data type of the column to float."
   ]
  },
  {
   "cell_type": "code",
   "execution_count": 9,
   "metadata": {},
   "outputs": [],
   "source": [
    "good_data['user_score'] = good_data['user_score'].replace('tbd', np.NaN)\n",
    "good_data['user_score'] = good_data['user_score'].astype('float')"
   ]
  },
  {
   "cell_type": "code",
   "execution_count": 10,
   "metadata": {},
   "outputs": [
    {
     "data": {
      "text/plain": [
       "0"
      ]
     },
     "execution_count": 10,
     "metadata": {},
     "output_type": "execute_result"
    }
   ],
   "source": [
    "good_data.duplicated().sum()"
   ]
  },
  {
   "cell_type": "code",
   "execution_count": 11,
   "metadata": {},
   "outputs": [
    {
     "data": {
      "text/plain": [
       "array(['Wii', 'NES', 'GB', 'DS', 'X360', 'PS3', 'PS2', 'SNES', 'GBA',\n",
       "       'PS4', '3DS', 'N64', 'PS', 'XB', 'PC', '2600', 'PSP', 'XOne',\n",
       "       'WiiU', 'GC', 'GEN', 'DC', 'PSV', 'SAT', 'SCD', 'WS', 'NG', 'TG16',\n",
       "       '3DO', 'GG', 'PCFX'], dtype=object)"
      ]
     },
     "execution_count": 11,
     "metadata": {},
     "output_type": "execute_result"
    }
   ],
   "source": [
    "good_data['platform'].unique()"
   ]
  },
  {
   "cell_type": "code",
   "execution_count": 12,
   "metadata": {},
   "outputs": [
    {
     "data": {
      "text/plain": [
       "array(['Sports', 'Platform', 'Racing', 'Role-Playing', 'Puzzle', 'Misc',\n",
       "       'Shooter', 'Simulation', 'Action', 'Fighting', 'Adventure',\n",
       "       'Strategy', nan], dtype=object)"
      ]
     },
     "execution_count": 12,
     "metadata": {},
     "output_type": "execute_result"
    }
   ],
   "source": [
    "good_data['genre'].unique()"
   ]
  },
  {
   "cell_type": "markdown",
   "metadata": {},
   "source": [
    "No duplicates found in platforms or genres."
   ]
  },
  {
   "cell_type": "code",
   "execution_count": 13,
   "metadata": {},
   "outputs": [
    {
     "data": {
      "text/plain": [
       "269"
      ]
     },
     "execution_count": 13,
     "metadata": {},
     "output_type": "execute_result"
    }
   ],
   "source": [
    "good_data['year_of_release'].isnull().sum()"
   ]
  },
  {
   "cell_type": "code",
   "execution_count": 14,
   "metadata": {},
   "outputs": [],
   "source": [
    "# Our initial analysis revealed that the same games appeared in multiple rows, but released on different platforms.\n",
    "# There might be cases where a game on one platform has a release date, but it's missing for another platform. \n",
    "# Hence, we can attempt to fill in the missing values based on the known release dates.\n",
    "\n",
    "for g in good_data[good_data['year_of_release'].isnull() == True].index:  \n",
    "    good_data['year_of_release'][g] = good_data.loc[good_data['name'] == good_data['name'][g], 'year_of_release'].max()"
   ]
  },
  {
   "cell_type": "code",
   "execution_count": 15,
   "metadata": {},
   "outputs": [
    {
     "data": {
      "text/plain": [
       "146"
      ]
     },
     "execution_count": 15,
     "metadata": {},
     "output_type": "execute_result"
    }
   ],
   "source": [
    "good_data['year_of_release'].isnull().sum()\n",
    "# Indeed, more than 100 missing values were filled this way."
   ]
  },
  {
   "cell_type": "code",
   "execution_count": 16,
   "metadata": {},
   "outputs": [],
   "source": [
    "# in two cases, the game name is unknown, and in another two, the genre is unknown. We will exclude these from our analysis.\n",
    "\n",
    "good_data = good_data.dropna(subset=['name', 'genre']).reset_index(drop=True)"
   ]
  },
  {
   "cell_type": "code",
   "execution_count": 17,
   "metadata": {},
   "outputs": [],
   "source": [
    "# record the total sales across all regions in a separate column\n",
    "good_data['total_sales'] = good_data[['na_sales','eu_sales','jp_sales', 'other_sales']].sum(axis = 1)"
   ]
  },
  {
   "cell_type": "code",
   "execution_count": 18,
   "metadata": {
    "scrolled": true
   },
   "outputs": [
    {
     "data": {
      "text/html": [
       "<div>\n",
       "<style scoped>\n",
       "    .dataframe tbody tr th:only-of-type {\n",
       "        vertical-align: middle;\n",
       "    }\n",
       "\n",
       "    .dataframe tbody tr th {\n",
       "        vertical-align: top;\n",
       "    }\n",
       "\n",
       "    .dataframe thead th {\n",
       "        text-align: right;\n",
       "    }\n",
       "</style>\n",
       "<table border=\"1\" class=\"dataframe\">\n",
       "  <thead>\n",
       "    <tr style=\"text-align: right;\">\n",
       "      <th></th>\n",
       "      <th>name</th>\n",
       "      <th>platform</th>\n",
       "      <th>year_of_release</th>\n",
       "      <th>genre</th>\n",
       "      <th>na_sales</th>\n",
       "      <th>eu_sales</th>\n",
       "      <th>jp_sales</th>\n",
       "      <th>other_sales</th>\n",
       "      <th>critic_score</th>\n",
       "      <th>user_score</th>\n",
       "      <th>rating</th>\n",
       "      <th>total_sales</th>\n",
       "    </tr>\n",
       "  </thead>\n",
       "  <tbody>\n",
       "    <tr>\n",
       "      <th>0</th>\n",
       "      <td>Wii Sports</td>\n",
       "      <td>Wii</td>\n",
       "      <td>2006</td>\n",
       "      <td>Sports</td>\n",
       "      <td>41.36</td>\n",
       "      <td>28.96</td>\n",
       "      <td>3.77</td>\n",
       "      <td>8.45</td>\n",
       "      <td>76.0</td>\n",
       "      <td>8.0</td>\n",
       "      <td>E</td>\n",
       "      <td>82.54</td>\n",
       "    </tr>\n",
       "    <tr>\n",
       "      <th>1</th>\n",
       "      <td>Super Mario Bros.</td>\n",
       "      <td>NES</td>\n",
       "      <td>1985</td>\n",
       "      <td>Platform</td>\n",
       "      <td>29.08</td>\n",
       "      <td>3.58</td>\n",
       "      <td>6.81</td>\n",
       "      <td>0.77</td>\n",
       "      <td>NaN</td>\n",
       "      <td>NaN</td>\n",
       "      <td>NaN</td>\n",
       "      <td>40.24</td>\n",
       "    </tr>\n",
       "    <tr>\n",
       "      <th>2</th>\n",
       "      <td>Mario Kart Wii</td>\n",
       "      <td>Wii</td>\n",
       "      <td>2008</td>\n",
       "      <td>Racing</td>\n",
       "      <td>15.68</td>\n",
       "      <td>12.76</td>\n",
       "      <td>3.79</td>\n",
       "      <td>3.29</td>\n",
       "      <td>82.0</td>\n",
       "      <td>8.3</td>\n",
       "      <td>E</td>\n",
       "      <td>35.52</td>\n",
       "    </tr>\n",
       "    <tr>\n",
       "      <th>3</th>\n",
       "      <td>Wii Sports Resort</td>\n",
       "      <td>Wii</td>\n",
       "      <td>2009</td>\n",
       "      <td>Sports</td>\n",
       "      <td>15.61</td>\n",
       "      <td>10.93</td>\n",
       "      <td>3.28</td>\n",
       "      <td>2.95</td>\n",
       "      <td>80.0</td>\n",
       "      <td>8.0</td>\n",
       "      <td>E</td>\n",
       "      <td>32.77</td>\n",
       "    </tr>\n",
       "    <tr>\n",
       "      <th>4</th>\n",
       "      <td>Pokemon Red/Pokemon Blue</td>\n",
       "      <td>GB</td>\n",
       "      <td>1996</td>\n",
       "      <td>Role-Playing</td>\n",
       "      <td>11.27</td>\n",
       "      <td>8.89</td>\n",
       "      <td>10.22</td>\n",
       "      <td>1.00</td>\n",
       "      <td>NaN</td>\n",
       "      <td>NaN</td>\n",
       "      <td>NaN</td>\n",
       "      <td>31.38</td>\n",
       "    </tr>\n",
       "    <tr>\n",
       "      <th>5</th>\n",
       "      <td>Tetris</td>\n",
       "      <td>GB</td>\n",
       "      <td>1989</td>\n",
       "      <td>Puzzle</td>\n",
       "      <td>23.20</td>\n",
       "      <td>2.26</td>\n",
       "      <td>4.22</td>\n",
       "      <td>0.58</td>\n",
       "      <td>NaN</td>\n",
       "      <td>NaN</td>\n",
       "      <td>NaN</td>\n",
       "      <td>30.26</td>\n",
       "    </tr>\n",
       "    <tr>\n",
       "      <th>6</th>\n",
       "      <td>New Super Mario Bros.</td>\n",
       "      <td>DS</td>\n",
       "      <td>2006</td>\n",
       "      <td>Platform</td>\n",
       "      <td>11.28</td>\n",
       "      <td>9.14</td>\n",
       "      <td>6.50</td>\n",
       "      <td>2.88</td>\n",
       "      <td>89.0</td>\n",
       "      <td>8.5</td>\n",
       "      <td>E</td>\n",
       "      <td>29.80</td>\n",
       "    </tr>\n",
       "    <tr>\n",
       "      <th>7</th>\n",
       "      <td>Wii Play</td>\n",
       "      <td>Wii</td>\n",
       "      <td>2006</td>\n",
       "      <td>Misc</td>\n",
       "      <td>13.96</td>\n",
       "      <td>9.18</td>\n",
       "      <td>2.93</td>\n",
       "      <td>2.84</td>\n",
       "      <td>58.0</td>\n",
       "      <td>6.6</td>\n",
       "      <td>E</td>\n",
       "      <td>28.91</td>\n",
       "    </tr>\n",
       "    <tr>\n",
       "      <th>8</th>\n",
       "      <td>New Super Mario Bros. Wii</td>\n",
       "      <td>Wii</td>\n",
       "      <td>2009</td>\n",
       "      <td>Platform</td>\n",
       "      <td>14.44</td>\n",
       "      <td>6.94</td>\n",
       "      <td>4.70</td>\n",
       "      <td>2.24</td>\n",
       "      <td>87.0</td>\n",
       "      <td>8.4</td>\n",
       "      <td>E</td>\n",
       "      <td>28.32</td>\n",
       "    </tr>\n",
       "    <tr>\n",
       "      <th>9</th>\n",
       "      <td>Duck Hunt</td>\n",
       "      <td>NES</td>\n",
       "      <td>1984</td>\n",
       "      <td>Shooter</td>\n",
       "      <td>26.93</td>\n",
       "      <td>0.63</td>\n",
       "      <td>0.28</td>\n",
       "      <td>0.47</td>\n",
       "      <td>NaN</td>\n",
       "      <td>NaN</td>\n",
       "      <td>NaN</td>\n",
       "      <td>28.31</td>\n",
       "    </tr>\n",
       "    <tr>\n",
       "      <th>10</th>\n",
       "      <td>Nintendogs</td>\n",
       "      <td>DS</td>\n",
       "      <td>2005</td>\n",
       "      <td>Simulation</td>\n",
       "      <td>9.05</td>\n",
       "      <td>10.95</td>\n",
       "      <td>1.93</td>\n",
       "      <td>2.74</td>\n",
       "      <td>NaN</td>\n",
       "      <td>NaN</td>\n",
       "      <td>NaN</td>\n",
       "      <td>24.67</td>\n",
       "    </tr>\n",
       "    <tr>\n",
       "      <th>11</th>\n",
       "      <td>Mario Kart DS</td>\n",
       "      <td>DS</td>\n",
       "      <td>2005</td>\n",
       "      <td>Racing</td>\n",
       "      <td>9.71</td>\n",
       "      <td>7.47</td>\n",
       "      <td>4.13</td>\n",
       "      <td>1.90</td>\n",
       "      <td>91.0</td>\n",
       "      <td>8.6</td>\n",
       "      <td>E</td>\n",
       "      <td>23.21</td>\n",
       "    </tr>\n",
       "    <tr>\n",
       "      <th>12</th>\n",
       "      <td>Pokemon Gold/Pokemon Silver</td>\n",
       "      <td>GB</td>\n",
       "      <td>1999</td>\n",
       "      <td>Role-Playing</td>\n",
       "      <td>9.00</td>\n",
       "      <td>6.18</td>\n",
       "      <td>7.20</td>\n",
       "      <td>0.71</td>\n",
       "      <td>NaN</td>\n",
       "      <td>NaN</td>\n",
       "      <td>NaN</td>\n",
       "      <td>23.09</td>\n",
       "    </tr>\n",
       "    <tr>\n",
       "      <th>13</th>\n",
       "      <td>Wii Fit</td>\n",
       "      <td>Wii</td>\n",
       "      <td>2007</td>\n",
       "      <td>Sports</td>\n",
       "      <td>8.92</td>\n",
       "      <td>8.03</td>\n",
       "      <td>3.60</td>\n",
       "      <td>2.15</td>\n",
       "      <td>80.0</td>\n",
       "      <td>7.7</td>\n",
       "      <td>E</td>\n",
       "      <td>22.70</td>\n",
       "    </tr>\n",
       "    <tr>\n",
       "      <th>14</th>\n",
       "      <td>Kinect Adventures!</td>\n",
       "      <td>X360</td>\n",
       "      <td>2010</td>\n",
       "      <td>Misc</td>\n",
       "      <td>15.00</td>\n",
       "      <td>4.89</td>\n",
       "      <td>0.24</td>\n",
       "      <td>1.69</td>\n",
       "      <td>61.0</td>\n",
       "      <td>6.3</td>\n",
       "      <td>E</td>\n",
       "      <td>21.82</td>\n",
       "    </tr>\n",
       "    <tr>\n",
       "      <th>15</th>\n",
       "      <td>Wii Fit Plus</td>\n",
       "      <td>Wii</td>\n",
       "      <td>2009</td>\n",
       "      <td>Sports</td>\n",
       "      <td>9.01</td>\n",
       "      <td>8.49</td>\n",
       "      <td>2.53</td>\n",
       "      <td>1.77</td>\n",
       "      <td>80.0</td>\n",
       "      <td>7.4</td>\n",
       "      <td>E</td>\n",
       "      <td>21.80</td>\n",
       "    </tr>\n",
       "    <tr>\n",
       "      <th>16</th>\n",
       "      <td>Grand Theft Auto V</td>\n",
       "      <td>PS3</td>\n",
       "      <td>2013</td>\n",
       "      <td>Action</td>\n",
       "      <td>7.02</td>\n",
       "      <td>9.09</td>\n",
       "      <td>0.98</td>\n",
       "      <td>3.96</td>\n",
       "      <td>97.0</td>\n",
       "      <td>8.2</td>\n",
       "      <td>M</td>\n",
       "      <td>21.05</td>\n",
       "    </tr>\n",
       "    <tr>\n",
       "      <th>17</th>\n",
       "      <td>Grand Theft Auto: San Andreas</td>\n",
       "      <td>PS2</td>\n",
       "      <td>2004</td>\n",
       "      <td>Action</td>\n",
       "      <td>9.43</td>\n",
       "      <td>0.40</td>\n",
       "      <td>0.41</td>\n",
       "      <td>10.57</td>\n",
       "      <td>95.0</td>\n",
       "      <td>9.0</td>\n",
       "      <td>M</td>\n",
       "      <td>20.81</td>\n",
       "    </tr>\n",
       "    <tr>\n",
       "      <th>18</th>\n",
       "      <td>Super Mario World</td>\n",
       "      <td>SNES</td>\n",
       "      <td>1990</td>\n",
       "      <td>Platform</td>\n",
       "      <td>12.78</td>\n",
       "      <td>3.75</td>\n",
       "      <td>3.54</td>\n",
       "      <td>0.55</td>\n",
       "      <td>NaN</td>\n",
       "      <td>NaN</td>\n",
       "      <td>NaN</td>\n",
       "      <td>20.62</td>\n",
       "    </tr>\n",
       "    <tr>\n",
       "      <th>19</th>\n",
       "      <td>Brain Age: Train Your Brain in Minutes a Day</td>\n",
       "      <td>DS</td>\n",
       "      <td>2005</td>\n",
       "      <td>Misc</td>\n",
       "      <td>4.74</td>\n",
       "      <td>9.20</td>\n",
       "      <td>4.16</td>\n",
       "      <td>2.04</td>\n",
       "      <td>77.0</td>\n",
       "      <td>7.9</td>\n",
       "      <td>E</td>\n",
       "      <td>20.14</td>\n",
       "    </tr>\n",
       "  </tbody>\n",
       "</table>\n",
       "</div>"
      ],
      "text/plain": [
       "                                            name platform  year_of_release  \\\n",
       "0                                     Wii Sports      Wii             2006   \n",
       "1                              Super Mario Bros.      NES             1985   \n",
       "2                                 Mario Kart Wii      Wii             2008   \n",
       "3                              Wii Sports Resort      Wii             2009   \n",
       "4                       Pokemon Red/Pokemon Blue       GB             1996   \n",
       "5                                         Tetris       GB             1989   \n",
       "6                          New Super Mario Bros.       DS             2006   \n",
       "7                                       Wii Play      Wii             2006   \n",
       "8                      New Super Mario Bros. Wii      Wii             2009   \n",
       "9                                      Duck Hunt      NES             1984   \n",
       "10                                    Nintendogs       DS             2005   \n",
       "11                                 Mario Kart DS       DS             2005   \n",
       "12                   Pokemon Gold/Pokemon Silver       GB             1999   \n",
       "13                                       Wii Fit      Wii             2007   \n",
       "14                            Kinect Adventures!     X360             2010   \n",
       "15                                  Wii Fit Plus      Wii             2009   \n",
       "16                            Grand Theft Auto V      PS3             2013   \n",
       "17                 Grand Theft Auto: San Andreas      PS2             2004   \n",
       "18                             Super Mario World     SNES             1990   \n",
       "19  Brain Age: Train Your Brain in Minutes a Day       DS             2005   \n",
       "\n",
       "           genre  na_sales  eu_sales  jp_sales  other_sales  critic_score  \\\n",
       "0         Sports     41.36     28.96      3.77         8.45          76.0   \n",
       "1       Platform     29.08      3.58      6.81         0.77           NaN   \n",
       "2         Racing     15.68     12.76      3.79         3.29          82.0   \n",
       "3         Sports     15.61     10.93      3.28         2.95          80.0   \n",
       "4   Role-Playing     11.27      8.89     10.22         1.00           NaN   \n",
       "5         Puzzle     23.20      2.26      4.22         0.58           NaN   \n",
       "6       Platform     11.28      9.14      6.50         2.88          89.0   \n",
       "7           Misc     13.96      9.18      2.93         2.84          58.0   \n",
       "8       Platform     14.44      6.94      4.70         2.24          87.0   \n",
       "9        Shooter     26.93      0.63      0.28         0.47           NaN   \n",
       "10    Simulation      9.05     10.95      1.93         2.74           NaN   \n",
       "11        Racing      9.71      7.47      4.13         1.90          91.0   \n",
       "12  Role-Playing      9.00      6.18      7.20         0.71           NaN   \n",
       "13        Sports      8.92      8.03      3.60         2.15          80.0   \n",
       "14          Misc     15.00      4.89      0.24         1.69          61.0   \n",
       "15        Sports      9.01      8.49      2.53         1.77          80.0   \n",
       "16        Action      7.02      9.09      0.98         3.96          97.0   \n",
       "17        Action      9.43      0.40      0.41        10.57          95.0   \n",
       "18      Platform     12.78      3.75      3.54         0.55           NaN   \n",
       "19          Misc      4.74      9.20      4.16         2.04          77.0   \n",
       "\n",
       "    user_score rating  total_sales  \n",
       "0          8.0      E        82.54  \n",
       "1          NaN    NaN        40.24  \n",
       "2          8.3      E        35.52  \n",
       "3          8.0      E        32.77  \n",
       "4          NaN    NaN        31.38  \n",
       "5          NaN    NaN        30.26  \n",
       "6          8.5      E        29.80  \n",
       "7          6.6      E        28.91  \n",
       "8          8.4      E        28.32  \n",
       "9          NaN    NaN        28.31  \n",
       "10         NaN    NaN        24.67  \n",
       "11         8.6      E        23.21  \n",
       "12         NaN    NaN        23.09  \n",
       "13         7.7      E        22.70  \n",
       "14         6.3      E        21.82  \n",
       "15         7.4      E        21.80  \n",
       "16         8.2      M        21.05  \n",
       "17         9.0      M        20.81  \n",
       "18         NaN    NaN        20.62  \n",
       "19         7.9      E        20.14  "
      ]
     },
     "execution_count": 18,
     "metadata": {},
     "output_type": "execute_result"
    }
   ],
   "source": [
    "good_data.head(20)"
   ]
  },
  {
   "cell_type": "markdown",
   "metadata": {},
   "source": [
    "It doesn't make sense to fill in the other missing values, and removing them might result in a significant data shift. Hence, we decided to leave the rest of the data unchanged."
   ]
  },
  {
   "cell_type": "code",
   "execution_count": 19,
   "metadata": {},
   "outputs": [],
   "source": [
    "good_data['rating'] = good_data['rating'].fillna('unknown')"
   ]
  },
  {
   "cell_type": "markdown",
   "metadata": {},
   "source": [
    "<b>Conclusions:</b>\n",
    "- The data type of the year_of_release column has been changed to int since it's a whole number.\n",
    "\n",
    "- The data type of the user_score column was converted to float to facilitate further computations after replacing 'tbd' with NaN.\n",
    "\n",
    "- Missing values in the year_of_release column were filled based on the known game release dates.\n",
    "\n",
    "- Rows with games having unknown names and genres were removed.\n",
    "\n",
    "- We decided not to fill or remove the other missing values. The missing values themselves don't hinder the analysis, but deleting a significant portion of the data might skew our results.\n",
    "\n",
    "- Added a total_sales column that captures the cumulative sales across all regions.\n",
    "\n",
    "The missing values might have originated due to a lack of information on the website or errors during data extraction."
   ]
  },
  {
   "cell_type": "markdown",
   "metadata": {},
   "source": [
    "## Exploratory Data Analysis"
   ]
  },
  {
   "cell_type": "markdown",
   "metadata": {},
   "source": [
    "### Analyze how many games were released in different years. Assess whether the data for all periods are important."
   ]
  },
  {
   "cell_type": "code",
   "execution_count": 20,
   "metadata": {
    "scrolled": false
   },
   "outputs": [
    {
     "data": {
      "image/png": "[encoded data removed]",
      "text/plain": [
       "<Figure size 1080x360 with 1 Axes>"
      ]
     },
     "metadata": {
      "needs_background": "light"
     },
     "output_type": "display_data"
    }
   ],
   "source": [
    "year_of_release_fig = good_data.groupby(['year_of_release'])['name'].count() \\\n",
    ".plot(kind='bar', grid=True, figsize=(15, 5))\n",
    "year_of_release_fig.set_title('Games Released Over the Years')\n",
    "year_of_release_fig.set_xlabel('Year')\n",
    "year_of_release_fig.set_ylabel('n')\n",
    "plt.show()    "
   ]
  },
  {
   "cell_type": "markdown",
   "metadata": {},
   "source": [
    "Up to 1995, less than 200 games were released annually, which may not be statistically significant. There was a sharp increase in game production from 2002, peaking in 2008 and 2009. From 2012 onwards, there was a nearly twofold decline in the number of releases."
   ]
  },
  {
   "cell_type": "markdown",
   "metadata": {},
   "source": [
    "### Analyze how sales have changed across platforms. Choose platforms with the highest total sales and construct a distribution by year. Evaluate over what typical duration new platforms emerge and old ones disappear."
   ]
  },
  {
   "cell_type": "code",
   "execution_count": 21,
   "metadata": {},
   "outputs": [
    {
     "data": {
      "image/png": "[encoded data removed]",
      "text/plain": [
       "<Figure size 1080x360 with 1 Axes>"
      ]
     },
     "metadata": {
      "needs_background": "light"
     },
     "output_type": "display_data"
    }
   ],
   "source": [
    "platforms_fig = good_data.groupby(['platform'])['total_sales'].sum().sort_values(ascending=False) \\\n",
    ".plot(kind='bar',style='o', grid=True, figsize=(15, 5))\n",
    "platforms_fig.set_title('Number of game releases depending on the platform')\n",
    "platforms_fig.set_xlabel('Platform')\n",
    "platforms_fig.set_ylabel('n, mln')\n",
    "plt.show()    "
   ]
  },
  {
   "cell_type": "markdown",
   "metadata": {},
   "source": [
    "The highest sales are shown by games on 6 platforms: PS2, X360, PS3, Wii, DS, PS."
   ]
  },
  {
   "cell_type": "code",
   "execution_count": 22,
   "metadata": {
    "scrolled": true
   },
   "outputs": [
    {
     "data": {
      "text/html": [
       "<div>\n",
       "<style scoped>\n",
       "    .dataframe tbody tr th:only-of-type {\n",
       "        vertical-align: middle;\n",
       "    }\n",
       "\n",
       "    .dataframe tbody tr th {\n",
       "        vertical-align: top;\n",
       "    }\n",
       "\n",
       "    .dataframe thead th {\n",
       "        text-align: right;\n",
       "    }\n",
       "</style>\n",
       "<table border=\"1\" class=\"dataframe\">\n",
       "  <thead>\n",
       "    <tr style=\"text-align: right;\">\n",
       "      <th></th>\n",
       "      <th></th>\n",
       "      <th>total_sales</th>\n",
       "    </tr>\n",
       "    <tr>\n",
       "      <th>platform</th>\n",
       "      <th>year_of_release</th>\n",
       "      <th></th>\n",
       "    </tr>\n",
       "  </thead>\n",
       "  <tbody>\n",
       "    <tr>\n",
       "      <th rowspan=\"11\" valign=\"top\">DS</th>\n",
       "      <th>1985</th>\n",
       "      <td>0.02</td>\n",
       "    </tr>\n",
       "    <tr>\n",
       "      <th>2004</th>\n",
       "      <td>17.27</td>\n",
       "    </tr>\n",
       "    <tr>\n",
       "      <th>2005</th>\n",
       "      <td>130.14</td>\n",
       "    </tr>\n",
       "    <tr>\n",
       "      <th>2006</th>\n",
       "      <td>119.81</td>\n",
       "    </tr>\n",
       "    <tr>\n",
       "      <th>2007</th>\n",
       "      <td>147.23</td>\n",
       "    </tr>\n",
       "    <tr>\n",
       "      <th>2008</th>\n",
       "      <td>145.36</td>\n",
       "    </tr>\n",
       "    <tr>\n",
       "      <th>2009</th>\n",
       "      <td>119.56</td>\n",
       "    </tr>\n",
       "    <tr>\n",
       "      <th>2010</th>\n",
       "      <td>85.35</td>\n",
       "    </tr>\n",
       "    <tr>\n",
       "      <th>2011</th>\n",
       "      <td>26.33</td>\n",
       "    </tr>\n",
       "    <tr>\n",
       "      <th>2012</th>\n",
       "      <td>11.67</td>\n",
       "    </tr>\n",
       "    <tr>\n",
       "      <th>2013</th>\n",
       "      <td>1.54</td>\n",
       "    </tr>\n",
       "    <tr>\n",
       "      <th rowspan=\"10\" valign=\"top\">PS</th>\n",
       "      <th>1994</th>\n",
       "      <td>6.03</td>\n",
       "    </tr>\n",
       "    <tr>\n",
       "      <th>1995</th>\n",
       "      <td>35.96</td>\n",
       "    </tr>\n",
       "    <tr>\n",
       "      <th>1996</th>\n",
       "      <td>94.70</td>\n",
       "    </tr>\n",
       "    <tr>\n",
       "      <th>1997</th>\n",
       "      <td>136.17</td>\n",
       "    </tr>\n",
       "    <tr>\n",
       "      <th>1998</th>\n",
       "      <td>169.49</td>\n",
       "    </tr>\n",
       "    <tr>\n",
       "      <th>1999</th>\n",
       "      <td>144.53</td>\n",
       "    </tr>\n",
       "    <tr>\n",
       "      <th>2000</th>\n",
       "      <td>96.37</td>\n",
       "    </tr>\n",
       "    <tr>\n",
       "      <th>2001</th>\n",
       "      <td>35.59</td>\n",
       "    </tr>\n",
       "    <tr>\n",
       "      <th>2002</th>\n",
       "      <td>6.67</td>\n",
       "    </tr>\n",
       "    <tr>\n",
       "      <th>2003</th>\n",
       "      <td>2.07</td>\n",
       "    </tr>\n",
       "    <tr>\n",
       "      <th rowspan=\"12\" valign=\"top\">PS2</th>\n",
       "      <th>2000</th>\n",
       "      <td>39.17</td>\n",
       "    </tr>\n",
       "    <tr>\n",
       "      <th>2001</th>\n",
       "      <td>166.43</td>\n",
       "    </tr>\n",
       "    <tr>\n",
       "      <th>2002</th>\n",
       "      <td>208.36</td>\n",
       "    </tr>\n",
       "    <tr>\n",
       "      <th>2003</th>\n",
       "      <td>193.05</td>\n",
       "    </tr>\n",
       "    <tr>\n",
       "      <th>2004</th>\n",
       "      <td>211.81</td>\n",
       "    </tr>\n",
       "    <tr>\n",
       "      <th>2005</th>\n",
       "      <td>160.66</td>\n",
       "    </tr>\n",
       "    <tr>\n",
       "      <th>2006</th>\n",
       "      <td>104.24</td>\n",
       "    </tr>\n",
       "    <tr>\n",
       "      <th>2007</th>\n",
       "      <td>76.10</td>\n",
       "    </tr>\n",
       "    <tr>\n",
       "      <th>2008</th>\n",
       "      <td>53.90</td>\n",
       "    </tr>\n",
       "    <tr>\n",
       "      <th>2009</th>\n",
       "      <td>26.40</td>\n",
       "    </tr>\n",
       "    <tr>\n",
       "      <th>2010</th>\n",
       "      <td>6.59</td>\n",
       "    </tr>\n",
       "    <tr>\n",
       "      <th>2011</th>\n",
       "      <td>0.45</td>\n",
       "    </tr>\n",
       "    <tr>\n",
       "      <th rowspan=\"12\" valign=\"top\">PS3</th>\n",
       "      <th>2005</th>\n",
       "      <td>0.19</td>\n",
       "    </tr>\n",
       "    <tr>\n",
       "      <th>2006</th>\n",
       "      <td>21.44</td>\n",
       "    </tr>\n",
       "    <tr>\n",
       "      <th>2007</th>\n",
       "      <td>73.19</td>\n",
       "    </tr>\n",
       "    <tr>\n",
       "      <th>2008</th>\n",
       "      <td>118.79</td>\n",
       "    </tr>\n",
       "    <tr>\n",
       "      <th>2009</th>\n",
       "      <td>130.93</td>\n",
       "    </tr>\n",
       "    <tr>\n",
       "      <th>2010</th>\n",
       "      <td>142.96</td>\n",
       "    </tr>\n",
       "    <tr>\n",
       "      <th>2011</th>\n",
       "      <td>157.98</td>\n",
       "    </tr>\n",
       "    <tr>\n",
       "      <th>2012</th>\n",
       "      <td>108.28</td>\n",
       "    </tr>\n",
       "    <tr>\n",
       "      <th>2013</th>\n",
       "      <td>113.25</td>\n",
       "    </tr>\n",
       "    <tr>\n",
       "      <th>2014</th>\n",
       "      <td>47.76</td>\n",
       "    </tr>\n",
       "    <tr>\n",
       "      <th>2015</th>\n",
       "      <td>16.82</td>\n",
       "    </tr>\n",
       "    <tr>\n",
       "      <th>2016</th>\n",
       "      <td>3.60</td>\n",
       "    </tr>\n",
       "    <tr>\n",
       "      <th rowspan=\"11\" valign=\"top\">Wii</th>\n",
       "      <th>2006</th>\n",
       "      <td>140.19</td>\n",
       "    </tr>\n",
       "    <tr>\n",
       "      <th>2007</th>\n",
       "      <td>153.41</td>\n",
       "    </tr>\n",
       "    <tr>\n",
       "      <th>2008</th>\n",
       "      <td>177.68</td>\n",
       "    </tr>\n",
       "    <tr>\n",
       "      <th>2009</th>\n",
       "      <td>206.97</td>\n",
       "    </tr>\n",
       "    <tr>\n",
       "      <th>2010</th>\n",
       "      <td>128.67</td>\n",
       "    </tr>\n",
       "    <tr>\n",
       "      <th>2011</th>\n",
       "      <td>59.79</td>\n",
       "    </tr>\n",
       "    <tr>\n",
       "      <th>2012</th>\n",
       "      <td>22.94</td>\n",
       "    </tr>\n",
       "    <tr>\n",
       "      <th>2013</th>\n",
       "      <td>8.59</td>\n",
       "    </tr>\n",
       "    <tr>\n",
       "      <th>2014</th>\n",
       "      <td>3.75</td>\n",
       "    </tr>\n",
       "    <tr>\n",
       "      <th>2015</th>\n",
       "      <td>1.14</td>\n",
       "    </tr>\n",
       "    <tr>\n",
       "      <th>2016</th>\n",
       "      <td>0.18</td>\n",
       "    </tr>\n",
       "    <tr>\n",
       "      <th rowspan=\"12\" valign=\"top\">X360</th>\n",
       "      <th>2005</th>\n",
       "      <td>9.22</td>\n",
       "    </tr>\n",
       "    <tr>\n",
       "      <th>2006</th>\n",
       "      <td>51.79</td>\n",
       "    </tr>\n",
       "    <tr>\n",
       "      <th>2007</th>\n",
       "      <td>95.41</td>\n",
       "    </tr>\n",
       "    <tr>\n",
       "      <th>2008</th>\n",
       "      <td>136.07</td>\n",
       "    </tr>\n",
       "    <tr>\n",
       "      <th>2009</th>\n",
       "      <td>120.82</td>\n",
       "    </tr>\n",
       "    <tr>\n",
       "      <th>2010</th>\n",
       "      <td>170.55</td>\n",
       "    </tr>\n",
       "    <tr>\n",
       "      <th>2011</th>\n",
       "      <td>145.23</td>\n",
       "    </tr>\n",
       "    <tr>\n",
       "      <th>2012</th>\n",
       "      <td>100.72</td>\n",
       "    </tr>\n",
       "    <tr>\n",
       "      <th>2013</th>\n",
       "      <td>88.58</td>\n",
       "    </tr>\n",
       "    <tr>\n",
       "      <th>2014</th>\n",
       "      <td>34.74</td>\n",
       "    </tr>\n",
       "    <tr>\n",
       "      <th>2015</th>\n",
       "      <td>11.96</td>\n",
       "    </tr>\n",
       "    <tr>\n",
       "      <th>2016</th>\n",
       "      <td>1.52</td>\n",
       "    </tr>\n",
       "  </tbody>\n",
       "</table>\n",
       "</div>"
      ],
      "text/plain": [
       "                          total_sales\n",
       "platform year_of_release             \n",
       "DS       1985                    0.02\n",
       "         2004                   17.27\n",
       "         2005                  130.14\n",
       "         2006                  119.81\n",
       "         2007                  147.23\n",
       "         2008                  145.36\n",
       "         2009                  119.56\n",
       "         2010                   85.35\n",
       "         2011                   26.33\n",
       "         2012                   11.67\n",
       "         2013                    1.54\n",
       "PS       1994                    6.03\n",
       "         1995                   35.96\n",
       "         1996                   94.70\n",
       "         1997                  136.17\n",
       "         1998                  169.49\n",
       "         1999                  144.53\n",
       "         2000                   96.37\n",
       "         2001                   35.59\n",
       "         2002                    6.67\n",
       "         2003                    2.07\n",
       "PS2      2000                   39.17\n",
       "         2001                  166.43\n",
       "         2002                  208.36\n",
       "         2003                  193.05\n",
       "         2004                  211.81\n",
       "         2005                  160.66\n",
       "         2006                  104.24\n",
       "         2007                   76.10\n",
       "         2008                   53.90\n",
       "         2009                   26.40\n",
       "         2010                    6.59\n",
       "         2011                    0.45\n",
       "PS3      2005                    0.19\n",
       "         2006                   21.44\n",
       "         2007                   73.19\n",
       "         2008                  118.79\n",
       "         2009                  130.93\n",
       "         2010                  142.96\n",
       "         2011                  157.98\n",
       "         2012                  108.28\n",
       "         2013                  113.25\n",
       "         2014                   47.76\n",
       "         2015                   16.82\n",
       "         2016                    3.60\n",
       "Wii      2006                  140.19\n",
       "         2007                  153.41\n",
       "         2008                  177.68\n",
       "         2009                  206.97\n",
       "         2010                  128.67\n",
       "         2011                   59.79\n",
       "         2012                   22.94\n",
       "         2013                    8.59\n",
       "         2014                    3.75\n",
       "         2015                    1.14\n",
       "         2016                    0.18\n",
       "X360     2005                    9.22\n",
       "         2006                   51.79\n",
       "         2007                   95.41\n",
       "         2008                  136.07\n",
       "         2009                  120.82\n",
       "         2010                  170.55\n",
       "         2011                  145.23\n",
       "         2012                  100.72\n",
       "         2013                   88.58\n",
       "         2014                   34.74\n",
       "         2015                   11.96\n",
       "         2016                    1.52"
      ]
     },
     "execution_count": 22,
     "metadata": {},
     "output_type": "execute_result"
    }
   ],
   "source": [
    "top_platforms = good_data.query('platform == \"PS2\" | platform == \"X360\" | platform == \"PS3\" \\\n",
    "| platform == \"Wii\" | platform == \"DS\" | platform == \"PS\"')\n",
    "top_platforms_pivot = top_platforms.pivot_table('total_sales', ['platform', 'year_of_release'], aggfunc=sum)\n",
    "pd.set_option('display.max_rows', None)\n",
    "top_platforms_pivot"
   ]
  },
  {
   "cell_type": "markdown",
   "metadata": {},
   "source": [
    "For the Nintendo DS platform, we see a strange year - 1985, even though the platform was released in 2004. This is likely a data error."
   ]
  },
  {
   "cell_type": "code",
   "execution_count": 23,
   "metadata": {
    "scrolled": false
   },
   "outputs": [
    {
     "data": {
      "text/html": [
       "<div>\n",
       "<style scoped>\n",
       "    .dataframe tbody tr th:only-of-type {\n",
       "        vertical-align: middle;\n",
       "    }\n",
       "\n",
       "    .dataframe tbody tr th {\n",
       "        vertical-align: top;\n",
       "    }\n",
       "\n",
       "    .dataframe thead th {\n",
       "        text-align: right;\n",
       "    }\n",
       "</style>\n",
       "<table border=\"1\" class=\"dataframe\">\n",
       "  <thead>\n",
       "    <tr style=\"text-align: right;\">\n",
       "      <th></th>\n",
       "      <th>year_of_release</th>\n",
       "    </tr>\n",
       "    <tr>\n",
       "      <th>platform</th>\n",
       "      <th></th>\n",
       "    </tr>\n",
       "  </thead>\n",
       "  <tbody>\n",
       "    <tr>\n",
       "      <th>DS</th>\n",
       "      <td>9</td>\n",
       "    </tr>\n",
       "    <tr>\n",
       "      <th>PS</th>\n",
       "      <td>9</td>\n",
       "    </tr>\n",
       "    <tr>\n",
       "      <th>PS2</th>\n",
       "      <td>11</td>\n",
       "    </tr>\n",
       "    <tr>\n",
       "      <th>PS3</th>\n",
       "      <td>11</td>\n",
       "    </tr>\n",
       "    <tr>\n",
       "      <th>Wii</th>\n",
       "      <td>10</td>\n",
       "    </tr>\n",
       "    <tr>\n",
       "      <th>X360</th>\n",
       "      <td>11</td>\n",
       "    </tr>\n",
       "  </tbody>\n",
       "</table>\n",
       "</div>"
      ],
      "text/plain": [
       "          year_of_release\n",
       "platform                 \n",
       "DS                      9\n",
       "PS                      9\n",
       "PS2                    11\n",
       "PS3                    11\n",
       "Wii                    10\n",
       "X360                   11"
      ]
     },
     "execution_count": 23,
     "metadata": {},
     "output_type": "execute_result"
    }
   ],
   "source": [
    "top_platforms = top_platforms[top_platforms['year_of_release'] > 1985]\n",
    "# we remove 1985, since other top platforms do not have releases earlier than this year.\n",
    "life_of_platforms = top_platforms.groupby('platform').agg({'year_of_release' : 'max'}) \\\n",
    "-  top_platforms.groupby('platform').agg({'year_of_release' : 'min'}) \n",
    "life_of_platforms"
   ]
  },
  {
   "cell_type": "markdown",
   "metadata": {},
   "source": [
    "Overall, from the tables, we see that the \"lifespan\" of a gaming platform is about 10 years."
   ]
  },
  {
   "cell_type": "markdown",
   "metadata": {},
   "source": [
    "### Select data for the corresponding relevant period. The main selection factor is that the data can help build a forecast for 2017. Analyze which platforms are leading in sales, rising or falling. Choose several potentially profitable platforms."
   ]
  },
  {
   "cell_type": "markdown",
   "metadata": {},
   "source": [
    "Considering that, in general, the most \"popular\" platforms last about 10 years, and also that forecasts for 2017 should be based on fresh data, it makes sense to take the period from 2006 to 2015. However, given that the gaming industry is evolving very quickly, the interval should be narrowed down to 4 years. 2016 should not be included, as according to the task's conditions, it is currently December 2016 and the data for the current year may be incomplete and, consequently, incorrectly analyzed."
   ]
  },
  {
   "cell_type": "code",
   "execution_count": 24,
   "metadata": {},
   "outputs": [],
   "source": [
    "good_data_actual = good_data[(good_data['year_of_release'] >= 2012) & (good_data['year_of_release'] <= 2015)]"
   ]
  },
  {
   "cell_type": "code",
   "execution_count": 25,
   "metadata": {
    "scrolled": true
   },
   "outputs": [
    {
     "data": {
      "text/plain": [
       "platform\n",
       "PS3     286.11\n",
       "PS4     244.89\n",
       "X360    236.00\n",
       "3DS     179.87\n",
       "XOne    133.17\n",
       "WiiU     77.59\n",
       "PC       58.26\n",
       "PSV      44.93\n",
       "Wii      36.42\n",
       "DS       13.21\n",
       "PSP      11.69\n",
       "Name: total_sales, dtype: float64"
      ]
     },
     "execution_count": 25,
     "metadata": {},
     "output_type": "execute_result"
    }
   ],
   "source": [
    "good_data_actual.groupby(['platform'])['total_sales'].sum().sort_values(ascending=False)"
   ]
  },
  {
   "cell_type": "code",
   "execution_count": 26,
   "metadata": {},
   "outputs": [],
   "source": [
    "platforms_actual = ['PSP', 'DS', 'Wii', 'PSV', 'PC', 'WiiU', 'XOne', '3DS', 'X360', 'PS4', 'PS3']"
   ]
  },
  {
   "cell_type": "code",
   "execution_count": 27,
   "metadata": {
    "scrolled": false
   },
   "outputs": [
    {
     "data": {
      "image/png": "[encoded data removed]",
      "text/plain": [
       "<Figure size 1080x504 with 1 Axes>"
      ]
     },
     "metadata": {
      "needs_background": "light"
     },
     "output_type": "display_data"
    }
   ],
   "source": [
    "good_data_actual_plat = good_data_actual.query('platform == @platforms_actual') \\\n",
    ".pivot_table('total_sales', ['platform', 'year_of_release'], aggfunc=sum).reset_index()\n",
    "\n",
    "ax = plt.gca();\n",
    "for x in platforms_actual:\n",
    "    plat = good_data_actual_plat.query('platform == @x');\n",
    "    plat.plot(x = 'year_of_release', y = 'total_sales', figsize=(15, 7), ax=ax);\n",
    "ax.legend(platforms_actual);\n",
    "ax.set_title('Game sales on various platforms in 2012-2015')\n",
    "ax.set_xlabel('Year')\n",
    "ax.set_ylabel('Number of sales, n')\n",
    "plt.show()"
   ]
  },
  {
   "cell_type": "markdown",
   "metadata": {},
   "source": [
    "Overall, on the chart, we see a trend of declining game sales. Sales on PC show a stable level. It is also evident that starting from 2013, active sales growth began on the PS4 and XOne platforms. Accordingly, these platforms are currently the most promising, especially considering the fact that the peak in game sales occurs 3-5 years from the beginning of the platform's \"life\"."
   ]
  },
  {
   "cell_type": "markdown",
   "metadata": {},
   "source": [
    "### Construct a \"box and whiskers\" plot for global game sales broken down by platform. Describe the result."
   ]
  },
  {
   "cell_type": "code",
   "execution_count": 28,
   "metadata": {
    "scrolled": false
   },
   "outputs": [
    {
     "data": {
      "image/png": "[encoded data removed]",
      "text/plain": [
       "<Figure size 1080x720 with 1 Axes>"
      ]
     },
     "metadata": {
      "needs_background": "light"
     },
     "output_type": "display_data"
    }
   ],
   "source": [
    "good_data_actual.boxplot(column='total_sales', by='platform', figsize=(15, 10))\n",
    "plt.title('Game sales on various platforms')\n",
    "plt.show()"
   ]
  },
  {
   "cell_type": "code",
   "execution_count": 29,
   "metadata": {
    "scrolled": true
   },
   "outputs": [
    {
     "name": "stdout",
     "output_type": "stream",
     "text": [
      "Platform PS3\n",
      "count    456.000000\n",
      "mean       0.627434\n",
      "std        1.513655\n",
      "min        0.010000\n",
      "25%        0.050000\n",
      "50%        0.230000\n",
      "75%        0.660000\n",
      "max       21.050000\n",
      "Name: total_sales, dtype: float64\n",
      "\n",
      "Platform X360\n",
      "count    281.000000\n",
      "mean       0.839858\n",
      "std        1.739239\n",
      "min        0.010000\n",
      "25%        0.100000\n",
      "50%        0.340000\n",
      "75%        0.890000\n",
      "max       16.270000\n",
      "Name: total_sales, dtype: float64\n",
      "\n",
      "Platform PS4\n",
      "count    228.000000\n",
      "mean       1.074079\n",
      "std        1.899788\n",
      "min        0.010000\n",
      "25%        0.097500\n",
      "50%        0.310000\n",
      "75%        1.105000\n",
      "max       14.630000\n",
      "Name: total_sales, dtype: float64\n",
      "\n",
      "Platform 3DS\n",
      "count    351.000000\n",
      "mean       0.512450\n",
      "std        1.422558\n",
      "min        0.010000\n",
      "25%        0.050000\n",
      "50%        0.120000\n",
      "75%        0.340000\n",
      "max       14.600000\n",
      "Name: total_sales, dtype: float64\n",
      "\n",
      "Platform DS\n",
      "count    32.000000\n",
      "mean      0.412812\n",
      "std       1.416559\n",
      "min       0.010000\n",
      "25%       0.020000\n",
      "50%       0.050000\n",
      "75%       0.195000\n",
      "max       8.060000\n",
      "Name: total_sales, dtype: float64\n",
      "\n",
      "Platform XOne\n",
      "count    160.000000\n",
      "mean       0.832312\n",
      "std        1.182243\n",
      "min        0.010000\n",
      "25%        0.130000\n",
      "50%        0.350000\n",
      "75%        1.137500\n",
      "max        7.390000\n",
      "Name: total_sales, dtype: float64\n",
      "\n",
      "Platform WiiU\n",
      "count    133.000000\n",
      "mean       0.583383\n",
      "std        1.105384\n",
      "min        0.010000\n",
      "25%        0.080000\n",
      "50%        0.220000\n",
      "75%        0.530000\n",
      "max        7.090000\n",
      "Name: total_sales, dtype: float64\n",
      "\n",
      "Platform Wii\n",
      "count    54.000000\n",
      "mean      0.674444\n",
      "std       1.166132\n",
      "min       0.010000\n",
      "25%       0.062500\n",
      "50%       0.185000\n",
      "75%       0.840000\n",
      "max       6.760000\n",
      "Name: total_sales, dtype: float64\n",
      "\n",
      "Platform PC\n",
      "count    201.000000\n",
      "mean       0.289851\n",
      "std        0.540666\n",
      "min        0.010000\n",
      "25%        0.030000\n",
      "50%        0.100000\n",
      "75%        0.290000\n",
      "max        5.140000\n",
      "Name: total_sales, dtype: float64\n",
      "\n",
      "Platform PSV\n",
      "count    326.000000\n",
      "mean       0.137822\n",
      "std        0.222652\n",
      "min        0.010000\n",
      "25%        0.030000\n",
      "50%        0.060000\n",
      "75%        0.150000\n",
      "max        1.960000\n",
      "Name: total_sales, dtype: float64\n",
      "\n",
      "Platform PSP\n",
      "count    175.000000\n",
      "mean       0.066800\n",
      "std        0.073594\n",
      "min        0.010000\n",
      "25%        0.020000\n",
      "50%        0.040000\n",
      "75%        0.090000\n",
      "max        0.360000\n",
      "Name: total_sales, dtype: float64\n",
      "\n"
     ]
    }
   ],
   "source": [
    "for plat in good_data_actual['platform'].unique():\n",
    "    descr = good_data_actual.query('platform == @plat')\n",
    "    print('Platform', plat)\n",
    "    print(descr['total_sales'].describe())\n",
    "    print('')"
   ]
  },
  {
   "cell_type": "markdown",
   "metadata": {},
   "source": [
    "Since the chart contains significant outliers, we \"narrow\" the y-axis."
   ]
  },
  {
   "cell_type": "code",
   "execution_count": 30,
   "metadata": {},
   "outputs": [
    {
     "data": {
      "image/png": "[encoded data removed]",
      "text/plain": [
       "<Figure size 1080x720 with 1 Axes>"
      ]
     },
     "metadata": {
      "needs_background": "light"
     },
     "output_type": "display_data"
    }
   ],
   "source": [
    "good_data_actual.boxplot(column='total_sales', by='platform', figsize=(15, 10))\n",
    "plt.title('Game sales on different platforms')\n",
    "plt.ylim(0, 3)\n",
    "plt.show()"
   ]
  },
  {
   "cell_type": "markdown",
   "metadata": {},
   "source": [
    "The median sales of games on the most well-known platforms are 0.2-0.25 million copies, and for two platforms (PS4 and XOne) the upper limit reaches almost 2.5 million copies. PC has a relatively low median of sales. Meanwhile, 228 and 160 games were released on PS4 and XOne, respectively, and on PC - 733 games. This suggests that PS4 and XOne release more quality and sellable games, albeit in smaller quantities."
   ]
  },
  {
   "cell_type": "markdown",
   "metadata": {},
   "source": [
    "### Analyze how user and critic reviews affect sales within one popular platform. Construct a scatter plot and calculate the correlation between reviews and sales. Formulate conclusions. Compare with other platforms."
   ]
  },
  {
   "cell_type": "code",
   "execution_count": 31,
   "metadata": {},
   "outputs": [],
   "source": [
    "good_data_actual_X360 = good_data_actual[(good_data_actual['platform'] == 'X360')]"
   ]
  },
  {
   "cell_type": "code",
   "execution_count": 32,
   "metadata": {},
   "outputs": [
    {
     "data": {
      "image/png": "[encoded data removed]",
      "text/plain": [
       "<Figure size 504x504 with 1 Axes>"
      ]
     },
     "metadata": {
      "needs_background": "light"
     },
     "output_type": "display_data"
    }
   ],
   "source": [
    "good_data_actual_X360_crit = good_data_actual_X360.plot(x='critic_score', y='total_sales', kind='scatter', alpha=0.5, figsize=(7,7), grid=True)\n",
    "good_data_actual_X360_crit.set_title('Dependence of game sales on the X360 platform on critic ratings')\n",
    "good_data_actual_X360_crit.set_xlabel('Critic Rating')\n",
    "good_data_actual_X360_crit.set_ylabel('Number of Sales, n')\n",
    "plt.show()"
   ]
  },
  {
   "cell_type": "code",
   "execution_count": 33,
   "metadata": {
    "scrolled": false
   },
   "outputs": [
    {
     "data": {
      "image/png": "[encoded data removed]",
      "text/plain": [
       "<Figure size 504x504 with 1 Axes>"
      ]
     },
     "metadata": {
      "needs_background": "light"
     },
     "output_type": "display_data"
    }
   ],
   "source": [
    "good_data_actual_X360_user = good_data_actual_X360.plot(x='user_score', y='total_sales', kind='scatter', alpha=0.5, figsize=(7,7), grid=True)\n",
    "good_data_actual_X360_user.set_title('Dependence of sales on the X360 platform on user ratings')\n",
    "good_data_actual_X360_user.set_xlabel('User Rating')\n",
    "good_data_actual_X360_user.set_ylabel('Number of Sales, n')\n",
    "plt.show()"
   ]
  },
  {
   "cell_type": "code",
   "execution_count": 34,
   "metadata": {},
   "outputs": [
    {
     "data": {
      "image/png": "[encoded data removed]",
      "text/plain": [
       "<Figure size 576x576 with 2 Axes>"
      ]
     },
     "metadata": {},
     "output_type": "display_data"
    }
   ],
   "source": [
    "corr_good_data_actual_X360 = good_data_actual_X360[['platform', 'critic_score', 'user_score', 'total_sales']].corr()\n",
    "sns.set(rc={'figure.figsize':(8,8)})\n",
    "sns.heatmap(corr_good_data_actual_X360, square=True, annot=True, fmt='.2f')\n",
    "sns.color_palette(\"Paired\")\n",
    "plt.show()"
   ]
  },
  {
   "cell_type": "markdown",
   "metadata": {},
   "source": [
    "By building a correlation matrix with correlation coefficients, we see that user ratings do not correlate with sales (correlation coefficient -0.01, indicating a lack of correlation). Critic ratings positively correlate with sales - a correlation coefficient of 0.36, but its strength is weak. We can say that users trust expert opinions more."
   ]
  },
  {
   "cell_type": "code",
   "execution_count": 35,
   "metadata": {},
   "outputs": [],
   "source": [
    "crit_user_ratings_all = good_data_actual.loc[:,['platform', 'total_sales', 'critic_score', 'user_score']]"
   ]
  },
  {
   "cell_type": "code",
   "execution_count": 36,
   "metadata": {},
   "outputs": [
    {
     "data": {
      "text/html": [
       "<div>\n",
       "<style scoped>\n",
       "    .dataframe tbody tr th:only-of-type {\n",
       "        vertical-align: middle;\n",
       "    }\n",
       "\n",
       "    .dataframe tbody tr th {\n",
       "        vertical-align: top;\n",
       "    }\n",
       "\n",
       "    .dataframe thead th {\n",
       "        text-align: right;\n",
       "    }\n",
       "</style>\n",
       "<table border=\"1\" class=\"dataframe\">\n",
       "  <thead>\n",
       "    <tr style=\"text-align: right;\">\n",
       "      <th></th>\n",
       "      <th>total_sales</th>\n",
       "      <th>critic_score</th>\n",
       "      <th>user_score</th>\n",
       "    </tr>\n",
       "  </thead>\n",
       "  <tbody>\n",
       "    <tr>\n",
       "      <th>total_sales</th>\n",
       "      <td>1.000000</td>\n",
       "      <td>0.319619</td>\n",
       "      <td>0.010353</td>\n",
       "    </tr>\n",
       "    <tr>\n",
       "      <th>critic_score</th>\n",
       "      <td>0.319619</td>\n",
       "      <td>1.000000</td>\n",
       "      <td>0.534601</td>\n",
       "    </tr>\n",
       "    <tr>\n",
       "      <th>user_score</th>\n",
       "      <td>0.010353</td>\n",
       "      <td>0.534601</td>\n",
       "      <td>1.000000</td>\n",
       "    </tr>\n",
       "  </tbody>\n",
       "</table>\n",
       "</div>"
      ],
      "text/plain": [
       "              total_sales  critic_score  user_score\n",
       "total_sales      1.000000      0.319619    0.010353\n",
       "critic_score     0.319619      1.000000    0.534601\n",
       "user_score       0.010353      0.534601    1.000000"
      ]
     },
     "execution_count": 36,
     "metadata": {},
     "output_type": "execute_result"
    }
   ],
   "source": [
    "# initially, let's analyze correlations across all platforms.\n",
    "\n",
    "crit_user_ratings_all.corr()"
   ]
  },
  {
   "cell_type": "markdown",
   "metadata": {},
   "source": [
    "If we sample all platforms present in the market during the analyzed period, we can conclude that user ratings do not influence sales, while critic ratings weakly positively correlate with sales."
   ]
  },
  {
   "cell_type": "code",
   "execution_count": 37,
   "metadata": {
    "scrolled": false
   },
   "outputs": [
    {
     "name": "stdout",
     "output_type": "stream",
     "text": [
      "PSP\n"
     ]
    },
    {
     "data": {
      "text/html": [
       "<div>\n",
       "<style scoped>\n",
       "    .dataframe tbody tr th:only-of-type {\n",
       "        vertical-align: middle;\n",
       "    }\n",
       "\n",
       "    .dataframe tbody tr th {\n",
       "        vertical-align: top;\n",
       "    }\n",
       "\n",
       "    .dataframe thead th {\n",
       "        text-align: right;\n",
       "    }\n",
       "</style>\n",
       "<table border=\"1\" class=\"dataframe\">\n",
       "  <thead>\n",
       "    <tr style=\"text-align: right;\">\n",
       "      <th></th>\n",
       "      <th>total_sales</th>\n",
       "      <th>critic_score</th>\n",
       "      <th>user_score</th>\n",
       "    </tr>\n",
       "  </thead>\n",
       "  <tbody>\n",
       "    <tr>\n",
       "      <th>total_sales</th>\n",
       "      <td>1.000000</td>\n",
       "      <td>NaN</td>\n",
       "      <td>-0.802302</td>\n",
       "    </tr>\n",
       "    <tr>\n",
       "      <th>critic_score</th>\n",
       "      <td>NaN</td>\n",
       "      <td>NaN</td>\n",
       "      <td>NaN</td>\n",
       "    </tr>\n",
       "    <tr>\n",
       "      <th>user_score</th>\n",
       "      <td>-0.802302</td>\n",
       "      <td>NaN</td>\n",
       "      <td>1.000000</td>\n",
       "    </tr>\n",
       "  </tbody>\n",
       "</table>\n",
       "</div>"
      ],
      "text/plain": [
       "              total_sales  critic_score  user_score\n",
       "total_sales      1.000000           NaN   -0.802302\n",
       "critic_score          NaN           NaN         NaN\n",
       "user_score      -0.802302           NaN    1.000000"
      ]
     },
     "metadata": {},
     "output_type": "display_data"
    },
    {
     "name": "stdout",
     "output_type": "stream",
     "text": [
      "DS\n"
     ]
    },
    {
     "data": {
      "text/html": [
       "<div>\n",
       "<style scoped>\n",
       "    .dataframe tbody tr th:only-of-type {\n",
       "        vertical-align: middle;\n",
       "    }\n",
       "\n",
       "    .dataframe tbody tr th {\n",
       "        vertical-align: top;\n",
       "    }\n",
       "\n",
       "    .dataframe thead th {\n",
       "        text-align: right;\n",
       "    }\n",
       "</style>\n",
       "<table border=\"1\" class=\"dataframe\">\n",
       "  <thead>\n",
       "    <tr style=\"text-align: right;\">\n",
       "      <th></th>\n",
       "      <th>total_sales</th>\n",
       "      <th>critic_score</th>\n",
       "      <th>user_score</th>\n",
       "    </tr>\n",
       "  </thead>\n",
       "  <tbody>\n",
       "    <tr>\n",
       "      <th>total_sales</th>\n",
       "      <td>1.000000</td>\n",
       "      <td>1.0</td>\n",
       "      <td>0.882709</td>\n",
       "    </tr>\n",
       "    <tr>\n",
       "      <th>critic_score</th>\n",
       "      <td>1.000000</td>\n",
       "      <td>1.0</td>\n",
       "      <td>NaN</td>\n",
       "    </tr>\n",
       "    <tr>\n",
       "      <th>user_score</th>\n",
       "      <td>0.882709</td>\n",
       "      <td>NaN</td>\n",
       "      <td>1.000000</td>\n",
       "    </tr>\n",
       "  </tbody>\n",
       "</table>\n",
       "</div>"
      ],
      "text/plain": [
       "              total_sales  critic_score  user_score\n",
       "total_sales      1.000000           1.0    0.882709\n",
       "critic_score     1.000000           1.0         NaN\n",
       "user_score       0.882709           NaN    1.000000"
      ]
     },
     "metadata": {},
     "output_type": "display_data"
    },
    {
     "name": "stdout",
     "output_type": "stream",
     "text": [
      "Wii\n"
     ]
    },
    {
     "data": {
      "text/html": [
       "<div>\n",
       "<style scoped>\n",
       "    .dataframe tbody tr th:only-of-type {\n",
       "        vertical-align: middle;\n",
       "    }\n",
       "\n",
       "    .dataframe tbody tr th {\n",
       "        vertical-align: top;\n",
       "    }\n",
       "\n",
       "    .dataframe thead th {\n",
       "        text-align: right;\n",
       "    }\n",
       "</style>\n",
       "<table border=\"1\" class=\"dataframe\">\n",
       "  <thead>\n",
       "    <tr style=\"text-align: right;\">\n",
       "      <th></th>\n",
       "      <th>total_sales</th>\n",
       "      <th>critic_score</th>\n",
       "      <th>user_score</th>\n",
       "    </tr>\n",
       "  </thead>\n",
       "  <tbody>\n",
       "    <tr>\n",
       "      <th>total_sales</th>\n",
       "      <td>1.000000</td>\n",
       "      <td>-0.405997</td>\n",
       "      <td>0.277542</td>\n",
       "    </tr>\n",
       "    <tr>\n",
       "      <th>critic_score</th>\n",
       "      <td>-0.405997</td>\n",
       "      <td>1.000000</td>\n",
       "      <td>0.780222</td>\n",
       "    </tr>\n",
       "    <tr>\n",
       "      <th>user_score</th>\n",
       "      <td>0.277542</td>\n",
       "      <td>0.780222</td>\n",
       "      <td>1.000000</td>\n",
       "    </tr>\n",
       "  </tbody>\n",
       "</table>\n",
       "</div>"
      ],
      "text/plain": [
       "              total_sales  critic_score  user_score\n",
       "total_sales      1.000000     -0.405997    0.277542\n",
       "critic_score    -0.405997      1.000000    0.780222\n",
       "user_score       0.277542      0.780222    1.000000"
      ]
     },
     "metadata": {},
     "output_type": "display_data"
    },
    {
     "name": "stdout",
     "output_type": "stream",
     "text": [
      "PSV\n"
     ]
    },
    {
     "data": {
      "text/html": [
       "<div>\n",
       "<style scoped>\n",
       "    .dataframe tbody tr th:only-of-type {\n",
       "        vertical-align: middle;\n",
       "    }\n",
       "\n",
       "    .dataframe tbody tr th {\n",
       "        vertical-align: top;\n",
       "    }\n",
       "\n",
       "    .dataframe thead th {\n",
       "        text-align: right;\n",
       "    }\n",
       "</style>\n",
       "<table border=\"1\" class=\"dataframe\">\n",
       "  <thead>\n",
       "    <tr style=\"text-align: right;\">\n",
       "      <th></th>\n",
       "      <th>total_sales</th>\n",
       "      <th>critic_score</th>\n",
       "      <th>user_score</th>\n",
       "    </tr>\n",
       "  </thead>\n",
       "  <tbody>\n",
       "    <tr>\n",
       "      <th>total_sales</th>\n",
       "      <td>1.000000</td>\n",
       "      <td>0.116121</td>\n",
       "      <td>0.013595</td>\n",
       "    </tr>\n",
       "    <tr>\n",
       "      <th>critic_score</th>\n",
       "      <td>0.116121</td>\n",
       "      <td>1.000000</td>\n",
       "      <td>0.711630</td>\n",
       "    </tr>\n",
       "    <tr>\n",
       "      <th>user_score</th>\n",
       "      <td>0.013595</td>\n",
       "      <td>0.711630</td>\n",
       "      <td>1.000000</td>\n",
       "    </tr>\n",
       "  </tbody>\n",
       "</table>\n",
       "</div>"
      ],
      "text/plain": [
       "              total_sales  critic_score  user_score\n",
       "total_sales      1.000000      0.116121    0.013595\n",
       "critic_score     0.116121      1.000000    0.711630\n",
       "user_score       0.013595      0.711630    1.000000"
      ]
     },
     "metadata": {},
     "output_type": "display_data"
    },
    {
     "name": "stdout",
     "output_type": "stream",
     "text": [
      "PC\n"
     ]
    },
    {
     "data": {
      "text/html": [
       "<div>\n",
       "<style scoped>\n",
       "    .dataframe tbody tr th:only-of-type {\n",
       "        vertical-align: middle;\n",
       "    }\n",
       "\n",
       "    .dataframe tbody tr th {\n",
       "        vertical-align: top;\n",
       "    }\n",
       "\n",
       "    .dataframe thead th {\n",
       "        text-align: right;\n",
       "    }\n",
       "</style>\n",
       "<table border=\"1\" class=\"dataframe\">\n",
       "  <thead>\n",
       "    <tr style=\"text-align: right;\">\n",
       "      <th></th>\n",
       "      <th>total_sales</th>\n",
       "      <th>critic_score</th>\n",
       "      <th>user_score</th>\n",
       "    </tr>\n",
       "  </thead>\n",
       "  <tbody>\n",
       "    <tr>\n",
       "      <th>total_sales</th>\n",
       "      <td>1.000000</td>\n",
       "      <td>0.266735</td>\n",
       "      <td>-0.157726</td>\n",
       "    </tr>\n",
       "    <tr>\n",
       "      <th>critic_score</th>\n",
       "      <td>0.266735</td>\n",
       "      <td>1.000000</td>\n",
       "      <td>0.420337</td>\n",
       "    </tr>\n",
       "    <tr>\n",
       "      <th>user_score</th>\n",
       "      <td>-0.157726</td>\n",
       "      <td>0.420337</td>\n",
       "      <td>1.000000</td>\n",
       "    </tr>\n",
       "  </tbody>\n",
       "</table>\n",
       "</div>"
      ],
      "text/plain": [
       "              total_sales  critic_score  user_score\n",
       "total_sales      1.000000      0.266735   -0.157726\n",
       "critic_score     0.266735      1.000000    0.420337\n",
       "user_score      -0.157726      0.420337    1.000000"
      ]
     },
     "metadata": {},
     "output_type": "display_data"
    },
    {
     "name": "stdout",
     "output_type": "stream",
     "text": [
      "WiiU\n"
     ]
    },
    {
     "data": {
      "text/html": [
       "<div>\n",
       "<style scoped>\n",
       "    .dataframe tbody tr th:only-of-type {\n",
       "        vertical-align: middle;\n",
       "    }\n",
       "\n",
       "    .dataframe tbody tr th {\n",
       "        vertical-align: top;\n",
       "    }\n",
       "\n",
       "    .dataframe thead th {\n",
       "        text-align: right;\n",
       "    }\n",
       "</style>\n",
       "<table border=\"1\" class=\"dataframe\">\n",
       "  <thead>\n",
       "    <tr style=\"text-align: right;\">\n",
       "      <th></th>\n",
       "      <th>total_sales</th>\n",
       "      <th>critic_score</th>\n",
       "      <th>user_score</th>\n",
       "    </tr>\n",
       "  </thead>\n",
       "  <tbody>\n",
       "    <tr>\n",
       "      <th>total_sales</th>\n",
       "      <td>1.000000</td>\n",
       "      <td>0.354691</td>\n",
       "      <td>0.413265</td>\n",
       "    </tr>\n",
       "    <tr>\n",
       "      <th>critic_score</th>\n",
       "      <td>0.354691</td>\n",
       "      <td>1.000000</td>\n",
       "      <td>0.760811</td>\n",
       "    </tr>\n",
       "    <tr>\n",
       "      <th>user_score</th>\n",
       "      <td>0.413265</td>\n",
       "      <td>0.760811</td>\n",
       "      <td>1.000000</td>\n",
       "    </tr>\n",
       "  </tbody>\n",
       "</table>\n",
       "</div>"
      ],
      "text/plain": [
       "              total_sales  critic_score  user_score\n",
       "total_sales      1.000000      0.354691    0.413265\n",
       "critic_score     0.354691      1.000000    0.760811\n",
       "user_score       0.413265      0.760811    1.000000"
      ]
     },
     "metadata": {},
     "output_type": "display_data"
    },
    {
     "name": "stdout",
     "output_type": "stream",
     "text": [
      "XOne\n"
     ]
    },
    {
     "data": {
      "text/html": [
       "<div>\n",
       "<style scoped>\n",
       "    .dataframe tbody tr th:only-of-type {\n",
       "        vertical-align: middle;\n",
       "    }\n",
       "\n",
       "    .dataframe tbody tr th {\n",
       "        vertical-align: top;\n",
       "    }\n",
       "\n",
       "    .dataframe thead th {\n",
       "        text-align: right;\n",
       "    }\n",
       "</style>\n",
       "<table border=\"1\" class=\"dataframe\">\n",
       "  <thead>\n",
       "    <tr style=\"text-align: right;\">\n",
       "      <th></th>\n",
       "      <th>total_sales</th>\n",
       "      <th>critic_score</th>\n",
       "      <th>user_score</th>\n",
       "    </tr>\n",
       "  </thead>\n",
       "  <tbody>\n",
       "    <tr>\n",
       "      <th>total_sales</th>\n",
       "      <td>1.000000</td>\n",
       "      <td>0.459385</td>\n",
       "      <td>-0.039268</td>\n",
       "    </tr>\n",
       "    <tr>\n",
       "      <th>critic_score</th>\n",
       "      <td>0.459385</td>\n",
       "      <td>1.000000</td>\n",
       "      <td>0.499502</td>\n",
       "    </tr>\n",
       "    <tr>\n",
       "      <th>user_score</th>\n",
       "      <td>-0.039268</td>\n",
       "      <td>0.499502</td>\n",
       "      <td>1.000000</td>\n",
       "    </tr>\n",
       "  </tbody>\n",
       "</table>\n",
       "</div>"
      ],
      "text/plain": [
       "              total_sales  critic_score  user_score\n",
       "total_sales      1.000000      0.459385   -0.039268\n",
       "critic_score     0.459385      1.000000    0.499502\n",
       "user_score      -0.039268      0.499502    1.000000"
      ]
     },
     "metadata": {},
     "output_type": "display_data"
    },
    {
     "name": "stdout",
     "output_type": "stream",
     "text": [
      "3DS\n"
     ]
    },
    {
     "data": {
      "text/html": [
       "<div>\n",
       "<style scoped>\n",
       "    .dataframe tbody tr th:only-of-type {\n",
       "        vertical-align: middle;\n",
       "    }\n",
       "\n",
       "    .dataframe tbody tr th {\n",
       "        vertical-align: top;\n",
       "    }\n",
       "\n",
       "    .dataframe thead th {\n",
       "        text-align: right;\n",
       "    }\n",
       "</style>\n",
       "<table border=\"1\" class=\"dataframe\">\n",
       "  <thead>\n",
       "    <tr style=\"text-align: right;\">\n",
       "      <th></th>\n",
       "      <th>total_sales</th>\n",
       "      <th>critic_score</th>\n",
       "      <th>user_score</th>\n",
       "    </tr>\n",
       "  </thead>\n",
       "  <tbody>\n",
       "    <tr>\n",
       "      <th>total_sales</th>\n",
       "      <td>1.000000</td>\n",
       "      <td>0.332658</td>\n",
       "      <td>0.211217</td>\n",
       "    </tr>\n",
       "    <tr>\n",
       "      <th>critic_score</th>\n",
       "      <td>0.332658</td>\n",
       "      <td>1.000000</td>\n",
       "      <td>0.722478</td>\n",
       "    </tr>\n",
       "    <tr>\n",
       "      <th>user_score</th>\n",
       "      <td>0.211217</td>\n",
       "      <td>0.722478</td>\n",
       "      <td>1.000000</td>\n",
       "    </tr>\n",
       "  </tbody>\n",
       "</table>\n",
       "</div>"
      ],
      "text/plain": [
       "              total_sales  critic_score  user_score\n",
       "total_sales      1.000000      0.332658    0.211217\n",
       "critic_score     0.332658      1.000000    0.722478\n",
       "user_score       0.211217      0.722478    1.000000"
      ]
     },
     "metadata": {},
     "output_type": "display_data"
    },
    {
     "name": "stdout",
     "output_type": "stream",
     "text": [
      "X360\n"
     ]
    },
    {
     "data": {
      "text/html": [
       "<div>\n",
       "<style scoped>\n",
       "    .dataframe tbody tr th:only-of-type {\n",
       "        vertical-align: middle;\n",
       "    }\n",
       "\n",
       "    .dataframe tbody tr th {\n",
       "        vertical-align: top;\n",
       "    }\n",
       "\n",
       "    .dataframe thead th {\n",
       "        text-align: right;\n",
       "    }\n",
       "</style>\n",
       "<table border=\"1\" class=\"dataframe\">\n",
       "  <thead>\n",
       "    <tr style=\"text-align: right;\">\n",
       "      <th></th>\n",
       "      <th>total_sales</th>\n",
       "      <th>critic_score</th>\n",
       "      <th>user_score</th>\n",
       "    </tr>\n",
       "  </thead>\n",
       "  <tbody>\n",
       "    <tr>\n",
       "      <th>total_sales</th>\n",
       "      <td>1.000000</td>\n",
       "      <td>0.360266</td>\n",
       "      <td>-0.009469</td>\n",
       "    </tr>\n",
       "    <tr>\n",
       "      <th>critic_score</th>\n",
       "      <td>0.360266</td>\n",
       "      <td>1.000000</td>\n",
       "      <td>0.557952</td>\n",
       "    </tr>\n",
       "    <tr>\n",
       "      <th>user_score</th>\n",
       "      <td>-0.009469</td>\n",
       "      <td>0.557952</td>\n",
       "      <td>1.000000</td>\n",
       "    </tr>\n",
       "  </tbody>\n",
       "</table>\n",
       "</div>"
      ],
      "text/plain": [
       "              total_sales  critic_score  user_score\n",
       "total_sales      1.000000      0.360266   -0.009469\n",
       "critic_score     0.360266      1.000000    0.557952\n",
       "user_score      -0.009469      0.557952    1.000000"
      ]
     },
     "metadata": {},
     "output_type": "display_data"
    },
    {
     "name": "stdout",
     "output_type": "stream",
     "text": [
      "PS4\n"
     ]
    },
    {
     "data": {
      "text/html": [
       "<div>\n",
       "<style scoped>\n",
       "    .dataframe tbody tr th:only-of-type {\n",
       "        vertical-align: middle;\n",
       "    }\n",
       "\n",
       "    .dataframe tbody tr th {\n",
       "        vertical-align: top;\n",
       "    }\n",
       "\n",
       "    .dataframe thead th {\n",
       "        text-align: right;\n",
       "    }\n",
       "</style>\n",
       "<table border=\"1\" class=\"dataframe\">\n",
       "  <thead>\n",
       "    <tr style=\"text-align: right;\">\n",
       "      <th></th>\n",
       "      <th>total_sales</th>\n",
       "      <th>critic_score</th>\n",
       "      <th>user_score</th>\n",
       "    </tr>\n",
       "  </thead>\n",
       "  <tbody>\n",
       "    <tr>\n",
       "      <th>total_sales</th>\n",
       "      <td>1.000000</td>\n",
       "      <td>0.431848</td>\n",
       "      <td>0.024231</td>\n",
       "    </tr>\n",
       "    <tr>\n",
       "      <th>critic_score</th>\n",
       "      <td>0.431848</td>\n",
       "      <td>1.000000</td>\n",
       "      <td>0.612451</td>\n",
       "    </tr>\n",
       "    <tr>\n",
       "      <th>user_score</th>\n",
       "      <td>0.024231</td>\n",
       "      <td>0.612451</td>\n",
       "      <td>1.000000</td>\n",
       "    </tr>\n",
       "  </tbody>\n",
       "</table>\n",
       "</div>"
      ],
      "text/plain": [
       "              total_sales  critic_score  user_score\n",
       "total_sales      1.000000      0.431848    0.024231\n",
       "critic_score     0.431848      1.000000    0.612451\n",
       "user_score       0.024231      0.612451    1.000000"
      ]
     },
     "metadata": {},
     "output_type": "display_data"
    },
    {
     "name": "stdout",
     "output_type": "stream",
     "text": [
      "PS3\n"
     ]
    },
    {
     "data": {
      "text/html": [
       "<div>\n",
       "<style scoped>\n",
       "    .dataframe tbody tr th:only-of-type {\n",
       "        vertical-align: middle;\n",
       "    }\n",
       "\n",
       "    .dataframe tbody tr th {\n",
       "        vertical-align: top;\n",
       "    }\n",
       "\n",
       "    .dataframe thead th {\n",
       "        text-align: right;\n",
       "    }\n",
       "</style>\n",
       "<table border=\"1\" class=\"dataframe\">\n",
       "  <thead>\n",
       "    <tr style=\"text-align: right;\">\n",
       "      <th></th>\n",
       "      <th>total_sales</th>\n",
       "      <th>critic_score</th>\n",
       "      <th>user_score</th>\n",
       "    </tr>\n",
       "  </thead>\n",
       "  <tbody>\n",
       "    <tr>\n",
       "      <th>total_sales</th>\n",
       "      <td>1.000000</td>\n",
       "      <td>0.331371</td>\n",
       "      <td>-0.021624</td>\n",
       "    </tr>\n",
       "    <tr>\n",
       "      <th>critic_score</th>\n",
       "      <td>0.331371</td>\n",
       "      <td>1.000000</td>\n",
       "      <td>0.539525</td>\n",
       "    </tr>\n",
       "    <tr>\n",
       "      <th>user_score</th>\n",
       "      <td>-0.021624</td>\n",
       "      <td>0.539525</td>\n",
       "      <td>1.000000</td>\n",
       "    </tr>\n",
       "  </tbody>\n",
       "</table>\n",
       "</div>"
      ],
      "text/plain": [
       "              total_sales  critic_score  user_score\n",
       "total_sales      1.000000      0.331371   -0.021624\n",
       "critic_score     0.331371      1.000000    0.539525\n",
       "user_score      -0.021624      0.539525    1.000000"
      ]
     },
     "metadata": {},
     "output_type": "display_data"
    }
   ],
   "source": [
    "# analyze correlations for each platform separately\n",
    "\n",
    "for p in range(0, 11):\n",
    "    crit_user_ratings_all_plat = good_data_actual.query('platform == @platforms_actual[@p]')\n",
    "    print(platforms_actual[p])\n",
    "    display(crit_user_ratings_all_plat[['platform', 'total_sales', 'critic_score', 'user_score']].corr())"
   ]
  },
  {
   "cell_type": "markdown",
   "metadata": {},
   "source": [
    "We see oddities for some platforms - either there are no correlation coefficient values at all or it's anomalously high. This can happen if there are too few values. Let's see how many values are missing in critic and user ratings for each platform."
   ]
  },
  {
   "cell_type": "code",
   "execution_count": 38,
   "metadata": {
    "scrolled": false
   },
   "outputs": [
    {
     "name": "stdout",
     "output_type": "stream",
     "text": [
      "PSP\n",
      "Percentage of missing values in:\n",
      "\"critic_score_miss\" - 99.4%,\n",
      "\"user_score_miss\" --- 97.7%\n",
      "\n",
      "DS\n",
      "Percentage of missing values in:\n",
      "\"critic_score_miss\" - 93.8%,\n",
      "\"user_score_miss\" --- 90.6%\n",
      "\n",
      "Wii\n",
      "Percentage of missing values in:\n",
      "\"critic_score_miss\" - 88.9%,\n",
      "\"user_score_miss\" --- 66.7%\n",
      "\n",
      "PSV\n",
      "Percentage of missing values in:\n",
      "\"critic_score_miss\" - 70.2%,\n",
      "\"user_score_miss\" --- 64.1%\n",
      "\n",
      "PC\n",
      "Percentage of missing values in:\n",
      "\"critic_score_miss\" - 21.4%,\n",
      "\"user_score_miss\" --- 17.4%\n",
      "\n",
      "WiiU\n",
      "Percentage of missing values in:\n",
      "\"critic_score_miss\" - 39.1%,\n",
      "\"user_score_miss\" --- 31.6%\n",
      "\n",
      "XOne\n",
      "Percentage of missing values in:\n",
      "\"critic_score_miss\" - 31.9%,\n",
      "\"user_score_miss\" --- 27.5%\n",
      "\n",
      "3DS\n",
      "Percentage of missing values in:\n",
      "\"critic_score_miss\" - 72.9%,\n",
      "\"user_score_miss\" --- 70.7%\n",
      "\n",
      "X360\n",
      "Percentage of missing values in:\n",
      "\"critic_score_miss\" - 38.8%,\n",
      "\"user_score_miss\" --- 18.5%\n",
      "\n",
      "PS4\n",
      "Percentage of missing values in:\n",
      "\"critic_score_miss\" - 32.5%,\n",
      "\"user_score_miss\" --- 31.6%\n",
      "\n",
      "PS3\n",
      "Percentage of missing values in:\n",
      "\"critic_score_miss\" - 52.9%,\n",
      "\"user_score_miss\" --- 39.7%\n",
      "\n"
     ]
    }
   ],
   "source": [
    "for p in range(0, 11):\n",
    "    crit_user_ratings_all_plat = good_data_actual.query('platform == @platforms_actual[@p]')\n",
    "    print(platforms_actual[p])\n",
    "    critic_score_miss = crit_user_ratings_all_plat.query('platform == @platforms_actual[@p]')['critic_score'].isna().sum()/\\\n",
    "len(crit_user_ratings_all_plat.query('platform == @platforms_actual[@p]')['critic_score'])\n",
    "    user_score_miss = crit_user_ratings_all_plat.query('platform == @platforms_actual[@p]')['user_score'].isna().sum()/\\\n",
    "len(crit_user_ratings_all_plat.query('platform == @platforms_actual[@p]')['user_score'])\n",
    "    print('Percentage of missing values in:\\n\"critic_score_miss\" - {:.1%},\\n\"user_score_miss\" --- {:.1%}'\n",
    "      .format(critic_score_miss, user_score_miss))\n",
    "    print('')"
   ]
  },
  {
   "cell_type": "markdown",
   "metadata": {},
   "source": [
    "Indeed, for PSP, DS, Wii, PSV, 3DS, there are too many missing values, so we cannot draw conclusions from them.\n",
    "\n",
    "Analyzing other platforms, we can say that in almost all cases, the situation is similar - users trust critic ratings more than user ratings. The exception is the WiiU platform, where users trust both ratings, and even a little more to user ratings. Also notable are PC users who have little trust in critics too - a correlation coefficient of 0.26 is very weak."
   ]
  },
  {
   "cell_type": "markdown",
   "metadata": {},
   "source": [
    "### Analyze the overall distribution of games by genre. Describe the characteristics of the most profitable genres. Assess whether genres with high and low sales stand out."
   ]
  },
  {
   "cell_type": "code",
   "execution_count": 39,
   "metadata": {},
   "outputs": [
    {
     "data": {
      "text/html": [
       "<div>\n",
       "<style scoped>\n",
       "    .dataframe tbody tr th:only-of-type {\n",
       "        vertical-align: middle;\n",
       "    }\n",
       "\n",
       "    .dataframe tbody tr th {\n",
       "        vertical-align: top;\n",
       "    }\n",
       "\n",
       "    .dataframe thead th {\n",
       "        text-align: right;\n",
       "    }\n",
       "</style>\n",
       "<table border=\"1\" class=\"dataframe\">\n",
       "  <thead>\n",
       "    <tr style=\"text-align: right;\">\n",
       "      <th></th>\n",
       "      <th>genre</th>\n",
       "      <th>total_sales</th>\n",
       "    </tr>\n",
       "  </thead>\n",
       "  <tbody>\n",
       "    <tr>\n",
       "      <th>8</th>\n",
       "      <td>Shooter</td>\n",
       "      <td>0.505</td>\n",
       "    </tr>\n",
       "    <tr>\n",
       "      <th>10</th>\n",
       "      <td>Sports</td>\n",
       "      <td>0.305</td>\n",
       "    </tr>\n",
       "    <tr>\n",
       "      <th>4</th>\n",
       "      <td>Platform</td>\n",
       "      <td>0.285</td>\n",
       "    </tr>\n",
       "    <tr>\n",
       "      <th>6</th>\n",
       "      <td>Racing</td>\n",
       "      <td>0.230</td>\n",
       "    </tr>\n",
       "    <tr>\n",
       "      <th>3</th>\n",
       "      <td>Misc</td>\n",
       "      <td>0.180</td>\n",
       "    </tr>\n",
       "    <tr>\n",
       "      <th>2</th>\n",
       "      <td>Fighting</td>\n",
       "      <td>0.160</td>\n",
       "    </tr>\n",
       "    <tr>\n",
       "      <th>7</th>\n",
       "      <td>Role-Playing</td>\n",
       "      <td>0.150</td>\n",
       "    </tr>\n",
       "    <tr>\n",
       "      <th>9</th>\n",
       "      <td>Simulation</td>\n",
       "      <td>0.150</td>\n",
       "    </tr>\n",
       "    <tr>\n",
       "      <th>0</th>\n",
       "      <td>Action</td>\n",
       "      <td>0.140</td>\n",
       "    </tr>\n",
       "    <tr>\n",
       "      <th>11</th>\n",
       "      <td>Strategy</td>\n",
       "      <td>0.080</td>\n",
       "    </tr>\n",
       "    <tr>\n",
       "      <th>5</th>\n",
       "      <td>Puzzle</td>\n",
       "      <td>0.050</td>\n",
       "    </tr>\n",
       "    <tr>\n",
       "      <th>1</th>\n",
       "      <td>Adventure</td>\n",
       "      <td>0.030</td>\n",
       "    </tr>\n",
       "  </tbody>\n",
       "</table>\n",
       "</div>"
      ],
      "text/plain": [
       "           genre  total_sales\n",
       "8        Shooter        0.505\n",
       "10        Sports        0.305\n",
       "4       Platform        0.285\n",
       "6         Racing        0.230\n",
       "3           Misc        0.180\n",
       "2       Fighting        0.160\n",
       "7   Role-Playing        0.150\n",
       "9     Simulation        0.150\n",
       "0         Action        0.140\n",
       "11      Strategy        0.080\n",
       "5         Puzzle        0.050\n",
       "1      Adventure        0.030"
      ]
     },
     "execution_count": 39,
     "metadata": {},
     "output_type": "execute_result"
    }
   ],
   "source": [
    "good_data_genre = good_data_actual.pivot_table(index='genre', values='total_sales', aggfunc='median').reset_index()\n",
    "good_data_genre.sort_values('total_sales', ascending=False)"
   ]
  },
  {
   "cell_type": "code",
   "execution_count": 40,
   "metadata": {
    "scrolled": false
   },
   "outputs": [
    {
     "data": {
      "image/png": "[encoded data removed]",
      "text/plain": [
       "<Figure size 1296x432 with 1 Axes>"
      ]
     },
     "metadata": {},
     "output_type": "display_data"
    }
   ],
   "source": [
    "good_data_genre_fig=good_data_genre.sort_values(by='total_sales', ascending=False) \\\n",
    ".plot(x='genre', y='total_sales', kind='bar', figsize=(18, 6), rot=360)\n",
    "good_data_genre_fig.get_legend().remove()\n",
    "plt.title('Game sales by genre from 2012-2015', size=16)\n",
    "plt.xlabel('Genre', size=14)\n",
    "plt.ylabel('n, mln', size=14)\n",
    "plt.show()"
   ]
  },
  {
   "cell_type": "markdown",
   "metadata": {},
   "source": [
    "The best-selling genres over the past 4 years are shooters, sports games, and platformers; the least selling ones are \"calm\" games - strategies, puzzles, adventures."
   ]
  },
  {
   "cell_type": "markdown",
   "metadata": {},
   "source": [
    "## User profile for each region"
   ]
  },
  {
   "cell_type": "markdown",
   "metadata": {},
   "source": [
    "### Most popular platforms (top-5). Describe differences in sales percentages."
   ]
  },
  {
   "cell_type": "code",
   "execution_count": 41,
   "metadata": {},
   "outputs": [
    {
     "data": {
      "image/png": "[encoded data removed]",
      "text/plain": [
       "<Figure size 1440x504 with 1 Axes>"
      ]
     },
     "metadata": {},
     "output_type": "display_data"
    }
   ],
   "source": [
    "america_platform = good_data_actual.pivot_table(index='platform', values='na_sales', \\\n",
    "                                                aggfunc='sum').sort_values('na_sales', ascending=False).reset_index()\\\n",
    ".head(5).plot(x='platform', y='na_sales', kind='bar', figsize=(20, 7), rot=360)\n",
    "plt.title('Most popular platforms in North America from 2012-2015', size=16)\n",
    "plt.xlabel('Platform', size=14)\n",
    "plt.ylabel('Number of Sales, mln', size=14)\n",
    "plt.show()"
   ]
  },
  {
   "cell_type": "code",
   "execution_count": 42,
   "metadata": {
    "scrolled": false
   },
   "outputs": [
    {
     "data": {
      "image/png": "[encoded data removed]",
      "text/plain": [
       "<Figure size 1440x504 with 1 Axes>"
      ]
     },
     "metadata": {},
     "output_type": "display_data"
    }
   ],
   "source": [
    "europe_platform = good_data_actual.pivot_table(index='platform', values='eu_sales', \\\n",
    "                                                aggfunc='sum').sort_values('eu_sales', ascending=False).reset_index()\\\n",
    ".head(5).plot(x='platform', y='eu_sales', kind='bar', figsize=(20, 7), rot=360)\n",
    "plt.title('Most popular platforms in Europe from 2012-2015', size=16)\n",
    "plt.xlabel('Platform', size=14)\n",
    "plt.ylabel('Number of Sales, mln', size=14)\n",
    "plt.show()"
   ]
  },
  {
   "cell_type": "code",
   "execution_count": 43,
   "metadata": {},
   "outputs": [
    {
     "data": {
      "image/png": "[encoded data removed]",
      "text/plain": [
       "<Figure size 1440x504 with 1 Axes>"
      ]
     },
     "metadata": {},
     "output_type": "display_data"
    }
   ],
   "source": [
    "japan_platform = good_data_actual.pivot_table(index='platform', values='jp_sales', \\\n",
    "                                                aggfunc='sum').sort_values('jp_sales', ascending=False).reset_index()\\\n",
    ".head(5).plot(x='platform', y='jp_sales', kind='bar', figsize=(20, 7), rot=360)\n",
    "plt.title('Most popular platforms in Japan from 2012-2015', size=16)\n",
    "plt.xlabel('Platform', size=14)\n",
    "plt.ylabel('Number of Sales, mln', size=14)\n",
    "plt.show()"
   ]
  },
  {
   "cell_type": "markdown",
   "metadata": {},
   "source": [
    "In Japan, unlike North America and Europe, where the PS and Xbox are the most popular, the locally produced platform, 3DS, leads."
   ]
  },
  {
   "cell_type": "markdown",
   "metadata": {},
   "source": [
    "### Most popular genres (top-5). Explain the difference."
   ]
  },
  {
   "cell_type": "code",
   "execution_count": 44,
   "metadata": {},
   "outputs": [
    {
     "data": {
      "image/png": "[encoded data removed]",
      "text/plain": [
       "<Figure size 1440x504 with 1 Axes>"
      ]
     },
     "metadata": {},
     "output_type": "display_data"
    }
   ],
   "source": [
    "america_genre = good_data_actual.pivot_table(index='genre', values='na_sales', \\\n",
    "                                                aggfunc='sum').sort_values('na_sales', ascending=False).reset_index()\\\n",
    ".head(5).plot(x='genre', y='na_sales', kind='bar', figsize=(20, 7), rot=360)\n",
    "plt.title('Most popular genres in North America from 2012-2015', size=16)\n",
    "plt.xlabel('Genre', size=14)\n",
    "plt.ylabel('Number of Sales, mln', size=14)\n",
    "plt.show()"
   ]
  },
  {
   "cell_type": "code",
   "execution_count": 45,
   "metadata": {},
   "outputs": [
    {
     "data": {
      "image/png": "[encoded data removed]",
      "text/plain": [
       "<Figure size 1440x504 with 1 Axes>"
      ]
     },
     "metadata": {},
     "output_type": "display_data"
    }
   ],
   "source": [
    "europe_genre = good_data_actual.pivot_table(index='genre', values='eu_sales', \\\n",
    "                                                aggfunc='sum').sort_values('eu_sales', ascending=False).reset_index()\\\n",
    ".head(5).plot(x='genre', y='eu_sales', kind='bar', figsize=(20, 7), rot=360)\n",
    "plt.title('Most popular genres in Europe from 2012-2015', size=16)\n",
    "plt.xlabel('Genre', size=14)\n",
    "plt.ylabel('Number of Sales, mln', size=14)\n",
    "plt.show()"
   ]
  },
  {
   "cell_type": "code",
   "execution_count": 46,
   "metadata": {},
   "outputs": [
    {
     "data": {
      "image/png": "[encoded data removed]",
      "text/plain": [
       "<Figure size 1440x504 with 1 Axes>"
      ]
     },
     "metadata": {},
     "output_type": "display_data"
    }
   ],
   "source": [
    "japan_genre = good_data_actual.pivot_table(index='genre', values='jp_sales', \\\n",
    "                                                aggfunc='sum').sort_values('jp_sales', ascending=False).reset_index()\\\n",
    ".head(5).plot(x='genre', y='jp_sales', kind='bar', figsize=(20, 7), rot=360)\n",
    "plt.title('Most popular platforms in Japan from 2012-2015', size=16)\n",
    "plt.xlabel('Genre', size=14)\n",
    "plt.ylabel('Number of Sales, mln', size=14)\n",
    "plt.show()"
   ]
  },
  {
   "cell_type": "markdown",
   "metadata": {},
   "source": [
    "In this case, Japan significantly differs from America and Europe - the most popular genre is Role-Playing, followed by a large margin by other genres."
   ]
  },
  {
   "cell_type": "markdown",
   "metadata": {},
   "source": [
    "### Does the ESRB rating influence sales in a particular region?"
   ]
  },
  {
   "cell_type": "code",
   "execution_count": 47,
   "metadata": {},
   "outputs": [
    {
     "data": {
      "image/png": "[encoded data removed]",
      "text/plain": [
       "<Figure size 1440x504 with 1 Axes>"
      ]
     },
     "metadata": {},
     "output_type": "display_data"
    }
   ],
   "source": [
    "america_rating = good_data_actual.pivot_table(index='rating', values='na_sales', \\\n",
    "                                                aggfunc='sum').sort_values('na_sales', ascending=False).reset_index()\\\n",
    ".head(4).plot(x='rating', y='na_sales', kind='bar', figsize=(20, 7), rot=360)\n",
    "plt.title('Video game sales in North America based on ESRB rating in 2012-2015', size=16)\n",
    "plt.xlabel('ESRB Rating', size=14)\n",
    "plt.ylabel('Sales in millions, mln', size=14)\n",
    "plt.show()"
   ]
  },
  {
   "cell_type": "code",
   "execution_count": 48,
   "metadata": {},
   "outputs": [
    {
     "data": {
      "image/png": "[encoded data removed]",
      "text/plain": [
       "<Figure size 1440x504 with 1 Axes>"
      ]
     },
     "metadata": {},
     "output_type": "display_data"
    }
   ],
   "source": [
    "europe_rating = good_data_actual.pivot_table(index='rating', values='eu_sales', \\\n",
    "                                                aggfunc='sum').sort_values('eu_sales', ascending=False).reset_index()\\\n",
    ".head(4).plot(x='rating', y='eu_sales', kind='bar', figsize=(20, 7), rot=360)\n",
    "plt.title('Video game sales in Europe based on ESRB rating in 2012-2015', size=16)\n",
    "plt.xlabel('ESRB Rating', size=14)\n",
    "plt.ylabel('Sales in millions, mln', size=14)\n",
    "plt.show()"
   ]
  },
  {
   "cell_type": "code",
   "execution_count": 49,
   "metadata": {
    "scrolled": false
   },
   "outputs": [
    {
     "data": {
      "image/png": "[encoded data removed]",
      "text/plain": [
       "<Figure size 1440x504 with 1 Axes>"
      ]
     },
     "metadata": {},
     "output_type": "display_data"
    }
   ],
   "source": [
    "japan_rating = good_data_actual.pivot_table(index='rating', values='jp_sales', \\\n",
    "                                                aggfunc='sum').sort_values('jp_sales', ascending=False).reset_index()\\\n",
    ".head(4).plot(x='rating', y='jp_sales', kind='bar', figsize=(20, 7), rot=360)\n",
    "plt.title('Video game sales in Japan based on ESRB rating in 2012-2015', size=16)\n",
    "plt.xlabel('ESRB Rating', size=14)\n",
    "plt.ylabel('Sales in millions, mln', size=14)\n",
    "plt.show()"
   ]
  },
  {
   "cell_type": "markdown",
   "metadata": {},
   "source": [
    "The most popular games in Europe and America are for users over 17 years old. In contrast to America and Europe, Japan is dominated by games that have not received an ESRB rating. According to Wikipedia, \"The Entertainment Software Rating Board (ESRB) is a self-regulatory organization that assigns age and content ratings to consumer video games in the United States and Canada.\" Likely, developers in Japan are not very interested in rating games intended for the domestic market and do not apply for assessment."
   ]
  },
  {
   "cell_type": "markdown",
   "metadata": {},
   "source": [
    "Thus, American and European users are generally similar to each other - they are predominantly users over 17 years old who love to play on PlayStation and Xbox in shooters and action games. The Japanese user is fundamentally different - he predominantly plays on domestic production platforms in role-playing games. Probably, different mentalities (habits) of users in Western and Eastern cultures matter."
   ]
  },
  {
   "cell_type": "markdown",
   "metadata": {},
   "source": [
    "## Hypothesis Testing"
   ]
  },
  {
   "cell_type": "markdown",
   "metadata": {},
   "source": [
    "### Hypothesis 1: Average user ratings for the Xbox One and PC platforms are the same"
   ]
  },
  {
   "cell_type": "markdown",
   "metadata": {},
   "source": [
    "H0 - null hypothesis - average user ratings for Xbox One and PC platforms are the same.\n",
    "\n",
    "H1 - alternative hypothesis - average user ratings for Xbox One and PC platforms differ."
   ]
  },
  {
   "cell_type": "code",
   "execution_count": 50,
   "metadata": {
    "scrolled": true
   },
   "outputs": [
    {
     "name": "stdout",
     "output_type": "stream",
     "text": [
      "p-value: 0.9651627878021862\n",
      "Failed to reject the null hypothesis\n",
      "\n",
      "Average user rating for Xbox One games  - 6.48\n",
      "Average user rating for PC games - 6.49\n"
     ]
    }
   ],
   "source": [
    "# compare the current data, because if we take ratings for the entire existence of the PC, the comparison will not be entirely correct.\n",
    "good_data_actual_xbox = good_data_actual[good_data_actual['platform'] == 'XOne']\\\n",
    ".dropna(subset=['user_score']).reset_index(drop=True)\n",
    "good_data_actual_pc = good_data_actual[good_data_actual['platform'] == 'PC']\\\n",
    ".dropna(subset=['user_score']).reset_index(drop=True)\n",
    "good_data_actual_xbox_score = good_data_actual_xbox['user_score']\n",
    "good_data_actual_pc_score = good_data_actual_pc['user_score']\n",
    "\n",
    "alpha = .05\n",
    "results = st.ttest_ind(good_data_actual_xbox_score, good_data_actual_pc_score)  \n",
    "# we will use the criterion for testing two independent samples.\n",
    "print('p-value:', results.pvalue)\n",
    "if (results.pvalue < alpha):\n",
    "    print(\"Reject the null hypothesis\")\n",
    "else:\n",
    "    print(\"Failed to reject the null hypothesis\")\n",
    "print('')\n",
    "print('Average user rating for Xbox One games  - {:.2f}'.format(good_data_actual_xbox_score.mean()))\n",
    "print('Average user rating for PC games - {:.2f}'.format(good_data_actual_pc_score.mean()))"
   ]
  },
  {
   "cell_type": "markdown",
   "metadata": {},
   "source": [
    "Thus, user ratings for Xbox One and PC games do not statistically differ."
   ]
  },
  {
   "cell_type": "markdown",
   "metadata": {},
   "source": [
    "### Hypothesis 2: Average user ratings for the Action and Sports genres are different."
   ]
  },
  {
   "cell_type": "markdown",
   "metadata": {},
   "source": [
    "H0 - null hypothesis - average user ratings for the Action and Sports genres are the same.\n",
    "\n",
    "H1 - alternative hypothesis - average user ratings for the Action and Sports genres differ."
   ]
  },
  {
   "cell_type": "code",
   "execution_count": 51,
   "metadata": {},
   "outputs": [
    {
     "name": "stdout",
     "output_type": "stream",
     "text": [
      "p-value: 4.194930739004733e-24\n",
      "Reject the null hypothesis\n",
      "\n",
      "Average user rating for Action genre  - 6.87\n",
      "Average user rating for Sports genre - 5.46\n"
     ]
    }
   ],
   "source": [
    "#here we can already take the whole dataset because games were released at all times\n",
    "good_data_actual_action = good_data_actual[good_data_actual['genre'] == 'Action']\\\n",
    ".dropna(subset=['user_score']).reset_index(drop=True)\n",
    "good_data_actual_sports = good_data_actual[good_data_actual['genre'] == 'Sports']\\\n",
    ".dropna(subset=['user_score']).reset_index(drop=True)\n",
    "good_data_actual_action_score = good_data_actual_action['user_score']\n",
    "good_data_actual_sports_score = good_data_actual_sports['user_score']\n",
    "\n",
    "alpha = .05\n",
    "results = st.ttest_ind(good_data_actual_action_score, good_data_actual_sports_score) \n",
    "#we will use the criterion for testing two independent samples\n",
    "print('p-value:', results.pvalue)\n",
    "if (results.pvalue < alpha):\n",
    "    print(\"Reject the null hypothesis\")\n",
    "else:\n",
    "    print(\"Failed to reject the null hypothesis\")\n",
    "    \n",
    "print('')\n",
    "print('Average user rating for Action genre  - {:.2f}'.format(good_data_actual_action_score.mean()))\n",
    "print('Average user rating for Sports genre - {:.2f}'.format(good_data_actual_sports_score.mean()))"
   ]
  },
  {
   "cell_type": "markdown",
   "metadata": {},
   "source": [
    "Thus, user ratings for action games and sports games are statistically significantly different. Users prefer action games."
   ]
  },
  {
   "cell_type": "markdown",
   "metadata": {},
   "source": [
    "## General Conclusion"
   ]
  },
  {
   "cell_type": "markdown",
   "metadata": {},
   "source": [
    "The implementation of this project aims to identify patterns that indicate the success of a game.\n",
    "\n",
    "The following can be highlighted:\n",
    "- Critic reviews have a larger impact on the sales of a game. \n",
    "- The highest sales are for games on the PS4 and XOne platforms.\n",
    "- Developing games for the XOne and PS4 platforms is the most profitable worldwide.\n",
    "- Action games, shooters, and sports games are the best-selling genres. If planning to enter the Japanese market, consider role-playing games - the most popular genre in Japan.\n",
    "- For North America and Europe over the past 4 years, the best-selling games have been action games and shooters on the PS3 and X360 platforms, rated M by ESRB.\n",
    "- For Japan, Role-Playing genre games on the native 3DS platform are the most popular.\n",
    "- Users rate games on Xbox One and PC similarly.\n",
    "- Users rate action games higher than sports genre games."
   ]
  }
 ],
 "metadata": {
  "ExecuteTimeLog": [
   {
    "duration": 893,
    "start_time": "2022-12-12T14:25:23.790Z"
   },
   {
    "duration": 172,
    "start_time": "2022-12-12T14:25:25.271Z"
   },
   {
    "duration": 146,
    "start_time": "2022-12-12T14:25:26.595Z"
   },
   {
    "duration": 10,
    "start_time": "2022-12-12T14:25:53.201Z"
   },
   {
    "duration": 169,
    "start_time": "2022-12-12T14:26:04.482Z"
   },
   {
    "duration": 26,
    "start_time": "2022-12-12T14:26:05.040Z"
   },
   {
    "duration": 920,
    "start_time": "2022-12-12T14:26:22.675Z"
   },
   {
    "duration": 6,
    "start_time": "2022-12-12T14:31:37.238Z"
   },
   {
    "duration": 48,
    "start_time": "2022-12-12T18:41:32.279Z"
   },
   {
    "duration": 1331,
    "start_time": "2022-12-12T18:41:37.196Z"
   },
   {
    "duration": 135,
    "start_time": "2022-12-12T18:41:38.529Z"
   },
   {
    "duration": 20,
    "start_time": "2022-12-12T18:41:38.666Z"
   },
   {
    "duration": 29,
    "start_time": "2022-12-12T18:41:54.139Z"
   },
   {
    "duration": 15,
    "start_time": "2022-12-12T18:42:10.559Z"
   },
   {
    "duration": 1317,
    "start_time": "2022-12-16T15:26:27.888Z"
   },
   {
    "duration": 191,
    "start_time": "2022-12-16T15:26:31.016Z"
   },
   {
    "duration": 20,
    "start_time": "2022-12-16T15:26:31.491Z"
   },
   {
    "duration": 20,
    "start_time": "2022-12-16T15:26:32.257Z"
   },
   {
    "duration": 3,
    "start_time": "2022-12-16T15:26:35.011Z"
   },
   {
    "duration": 5,
    "start_time": "2022-12-16T15:26:40.750Z"
   },
   {
    "duration": 1196,
    "start_time": "2022-12-16T15:26:41.992Z"
   },
   {
    "duration": 1198,
    "start_time": "2022-12-16T15:28:40.149Z"
   },
   {
    "duration": 18,
    "start_time": "2022-12-16T15:30:49.316Z"
   },
   {
    "duration": 29,
    "start_time": "2022-12-16T15:31:11.484Z"
   },
   {
    "duration": 19,
    "start_time": "2022-12-16T15:32:06.325Z"
   },
   {
    "duration": 17,
    "start_time": "2022-12-16T15:32:13.368Z"
   },
   {
    "duration": 31,
    "start_time": "2022-12-16T15:32:23.750Z"
   },
   {
    "duration": 26,
    "start_time": "2022-12-16T15:32:47.823Z"
   },
   {
    "duration": 5,
    "start_time": "2022-12-16T15:35:25.157Z"
   },
   {
    "duration": 4,
    "start_time": "2022-12-16T15:35:31.939Z"
   },
   {
    "duration": 3,
    "start_time": "2022-12-16T15:40:28.065Z"
   },
   {
    "duration": 5,
    "start_time": "2022-12-16T15:40:29.080Z"
   },
   {
    "duration": 7,
    "start_time": "2022-12-16T15:40:30.932Z"
   },
   {
    "duration": 82,
    "start_time": "2022-12-16T15:42:09.781Z"
   },
   {
    "duration": 16,
    "start_time": "2022-12-16T15:42:12.160Z"
   },
   {
    "duration": 4,
    "start_time": "2022-12-16T15:47:29.217Z"
   },
   {
    "duration": 13,
    "start_time": "2022-12-16T15:51:49.495Z"
   },
   {
    "duration": 325,
    "start_time": "2022-12-16T15:51:58.936Z"
   },
   {
    "duration": 4,
    "start_time": "2022-12-16T15:52:03.905Z"
   },
   {
    "duration": 25,
    "start_time": "2022-12-16T15:59:14.347Z"
   },
   {
    "duration": 4,
    "start_time": "2022-12-16T15:59:14.962Z"
   },
   {
    "duration": 182,
    "start_time": "2022-12-16T15:59:26.805Z"
   },
   {
    "duration": 4,
    "start_time": "2022-12-16T15:59:27.773Z"
   },
   {
    "duration": 9,
    "start_time": "2022-12-16T16:03:03.343Z"
   },
   {
    "duration": 10,
    "start_time": "2022-12-16T16:03:11.738Z"
   },
   {
    "duration": 5,
    "start_time": "2022-12-16T16:05:04.999Z"
   },
   {
    "duration": 24,
    "start_time": "2022-12-16T16:05:15.013Z"
   },
   {
    "duration": 5,
    "start_time": "2022-12-16T16:12:50.167Z"
   },
   {
    "duration": 5,
    "start_time": "2022-12-16T16:12:51.839Z"
   },
   {
    "duration": 4,
    "start_time": "2022-12-16T16:12:54.277Z"
   },
   {
    "duration": 15,
    "start_time": "2022-12-16T16:12:54.301Z"
   },
   {
    "duration": 4,
    "start_time": "2022-12-16T16:12:54.771Z"
   },
   {
    "duration": 199,
    "start_time": "2022-12-16T16:12:54.777Z"
   },
   {
    "duration": 4,
    "start_time": "2022-12-16T16:12:54.978Z"
   },
   {
    "duration": 11,
    "start_time": "2022-12-16T16:12:55.210Z"
   },
   {
    "duration": 5,
    "start_time": "2022-12-16T16:12:55.807Z"
   },
   {
    "duration": 20,
    "start_time": "2022-12-16T16:12:56.937Z"
   },
   {
    "duration": 5,
    "start_time": "2022-12-16T16:23:39.247Z"
   },
   {
    "duration": 4,
    "start_time": "2022-12-16T16:24:21.142Z"
   },
   {
    "duration": 5,
    "start_time": "2022-12-16T16:24:42.450Z"
   },
   {
    "duration": 10,
    "start_time": "2022-12-16T16:32:31.398Z"
   },
   {
    "duration": 7,
    "start_time": "2022-12-16T16:32:38.144Z"
   },
   {
    "duration": 4,
    "start_time": "2022-12-16T16:45:21.465Z"
   },
   {
    "duration": 274,
    "start_time": "2022-12-16T16:45:47.050Z"
   },
   {
    "duration": 34,
    "start_time": "2022-12-16T16:46:04.736Z"
   },
   {
    "duration": 404,
    "start_time": "2022-12-16T16:48:20.440Z"
   },
   {
    "duration": 358,
    "start_time": "2022-12-16T16:48:40.247Z"
   },
   {
    "duration": 402,
    "start_time": "2022-12-16T16:48:58.863Z"
   },
   {
    "duration": 4,
    "start_time": "2022-12-16T16:49:03.757Z"
   },
   {
    "duration": 367,
    "start_time": "2022-12-16T16:49:09.542Z"
   },
   {
    "duration": 3,
    "start_time": "2022-12-16T16:49:48.502Z"
   },
   {
    "duration": 392,
    "start_time": "2022-12-16T16:49:50.273Z"
   },
   {
    "duration": 1115,
    "start_time": "2022-12-16T21:29:49.085Z"
   },
   {
    "duration": 121,
    "start_time": "2022-12-16T21:29:50.202Z"
   },
   {
    "duration": 33,
    "start_time": "2022-12-16T21:29:50.325Z"
   },
   {
    "duration": 20,
    "start_time": "2022-12-16T21:29:50.361Z"
   },
   {
    "duration": 3,
    "start_time": "2022-12-16T21:29:50.383Z"
   },
   {
    "duration": 8,
    "start_time": "2022-12-16T21:29:50.387Z"
   },
   {
    "duration": 9,
    "start_time": "2022-12-16T21:29:50.397Z"
   },
   {
    "duration": 7,
    "start_time": "2022-12-16T21:29:50.408Z"
   },
   {
    "duration": 8,
    "start_time": "2022-12-16T21:29:50.417Z"
   },
   {
    "duration": 17,
    "start_time": "2022-12-16T21:29:50.427Z"
   },
   {
    "duration": 5,
    "start_time": "2022-12-16T21:29:50.479Z"
   },
   {
    "duration": 9,
    "start_time": "2022-12-16T21:29:50.486Z"
   },
   {
    "duration": 6,
    "start_time": "2022-12-16T21:29:50.497Z"
   },
   {
    "duration": 351,
    "start_time": "2022-12-16T21:29:50.505Z"
   },
   {
    "duration": 5,
    "start_time": "2022-12-16T21:29:50.857Z"
   },
   {
    "duration": 29,
    "start_time": "2022-12-16T21:29:50.864Z"
   },
   {
    "duration": 10,
    "start_time": "2022-12-16T21:29:50.894Z"
   },
   {
    "duration": 27,
    "start_time": "2022-12-16T21:29:50.905Z"
   },
   {
    "duration": 33,
    "start_time": "2022-12-16T21:29:50.934Z"
   },
   {
    "duration": 497,
    "start_time": "2022-12-16T21:29:50.969Z"
   },
   {
    "duration": 0,
    "start_time": "2022-12-16T21:29:51.467Z"
   },
   {
    "duration": 0,
    "start_time": "2022-12-16T21:29:51.468Z"
   },
   {
    "duration": 3,
    "start_time": "2022-12-16T21:30:10.605Z"
   },
   {
    "duration": 353,
    "start_time": "2022-12-16T21:30:11.002Z"
   },
   {
    "duration": 8,
    "start_time": "2022-12-16T21:36:34.644Z"
   },
   {
    "duration": 7,
    "start_time": "2022-12-16T21:36:44.810Z"
   },
   {
    "duration": 367,
    "start_time": "2022-12-16T21:38:44.706Z"
   },
   {
    "duration": 373,
    "start_time": "2022-12-16T21:38:55.885Z"
   },
   {
    "duration": 358,
    "start_time": "2022-12-16T21:39:02.846Z"
   },
   {
    "duration": 410,
    "start_time": "2022-12-16T21:39:12.207Z"
   },
   {
    "duration": 358,
    "start_time": "2022-12-16T21:39:17.494Z"
   },
   {
    "duration": 373,
    "start_time": "2022-12-16T21:43:59.792Z"
   },
   {
    "duration": 356,
    "start_time": "2022-12-16T21:44:18.384Z"
   },
   {
    "duration": 356,
    "start_time": "2022-12-16T21:44:29.585Z"
   },
   {
    "duration": 374,
    "start_time": "2022-12-16T21:45:11.546Z"
   },
   {
    "duration": 434,
    "start_time": "2022-12-16T21:48:25.004Z"
   },
   {
    "duration": 333,
    "start_time": "2022-12-16T21:48:35.708Z"
   },
   {
    "duration": 343,
    "start_time": "2022-12-16T21:49:01.148Z"
   },
   {
    "duration": 365,
    "start_time": "2022-12-16T21:50:59.678Z"
   },
   {
    "duration": 354,
    "start_time": "2022-12-16T21:51:52.232Z"
   },
   {
    "duration": 427,
    "start_time": "2022-12-16T21:52:24.617Z"
   },
   {
    "duration": 72,
    "start_time": "2022-12-16T21:57:27.094Z"
   },
   {
    "duration": 77,
    "start_time": "2022-12-16T21:57:38.664Z"
   },
   {
    "duration": 338,
    "start_time": "2022-12-16T21:57:42.320Z"
   },
   {
    "duration": 69,
    "start_time": "2022-12-16T21:57:57.893Z"
   },
   {
    "duration": 71,
    "start_time": "2022-12-16T21:58:10.562Z"
   },
   {
    "duration": 67,
    "start_time": "2022-12-16T21:59:10.917Z"
   },
   {
    "duration": 368,
    "start_time": "2022-12-16T22:00:50.428Z"
   },
   {
    "duration": 340,
    "start_time": "2022-12-16T22:01:32.358Z"
   },
   {
    "duration": 360,
    "start_time": "2022-12-16T22:01:41.001Z"
   },
   {
    "duration": 71,
    "start_time": "2022-12-16T22:01:54.456Z"
   },
   {
    "duration": 344,
    "start_time": "2022-12-16T22:01:58.440Z"
   },
   {
    "duration": 3,
    "start_time": "2022-12-17T06:06:15.717Z"
   },
   {
    "duration": 338,
    "start_time": "2022-12-17T06:06:15.722Z"
   },
   {
    "duration": 28,
    "start_time": "2022-12-17T06:06:16.062Z"
   },
   {
    "duration": 16,
    "start_time": "2022-12-17T06:06:16.092Z"
   },
   {
    "duration": 3,
    "start_time": "2022-12-17T06:06:16.121Z"
   },
   {
    "duration": 7,
    "start_time": "2022-12-17T06:06:16.125Z"
   },
   {
    "duration": 7,
    "start_time": "2022-12-17T06:06:16.134Z"
   },
   {
    "duration": 7,
    "start_time": "2022-12-17T06:06:16.142Z"
   },
   {
    "duration": 9,
    "start_time": "2022-12-17T06:06:16.150Z"
   },
   {
    "duration": 20,
    "start_time": "2022-12-17T06:06:16.160Z"
   },
   {
    "duration": 6,
    "start_time": "2022-12-17T06:06:16.182Z"
   },
   {
    "duration": 34,
    "start_time": "2022-12-17T06:06:16.189Z"
   },
   {
    "duration": 5,
    "start_time": "2022-12-17T06:06:16.226Z"
   },
   {
    "duration": 333,
    "start_time": "2022-12-17T06:06:16.232Z"
   },
   {
    "duration": 4,
    "start_time": "2022-12-17T06:06:16.566Z"
   },
   {
    "duration": 26,
    "start_time": "2022-12-17T06:06:16.571Z"
   },
   {
    "duration": 7,
    "start_time": "2022-12-17T06:06:16.598Z"
   },
   {
    "duration": 29,
    "start_time": "2022-12-17T06:06:16.606Z"
   },
   {
    "duration": 330,
    "start_time": "2022-12-17T06:06:16.637Z"
   },
   {
    "duration": 75,
    "start_time": "2022-12-17T06:06:16.968Z"
   },
   {
    "duration": 324,
    "start_time": "2022-12-17T06:06:54.849Z"
   },
   {
    "duration": 317,
    "start_time": "2022-12-17T06:07:02.135Z"
   },
   {
    "duration": 391,
    "start_time": "2022-12-17T06:07:10.731Z"
   },
   {
    "duration": 270,
    "start_time": "2022-12-17T06:07:36.509Z"
   },
   {
    "duration": 290,
    "start_time": "2022-12-17T06:08:13.518Z"
   },
   {
    "duration": 282,
    "start_time": "2022-12-17T06:18:33.334Z"
   },
   {
    "duration": 5,
    "start_time": "2022-12-17T06:25:32.724Z"
   },
   {
    "duration": 24,
    "start_time": "2022-12-17T06:25:47.333Z"
   },
   {
    "duration": 1139,
    "start_time": "2022-12-17T06:26:08.926Z"
   },
   {
    "duration": 10,
    "start_time": "2022-12-17T06:26:22.095Z"
   },
   {
    "duration": 26,
    "start_time": "2022-12-17T06:27:35.814Z"
   },
   {
    "duration": 608,
    "start_time": "2022-12-17T06:27:44.515Z"
   },
   {
    "duration": 12,
    "start_time": "2022-12-17T06:30:37.152Z"
   },
   {
    "duration": 27,
    "start_time": "2022-12-17T06:30:43.778Z"
   },
   {
    "duration": 43,
    "start_time": "2022-12-17T06:31:42.670Z"
   },
   {
    "duration": 43,
    "start_time": "2022-12-17T06:32:15.534Z"
   },
   {
    "duration": 30,
    "start_time": "2022-12-17T06:32:22.955Z"
   },
   {
    "duration": 27,
    "start_time": "2022-12-17T06:32:29.784Z"
   },
   {
    "duration": 9,
    "start_time": "2022-12-17T06:33:29.493Z"
   },
   {
    "duration": 116,
    "start_time": "2022-12-17T06:34:00.017Z"
   },
   {
    "duration": 99,
    "start_time": "2022-12-17T06:34:24.284Z"
   },
   {
    "duration": 1186,
    "start_time": "2022-12-17T06:34:37.379Z"
   },
   {
    "duration": 33729,
    "start_time": "2022-12-17T06:34:51.344Z"
   },
   {
    "duration": 0,
    "start_time": "2022-12-17T06:35:25.075Z"
   },
   {
    "duration": 103,
    "start_time": "2022-12-17T06:35:32.993Z"
   },
   {
    "duration": 115,
    "start_time": "2022-12-17T06:36:51.581Z"
   },
   {
    "duration": 1259,
    "start_time": "2022-12-17T06:37:19.893Z"
   },
   {
    "duration": 398,
    "start_time": "2022-12-17T06:37:33.953Z"
   },
   {
    "duration": 323,
    "start_time": "2022-12-17T06:37:58.349Z"
   },
   {
    "duration": 10,
    "start_time": "2022-12-17T06:47:35.975Z"
   },
   {
    "duration": 333,
    "start_time": "2022-12-17T06:47:37.196Z"
   },
   {
    "duration": 26,
    "start_time": "2022-12-17T06:48:27.079Z"
   },
   {
    "duration": 9,
    "start_time": "2022-12-17T07:03:51.039Z"
   },
   {
    "duration": 8,
    "start_time": "2022-12-17T07:03:58.455Z"
   },
   {
    "duration": 24,
    "start_time": "2022-12-17T07:04:07.366Z"
   },
   {
    "duration": 15,
    "start_time": "2022-12-17T07:04:27.792Z"
   },
   {
    "duration": 15,
    "start_time": "2022-12-17T07:04:42.339Z"
   },
   {
    "duration": 1122,
    "start_time": "2022-12-17T07:04:56.810Z"
   },
   {
    "duration": 89,
    "start_time": "2022-12-17T07:04:57.934Z"
   },
   {
    "duration": 34,
    "start_time": "2022-12-17T07:04:58.025Z"
   },
   {
    "duration": 14,
    "start_time": "2022-12-17T07:04:58.061Z"
   },
   {
    "duration": 10,
    "start_time": "2022-12-17T07:04:58.076Z"
   },
   {
    "duration": 8,
    "start_time": "2022-12-17T07:04:58.087Z"
   },
   {
    "duration": 29,
    "start_time": "2022-12-17T07:04:58.096Z"
   },
   {
    "duration": 9,
    "start_time": "2022-12-17T07:04:58.126Z"
   },
   {
    "duration": 17,
    "start_time": "2022-12-17T07:04:58.136Z"
   },
   {
    "duration": 22,
    "start_time": "2022-12-17T07:04:58.155Z"
   },
   {
    "duration": 8,
    "start_time": "2022-12-17T07:04:58.178Z"
   },
   {
    "duration": 5,
    "start_time": "2022-12-17T07:04:58.187Z"
   },
   {
    "duration": 29,
    "start_time": "2022-12-17T07:04:58.194Z"
   },
   {
    "duration": 316,
    "start_time": "2022-12-17T07:04:58.225Z"
   },
   {
    "duration": 5,
    "start_time": "2022-12-17T07:04:58.543Z"
   },
   {
    "duration": 11,
    "start_time": "2022-12-17T07:04:58.549Z"
   },
   {
    "duration": 6,
    "start_time": "2022-12-17T07:04:58.562Z"
   },
   {
    "duration": 23,
    "start_time": "2022-12-17T07:04:58.569Z"
   },
   {
    "duration": 347,
    "start_time": "2022-12-17T07:04:58.594Z"
   },
   {
    "duration": 300,
    "start_time": "2022-12-17T07:04:58.943Z"
   },
   {
    "duration": 26,
    "start_time": "2022-12-17T07:04:59.245Z"
   },
   {
    "duration": 27,
    "start_time": "2022-12-17T07:04:59.272Z"
   },
   {
    "duration": 373,
    "start_time": "2022-12-17T07:04:59.301Z"
   },
   {
    "duration": 4,
    "start_time": "2022-12-17T07:04:59.676Z"
   },
   {
    "duration": 128,
    "start_time": "2022-12-17T07:04:59.682Z"
   },
   {
    "duration": 0,
    "start_time": "2022-12-17T07:04:59.812Z"
   },
   {
    "duration": 0,
    "start_time": "2022-12-17T07:04:59.813Z"
   },
   {
    "duration": 0,
    "start_time": "2022-12-17T07:04:59.822Z"
   },
   {
    "duration": 5,
    "start_time": "2022-12-17T07:09:40.567Z"
   },
   {
    "duration": 13,
    "start_time": "2022-12-17T07:09:46.696Z"
   },
   {
    "duration": 5,
    "start_time": "2022-12-17T07:16:18.574Z"
   },
   {
    "duration": 1255,
    "start_time": "2022-12-17T07:17:52.814Z"
   },
   {
    "duration": 3,
    "start_time": "2022-12-17T07:19:43.121Z"
   },
   {
    "duration": 6,
    "start_time": "2022-12-17T07:19:50.310Z"
   },
   {
    "duration": 325,
    "start_time": "2022-12-17T07:21:49.602Z"
   },
   {
    "duration": 6,
    "start_time": "2022-12-17T07:24:41.561Z"
   },
   {
    "duration": 12,
    "start_time": "2022-12-17T07:32:21.727Z"
   },
   {
    "duration": 69,
    "start_time": "2022-12-17T07:33:44.716Z"
   },
   {
    "duration": 27,
    "start_time": "2022-12-17T07:34:05.976Z"
   },
   {
    "duration": 26,
    "start_time": "2022-12-17T07:34:14.371Z"
   },
   {
    "duration": 30,
    "start_time": "2022-12-17T07:48:41.874Z"
   },
   {
    "duration": 13,
    "start_time": "2022-12-17T07:49:14.337Z"
   },
   {
    "duration": 17,
    "start_time": "2022-12-17T07:50:22.966Z"
   },
   {
    "duration": 9,
    "start_time": "2022-12-17T08:23:26.037Z"
   },
   {
    "duration": 9,
    "start_time": "2022-12-17T08:23:26.778Z"
   },
   {
    "duration": 8,
    "start_time": "2022-12-17T08:28:24.780Z"
   },
   {
    "duration": 9,
    "start_time": "2022-12-17T08:28:25.202Z"
   },
   {
    "duration": 8,
    "start_time": "2022-12-17T08:28:30.695Z"
   },
   {
    "duration": 8,
    "start_time": "2022-12-17T08:28:32.717Z"
   },
   {
    "duration": 6,
    "start_time": "2022-12-17T08:29:55.677Z"
   },
   {
    "duration": 7,
    "start_time": "2022-12-17T08:30:03.695Z"
   },
   {
    "duration": 11,
    "start_time": "2022-12-17T08:31:12.220Z"
   },
   {
    "duration": 9,
    "start_time": "2022-12-17T08:31:18.746Z"
   },
   {
    "duration": 7,
    "start_time": "2022-12-17T08:31:21.269Z"
   },
   {
    "duration": 9,
    "start_time": "2022-12-17T08:31:21.766Z"
   },
   {
    "duration": 10,
    "start_time": "2022-12-17T08:31:23.580Z"
   },
   {
    "duration": 89,
    "start_time": "2022-12-17T08:33:46.233Z"
   },
   {
    "duration": 9,
    "start_time": "2022-12-17T08:34:00.789Z"
   },
   {
    "duration": 4,
    "start_time": "2022-12-17T08:34:14.890Z"
   },
   {
    "duration": 25,
    "start_time": "2022-12-17T08:36:09.050Z"
   },
   {
    "duration": 33,
    "start_time": "2022-12-17T08:36:17.975Z"
   },
   {
    "duration": 28,
    "start_time": "2022-12-17T08:38:34.344Z"
   },
   {
    "duration": 3,
    "start_time": "2022-12-17T08:39:47.552Z"
   },
   {
    "duration": 27,
    "start_time": "2022-12-17T08:39:48.216Z"
   },
   {
    "duration": 8,
    "start_time": "2022-12-17T08:40:15.008Z"
   },
   {
    "duration": 8,
    "start_time": "2022-12-17T08:40:15.503Z"
   },
   {
    "duration": 3,
    "start_time": "2022-12-17T08:40:16.302Z"
   },
   {
    "duration": 25,
    "start_time": "2022-12-17T08:40:16.889Z"
   },
   {
    "duration": 7,
    "start_time": "2022-12-17T08:40:33.933Z"
   },
   {
    "duration": 8,
    "start_time": "2022-12-17T08:40:37.264Z"
   },
   {
    "duration": 3,
    "start_time": "2022-12-17T08:40:45.463Z"
   },
   {
    "duration": 24,
    "start_time": "2022-12-17T08:41:45.991Z"
   },
   {
    "duration": 22,
    "start_time": "2022-12-17T08:42:11.954Z"
   },
   {
    "duration": 13,
    "start_time": "2022-12-17T08:42:29.046Z"
   },
   {
    "duration": 25,
    "start_time": "2022-12-17T08:42:32.817Z"
   },
   {
    "duration": 72,
    "start_time": "2022-12-17T08:42:43.390Z"
   },
   {
    "duration": 35,
    "start_time": "2022-12-17T08:42:47.300Z"
   },
   {
    "duration": 571,
    "start_time": "2022-12-17T08:43:59.470Z"
   },
   {
    "duration": 7,
    "start_time": "2022-12-17T10:51:39.303Z"
   },
   {
    "duration": 9,
    "start_time": "2022-12-17T10:51:40.565Z"
   },
   {
    "duration": 3,
    "start_time": "2022-12-17T10:51:42.156Z"
   },
   {
    "duration": 29,
    "start_time": "2022-12-17T10:51:42.785Z"
   },
   {
    "duration": 544,
    "start_time": "2022-12-17T10:51:47.748Z"
   },
   {
    "duration": 616,
    "start_time": "2022-12-17T10:52:22.920Z"
   },
   {
    "duration": 498,
    "start_time": "2022-12-17T10:54:27.297Z"
   },
   {
    "duration": 7,
    "start_time": "2022-12-17T11:10:37.394Z"
   },
   {
    "duration": 8,
    "start_time": "2022-12-17T11:10:38.345Z"
   },
   {
    "duration": 3,
    "start_time": "2022-12-17T11:10:39.912Z"
   },
   {
    "duration": 24,
    "start_time": "2022-12-17T11:10:41.503Z"
   },
   {
    "duration": 518,
    "start_time": "2022-12-17T11:10:42.746Z"
   },
   {
    "duration": 7,
    "start_time": "2022-12-17T11:12:08.421Z"
   },
   {
    "duration": 10,
    "start_time": "2022-12-17T11:12:08.790Z"
   },
   {
    "duration": 8,
    "start_time": "2022-12-17T11:12:33.062Z"
   },
   {
    "duration": 10,
    "start_time": "2022-12-17T11:12:33.382Z"
   },
   {
    "duration": 4,
    "start_time": "2022-12-17T11:12:34.561Z"
   },
   {
    "duration": 27,
    "start_time": "2022-12-17T11:12:37.463Z"
   },
   {
    "duration": 586,
    "start_time": "2022-12-17T11:12:38.140Z"
   },
   {
    "duration": 505,
    "start_time": "2022-12-17T11:13:16.138Z"
   },
   {
    "duration": 512,
    "start_time": "2022-12-17T11:13:26.520Z"
   },
   {
    "duration": 1284,
    "start_time": "2022-12-17T11:40:02.944Z"
   },
   {
    "duration": 290,
    "start_time": "2022-12-17T11:43:22.446Z"
   },
   {
    "duration": 375,
    "start_time": "2022-12-17T11:43:47.222Z"
   },
   {
    "duration": 374,
    "start_time": "2022-12-17T11:46:14.963Z"
   },
   {
    "duration": 9,
    "start_time": "2022-12-17T11:49:35.291Z"
   },
   {
    "duration": 15,
    "start_time": "2022-12-17T11:49:38.859Z"
   },
   {
    "duration": 11,
    "start_time": "2022-12-17T11:50:24.930Z"
   },
   {
    "duration": 79,
    "start_time": "2022-12-17T11:51:16.145Z"
   },
   {
    "duration": 77,
    "start_time": "2022-12-17T11:52:14.375Z"
   },
   {
    "duration": 76,
    "start_time": "2022-12-17T12:24:50.837Z"
   },
   {
    "duration": 610,
    "start_time": "2022-12-17T12:27:15.933Z"
   },
   {
    "duration": 163,
    "start_time": "2022-12-17T12:28:21.878Z"
   },
   {
    "duration": 520,
    "start_time": "2022-12-17T12:30:15.444Z"
   },
   {
    "duration": 525,
    "start_time": "2022-12-17T12:31:05.700Z"
   },
   {
    "duration": 652,
    "start_time": "2022-12-17T12:31:32.834Z"
   },
   {
    "duration": 500,
    "start_time": "2022-12-17T12:32:28.442Z"
   },
   {
    "duration": 694,
    "start_time": "2022-12-17T12:32:53.793Z"
   },
   {
    "duration": 570,
    "start_time": "2022-12-17T12:33:08.620Z"
   },
   {
    "duration": 329,
    "start_time": "2022-12-17T12:33:49.322Z"
   },
   {
    "duration": 181,
    "start_time": "2022-12-17T12:34:12.572Z"
   },
   {
    "duration": 94,
    "start_time": "2022-12-17T12:34:28.141Z"
   },
   {
    "duration": 77,
    "start_time": "2022-12-17T12:34:43.057Z"
   },
   {
    "duration": 81,
    "start_time": "2022-12-17T12:34:49.427Z"
   },
   {
    "duration": 87,
    "start_time": "2022-12-17T12:34:56.281Z"
   },
   {
    "duration": 61,
    "start_time": "2022-12-17T16:48:48.694Z"
   },
   {
    "duration": 1410,
    "start_time": "2022-12-17T16:49:00.613Z"
   },
   {
    "duration": 126,
    "start_time": "2022-12-17T16:49:02.025Z"
   },
   {
    "duration": 38,
    "start_time": "2022-12-17T16:49:02.153Z"
   },
   {
    "duration": 16,
    "start_time": "2022-12-17T16:49:02.193Z"
   },
   {
    "duration": 15,
    "start_time": "2022-12-17T16:49:02.212Z"
   },
   {
    "duration": 27,
    "start_time": "2022-12-17T16:49:02.229Z"
   },
   {
    "duration": 32,
    "start_time": "2022-12-17T16:49:02.257Z"
   },
   {
    "duration": 28,
    "start_time": "2022-12-17T16:49:02.291Z"
   },
   {
    "duration": 32,
    "start_time": "2022-12-17T16:49:02.321Z"
   },
   {
    "duration": 35,
    "start_time": "2022-12-17T16:49:02.355Z"
   },
   {
    "duration": 28,
    "start_time": "2022-12-17T16:49:02.392Z"
   },
   {
    "duration": 19,
    "start_time": "2022-12-17T16:49:02.421Z"
   },
   {
    "duration": 22,
    "start_time": "2022-12-17T16:49:02.442Z"
   },
   {
    "duration": 341,
    "start_time": "2022-12-17T16:49:02.468Z"
   },
   {
    "duration": 5,
    "start_time": "2022-12-17T16:49:02.812Z"
   },
   {
    "duration": 31,
    "start_time": "2022-12-17T16:49:02.819Z"
   },
   {
    "duration": 23,
    "start_time": "2022-12-17T16:49:02.852Z"
   },
   {
    "duration": 37,
    "start_time": "2022-12-17T16:49:02.877Z"
   },
   {
    "duration": 373,
    "start_time": "2022-12-17T16:49:02.916Z"
   },
   {
    "duration": 335,
    "start_time": "2022-12-17T16:49:03.291Z"
   },
   {
    "duration": 31,
    "start_time": "2022-12-17T16:49:03.628Z"
   },
   {
    "duration": 32,
    "start_time": "2022-12-17T16:49:03.661Z"
   },
   {
    "duration": 25,
    "start_time": "2022-12-17T16:49:03.695Z"
   },
   {
    "duration": 18,
    "start_time": "2022-12-17T16:49:03.722Z"
   },
   {
    "duration": 15,
    "start_time": "2022-12-17T16:49:03.742Z"
   },
   {
    "duration": 575,
    "start_time": "2022-12-17T16:49:03.759Z"
   },
   {
    "duration": 424,
    "start_time": "2022-12-17T16:49:04.335Z"
   },
   {
    "duration": 88,
    "start_time": "2022-12-17T16:49:04.761Z"
   },
   {
    "duration": 5,
    "start_time": "2022-12-17T16:49:04.851Z"
   },
   {
    "duration": 181,
    "start_time": "2022-12-17T16:51:18.498Z"
   },
   {
    "duration": 169,
    "start_time": "2022-12-17T16:51:26.698Z"
   },
   {
    "duration": 282,
    "start_time": "2022-12-17T16:55:53.529Z"
   },
   {
    "duration": 183,
    "start_time": "2022-12-17T16:56:18.485Z"
   },
   {
    "duration": 164,
    "start_time": "2022-12-17T16:56:30.694Z"
   },
   {
    "duration": 144,
    "start_time": "2022-12-17T16:57:27.748Z"
   },
   {
    "duration": 169,
    "start_time": "2022-12-17T17:02:29.466Z"
   },
   {
    "duration": 156,
    "start_time": "2022-12-17T17:02:33.067Z"
   },
   {
    "duration": 10,
    "start_time": "2022-12-17T18:08:45.458Z"
   },
   {
    "duration": 9,
    "start_time": "2022-12-17T18:09:17.704Z"
   },
   {
    "duration": 5,
    "start_time": "2022-12-17T18:09:38.680Z"
   },
   {
    "duration": 4,
    "start_time": "2022-12-17T18:09:46.389Z"
   },
   {
    "duration": 13,
    "start_time": "2022-12-17T18:09:59.396Z"
   },
   {
    "duration": 387,
    "start_time": "2022-12-17T18:10:09.745Z"
   },
   {
    "duration": 12,
    "start_time": "2022-12-17T18:11:06.796Z"
   },
   {
    "duration": 426,
    "start_time": "2022-12-17T18:11:13.374Z"
   },
   {
    "duration": 319,
    "start_time": "2022-12-17T18:11:27.258Z"
   },
   {
    "duration": 292,
    "start_time": "2022-12-17T18:12:05.702Z"
   },
   {
    "duration": 358,
    "start_time": "2022-12-17T18:12:33.054Z"
   },
   {
    "duration": 35,
    "start_time": "2022-12-17T18:12:46.988Z"
   },
   {
    "duration": 319,
    "start_time": "2022-12-17T18:13:25.993Z"
   },
   {
    "duration": 328,
    "start_time": "2022-12-17T18:13:29.224Z"
   },
   {
    "duration": 326,
    "start_time": "2022-12-17T18:13:32.911Z"
   },
   {
    "duration": 353,
    "start_time": "2022-12-17T18:13:35.762Z"
   },
   {
    "duration": 45,
    "start_time": "2022-12-18T18:26:46.635Z"
   },
   {
    "duration": 1234,
    "start_time": "2022-12-18T18:27:07.576Z"
   },
   {
    "duration": 129,
    "start_time": "2022-12-18T18:27:08.812Z"
   },
   {
    "duration": 40,
    "start_time": "2022-12-18T18:27:08.943Z"
   },
   {
    "duration": 28,
    "start_time": "2022-12-18T18:27:08.985Z"
   },
   {
    "duration": 2,
    "start_time": "2022-12-18T18:27:09.016Z"
   },
   {
    "duration": 7,
    "start_time": "2022-12-18T18:27:09.020Z"
   },
   {
    "duration": 9,
    "start_time": "2022-12-18T18:27:09.029Z"
   },
   {
    "duration": 10,
    "start_time": "2022-12-18T18:27:09.040Z"
   },
   {
    "duration": 8,
    "start_time": "2022-12-18T18:27:09.052Z"
   },
   {
    "duration": 28,
    "start_time": "2022-12-18T18:27:09.062Z"
   },
   {
    "duration": 6,
    "start_time": "2022-12-18T18:27:09.111Z"
   },
   {
    "duration": 8,
    "start_time": "2022-12-18T18:27:09.119Z"
   },
   {
    "duration": 9,
    "start_time": "2022-12-18T18:27:09.129Z"
   },
   {
    "duration": 374,
    "start_time": "2022-12-18T18:27:09.142Z"
   },
   {
    "duration": 4,
    "start_time": "2022-12-18T18:27:09.518Z"
   },
   {
    "duration": 12,
    "start_time": "2022-12-18T18:27:09.524Z"
   },
   {
    "duration": 5,
    "start_time": "2022-12-18T18:27:09.538Z"
   },
   {
    "duration": 22,
    "start_time": "2022-12-18T18:27:09.544Z"
   },
   {
    "duration": 353,
    "start_time": "2022-12-18T18:27:09.568Z"
   },
   {
    "duration": 301,
    "start_time": "2022-12-18T18:27:09.923Z"
   },
   {
    "duration": 28,
    "start_time": "2022-12-18T18:27:10.225Z"
   },
   {
    "duration": 16,
    "start_time": "2022-12-18T18:27:10.255Z"
   },
   {
    "duration": 6,
    "start_time": "2022-12-18T18:27:10.272Z"
   },
   {
    "duration": 11,
    "start_time": "2022-12-18T18:27:10.280Z"
   },
   {
    "duration": 6,
    "start_time": "2022-12-18T18:27:10.312Z"
   },
   {
    "duration": 584,
    "start_time": "2022-12-18T18:27:10.319Z"
   },
   {
    "duration": 328,
    "start_time": "2022-12-18T18:27:10.905Z"
   },
   {
    "duration": 89,
    "start_time": "2022-12-18T18:27:11.235Z"
   },
   {
    "duration": 5,
    "start_time": "2022-12-18T18:27:11.325Z"
   },
   {
    "duration": 172,
    "start_time": "2022-12-18T18:27:11.332Z"
   },
   {
    "duration": 152,
    "start_time": "2022-12-18T18:27:11.505Z"
   },
   {
    "duration": 389,
    "start_time": "2022-12-18T18:27:11.659Z"
   },
   {
    "duration": 78,
    "start_time": "2022-12-18T18:27:12.049Z"
   },
   {
    "duration": 8,
    "start_time": "2022-12-18T18:29:07.677Z"
   },
   {
    "duration": 15,
    "start_time": "2022-12-18T18:29:42.997Z"
   },
   {
    "duration": 18,
    "start_time": "2022-12-18T18:29:51.323Z"
   },
   {
    "duration": 6,
    "start_time": "2022-12-18T18:30:03.113Z"
   },
   {
    "duration": 518,
    "start_time": "2022-12-18T18:30:40.919Z"
   },
   {
    "duration": 467,
    "start_time": "2022-12-18T18:30:55.414Z"
   },
   {
    "duration": 83,
    "start_time": "2022-12-18T18:31:04.635Z"
   },
   {
    "duration": 5,
    "start_time": "2022-12-18T18:31:12.735Z"
   },
   {
    "duration": 201,
    "start_time": "2022-12-18T18:31:15.043Z"
   },
   {
    "duration": 189,
    "start_time": "2022-12-18T18:31:33.050Z"
   },
   {
    "duration": 168,
    "start_time": "2022-12-18T18:31:33.576Z"
   },
   {
    "duration": 342,
    "start_time": "2022-12-18T18:31:35.885Z"
   },
   {
    "duration": 17,
    "start_time": "2022-12-18T18:31:41.109Z"
   },
   {
    "duration": 15,
    "start_time": "2022-12-18T18:31:46.739Z"
   },
   {
    "duration": 14,
    "start_time": "2022-12-18T18:32:38.089Z"
   },
   {
    "duration": 17,
    "start_time": "2022-12-18T18:32:47.245Z"
   },
   {
    "duration": 220,
    "start_time": "2022-12-18T18:33:23.819Z"
   },
   {
    "duration": 41,
    "start_time": "2022-12-18T18:35:49.370Z"
   },
   {
    "duration": 234,
    "start_time": "2022-12-18T18:35:55.237Z"
   },
   {
    "duration": 227,
    "start_time": "2022-12-18T18:36:15.935Z"
   },
   {
    "duration": 245,
    "start_time": "2022-12-18T18:36:54.622Z"
   },
   {
    "duration": 229,
    "start_time": "2022-12-18T18:37:25.935Z"
   },
   {
    "duration": 225,
    "start_time": "2022-12-18T18:37:31.247Z"
   },
   {
    "duration": 223,
    "start_time": "2022-12-18T18:37:41.395Z"
   },
   {
    "duration": 332,
    "start_time": "2022-12-18T18:38:01.400Z"
   },
   {
    "duration": 231,
    "start_time": "2022-12-18T18:38:11.988Z"
   },
   {
    "duration": 230,
    "start_time": "2022-12-18T18:38:18.343Z"
   },
   {
    "duration": 231,
    "start_time": "2022-12-18T18:38:21.874Z"
   },
   {
    "duration": 10,
    "start_time": "2022-12-18T18:53:21.812Z"
   },
   {
    "duration": 16,
    "start_time": "2022-12-18T18:54:11.812Z"
   },
   {
    "duration": 18,
    "start_time": "2022-12-18T18:54:25.925Z"
   },
   {
    "duration": 291,
    "start_time": "2022-12-18T18:55:52.925Z"
   },
   {
    "duration": 289,
    "start_time": "2022-12-18T18:57:07.686Z"
   },
   {
    "duration": 313,
    "start_time": "2022-12-18T18:57:21.705Z"
   },
   {
    "duration": 304,
    "start_time": "2022-12-18T19:09:11.381Z"
   },
   {
    "duration": 278,
    "start_time": "2022-12-18T19:09:53.638Z"
   },
   {
    "duration": 272,
    "start_time": "2022-12-18T19:10:02.994Z"
   },
   {
    "duration": 329,
    "start_time": "2022-12-18T19:10:06.330Z"
   },
   {
    "duration": 365,
    "start_time": "2022-12-18T19:11:36.985Z"
   },
   {
    "duration": 194,
    "start_time": "2022-12-18T19:13:41.448Z"
   },
   {
    "duration": 275,
    "start_time": "2022-12-18T19:13:59.570Z"
   },
   {
    "duration": 247,
    "start_time": "2022-12-18T19:14:06.515Z"
   },
   {
    "duration": 198,
    "start_time": "2022-12-18T19:14:14.500Z"
   },
   {
    "duration": 195,
    "start_time": "2022-12-18T19:14:18.463Z"
   },
   {
    "duration": 220,
    "start_time": "2022-12-18T19:15:46.389Z"
   },
   {
    "duration": 214,
    "start_time": "2022-12-18T19:17:13.324Z"
   },
   {
    "duration": 207,
    "start_time": "2022-12-18T19:17:52.076Z"
   },
   {
    "duration": 223,
    "start_time": "2022-12-18T19:27:10.655Z"
   },
   {
    "duration": 193,
    "start_time": "2022-12-18T19:28:13.191Z"
   },
   {
    "duration": 194,
    "start_time": "2022-12-18T19:28:18.438Z"
   },
   {
    "duration": 185,
    "start_time": "2022-12-18T19:28:26.876Z"
   },
   {
    "duration": 195,
    "start_time": "2022-12-18T19:29:10.582Z"
   },
   {
    "duration": 356,
    "start_time": "2022-12-18T19:29:15.412Z"
   },
   {
    "duration": 224,
    "start_time": "2022-12-18T19:30:26.867Z"
   },
   {
    "duration": 196,
    "start_time": "2022-12-18T19:31:40.207Z"
   },
   {
    "duration": 40,
    "start_time": "2022-12-18T19:49:43.364Z"
   },
   {
    "duration": 20,
    "start_time": "2022-12-18T19:49:51.136Z"
   },
   {
    "duration": 9,
    "start_time": "2022-12-18T19:50:05.653Z"
   },
   {
    "duration": 11,
    "start_time": "2022-12-18T19:50:40.173Z"
   },
   {
    "duration": 22,
    "start_time": "2022-12-18T19:56:40.108Z"
   },
   {
    "duration": 9,
    "start_time": "2022-12-18T19:57:51.991Z"
   },
   {
    "duration": 17,
    "start_time": "2022-12-18T19:59:14.260Z"
   },
   {
    "duration": 21,
    "start_time": "2022-12-18T20:07:04.840Z"
   },
   {
    "duration": 13,
    "start_time": "2022-12-18T20:15:17.966Z"
   },
   {
    "duration": 15,
    "start_time": "2022-12-18T20:15:28.894Z"
   },
   {
    "duration": 68,
    "start_time": "2022-12-18T20:16:24.317Z"
   },
   {
    "duration": 67,
    "start_time": "2022-12-18T20:16:54.711Z"
   },
   {
    "duration": 5,
    "start_time": "2022-12-18T20:18:57.996Z"
   },
   {
    "duration": 581,
    "start_time": "2022-12-18T20:24:11.260Z"
   },
   {
    "duration": 509,
    "start_time": "2022-12-18T20:24:28.900Z"
   },
   {
    "duration": 387,
    "start_time": "2022-12-18T20:49:45.070Z"
   },
   {
    "duration": 1174,
    "start_time": "2022-12-18T21:29:18.077Z"
   },
   {
    "duration": 125,
    "start_time": "2022-12-18T21:29:19.253Z"
   },
   {
    "duration": 36,
    "start_time": "2022-12-18T21:29:19.380Z"
   },
   {
    "duration": 15,
    "start_time": "2022-12-18T21:29:19.418Z"
   },
   {
    "duration": 3,
    "start_time": "2022-12-18T21:29:19.435Z"
   },
   {
    "duration": 6,
    "start_time": "2022-12-18T21:29:19.440Z"
   },
   {
    "duration": 6,
    "start_time": "2022-12-18T21:29:19.448Z"
   },
   {
    "duration": 7,
    "start_time": "2022-12-18T21:29:19.455Z"
   },
   {
    "duration": 8,
    "start_time": "2022-12-18T21:29:19.464Z"
   },
   {
    "duration": 54,
    "start_time": "2022-12-18T21:29:19.475Z"
   },
   {
    "duration": 5,
    "start_time": "2022-12-18T21:29:19.531Z"
   },
   {
    "duration": 7,
    "start_time": "2022-12-18T21:29:19.538Z"
   },
   {
    "duration": 6,
    "start_time": "2022-12-18T21:29:19.547Z"
   },
   {
    "duration": 364,
    "start_time": "2022-12-18T21:29:19.555Z"
   },
   {
    "duration": 5,
    "start_time": "2022-12-18T21:29:19.921Z"
   },
   {
    "duration": 9,
    "start_time": "2022-12-18T21:29:19.928Z"
   },
   {
    "duration": 6,
    "start_time": "2022-12-18T21:29:19.939Z"
   },
   {
    "duration": 24,
    "start_time": "2022-12-18T21:29:19.946Z"
   },
   {
    "duration": 410,
    "start_time": "2022-12-18T21:29:19.972Z"
   },
   {
    "duration": 335,
    "start_time": "2022-12-18T21:29:20.384Z"
   },
   {
    "duration": 36,
    "start_time": "2022-12-18T21:29:20.722Z"
   },
   {
    "duration": 18,
    "start_time": "2022-12-18T21:29:20.760Z"
   },
   {
    "duration": 33,
    "start_time": "2022-12-18T21:29:20.780Z"
   },
   {
    "duration": 9,
    "start_time": "2022-12-18T21:29:20.814Z"
   },
   {
    "duration": 3,
    "start_time": "2022-12-18T21:29:20.824Z"
   },
   {
    "duration": 559,
    "start_time": "2022-12-18T21:29:20.829Z"
   },
   {
    "duration": 424,
    "start_time": "2022-12-18T21:29:21.390Z"
   },
   {
    "duration": 112,
    "start_time": "2022-12-18T21:29:21.819Z"
   },
   {
    "duration": 383,
    "start_time": "2022-12-18T21:29:21.932Z"
   },
   {
    "duration": 6,
    "start_time": "2022-12-18T21:29:22.316Z"
   },
   {
    "duration": 186,
    "start_time": "2022-12-18T21:29:22.323Z"
   },
   {
    "duration": 155,
    "start_time": "2022-12-18T21:29:22.513Z"
   },
   {
    "duration": 379,
    "start_time": "2022-12-18T21:29:22.670Z"
   },
   {
    "duration": 20,
    "start_time": "2022-12-18T21:29:23.052Z"
   },
   {
    "duration": 245,
    "start_time": "2022-12-18T21:29:23.074Z"
   },
   {
    "duration": 16,
    "start_time": "2022-12-18T21:29:23.321Z"
   },
   {
    "duration": 226,
    "start_time": "2022-12-18T21:29:23.339Z"
   },
   {
    "duration": 204,
    "start_time": "2022-12-18T21:29:23.567Z"
   },
   {
    "duration": 217,
    "start_time": "2022-12-18T21:29:23.773Z"
   },
   {
    "duration": 331,
    "start_time": "2022-12-18T21:29:23.992Z"
   },
   {
    "duration": 224,
    "start_time": "2022-12-18T21:29:24.325Z"
   },
   {
    "duration": 226,
    "start_time": "2022-12-18T21:29:24.551Z"
   },
   {
    "duration": 237,
    "start_time": "2022-12-18T21:29:24.779Z"
   },
   {
    "duration": 205,
    "start_time": "2022-12-18T21:29:25.018Z"
   },
   {
    "duration": 215,
    "start_time": "2022-12-18T21:29:25.225Z"
   },
   {
    "duration": 13,
    "start_time": "2022-12-18T21:29:25.442Z"
   },
   {
    "duration": 6,
    "start_time": "2022-12-18T21:29:25.457Z"
   },
   {
    "duration": 15,
    "start_time": "2022-12-18T21:29:25.465Z"
   },
   {
    "duration": 1135,
    "start_time": "2022-12-18T21:31:53.062Z"
   },
   {
    "duration": 169,
    "start_time": "2022-12-18T21:31:54.200Z"
   },
   {
    "duration": 39,
    "start_time": "2022-12-18T21:31:54.370Z"
   },
   {
    "duration": 16,
    "start_time": "2022-12-18T21:31:54.412Z"
   },
   {
    "duration": 6,
    "start_time": "2022-12-18T21:31:54.430Z"
   },
   {
    "duration": 9,
    "start_time": "2022-12-18T21:31:54.437Z"
   },
   {
    "duration": 7,
    "start_time": "2022-12-18T21:31:54.447Z"
   },
   {
    "duration": 11,
    "start_time": "2022-12-18T21:31:54.456Z"
   },
   {
    "duration": 8,
    "start_time": "2022-12-18T21:31:54.469Z"
   },
   {
    "duration": 35,
    "start_time": "2022-12-18T21:31:54.479Z"
   },
   {
    "duration": 5,
    "start_time": "2022-12-18T21:31:54.516Z"
   },
   {
    "duration": 13,
    "start_time": "2022-12-18T21:31:54.523Z"
   },
   {
    "duration": 12,
    "start_time": "2022-12-18T21:31:54.537Z"
   },
   {
    "duration": 370,
    "start_time": "2022-12-18T21:31:54.551Z"
   },
   {
    "duration": 8,
    "start_time": "2022-12-18T21:31:54.923Z"
   },
   {
    "duration": 19,
    "start_time": "2022-12-18T21:31:54.933Z"
   },
   {
    "duration": 5,
    "start_time": "2022-12-18T21:31:54.954Z"
   },
   {
    "duration": 26,
    "start_time": "2022-12-18T21:31:54.961Z"
   },
   {
    "duration": 356,
    "start_time": "2022-12-18T21:31:54.989Z"
   },
   {
    "duration": 306,
    "start_time": "2022-12-18T21:31:55.347Z"
   },
   {
    "duration": 30,
    "start_time": "2022-12-18T21:31:55.654Z"
   },
   {
    "duration": 34,
    "start_time": "2022-12-18T21:31:55.686Z"
   },
   {
    "duration": 7,
    "start_time": "2022-12-18T21:31:55.721Z"
   },
   {
    "duration": 8,
    "start_time": "2022-12-18T21:31:55.730Z"
   },
   {
    "duration": 3,
    "start_time": "2022-12-18T21:31:55.739Z"
   },
   {
    "duration": 597,
    "start_time": "2022-12-18T21:31:55.743Z"
   },
   {
    "duration": 468,
    "start_time": "2022-12-18T21:31:56.342Z"
   },
   {
    "duration": 104,
    "start_time": "2022-12-18T21:31:56.815Z"
   },
   {
    "duration": 374,
    "start_time": "2022-12-18T21:31:56.921Z"
   },
   {
    "duration": 5,
    "start_time": "2022-12-18T21:31:57.297Z"
   },
   {
    "duration": 175,
    "start_time": "2022-12-18T21:31:57.311Z"
   },
   {
    "duration": 163,
    "start_time": "2022-12-18T21:31:57.487Z"
   },
   {
    "duration": 330,
    "start_time": "2022-12-18T21:31:57.652Z"
   },
   {
    "duration": 31,
    "start_time": "2022-12-18T21:31:57.983Z"
   },
   {
    "duration": 260,
    "start_time": "2022-12-18T21:31:58.016Z"
   },
   {
    "duration": 226,
    "start_time": "2022-12-18T21:31:58.278Z"
   },
   {
    "duration": 217,
    "start_time": "2022-12-18T21:31:58.506Z"
   },
   {
    "duration": 232,
    "start_time": "2022-12-18T21:31:58.725Z"
   },
   {
    "duration": 312,
    "start_time": "2022-12-18T21:31:58.959Z"
   },
   {
    "duration": 235,
    "start_time": "2022-12-18T21:31:59.273Z"
   },
   {
    "duration": 214,
    "start_time": "2022-12-18T21:31:59.512Z"
   },
   {
    "duration": 220,
    "start_time": "2022-12-18T21:31:59.728Z"
   },
   {
    "duration": 215,
    "start_time": "2022-12-18T21:31:59.950Z"
   },
   {
    "duration": 222,
    "start_time": "2022-12-18T21:32:00.167Z"
   },
   {
    "duration": 23,
    "start_time": "2022-12-18T21:32:00.390Z"
   },
   {
    "duration": 5,
    "start_time": "2022-12-18T21:32:00.415Z"
   },
   {
    "duration": 26,
    "start_time": "2022-12-18T21:32:00.422Z"
   },
   {
    "duration": 2,
    "start_time": "2022-12-19T06:58:21.883Z"
   },
   {
    "duration": 101,
    "start_time": "2022-12-19T06:58:21.887Z"
   },
   {
    "duration": 29,
    "start_time": "2022-12-19T06:58:21.990Z"
   },
   {
    "duration": 16,
    "start_time": "2022-12-19T06:58:22.021Z"
   },
   {
    "duration": 2,
    "start_time": "2022-12-19T06:58:22.039Z"
   },
   {
    "duration": 7,
    "start_time": "2022-12-19T06:58:22.043Z"
   },
   {
    "duration": 12,
    "start_time": "2022-12-19T06:58:22.052Z"
   },
   {
    "duration": 7,
    "start_time": "2022-12-19T06:58:22.065Z"
   },
   {
    "duration": 12,
    "start_time": "2022-12-19T06:58:22.074Z"
   },
   {
    "duration": 31,
    "start_time": "2022-12-19T06:58:22.087Z"
   },
   {
    "duration": 4,
    "start_time": "2022-12-19T06:58:22.120Z"
   },
   {
    "duration": 7,
    "start_time": "2022-12-19T06:58:22.126Z"
   },
   {
    "duration": 10,
    "start_time": "2022-12-19T06:58:22.135Z"
   },
   {
    "duration": 362,
    "start_time": "2022-12-19T06:58:22.147Z"
   },
   {
    "duration": 6,
    "start_time": "2022-12-19T06:58:22.511Z"
   },
   {
    "duration": 9,
    "start_time": "2022-12-19T06:58:22.518Z"
   },
   {
    "duration": 4,
    "start_time": "2022-12-19T06:58:22.529Z"
   },
   {
    "duration": 21,
    "start_time": "2022-12-19T06:58:22.535Z"
   },
   {
    "duration": 390,
    "start_time": "2022-12-19T06:58:22.558Z"
   },
   {
    "duration": 318,
    "start_time": "2022-12-19T06:58:22.950Z"
   },
   {
    "duration": 27,
    "start_time": "2022-12-19T06:58:23.270Z"
   },
   {
    "duration": 31,
    "start_time": "2022-12-19T06:58:23.299Z"
   },
   {
    "duration": 7,
    "start_time": "2022-12-19T06:58:23.332Z"
   },
   {
    "duration": 9,
    "start_time": "2022-12-19T06:58:23.340Z"
   },
   {
    "duration": 3,
    "start_time": "2022-12-19T06:58:23.351Z"
   },
   {
    "duration": 618,
    "start_time": "2022-12-19T06:58:23.355Z"
   },
   {
    "duration": 352,
    "start_time": "2022-12-19T06:58:23.974Z"
   },
   {
    "duration": 100,
    "start_time": "2022-12-19T06:58:24.327Z"
   },
   {
    "duration": 369,
    "start_time": "2022-12-19T06:58:24.429Z"
   },
   {
    "duration": 5,
    "start_time": "2022-12-19T06:58:24.800Z"
   },
   {
    "duration": 194,
    "start_time": "2022-12-19T06:58:24.815Z"
   },
   {
    "duration": 166,
    "start_time": "2022-12-19T06:58:25.015Z"
   },
   {
    "duration": 334,
    "start_time": "2022-12-19T06:58:25.182Z"
   },
   {
    "duration": 15,
    "start_time": "2022-12-19T06:58:25.518Z"
   },
   {
    "duration": 227,
    "start_time": "2022-12-19T06:58:25.538Z"
   },
   {
    "duration": 218,
    "start_time": "2022-12-19T06:58:25.767Z"
   },
   {
    "duration": 331,
    "start_time": "2022-12-19T06:58:25.987Z"
   },
   {
    "duration": 222,
    "start_time": "2022-12-19T06:58:26.320Z"
   },
   {
    "duration": 203,
    "start_time": "2022-12-19T06:58:26.544Z"
   },
   {
    "duration": 216,
    "start_time": "2022-12-19T06:58:26.748Z"
   },
   {
    "duration": 211,
    "start_time": "2022-12-19T06:58:26.966Z"
   },
   {
    "duration": 211,
    "start_time": "2022-12-19T06:58:27.179Z"
   },
   {
    "duration": 193,
    "start_time": "2022-12-19T06:58:27.391Z"
   },
   {
    "duration": 207,
    "start_time": "2022-12-19T06:58:27.586Z"
   },
   {
    "duration": 24,
    "start_time": "2022-12-19T06:58:27.795Z"
   },
   {
    "duration": 12,
    "start_time": "2022-12-19T06:58:27.821Z"
   },
   {
    "duration": 16,
    "start_time": "2022-12-19T06:58:27.835Z"
   },
   {
    "duration": 1060,
    "start_time": "2022-12-19T06:58:38.951Z"
   },
   {
    "duration": 294,
    "start_time": "2022-12-19T06:58:40.013Z"
   },
   {
    "duration": 34,
    "start_time": "2022-12-19T06:58:40.308Z"
   },
   {
    "duration": 14,
    "start_time": "2022-12-19T06:58:40.343Z"
   },
   {
    "duration": 2,
    "start_time": "2022-12-19T06:58:40.358Z"
   },
   {
    "duration": 7,
    "start_time": "2022-12-19T06:58:40.362Z"
   },
   {
    "duration": 8,
    "start_time": "2022-12-19T06:58:40.371Z"
   },
   {
    "duration": 7,
    "start_time": "2022-12-19T06:58:40.381Z"
   },
   {
    "duration": 27,
    "start_time": "2022-12-19T06:58:40.389Z"
   },
   {
    "duration": 17,
    "start_time": "2022-12-19T06:58:40.419Z"
   },
   {
    "duration": 5,
    "start_time": "2022-12-19T06:58:40.438Z"
   },
   {
    "duration": 5,
    "start_time": "2022-12-19T06:58:40.445Z"
   },
   {
    "duration": 6,
    "start_time": "2022-12-19T06:58:40.452Z"
   },
   {
    "duration": 343,
    "start_time": "2022-12-19T06:58:40.459Z"
   },
   {
    "duration": 4,
    "start_time": "2022-12-19T06:58:40.804Z"
   },
   {
    "duration": 12,
    "start_time": "2022-12-19T06:58:40.809Z"
   },
   {
    "duration": 5,
    "start_time": "2022-12-19T06:58:40.822Z"
   },
   {
    "duration": 20,
    "start_time": "2022-12-19T06:58:40.828Z"
   },
   {
    "duration": 330,
    "start_time": "2022-12-19T06:58:40.850Z"
   },
   {
    "duration": 298,
    "start_time": "2022-12-19T06:58:41.181Z"
   },
   {
    "duration": 34,
    "start_time": "2022-12-19T06:58:41.481Z"
   },
   {
    "duration": 16,
    "start_time": "2022-12-19T06:58:41.516Z"
   },
   {
    "duration": 6,
    "start_time": "2022-12-19T06:58:41.534Z"
   },
   {
    "duration": 13,
    "start_time": "2022-12-19T06:58:41.541Z"
   },
   {
    "duration": 2,
    "start_time": "2022-12-19T06:58:41.556Z"
   },
   {
    "duration": 528,
    "start_time": "2022-12-19T06:58:41.560Z"
   },
   {
    "duration": 400,
    "start_time": "2022-12-19T06:58:42.090Z"
   },
   {
    "duration": 90,
    "start_time": "2022-12-19T06:58:42.493Z"
   },
   {
    "duration": 360,
    "start_time": "2022-12-19T06:58:42.584Z"
   },
   {
    "duration": 5,
    "start_time": "2022-12-19T06:58:42.946Z"
   },
   {
    "duration": 158,
    "start_time": "2022-12-19T06:58:42.952Z"
   },
   {
    "duration": 142,
    "start_time": "2022-12-19T06:58:43.112Z"
   },
   {
    "duration": 307,
    "start_time": "2022-12-19T06:58:43.255Z"
   },
   {
    "duration": 14,
    "start_time": "2022-12-19T06:58:43.564Z"
   },
   {
    "duration": 219,
    "start_time": "2022-12-19T06:58:43.579Z"
   },
   {
    "duration": 205,
    "start_time": "2022-12-19T06:58:43.800Z"
   },
   {
    "duration": 201,
    "start_time": "2022-12-19T06:58:44.007Z"
   },
   {
    "duration": 200,
    "start_time": "2022-12-19T06:58:44.209Z"
   },
   {
    "duration": 278,
    "start_time": "2022-12-19T06:58:44.410Z"
   },
   {
    "duration": 196,
    "start_time": "2022-12-19T06:58:44.689Z"
   },
   {
    "duration": 209,
    "start_time": "2022-12-19T06:58:44.887Z"
   },
   {
    "duration": 208,
    "start_time": "2022-12-19T06:58:45.098Z"
   },
   {
    "duration": 203,
    "start_time": "2022-12-19T06:58:45.307Z"
   },
   {
    "duration": 189,
    "start_time": "2022-12-19T06:58:45.515Z"
   },
   {
    "duration": 17,
    "start_time": "2022-12-19T06:58:45.705Z"
   },
   {
    "duration": 5,
    "start_time": "2022-12-19T06:58:45.724Z"
   },
   {
    "duration": 14,
    "start_time": "2022-12-19T06:58:45.731Z"
   },
   {
    "duration": 45,
    "start_time": "2022-12-19T17:43:03.101Z"
   },
   {
    "duration": 1309,
    "start_time": "2022-12-19T17:43:19.478Z"
   },
   {
    "duration": 233,
    "start_time": "2022-12-19T17:43:20.789Z"
   },
   {
    "duration": 33,
    "start_time": "2022-12-19T17:43:21.024Z"
   },
   {
    "duration": 16,
    "start_time": "2022-12-19T17:43:21.059Z"
   },
   {
    "duration": 5,
    "start_time": "2022-12-19T17:43:21.076Z"
   },
   {
    "duration": 23,
    "start_time": "2022-12-19T17:43:21.082Z"
   },
   {
    "duration": 4,
    "start_time": "2022-12-19T17:43:21.107Z"
   },
   {
    "duration": 8,
    "start_time": "2022-12-19T17:43:21.113Z"
   },
   {
    "duration": 17,
    "start_time": "2022-12-19T17:43:21.123Z"
   },
   {
    "duration": 16,
    "start_time": "2022-12-19T17:43:21.143Z"
   },
   {
    "duration": 5,
    "start_time": "2022-12-19T17:43:21.161Z"
   },
   {
    "duration": 7,
    "start_time": "2022-12-19T17:43:21.168Z"
   },
   {
    "duration": 6,
    "start_time": "2022-12-19T17:43:21.177Z"
   },
   {
    "duration": 361,
    "start_time": "2022-12-19T17:43:21.205Z"
   },
   {
    "duration": 5,
    "start_time": "2022-12-19T17:43:21.568Z"
   },
   {
    "duration": 14,
    "start_time": "2022-12-19T17:43:21.574Z"
   },
   {
    "duration": 20,
    "start_time": "2022-12-19T17:43:21.589Z"
   },
   {
    "duration": 33,
    "start_time": "2022-12-19T17:43:21.611Z"
   },
   {
    "duration": 8,
    "start_time": "2022-12-19T17:43:21.646Z"
   },
   {
    "duration": 369,
    "start_time": "2022-12-19T17:43:21.656Z"
   },
   {
    "duration": 291,
    "start_time": "2022-12-19T17:43:22.026Z"
   },
   {
    "duration": 28,
    "start_time": "2022-12-19T17:43:22.319Z"
   },
   {
    "duration": 15,
    "start_time": "2022-12-19T17:43:22.349Z"
   },
   {
    "duration": 7,
    "start_time": "2022-12-19T17:43:22.365Z"
   },
   {
    "duration": 44,
    "start_time": "2022-12-19T17:43:22.373Z"
   },
   {
    "duration": 3,
    "start_time": "2022-12-19T17:43:22.419Z"
   },
   {
    "duration": 530,
    "start_time": "2022-12-19T17:43:22.423Z"
   },
   {
    "duration": 378,
    "start_time": "2022-12-19T17:43:22.957Z"
   },
   {
    "duration": 102,
    "start_time": "2022-12-19T17:43:23.337Z"
   },
   {
    "duration": 351,
    "start_time": "2022-12-19T17:43:23.441Z"
   },
   {
    "duration": 13,
    "start_time": "2022-12-19T17:43:23.793Z"
   },
   {
    "duration": 162,
    "start_time": "2022-12-19T17:43:23.808Z"
   },
   {
    "duration": 151,
    "start_time": "2022-12-19T17:43:23.972Z"
   },
   {
    "duration": 342,
    "start_time": "2022-12-19T17:43:24.124Z"
   },
   {
    "duration": 15,
    "start_time": "2022-12-19T17:43:24.468Z"
   },
   {
    "duration": 230,
    "start_time": "2022-12-19T17:43:24.484Z"
   },
   {
    "duration": 214,
    "start_time": "2022-12-19T17:43:24.716Z"
   },
   {
    "duration": 217,
    "start_time": "2022-12-19T17:43:24.932Z"
   },
   {
    "duration": 207,
    "start_time": "2022-12-19T17:43:25.151Z"
   },
   {
    "duration": 285,
    "start_time": "2022-12-19T17:43:25.360Z"
   },
   {
    "duration": 206,
    "start_time": "2022-12-19T17:43:25.647Z"
   },
   {
    "duration": 215,
    "start_time": "2022-12-19T17:43:25.855Z"
   },
   {
    "duration": 213,
    "start_time": "2022-12-19T17:43:26.071Z"
   },
   {
    "duration": 198,
    "start_time": "2022-12-19T17:43:26.286Z"
   },
   {
    "duration": 194,
    "start_time": "2022-12-19T17:43:26.486Z"
   },
   {
    "duration": 12,
    "start_time": "2022-12-19T17:43:26.682Z"
   },
   {
    "duration": 4,
    "start_time": "2022-12-19T17:43:26.704Z"
   },
   {
    "duration": 14,
    "start_time": "2022-12-19T17:43:26.709Z"
   },
   {
    "duration": 77,
    "start_time": "2022-12-19T17:46:00.795Z"
   },
   {
    "duration": 5,
    "start_time": "2022-12-19T17:47:28.137Z"
   },
   {
    "duration": 22,
    "start_time": "2022-12-19T17:47:31.970Z"
   },
   {
    "duration": 7,
    "start_time": "2022-12-19T17:50:52.931Z"
   },
   {
    "duration": 7,
    "start_time": "2022-12-19T17:50:55.798Z"
   },
   {
    "duration": 3,
    "start_time": "2022-12-19T17:51:59.332Z"
   },
   {
    "duration": 429,
    "start_time": "2022-12-19T17:52:01.866Z"
   },
   {
    "duration": 489,
    "start_time": "2022-12-19T18:11:07.590Z"
   },
   {
    "duration": 405,
    "start_time": "2022-12-19T18:12:04.487Z"
   },
   {
    "duration": 574,
    "start_time": "2022-12-19T18:13:28.076Z"
   },
   {
    "duration": 423,
    "start_time": "2022-12-19T18:13:35.647Z"
   },
   {
    "duration": 3,
    "start_time": "2022-12-19T18:15:33.249Z"
   },
   {
    "duration": 95,
    "start_time": "2022-12-19T18:16:39.633Z"
   },
   {
    "duration": 10,
    "start_time": "2022-12-19T18:18:48.448Z"
   },
   {
    "duration": 4,
    "start_time": "2022-12-19T18:19:02.627Z"
   },
   {
    "duration": 224,
    "start_time": "2022-12-19T18:19:08.393Z"
   },
   {
    "duration": 192,
    "start_time": "2022-12-19T18:19:11.978Z"
   },
   {
    "duration": 304,
    "start_time": "2022-12-19T18:19:43.355Z"
   },
   {
    "duration": 4,
    "start_time": "2022-12-19T18:36:22.440Z"
   },
   {
    "duration": 9,
    "start_time": "2022-12-19T18:36:36.468Z"
   },
   {
    "duration": 4,
    "start_time": "2022-12-19T18:37:08.970Z"
   },
   {
    "duration": 9,
    "start_time": "2022-12-19T18:37:10.015Z"
   },
   {
    "duration": 5,
    "start_time": "2022-12-19T18:37:28.239Z"
   },
   {
    "duration": 8,
    "start_time": "2022-12-19T18:37:28.757Z"
   },
   {
    "duration": 9,
    "start_time": "2022-12-19T18:37:51.316Z"
   },
   {
    "duration": 10,
    "start_time": "2022-12-19T18:38:06.610Z"
   },
   {
    "duration": 15,
    "start_time": "2022-12-19T18:39:12.981Z"
   },
   {
    "duration": 10,
    "start_time": "2022-12-19T18:50:30.785Z"
   },
   {
    "duration": 72,
    "start_time": "2022-12-19T18:50:46.674Z"
   },
   {
    "duration": 20,
    "start_time": "2022-12-19T18:50:51.898Z"
   },
   {
    "duration": 20,
    "start_time": "2022-12-19T18:52:24.840Z"
   },
   {
    "duration": 4,
    "start_time": "2022-12-19T18:52:36.257Z"
   },
   {
    "duration": 10,
    "start_time": "2022-12-19T18:52:43.241Z"
   },
   {
    "duration": 17,
    "start_time": "2022-12-19T18:53:03.074Z"
   },
   {
    "duration": 15,
    "start_time": "2022-12-19T18:55:07.845Z"
   },
   {
    "duration": 33,
    "start_time": "2022-12-19T18:55:46.901Z"
   },
   {
    "duration": 26,
    "start_time": "2022-12-19T18:55:55.495Z"
   },
   {
    "duration": 315,
    "start_time": "2022-12-19T18:56:18.961Z"
   },
   {
    "duration": 59,
    "start_time": "2022-12-19T18:56:25.402Z"
   },
   {
    "duration": 305,
    "start_time": "2022-12-19T18:56:30.050Z"
   },
   {
    "duration": 27,
    "start_time": "2022-12-19T18:57:07.573Z"
   },
   {
    "duration": 16,
    "start_time": "2022-12-19T18:57:12.269Z"
   },
   {
    "duration": 29,
    "start_time": "2022-12-19T18:57:39.667Z"
   },
   {
    "duration": 12,
    "start_time": "2022-12-19T18:57:57.297Z"
   },
   {
    "duration": 27,
    "start_time": "2022-12-19T18:58:20.105Z"
   },
   {
    "duration": 26,
    "start_time": "2022-12-19T18:58:27.041Z"
   },
   {
    "duration": 4,
    "start_time": "2022-12-19T18:58:52.061Z"
   },
   {
    "duration": 12,
    "start_time": "2022-12-19T18:58:55.523Z"
   },
   {
    "duration": 35,
    "start_time": "2022-12-19T18:58:57.531Z"
   },
   {
    "duration": 1165,
    "start_time": "2022-12-19T18:59:51.857Z"
   },
   {
    "duration": 5,
    "start_time": "2022-12-19T19:00:08.505Z"
   },
   {
    "duration": 9,
    "start_time": "2022-12-19T19:00:16.490Z"
   },
   {
    "duration": 29,
    "start_time": "2022-12-19T19:00:26.739Z"
   },
   {
    "duration": 10,
    "start_time": "2022-12-19T19:00:55.698Z"
   },
   {
    "duration": 9,
    "start_time": "2022-12-19T19:01:41.121Z"
   },
   {
    "duration": 25,
    "start_time": "2022-12-19T19:01:59.727Z"
   },
   {
    "duration": 4,
    "start_time": "2022-12-19T19:02:03.490Z"
   },
   {
    "duration": 8,
    "start_time": "2022-12-19T19:02:03.901Z"
   },
   {
    "duration": 25,
    "start_time": "2022-12-19T19:02:04.311Z"
   },
   {
    "duration": 170,
    "start_time": "2022-12-19T19:05:36.094Z"
   },
   {
    "duration": 218,
    "start_time": "2022-12-19T19:08:12.337Z"
   },
   {
    "duration": 196,
    "start_time": "2022-12-19T19:08:23.850Z"
   },
   {
    "duration": 234,
    "start_time": "2022-12-19T19:08:32.200Z"
   },
   {
    "duration": 208,
    "start_time": "2022-12-19T19:08:48.466Z"
   },
   {
    "duration": 187,
    "start_time": "2022-12-19T19:09:10.193Z"
   },
   {
    "duration": 1130,
    "start_time": "2022-12-19T19:10:24.155Z"
   },
   {
    "duration": 118,
    "start_time": "2022-12-19T19:10:25.286Z"
   },
   {
    "duration": 41,
    "start_time": "2022-12-19T19:10:25.406Z"
   },
   {
    "duration": 14,
    "start_time": "2022-12-19T19:10:25.448Z"
   },
   {
    "duration": 2,
    "start_time": "2022-12-19T19:10:25.464Z"
   },
   {
    "duration": 15,
    "start_time": "2022-12-19T19:10:25.468Z"
   },
   {
    "duration": 22,
    "start_time": "2022-12-19T19:10:25.484Z"
   },
   {
    "duration": 13,
    "start_time": "2022-12-19T19:10:25.508Z"
   },
   {
    "duration": 15,
    "start_time": "2022-12-19T19:10:25.523Z"
   },
   {
    "duration": 17,
    "start_time": "2022-12-19T19:10:25.541Z"
   },
   {
    "duration": 4,
    "start_time": "2022-12-19T19:10:25.560Z"
   },
   {
    "duration": 6,
    "start_time": "2022-12-19T19:10:25.566Z"
   },
   {
    "duration": 8,
    "start_time": "2022-12-19T19:10:25.574Z"
   },
   {
    "duration": 402,
    "start_time": "2022-12-19T19:10:25.583Z"
   },
   {
    "duration": 4,
    "start_time": "2022-12-19T19:10:25.987Z"
   },
   {
    "duration": 15,
    "start_time": "2022-12-19T19:10:25.992Z"
   },
   {
    "duration": 6,
    "start_time": "2022-12-19T19:10:26.009Z"
   },
   {
    "duration": 34,
    "start_time": "2022-12-19T19:10:26.017Z"
   },
   {
    "duration": 8,
    "start_time": "2022-12-19T19:10:26.053Z"
   },
   {
    "duration": 492,
    "start_time": "2022-12-19T19:10:26.062Z"
   },
   {
    "duration": 322,
    "start_time": "2022-12-19T19:10:26.556Z"
   },
   {
    "duration": 36,
    "start_time": "2022-12-19T19:10:26.880Z"
   },
   {
    "duration": 18,
    "start_time": "2022-12-19T19:10:26.918Z"
   },
   {
    "duration": 7,
    "start_time": "2022-12-19T19:10:26.938Z"
   },
   {
    "duration": 8,
    "start_time": "2022-12-19T19:10:26.947Z"
   },
   {
    "duration": 6,
    "start_time": "2022-12-19T19:10:26.957Z"
   },
   {
    "duration": 485,
    "start_time": "2022-12-19T19:10:26.964Z"
   },
   {
    "duration": 380,
    "start_time": "2022-12-19T19:10:27.453Z"
   },
   {
    "duration": 90,
    "start_time": "2022-12-19T19:10:27.835Z"
   },
   {
    "duration": 330,
    "start_time": "2022-12-19T19:10:27.927Z"
   },
   {
    "duration": 4,
    "start_time": "2022-12-19T19:10:28.259Z"
   },
   {
    "duration": 204,
    "start_time": "2022-12-19T19:10:28.265Z"
   },
   {
    "duration": 194,
    "start_time": "2022-12-19T19:10:28.471Z"
   },
   {
    "duration": 120,
    "start_time": "2022-12-19T19:10:28.667Z"
   },
   {
    "duration": 0,
    "start_time": "2022-12-19T19:10:28.788Z"
   },
   {
    "duration": 0,
    "start_time": "2022-12-19T19:10:28.790Z"
   },
   {
    "duration": 0,
    "start_time": "2022-12-19T19:10:28.791Z"
   },
   {
    "duration": 0,
    "start_time": "2022-12-19T19:10:28.792Z"
   },
   {
    "duration": 0,
    "start_time": "2022-12-19T19:10:28.804Z"
   },
   {
    "duration": 0,
    "start_time": "2022-12-19T19:10:28.806Z"
   },
   {
    "duration": 0,
    "start_time": "2022-12-19T19:10:28.807Z"
   },
   {
    "duration": 0,
    "start_time": "2022-12-19T19:10:28.808Z"
   },
   {
    "duration": 0,
    "start_time": "2022-12-19T19:10:28.810Z"
   },
   {
    "duration": 0,
    "start_time": "2022-12-19T19:10:28.811Z"
   },
   {
    "duration": 0,
    "start_time": "2022-12-19T19:10:28.812Z"
   },
   {
    "duration": 0,
    "start_time": "2022-12-19T19:10:28.813Z"
   },
   {
    "duration": 0,
    "start_time": "2022-12-19T19:10:28.814Z"
   },
   {
    "duration": 0,
    "start_time": "2022-12-19T19:10:28.815Z"
   },
   {
    "duration": 0,
    "start_time": "2022-12-19T19:10:28.817Z"
   },
   {
    "duration": 0,
    "start_time": "2022-12-19T19:10:28.818Z"
   },
   {
    "duration": 0,
    "start_time": "2022-12-19T19:10:28.823Z"
   },
   {
    "duration": 1201,
    "start_time": "2022-12-19T19:11:40.701Z"
   },
   {
    "duration": 150,
    "start_time": "2022-12-19T19:11:41.904Z"
   },
   {
    "duration": 33,
    "start_time": "2022-12-19T19:11:42.056Z"
   },
   {
    "duration": 14,
    "start_time": "2022-12-19T19:11:42.091Z"
   },
   {
    "duration": 4,
    "start_time": "2022-12-19T19:11:42.108Z"
   },
   {
    "duration": 12,
    "start_time": "2022-12-19T19:11:42.113Z"
   },
   {
    "duration": 14,
    "start_time": "2022-12-19T19:11:42.127Z"
   },
   {
    "duration": 12,
    "start_time": "2022-12-19T19:11:42.143Z"
   },
   {
    "duration": 14,
    "start_time": "2022-12-19T19:11:42.156Z"
   },
   {
    "duration": 21,
    "start_time": "2022-12-19T19:11:42.172Z"
   },
   {
    "duration": 4,
    "start_time": "2022-12-19T19:11:42.195Z"
   },
   {
    "duration": 12,
    "start_time": "2022-12-19T19:11:42.201Z"
   },
   {
    "duration": 13,
    "start_time": "2022-12-19T19:11:42.214Z"
   },
   {
    "duration": 353,
    "start_time": "2022-12-19T19:11:42.229Z"
   },
   {
    "duration": 5,
    "start_time": "2022-12-19T19:11:42.584Z"
   },
   {
    "duration": 21,
    "start_time": "2022-12-19T19:11:42.591Z"
   },
   {
    "duration": 13,
    "start_time": "2022-12-19T19:11:42.614Z"
   },
   {
    "duration": 24,
    "start_time": "2022-12-19T19:11:42.629Z"
   },
   {
    "duration": 5,
    "start_time": "2022-12-19T19:11:42.655Z"
   },
   {
    "duration": 376,
    "start_time": "2022-12-19T19:11:42.662Z"
   },
   {
    "duration": 301,
    "start_time": "2022-12-19T19:11:43.039Z"
   },
   {
    "duration": 28,
    "start_time": "2022-12-19T19:11:43.341Z"
   },
   {
    "duration": 15,
    "start_time": "2022-12-19T19:11:43.370Z"
   },
   {
    "duration": 21,
    "start_time": "2022-12-19T19:11:43.387Z"
   },
   {
    "duration": 15,
    "start_time": "2022-12-19T19:11:43.410Z"
   },
   {
    "duration": 8,
    "start_time": "2022-12-19T19:11:43.426Z"
   },
   {
    "duration": 422,
    "start_time": "2022-12-19T19:11:43.435Z"
   },
   {
    "duration": 335,
    "start_time": "2022-12-19T19:11:43.861Z"
   },
   {
    "duration": 61,
    "start_time": "2022-12-19T19:11:44.198Z"
   },
   {
    "duration": 279,
    "start_time": "2022-12-19T19:11:44.261Z"
   },
   {
    "duration": 4,
    "start_time": "2022-12-19T19:11:44.541Z"
   },
   {
    "duration": 204,
    "start_time": "2022-12-19T19:11:44.546Z"
   },
   {
    "duration": 205,
    "start_time": "2022-12-19T19:11:44.752Z"
   },
   {
    "duration": 377,
    "start_time": "2022-12-19T19:11:44.959Z"
   },
   {
    "duration": 4,
    "start_time": "2022-12-19T19:11:45.338Z"
   },
   {
    "duration": 13,
    "start_time": "2022-12-19T19:11:45.343Z"
   },
   {
    "duration": 310,
    "start_time": "2022-12-19T19:11:45.358Z"
   },
   {
    "duration": 37,
    "start_time": "2022-12-19T19:11:45.669Z"
   },
   {
    "duration": 246,
    "start_time": "2022-12-19T19:11:45.708Z"
   },
   {
    "duration": 240,
    "start_time": "2022-12-19T19:11:45.956Z"
   },
   {
    "duration": 209,
    "start_time": "2022-12-19T19:11:46.198Z"
   },
   {
    "duration": 220,
    "start_time": "2022-12-19T19:11:46.409Z"
   },
   {
    "duration": 218,
    "start_time": "2022-12-19T19:11:46.631Z"
   },
   {
    "duration": 214,
    "start_time": "2022-12-19T19:11:46.851Z"
   },
   {
    "duration": 314,
    "start_time": "2022-12-19T19:11:47.067Z"
   },
   {
    "duration": 210,
    "start_time": "2022-12-19T19:11:47.383Z"
   },
   {
    "duration": 236,
    "start_time": "2022-12-19T19:11:47.594Z"
   },
   {
    "duration": 235,
    "start_time": "2022-12-19T19:11:47.833Z"
   },
   {
    "duration": 13,
    "start_time": "2022-12-19T19:11:48.070Z"
   },
   {
    "duration": 23,
    "start_time": "2022-12-19T19:11:48.084Z"
   },
   {
    "duration": 20,
    "start_time": "2022-12-19T19:11:48.109Z"
   },
   {
    "duration": 17,
    "start_time": "2022-12-19T19:17:29.863Z"
   },
   {
    "duration": 13,
    "start_time": "2022-12-19T19:19:50.918Z"
   },
   {
    "duration": 31,
    "start_time": "2022-12-19T19:20:14.150Z"
   },
   {
    "duration": 8,
    "start_time": "2022-12-19T19:20:51.178Z"
   },
   {
    "duration": 40,
    "start_time": "2022-12-19T19:20:58.174Z"
   },
   {
    "duration": 14,
    "start_time": "2022-12-19T19:21:14.030Z"
   },
   {
    "duration": 18,
    "start_time": "2022-12-19T19:21:35.654Z"
   },
   {
    "duration": 7,
    "start_time": "2022-12-19T19:21:58.497Z"
   },
   {
    "duration": 58,
    "start_time": "2022-12-19T19:22:01.664Z"
   },
   {
    "duration": 58,
    "start_time": "2022-12-19T19:22:23.279Z"
   },
   {
    "duration": 41,
    "start_time": "2022-12-19T19:22:51.419Z"
   },
   {
    "duration": 10,
    "start_time": "2022-12-19T19:23:15.359Z"
   },
   {
    "duration": 8,
    "start_time": "2022-12-19T19:23:20.517Z"
   },
   {
    "duration": 5,
    "start_time": "2022-12-19T19:23:45.682Z"
   },
   {
    "duration": 6,
    "start_time": "2022-12-19T19:27:45.449Z"
   },
   {
    "duration": 8,
    "start_time": "2022-12-19T19:28:20.422Z"
   },
   {
    "duration": 7,
    "start_time": "2022-12-19T19:29:05.693Z"
   },
   {
    "duration": 7,
    "start_time": "2022-12-19T19:29:40.041Z"
   },
   {
    "duration": 6,
    "start_time": "2022-12-19T19:29:42.805Z"
   },
   {
    "duration": 6,
    "start_time": "2022-12-19T19:30:06.750Z"
   },
   {
    "duration": 8,
    "start_time": "2022-12-19T19:30:17.059Z"
   },
   {
    "duration": 7,
    "start_time": "2022-12-19T19:30:31.374Z"
   },
   {
    "duration": 7,
    "start_time": "2022-12-19T19:30:57.776Z"
   },
   {
    "duration": 7,
    "start_time": "2022-12-19T19:31:09.424Z"
   },
   {
    "duration": 185,
    "start_time": "2022-12-19T19:34:39.987Z"
   },
   {
    "duration": 134,
    "start_time": "2022-12-19T19:35:11.933Z"
   },
   {
    "duration": 231,
    "start_time": "2022-12-19T19:36:35.249Z"
   },
   {
    "duration": 333,
    "start_time": "2022-12-19T19:37:01.441Z"
   },
   {
    "duration": 546,
    "start_time": "2022-12-19T19:37:36.373Z"
   },
   {
    "duration": 567,
    "start_time": "2022-12-19T19:39:00.600Z"
   },
   {
    "duration": 50,
    "start_time": "2022-12-19T19:41:54.315Z"
   },
   {
    "duration": 471,
    "start_time": "2022-12-19T19:42:30.414Z"
   },
   {
    "duration": 450,
    "start_time": "2022-12-19T19:42:46.289Z"
   },
   {
    "duration": 442,
    "start_time": "2022-12-19T19:49:56.007Z"
   },
   {
    "duration": 453,
    "start_time": "2022-12-19T19:49:59.204Z"
   },
   {
    "duration": 1168,
    "start_time": "2022-12-19T19:53:25.735Z"
   },
   {
    "duration": 101,
    "start_time": "2022-12-19T19:53:26.906Z"
   },
   {
    "duration": 40,
    "start_time": "2022-12-19T19:53:27.009Z"
   },
   {
    "duration": 16,
    "start_time": "2022-12-19T19:53:27.051Z"
   },
   {
    "duration": 3,
    "start_time": "2022-12-19T19:53:27.069Z"
   },
   {
    "duration": 33,
    "start_time": "2022-12-19T19:53:27.073Z"
   },
   {
    "duration": 15,
    "start_time": "2022-12-19T19:53:27.108Z"
   },
   {
    "duration": 9,
    "start_time": "2022-12-19T19:53:27.125Z"
   },
   {
    "duration": 7,
    "start_time": "2022-12-19T19:53:27.136Z"
   },
   {
    "duration": 17,
    "start_time": "2022-12-19T19:53:27.145Z"
   },
   {
    "duration": 6,
    "start_time": "2022-12-19T19:53:27.163Z"
   },
   {
    "duration": 9,
    "start_time": "2022-12-19T19:53:27.170Z"
   },
   {
    "duration": 24,
    "start_time": "2022-12-19T19:53:27.181Z"
   },
   {
    "duration": 373,
    "start_time": "2022-12-19T19:53:27.208Z"
   },
   {
    "duration": 4,
    "start_time": "2022-12-19T19:53:27.584Z"
   },
   {
    "duration": 29,
    "start_time": "2022-12-19T19:53:27.590Z"
   },
   {
    "duration": 36,
    "start_time": "2022-12-19T19:53:27.621Z"
   },
   {
    "duration": 31,
    "start_time": "2022-12-19T19:53:27.659Z"
   },
   {
    "duration": 6,
    "start_time": "2022-12-19T19:53:27.692Z"
   },
   {
    "duration": 318,
    "start_time": "2022-12-19T19:53:27.700Z"
   },
   {
    "duration": 299,
    "start_time": "2022-12-19T19:53:28.019Z"
   },
   {
    "duration": 28,
    "start_time": "2022-12-19T19:53:28.320Z"
   },
   {
    "duration": 16,
    "start_time": "2022-12-19T19:53:28.349Z"
   },
   {
    "duration": 7,
    "start_time": "2022-12-19T19:53:28.366Z"
   },
   {
    "duration": 32,
    "start_time": "2022-12-19T19:53:28.374Z"
   },
   {
    "duration": 5,
    "start_time": "2022-12-19T19:53:28.408Z"
   },
   {
    "duration": 444,
    "start_time": "2022-12-19T19:53:28.414Z"
   },
   {
    "duration": 329,
    "start_time": "2022-12-19T19:53:28.859Z"
   },
   {
    "duration": 66,
    "start_time": "2022-12-19T19:53:29.189Z"
   },
   {
    "duration": 284,
    "start_time": "2022-12-19T19:53:29.257Z"
   },
   {
    "duration": 4,
    "start_time": "2022-12-19T19:53:29.543Z"
   },
   {
    "duration": 183,
    "start_time": "2022-12-19T19:53:29.549Z"
   },
   {
    "duration": 178,
    "start_time": "2022-12-19T19:53:29.733Z"
   },
   {
    "duration": 307,
    "start_time": "2022-12-19T19:53:29.913Z"
   },
   {
    "duration": 4,
    "start_time": "2022-12-19T19:53:30.222Z"
   },
   {
    "duration": 19,
    "start_time": "2022-12-19T19:53:30.227Z"
   },
   {
    "duration": 310,
    "start_time": "2022-12-19T19:53:30.247Z"
   },
   {
    "duration": 520,
    "start_time": "2022-12-19T19:53:30.558Z"
   },
   {
    "duration": 27,
    "start_time": "2022-12-19T19:53:31.079Z"
   },
   {
    "duration": 241,
    "start_time": "2022-12-19T19:53:31.108Z"
   },
   {
    "duration": 203,
    "start_time": "2022-12-19T19:53:31.353Z"
   },
   {
    "duration": 218,
    "start_time": "2022-12-19T19:53:31.557Z"
   },
   {
    "duration": 208,
    "start_time": "2022-12-19T19:53:31.777Z"
   },
   {
    "duration": 216,
    "start_time": "2022-12-19T19:53:31.987Z"
   },
   {
    "duration": 286,
    "start_time": "2022-12-19T19:53:32.205Z"
   },
   {
    "duration": 207,
    "start_time": "2022-12-19T19:53:32.492Z"
   },
   {
    "duration": 181,
    "start_time": "2022-12-19T19:53:32.705Z"
   },
   {
    "duration": 196,
    "start_time": "2022-12-19T19:53:32.887Z"
   },
   {
    "duration": 191,
    "start_time": "2022-12-19T19:53:33.084Z"
   },
   {
    "duration": 12,
    "start_time": "2022-12-19T19:53:33.276Z"
   },
   {
    "duration": 16,
    "start_time": "2022-12-19T19:53:33.289Z"
   },
   {
    "duration": 13,
    "start_time": "2022-12-19T19:53:33.306Z"
   },
   {
    "duration": 9,
    "start_time": "2022-12-19T20:02:20.832Z"
   },
   {
    "duration": 13,
    "start_time": "2022-12-19T20:04:57.659Z"
   },
   {
    "duration": 13,
    "start_time": "2022-12-19T20:05:05.961Z"
   },
   {
    "duration": 16,
    "start_time": "2022-12-19T20:06:51.080Z"
   },
   {
    "duration": 67,
    "start_time": "2022-12-19T20:08:15.438Z"
   },
   {
    "duration": 1133,
    "start_time": "2022-12-19T20:45:49.195Z"
   },
   {
    "duration": 219,
    "start_time": "2022-12-19T20:45:50.330Z"
   },
   {
    "duration": 34,
    "start_time": "2022-12-19T20:45:50.550Z"
   },
   {
    "duration": 15,
    "start_time": "2022-12-19T20:45:50.586Z"
   },
   {
    "duration": 3,
    "start_time": "2022-12-19T20:45:50.604Z"
   },
   {
    "duration": 12,
    "start_time": "2022-12-19T20:45:50.609Z"
   },
   {
    "duration": 22,
    "start_time": "2022-12-19T20:45:50.623Z"
   },
   {
    "duration": 8,
    "start_time": "2022-12-19T20:45:50.647Z"
   },
   {
    "duration": 15,
    "start_time": "2022-12-19T20:45:50.657Z"
   },
   {
    "duration": 23,
    "start_time": "2022-12-19T20:45:50.675Z"
   },
   {
    "duration": 17,
    "start_time": "2022-12-19T20:45:50.700Z"
   },
   {
    "duration": 17,
    "start_time": "2022-12-19T20:45:50.718Z"
   },
   {
    "duration": 16,
    "start_time": "2022-12-19T20:45:50.736Z"
   },
   {
    "duration": 339,
    "start_time": "2022-12-19T20:45:50.753Z"
   },
   {
    "duration": 4,
    "start_time": "2022-12-19T20:45:51.094Z"
   },
   {
    "duration": 9,
    "start_time": "2022-12-19T20:45:51.104Z"
   },
   {
    "duration": 5,
    "start_time": "2022-12-19T20:45:51.114Z"
   },
   {
    "duration": 29,
    "start_time": "2022-12-19T20:45:51.121Z"
   },
   {
    "duration": 13,
    "start_time": "2022-12-19T20:45:51.151Z"
   },
   {
    "duration": 328,
    "start_time": "2022-12-19T20:45:51.165Z"
   },
   {
    "duration": 265,
    "start_time": "2022-12-19T20:45:51.495Z"
   },
   {
    "duration": 30,
    "start_time": "2022-12-19T20:45:51.762Z"
   },
   {
    "duration": 16,
    "start_time": "2022-12-19T20:45:51.805Z"
   },
   {
    "duration": 11,
    "start_time": "2022-12-19T20:45:51.823Z"
   },
   {
    "duration": 12,
    "start_time": "2022-12-19T20:45:51.835Z"
   },
   {
    "duration": 22,
    "start_time": "2022-12-19T20:45:51.849Z"
   },
   {
    "duration": 429,
    "start_time": "2022-12-19T20:45:51.872Z"
   },
   {
    "duration": 328,
    "start_time": "2022-12-19T20:45:52.306Z"
   },
   {
    "duration": 53,
    "start_time": "2022-12-19T20:45:52.636Z"
   },
   {
    "duration": 269,
    "start_time": "2022-12-19T20:45:52.704Z"
   },
   {
    "duration": 4,
    "start_time": "2022-12-19T20:45:52.974Z"
   },
   {
    "duration": 194,
    "start_time": "2022-12-19T20:45:52.980Z"
   },
   {
    "duration": 186,
    "start_time": "2022-12-19T20:45:53.176Z"
   },
   {
    "duration": 357,
    "start_time": "2022-12-19T20:45:53.363Z"
   },
   {
    "duration": 4,
    "start_time": "2022-12-19T20:45:53.721Z"
   },
   {
    "duration": 18,
    "start_time": "2022-12-19T20:45:53.726Z"
   },
   {
    "duration": 279,
    "start_time": "2022-12-19T20:45:53.745Z"
   },
   {
    "duration": 500,
    "start_time": "2022-12-19T20:45:54.026Z"
   },
   {
    "duration": 13,
    "start_time": "2022-12-19T20:45:54.528Z"
   },
   {
    "duration": 232,
    "start_time": "2022-12-19T20:45:54.542Z"
   },
   {
    "duration": 209,
    "start_time": "2022-12-19T20:45:54.775Z"
   },
   {
    "duration": 194,
    "start_time": "2022-12-19T20:45:54.986Z"
   },
   {
    "duration": 206,
    "start_time": "2022-12-19T20:45:55.182Z"
   },
   {
    "duration": 212,
    "start_time": "2022-12-19T20:45:55.390Z"
   },
   {
    "duration": 284,
    "start_time": "2022-12-19T20:45:55.605Z"
   },
   {
    "duration": 197,
    "start_time": "2022-12-19T20:45:55.891Z"
   },
   {
    "duration": 182,
    "start_time": "2022-12-19T20:45:56.089Z"
   },
   {
    "duration": 194,
    "start_time": "2022-12-19T20:45:56.273Z"
   },
   {
    "duration": 192,
    "start_time": "2022-12-19T20:45:56.469Z"
   },
   {
    "duration": 14,
    "start_time": "2022-12-19T20:45:56.662Z"
   },
   {
    "duration": 34,
    "start_time": "2022-12-19T20:45:56.678Z"
   },
   {
    "duration": 278,
    "start_time": "2022-12-19T20:47:12.253Z"
   },
   {
    "duration": 206,
    "start_time": "2022-12-19T21:17:49.448Z"
   },
   {
    "duration": 1032,
    "start_time": "2022-12-19T21:20:22.462Z"
   },
   {
    "duration": 194,
    "start_time": "2022-12-19T21:20:23.496Z"
   },
   {
    "duration": 35,
    "start_time": "2022-12-19T21:20:23.691Z"
   },
   {
    "duration": 14,
    "start_time": "2022-12-19T21:20:23.728Z"
   },
   {
    "duration": 4,
    "start_time": "2022-12-19T21:20:23.744Z"
   },
   {
    "duration": 12,
    "start_time": "2022-12-19T21:20:23.749Z"
   },
   {
    "duration": 8,
    "start_time": "2022-12-19T21:20:23.763Z"
   },
   {
    "duration": 8,
    "start_time": "2022-12-19T21:20:23.773Z"
   },
   {
    "duration": 25,
    "start_time": "2022-12-19T21:20:23.783Z"
   },
   {
    "duration": 15,
    "start_time": "2022-12-19T21:20:23.811Z"
   },
   {
    "duration": 4,
    "start_time": "2022-12-19T21:20:23.828Z"
   },
   {
    "duration": 7,
    "start_time": "2022-12-19T21:20:23.833Z"
   },
   {
    "duration": 6,
    "start_time": "2022-12-19T21:20:23.841Z"
   },
   {
    "duration": 360,
    "start_time": "2022-12-19T21:20:23.848Z"
   },
   {
    "duration": 4,
    "start_time": "2022-12-19T21:20:24.209Z"
   },
   {
    "duration": 12,
    "start_time": "2022-12-19T21:20:24.214Z"
   },
   {
    "duration": 6,
    "start_time": "2022-12-19T21:20:24.227Z"
   },
   {
    "duration": 20,
    "start_time": "2022-12-19T21:20:24.235Z"
   },
   {
    "duration": 6,
    "start_time": "2022-12-19T21:20:24.257Z"
   },
   {
    "duration": 329,
    "start_time": "2022-12-19T21:20:24.264Z"
   },
   {
    "duration": 284,
    "start_time": "2022-12-19T21:20:24.594Z"
   },
   {
    "duration": 39,
    "start_time": "2022-12-19T21:20:24.879Z"
   },
   {
    "duration": 18,
    "start_time": "2022-12-19T21:20:24.920Z"
   },
   {
    "duration": 6,
    "start_time": "2022-12-19T21:20:24.939Z"
   },
   {
    "duration": 7,
    "start_time": "2022-12-19T21:20:24.946Z"
   },
   {
    "duration": 3,
    "start_time": "2022-12-19T21:20:24.954Z"
   },
   {
    "duration": 438,
    "start_time": "2022-12-19T21:20:24.959Z"
   },
   {
    "duration": 333,
    "start_time": "2022-12-19T21:20:25.401Z"
   },
   {
    "duration": 77,
    "start_time": "2022-12-19T21:20:25.736Z"
   },
   {
    "duration": 283,
    "start_time": "2022-12-19T21:20:25.814Z"
   },
   {
    "duration": 8,
    "start_time": "2022-12-19T21:20:26.098Z"
   },
   {
    "duration": 183,
    "start_time": "2022-12-19T21:20:26.108Z"
   },
   {
    "duration": 178,
    "start_time": "2022-12-19T21:20:26.292Z"
   },
   {
    "duration": 340,
    "start_time": "2022-12-19T21:20:26.472Z"
   },
   {
    "duration": 4,
    "start_time": "2022-12-19T21:20:26.814Z"
   },
   {
    "duration": 11,
    "start_time": "2022-12-19T21:20:26.819Z"
   },
   {
    "duration": 289,
    "start_time": "2022-12-19T21:20:26.832Z"
   },
   {
    "duration": 517,
    "start_time": "2022-12-19T21:20:27.122Z"
   },
   {
    "duration": 14,
    "start_time": "2022-12-19T21:20:27.640Z"
   },
   {
    "duration": 215,
    "start_time": "2022-12-19T21:20:27.655Z"
   },
   {
    "duration": 205,
    "start_time": "2022-12-19T21:20:27.872Z"
   },
   {
    "duration": 198,
    "start_time": "2022-12-19T21:20:28.078Z"
   },
   {
    "duration": 199,
    "start_time": "2022-12-19T21:20:28.278Z"
   },
   {
    "duration": 232,
    "start_time": "2022-12-19T21:20:28.479Z"
   },
   {
    "duration": 297,
    "start_time": "2022-12-19T21:20:28.712Z"
   },
   {
    "duration": 261,
    "start_time": "2022-12-19T21:20:29.010Z"
   },
   {
    "duration": 203,
    "start_time": "2022-12-19T21:20:29.273Z"
   },
   {
    "duration": 209,
    "start_time": "2022-12-19T21:20:29.478Z"
   },
   {
    "duration": 180,
    "start_time": "2022-12-19T21:20:29.688Z"
   },
   {
    "duration": 12,
    "start_time": "2022-12-19T21:20:29.869Z"
   },
   {
    "duration": 65,
    "start_time": "2022-12-19T21:20:29.883Z"
   },
   {
    "duration": 1280,
    "start_time": "2022-12-20T08:05:03.765Z"
   },
   {
    "duration": 156,
    "start_time": "2022-12-20T08:05:05.047Z"
   },
   {
    "duration": 37,
    "start_time": "2022-12-20T08:05:05.205Z"
   },
   {
    "duration": 20,
    "start_time": "2022-12-20T08:05:05.244Z"
   },
   {
    "duration": 12,
    "start_time": "2022-12-20T08:05:05.267Z"
   },
   {
    "duration": 20,
    "start_time": "2022-12-20T08:05:05.281Z"
   },
   {
    "duration": 32,
    "start_time": "2022-12-20T08:05:05.303Z"
   },
   {
    "duration": 18,
    "start_time": "2022-12-20T08:05:05.337Z"
   },
   {
    "duration": 38,
    "start_time": "2022-12-20T08:05:05.357Z"
   },
   {
    "duration": 34,
    "start_time": "2022-12-20T08:05:05.397Z"
   },
   {
    "duration": 19,
    "start_time": "2022-12-20T08:05:05.433Z"
   },
   {
    "duration": 18,
    "start_time": "2022-12-20T08:05:05.454Z"
   },
   {
    "duration": 25,
    "start_time": "2022-12-20T08:05:05.473Z"
   },
   {
    "duration": 374,
    "start_time": "2022-12-20T08:05:05.501Z"
   },
   {
    "duration": 5,
    "start_time": "2022-12-20T08:05:05.876Z"
   },
   {
    "duration": 24,
    "start_time": "2022-12-20T08:05:05.883Z"
   },
   {
    "duration": 23,
    "start_time": "2022-12-20T08:05:05.909Z"
   },
   {
    "duration": 34,
    "start_time": "2022-12-20T08:05:05.934Z"
   },
   {
    "duration": 22,
    "start_time": "2022-12-20T08:05:05.970Z"
   },
   {
    "duration": 384,
    "start_time": "2022-12-20T08:05:05.994Z"
   },
   {
    "duration": 336,
    "start_time": "2022-12-20T08:05:06.380Z"
   },
   {
    "duration": 44,
    "start_time": "2022-12-20T08:05:06.718Z"
   },
   {
    "duration": 19,
    "start_time": "2022-12-20T08:05:06.764Z"
   },
   {
    "duration": 23,
    "start_time": "2022-12-20T08:05:06.785Z"
   },
   {
    "duration": 19,
    "start_time": "2022-12-20T08:05:06.810Z"
   },
   {
    "duration": 10,
    "start_time": "2022-12-20T08:05:06.831Z"
   },
   {
    "duration": 507,
    "start_time": "2022-12-20T08:05:06.843Z"
   },
   {
    "duration": 365,
    "start_time": "2022-12-20T08:05:07.353Z"
   },
   {
    "duration": 75,
    "start_time": "2022-12-20T08:05:07.720Z"
   },
   {
    "duration": 318,
    "start_time": "2022-12-20T08:05:07.797Z"
   },
   {
    "duration": 5,
    "start_time": "2022-12-20T08:05:08.117Z"
   },
   {
    "duration": 204,
    "start_time": "2022-12-20T08:05:08.124Z"
   },
   {
    "duration": 199,
    "start_time": "2022-12-20T08:05:08.330Z"
   },
   {
    "duration": 359,
    "start_time": "2022-12-20T08:05:08.530Z"
   },
   {
    "duration": 4,
    "start_time": "2022-12-20T08:05:08.891Z"
   },
   {
    "duration": 48,
    "start_time": "2022-12-20T08:05:08.897Z"
   },
   {
    "duration": 350,
    "start_time": "2022-12-20T08:05:08.947Z"
   },
   {
    "duration": 563,
    "start_time": "2022-12-20T08:05:09.299Z"
   },
   {
    "duration": 16,
    "start_time": "2022-12-20T08:05:09.864Z"
   },
   {
    "duration": 264,
    "start_time": "2022-12-20T08:05:09.882Z"
   },
   {
    "duration": 238,
    "start_time": "2022-12-20T08:05:10.154Z"
   },
   {
    "duration": 232,
    "start_time": "2022-12-20T08:05:10.394Z"
   },
   {
    "duration": 243,
    "start_time": "2022-12-20T08:05:10.631Z"
   },
   {
    "duration": 261,
    "start_time": "2022-12-20T08:05:10.875Z"
   },
   {
    "duration": 319,
    "start_time": "2022-12-20T08:05:11.138Z"
   },
   {
    "duration": 220,
    "start_time": "2022-12-20T08:05:11.459Z"
   },
   {
    "duration": 215,
    "start_time": "2022-12-20T08:05:11.682Z"
   },
   {
    "duration": 223,
    "start_time": "2022-12-20T08:05:11.899Z"
   },
   {
    "duration": 203,
    "start_time": "2022-12-20T08:05:12.124Z"
   },
   {
    "duration": 13,
    "start_time": "2022-12-20T08:05:12.329Z"
   },
   {
    "duration": 17,
    "start_time": "2022-12-20T08:05:12.355Z"
   },
   {
    "duration": 1312,
    "start_time": "2022-12-20T08:30:20.911Z"
   },
   {
    "duration": 92,
    "start_time": "2022-12-20T08:30:22.224Z"
   },
   {
    "duration": 33,
    "start_time": "2022-12-20T08:30:22.317Z"
   },
   {
    "duration": 14,
    "start_time": "2022-12-20T08:30:22.352Z"
   },
   {
    "duration": 4,
    "start_time": "2022-12-20T08:30:22.368Z"
   },
   {
    "duration": 8,
    "start_time": "2022-12-20T08:30:22.373Z"
   },
   {
    "duration": 10,
    "start_time": "2022-12-20T08:30:22.382Z"
   },
   {
    "duration": 30,
    "start_time": "2022-12-20T08:30:22.393Z"
   },
   {
    "duration": 6,
    "start_time": "2022-12-20T08:30:22.424Z"
   },
   {
    "duration": 16,
    "start_time": "2022-12-20T08:30:22.432Z"
   },
   {
    "duration": 4,
    "start_time": "2022-12-20T08:30:22.450Z"
   },
   {
    "duration": 8,
    "start_time": "2022-12-20T08:30:22.455Z"
   },
   {
    "duration": 8,
    "start_time": "2022-12-20T08:30:22.464Z"
   },
   {
    "duration": 342,
    "start_time": "2022-12-20T08:30:22.474Z"
   },
   {
    "duration": 4,
    "start_time": "2022-12-20T08:30:22.818Z"
   },
   {
    "duration": 13,
    "start_time": "2022-12-20T08:30:22.823Z"
   },
   {
    "duration": 4,
    "start_time": "2022-12-20T08:30:22.838Z"
   },
   {
    "duration": 20,
    "start_time": "2022-12-20T08:30:22.843Z"
   },
   {
    "duration": 8,
    "start_time": "2022-12-20T08:30:22.865Z"
   },
   {
    "duration": 333,
    "start_time": "2022-12-20T08:30:22.875Z"
   },
   {
    "duration": 278,
    "start_time": "2022-12-20T08:30:23.210Z"
   },
   {
    "duration": 34,
    "start_time": "2022-12-20T08:30:23.489Z"
   },
   {
    "duration": 17,
    "start_time": "2022-12-20T08:30:23.525Z"
   },
   {
    "duration": 7,
    "start_time": "2022-12-20T08:30:23.544Z"
   },
   {
    "duration": 8,
    "start_time": "2022-12-20T08:30:23.552Z"
   },
   {
    "duration": 4,
    "start_time": "2022-12-20T08:30:23.562Z"
   },
   {
    "duration": 459,
    "start_time": "2022-12-20T08:30:23.568Z"
   },
   {
    "duration": 389,
    "start_time": "2022-12-20T08:30:24.032Z"
   },
   {
    "duration": 57,
    "start_time": "2022-12-20T08:30:24.423Z"
   },
   {
    "duration": 291,
    "start_time": "2022-12-20T08:30:24.481Z"
   },
   {
    "duration": 4,
    "start_time": "2022-12-20T08:30:24.773Z"
   },
   {
    "duration": 189,
    "start_time": "2022-12-20T08:30:24.779Z"
   },
   {
    "duration": 192,
    "start_time": "2022-12-20T08:30:24.970Z"
   },
   {
    "duration": 381,
    "start_time": "2022-12-20T08:30:25.163Z"
   },
   {
    "duration": 4,
    "start_time": "2022-12-20T08:30:25.545Z"
   },
   {
    "duration": 13,
    "start_time": "2022-12-20T08:30:25.551Z"
   },
   {
    "duration": 315,
    "start_time": "2022-12-20T08:30:25.566Z"
   },
   {
    "duration": 499,
    "start_time": "2022-12-20T08:30:25.885Z"
   },
   {
    "duration": 14,
    "start_time": "2022-12-20T08:30:26.386Z"
   },
   {
    "duration": 237,
    "start_time": "2022-12-20T08:30:26.401Z"
   },
   {
    "duration": 209,
    "start_time": "2022-12-20T08:30:26.639Z"
   },
   {
    "duration": 196,
    "start_time": "2022-12-20T08:30:26.850Z"
   },
   {
    "duration": 217,
    "start_time": "2022-12-20T08:30:27.048Z"
   },
   {
    "duration": 216,
    "start_time": "2022-12-20T08:30:27.267Z"
   },
   {
    "duration": 276,
    "start_time": "2022-12-20T08:30:27.485Z"
   },
   {
    "duration": 224,
    "start_time": "2022-12-20T08:30:27.763Z"
   },
   {
    "duration": 199,
    "start_time": "2022-12-20T08:30:27.988Z"
   },
   {
    "duration": 207,
    "start_time": "2022-12-20T08:30:28.189Z"
   },
   {
    "duration": 189,
    "start_time": "2022-12-20T08:30:28.397Z"
   },
   {
    "duration": 14,
    "start_time": "2022-12-20T08:30:28.588Z"
   },
   {
    "duration": 32,
    "start_time": "2022-12-20T08:30:28.603Z"
   },
   {
    "duration": 13,
    "start_time": "2022-12-20T08:30:41.227Z"
   },
   {
    "duration": 1050,
    "start_time": "2022-12-20T08:34:52.672Z"
   },
   {
    "duration": 144,
    "start_time": "2022-12-20T08:34:53.724Z"
   },
   {
    "duration": 32,
    "start_time": "2022-12-20T08:34:53.869Z"
   },
   {
    "duration": 14,
    "start_time": "2022-12-20T08:34:53.903Z"
   },
   {
    "duration": 16,
    "start_time": "2022-12-20T08:34:53.919Z"
   },
   {
    "duration": 11,
    "start_time": "2022-12-20T08:34:53.936Z"
   },
   {
    "duration": 17,
    "start_time": "2022-12-20T08:34:53.949Z"
   },
   {
    "duration": 12,
    "start_time": "2022-12-20T08:34:53.968Z"
   },
   {
    "duration": 26,
    "start_time": "2022-12-20T08:34:53.982Z"
   },
   {
    "duration": 18,
    "start_time": "2022-12-20T08:34:54.011Z"
   },
   {
    "duration": 5,
    "start_time": "2022-12-20T08:34:54.031Z"
   },
   {
    "duration": 7,
    "start_time": "2022-12-20T08:34:54.037Z"
   },
   {
    "duration": 13,
    "start_time": "2022-12-20T08:34:54.045Z"
   },
   {
    "duration": 379,
    "start_time": "2022-12-20T08:34:54.059Z"
   },
   {
    "duration": 5,
    "start_time": "2022-12-20T08:34:54.440Z"
   },
   {
    "duration": 10,
    "start_time": "2022-12-20T08:34:54.447Z"
   },
   {
    "duration": 5,
    "start_time": "2022-12-20T08:34:54.459Z"
   },
   {
    "duration": 29,
    "start_time": "2022-12-20T08:34:54.466Z"
   },
   {
    "duration": 26,
    "start_time": "2022-12-20T08:34:54.497Z"
   },
   {
    "duration": 336,
    "start_time": "2022-12-20T08:34:54.525Z"
   },
   {
    "duration": 299,
    "start_time": "2022-12-20T08:34:54.863Z"
   },
   {
    "duration": 30,
    "start_time": "2022-12-20T08:34:55.164Z"
   },
   {
    "duration": 35,
    "start_time": "2022-12-20T08:34:55.196Z"
   },
   {
    "duration": 8,
    "start_time": "2022-12-20T08:34:55.233Z"
   },
   {
    "duration": 8,
    "start_time": "2022-12-20T08:34:55.243Z"
   },
   {
    "duration": 13,
    "start_time": "2022-12-20T08:34:55.253Z"
   },
   {
    "duration": 464,
    "start_time": "2022-12-20T08:34:55.268Z"
   },
   {
    "duration": 365,
    "start_time": "2022-12-20T08:34:55.735Z"
   },
   {
    "duration": 74,
    "start_time": "2022-12-20T08:34:56.102Z"
   },
   {
    "duration": 310,
    "start_time": "2022-12-20T08:34:56.178Z"
   },
   {
    "duration": 4,
    "start_time": "2022-12-20T08:34:56.489Z"
   },
   {
    "duration": 202,
    "start_time": "2022-12-20T08:34:56.495Z"
   },
   {
    "duration": 192,
    "start_time": "2022-12-20T08:34:56.699Z"
   },
   {
    "duration": 332,
    "start_time": "2022-12-20T08:34:56.892Z"
   },
   {
    "duration": 4,
    "start_time": "2022-12-20T08:34:57.225Z"
   },
   {
    "duration": 12,
    "start_time": "2022-12-20T08:34:57.231Z"
   },
   {
    "duration": 303,
    "start_time": "2022-12-20T08:34:57.244Z"
   },
   {
    "duration": 522,
    "start_time": "2022-12-20T08:34:57.549Z"
   },
   {
    "duration": 15,
    "start_time": "2022-12-20T08:34:58.073Z"
   },
   {
    "duration": 244,
    "start_time": "2022-12-20T08:34:58.089Z"
   },
   {
    "duration": 215,
    "start_time": "2022-12-20T08:34:58.334Z"
   },
   {
    "duration": 206,
    "start_time": "2022-12-20T08:34:58.551Z"
   },
   {
    "duration": 223,
    "start_time": "2022-12-20T08:34:58.759Z"
   },
   {
    "duration": 225,
    "start_time": "2022-12-20T08:34:58.984Z"
   },
   {
    "duration": 303,
    "start_time": "2022-12-20T08:34:59.210Z"
   },
   {
    "duration": 228,
    "start_time": "2022-12-20T08:34:59.522Z"
   },
   {
    "duration": 239,
    "start_time": "2022-12-20T08:34:59.751Z"
   },
   {
    "duration": 217,
    "start_time": "2022-12-20T08:34:59.992Z"
   },
   {
    "duration": 198,
    "start_time": "2022-12-20T08:35:00.211Z"
   },
   {
    "duration": 22,
    "start_time": "2022-12-20T08:35:00.410Z"
   },
   {
    "duration": 51,
    "start_time": "2022-12-20T08:35:00.433Z"
   }
  ],
  "kernelspec": {
   "display_name": "Python 3 (ipykernel)",
   "language": "python",
   "name": "python3"
  },
  "language_info": {
   "codemirror_mode": {
    "name": "ipython",
    "version": 3
   },
   "file_extension": ".py",
   "mimetype": "text/x-python",
   "name": "python",
   "nbconvert_exporter": "python",
   "pygments_lexer": "ipython3",
   "version": "3.9.12"
  },
  "toc": {
   "base_numbering": 1,
   "nav_menu": {},
   "number_sections": true,
   "sideBar": true,
   "skip_h1_title": true,
   "title_cell": "Table of Contents",
   "title_sidebar": "Contents",
   "toc_cell": false,
   "toc_position": {},
   "toc_section_display": true,
   "toc_window_display": false
  }
 },
 "nbformat": 4,
 "nbformat_minor": 2
}
