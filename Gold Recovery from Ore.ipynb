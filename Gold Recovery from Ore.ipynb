{
 "cells": [
  {
   "cell_type": "markdown",
   "metadata": {},
   "source": [
    "# Gold Recovery from Ore"
   ]
  },
  {
   "cell_type": "markdown",
   "metadata": {},
   "source": [
    "## Description"
   ]
  },
  {
   "cell_type": "markdown",
   "metadata": {},
   "source": [
    "<br><b>Aim</b>\n",
    "\n",
    "To prepare a prototype machine learning model that predicts the gold recovery rate from gold-bearing ore.\n",
    "\n",
    "<br><b>Background</b>\n",
    "\n",
    "Extracting gold from ore:\n",
    "\n",
    "1. Flotation:\n",
    "mixture + enrichment --> rough concentrate + tailings\n",
    "2. Cleaning:\n",
    "   1. First cleaning: rough concentrate --> concentrate after the first cleaning + tailings\n",
    "   2. Second cleaning: concentrate after the first cleaning --> final concentrate + tailings\n",
    "\n",
    "\n",
    "The model will help optimize production to avoid running operations with unprofitable characteristics. The process of gold recovery from gold-bearing ore needs to be modeled. To do this, the enrichment efficiency must be calculated – it's necessary to determine the gold share in concentrates and tailings. Not only the final product is important, but also the rough concentrate.\n",
    "\n",
    "Enrichment efficiency is calculated by the formula:\n",
    "\n",
    "    recovery = (((C*(F-T))/((F*(C-T))))* 100%\n",
    "\n",
    "where:\n",
    "\n",
    "   - C — gold share in the concentrate after flotation/cleaning;\n",
    "   - F — gold share in raw material/concentrate before flotation/cleaning;\n",
    "   - T — gold share in tailings after flotation/cleaning.\n",
    "\n",
    "Quality metric — sMAPE (Symmetric Mean Absolute Percentage Error).\n",
    "\n",
    "It's necessary to forecast two quantities:\n",
    "- rougher concentrate enrichment efficiency rougher.output.recovery;\n",
    "- final concentrate enrichment efficiency final.output.recovery.\n",
    "\n",
    "The final sMAPE is a combination of two values:\n",
    "- Final sMAPE = 25% * sMAPE(rougher) + 75% * sMAPE(final)\n",
    "\n",
    "<br><b>Data Description</b>\n",
    "\n",
    "Technological Process\n",
    "- Rougher feed — raw material\n",
    "- Rougher additions (или reagent additions) — flotation reagents: Xanthate, Sulphate, Depressant\n",
    "- Xanthate — xanthogenate (promoter or flotation activator)\n",
    "- Sulphate — sulphate (sodium sulphide in this production)\n",
    "- Depressant — depressant (sodium silicate)\n",
    "- Rougher process — flotation\n",
    "- Rougher tails — tailings\n",
    "- Float banks — flotation unit\n",
    "- Cleaner process — cleaning\n",
    "- Rougher Au — rough gold concentrate\n",
    "- Final Au — final gold concentrate\n",
    "\n",
    "Stage Parameters\n",
    "- air amount — air volume\n",
    "- fluid levels — liquid level\n",
    "- feed size — raw material granule size\n",
    "- feed rate — feed speed"
   ]
  },
  {
   "cell_type": "markdown",
   "metadata": {},
   "source": [
    "## Data preparation"
   ]
  },
  {
   "cell_type": "code",
   "execution_count": 1,
   "metadata": {},
   "outputs": [],
   "source": [
    "import pandas as pd\n",
    "import numpy as np\n",
    "import matplotlib.pyplot as plt\n",
    "import seaborn as sns\n",
    "import ydata_profiling\n",
    "\n",
    "from scipy.stats import ks_2samp\n",
    "from sklearn.dummy import DummyRegressor\n",
    "from sklearn.ensemble import RandomForestRegressor\n",
    "from sklearn.linear_model import LinearRegression\n",
    "from sklearn.metrics import mean_absolute_error\n",
    "from sklearn.metrics import make_scorer\n",
    "from sklearn.metrics import mean_squared_error\n",
    "from sklearn.model_selection import cross_val_score\n",
    "from sklearn.preprocessing import StandardScaler\n",
    "from sklearn.tree import DecisionTreeRegressor\n",
    "from tqdm import tqdm\n",
    "from ydata_profiling import ProfileReport\n",
    "\n",
    "import warnings\n",
    "warnings.simplefilter(\"ignore\")\n",
    "pd.options.mode.chained_assignment = None\n",
    "pd.set_option('display.max_columns', None)"
   ]
  },
  {
   "cell_type": "code",
   "execution_count": 2,
   "metadata": {},
   "outputs": [],
   "source": [
    "try:\n",
    "    train = pd.read_csv('https://code.s3.yandex.net/datasets/gold_recovery_train_new.csv')\n",
    "except:\n",
    "    train = pd.read_csv('gold_recovery_train_new.csv')\n",
    "    \n",
    "try:\n",
    "    test = pd.read_csv('https://code.s3.yandex.net/datasets/gold_recovery_test_new.csv')\n",
    "except:\n",
    "    test = pd.read_csv('gold_recovery_test_new.csv')\n",
    "    \n",
    "try:\n",
    "    full = pd.read_csv('https://code.s3.yandex.net/datasets/gold_recovery_full_new.csv')\n",
    "except:\n",
    "    full = pd.read_csv('gold_recovery_full_new.csv')"
   ]
  },
  {
   "cell_type": "code",
   "execution_count": 3,
   "metadata": {
    "scrolled": true
   },
   "outputs": [
    {
     "data": {
      "application/vnd.jupyter.widget-view+json": {
       "model_id": "971ccc598cbb40b99561b0cbe4037f69",
       "version_major": 2,
       "version_minor": 0
      },
      "text/plain": [
       "Summarize dataset:   0%|          | 0/5 [00:00<?, ?it/s]"
      ]
     },
     "metadata": {},
     "output_type": "display_data"
    },
    {
     "data": {
      "application/vnd.jupyter.widget-view+json": {
       "model_id": "f9df779521c841bdb9d143890f39920a",
       "version_major": 2,
       "version_minor": 0
      },
      "text/plain": [
       "Generate report structure:   0%|          | 0/1 [00:00<?, ?it/s]"
      ]
     },
     "metadata": {},
     "output_type": "display_data"
    },
    {
     "ename": "ValueError",
     "evalue": "Only supported for TrueType fonts",
     "output_type": "error",
     "traceback": [
      "\u001b[1;31m---------------------------------------------------------------------------\u001b[0m",
      "\u001b[1;31mValueError\u001b[0m                                Traceback (most recent call last)",
      "File \u001b[1;32mI:\\anaconda3\\lib\\site-packages\\IPython\\core\\formatters.py:343\u001b[0m, in \u001b[0;36mBaseFormatter.__call__\u001b[1;34m(self, obj)\u001b[0m\n\u001b[0;32m    341\u001b[0m     method \u001b[38;5;241m=\u001b[39m get_real_method(obj, \u001b[38;5;28mself\u001b[39m\u001b[38;5;241m.\u001b[39mprint_method)\n\u001b[0;32m    342\u001b[0m     \u001b[38;5;28;01mif\u001b[39;00m method \u001b[38;5;129;01mis\u001b[39;00m \u001b[38;5;129;01mnot\u001b[39;00m \u001b[38;5;28;01mNone\u001b[39;00m:\n\u001b[1;32m--> 343\u001b[0m         \u001b[38;5;28;01mreturn\u001b[39;00m \u001b[43mmethod\u001b[49m\u001b[43m(\u001b[49m\u001b[43m)\u001b[49m\n\u001b[0;32m    344\u001b[0m     \u001b[38;5;28;01mreturn\u001b[39;00m \u001b[38;5;28;01mNone\u001b[39;00m\n\u001b[0;32m    345\u001b[0m \u001b[38;5;28;01melse\u001b[39;00m:\n",
      "File \u001b[1;32mI:\\anaconda3\\lib\\site-packages\\typeguard\\__init__.py:1033\u001b[0m, in \u001b[0;36mtypechecked.<locals>.wrapper\u001b[1;34m(*args, **kwargs)\u001b[0m\n\u001b[0;32m   1031\u001b[0m memo \u001b[38;5;241m=\u001b[39m _CallMemo(python_func, _localns, args\u001b[38;5;241m=\u001b[39margs, kwargs\u001b[38;5;241m=\u001b[39mkwargs)\n\u001b[0;32m   1032\u001b[0m check_argument_types(memo)\n\u001b[1;32m-> 1033\u001b[0m retval \u001b[38;5;241m=\u001b[39m func(\u001b[38;5;241m*\u001b[39margs, \u001b[38;5;241m*\u001b[39m\u001b[38;5;241m*\u001b[39mkwargs)\n\u001b[0;32m   1034\u001b[0m \u001b[38;5;28;01mtry\u001b[39;00m:\n\u001b[0;32m   1035\u001b[0m     check_return_type(retval, memo)\n",
      "File \u001b[1;32mI:\\anaconda3\\lib\\site-packages\\ydata_profiling\\profile_report.py:520\u001b[0m, in \u001b[0;36mProfileReport._repr_html_\u001b[1;34m(self)\u001b[0m\n\u001b[0;32m    518\u001b[0m \u001b[38;5;28;01mdef\u001b[39;00m \u001b[38;5;21m_repr_html_\u001b[39m(\u001b[38;5;28mself\u001b[39m) \u001b[38;5;241m-\u001b[39m\u001b[38;5;241m>\u001b[39m \u001b[38;5;28;01mNone\u001b[39;00m:\n\u001b[0;32m    519\u001b[0m     \u001b[38;5;124;03m\"\"\"The ipython notebook widgets user interface gets called by the jupyter notebook.\"\"\"\u001b[39;00m\n\u001b[1;32m--> 520\u001b[0m     \u001b[38;5;28;43mself\u001b[39;49m\u001b[38;5;241;43m.\u001b[39;49m\u001b[43mto_notebook_iframe\u001b[49m\u001b[43m(\u001b[49m\u001b[43m)\u001b[49m\n",
      "File \u001b[1;32mI:\\anaconda3\\lib\\site-packages\\typeguard\\__init__.py:1033\u001b[0m, in \u001b[0;36mtypechecked.<locals>.wrapper\u001b[1;34m(*args, **kwargs)\u001b[0m\n\u001b[0;32m   1031\u001b[0m memo \u001b[38;5;241m=\u001b[39m _CallMemo(python_func, _localns, args\u001b[38;5;241m=\u001b[39margs, kwargs\u001b[38;5;241m=\u001b[39mkwargs)\n\u001b[0;32m   1032\u001b[0m check_argument_types(memo)\n\u001b[1;32m-> 1033\u001b[0m retval \u001b[38;5;241m=\u001b[39m func(\u001b[38;5;241m*\u001b[39margs, \u001b[38;5;241m*\u001b[39m\u001b[38;5;241m*\u001b[39mkwargs)\n\u001b[0;32m   1034\u001b[0m \u001b[38;5;28;01mtry\u001b[39;00m:\n\u001b[0;32m   1035\u001b[0m     check_return_type(retval, memo)\n",
      "File \u001b[1;32mI:\\anaconda3\\lib\\site-packages\\ydata_profiling\\profile_report.py:500\u001b[0m, in \u001b[0;36mProfileReport.to_notebook_iframe\u001b[1;34m(self)\u001b[0m\n\u001b[0;32m    498\u001b[0m \u001b[38;5;28;01mwith\u001b[39;00m warnings\u001b[38;5;241m.\u001b[39mcatch_warnings():\n\u001b[0;32m    499\u001b[0m     warnings\u001b[38;5;241m.\u001b[39msimplefilter(\u001b[38;5;124m\"\u001b[39m\u001b[38;5;124mignore\u001b[39m\u001b[38;5;124m\"\u001b[39m)\n\u001b[1;32m--> 500\u001b[0m     display(\u001b[43mget_notebook_iframe\u001b[49m\u001b[43m(\u001b[49m\u001b[38;5;28;43mself\u001b[39;49m\u001b[38;5;241;43m.\u001b[39;49m\u001b[43mconfig\u001b[49m\u001b[43m,\u001b[49m\u001b[43m \u001b[49m\u001b[38;5;28;43mself\u001b[39;49m\u001b[43m)\u001b[49m)\n",
      "File \u001b[1;32mI:\\anaconda3\\lib\\site-packages\\ydata_profiling\\report\\presentation\\flavours\\widget\\notebook.py:75\u001b[0m, in \u001b[0;36mget_notebook_iframe\u001b[1;34m(config, profile)\u001b[0m\n\u001b[0;32m     73\u001b[0m     output \u001b[38;5;241m=\u001b[39m get_notebook_iframe_src(config, profile)\n\u001b[0;32m     74\u001b[0m \u001b[38;5;28;01melif\u001b[39;00m attribute \u001b[38;5;241m==\u001b[39m IframeAttribute\u001b[38;5;241m.\u001b[39msrcdoc:\n\u001b[1;32m---> 75\u001b[0m     output \u001b[38;5;241m=\u001b[39m \u001b[43mget_notebook_iframe_srcdoc\u001b[49m\u001b[43m(\u001b[49m\u001b[43mconfig\u001b[49m\u001b[43m,\u001b[49m\u001b[43m \u001b[49m\u001b[43mprofile\u001b[49m\u001b[43m)\u001b[49m\n\u001b[0;32m     76\u001b[0m \u001b[38;5;28;01melse\u001b[39;00m:\n\u001b[0;32m     77\u001b[0m     \u001b[38;5;28;01mraise\u001b[39;00m \u001b[38;5;167;01mValueError\u001b[39;00m(\n\u001b[0;32m     78\u001b[0m         \u001b[38;5;124mf\u001b[39m\u001b[38;5;124m'\u001b[39m\u001b[38;5;124mIframe Attribute can be \u001b[39m\u001b[38;5;124m\"\u001b[39m\u001b[38;5;124msrc\u001b[39m\u001b[38;5;124m\"\u001b[39m\u001b[38;5;124m or \u001b[39m\u001b[38;5;124m\"\u001b[39m\u001b[38;5;124msrcdoc\u001b[39m\u001b[38;5;124m\"\u001b[39m\u001b[38;5;124m (current: \u001b[39m\u001b[38;5;132;01m{\u001b[39;00mattribute\u001b[38;5;132;01m}\u001b[39;00m\u001b[38;5;124m).\u001b[39m\u001b[38;5;124m'\u001b[39m\n\u001b[0;32m     79\u001b[0m     )\n",
      "File \u001b[1;32mI:\\anaconda3\\lib\\site-packages\\ydata_profiling\\report\\presentation\\flavours\\widget\\notebook.py:29\u001b[0m, in \u001b[0;36mget_notebook_iframe_srcdoc\u001b[1;34m(config, profile)\u001b[0m\n\u001b[0;32m     27\u001b[0m width \u001b[38;5;241m=\u001b[39m config\u001b[38;5;241m.\u001b[39mnotebook\u001b[38;5;241m.\u001b[39miframe\u001b[38;5;241m.\u001b[39mwidth\n\u001b[0;32m     28\u001b[0m height \u001b[38;5;241m=\u001b[39m config\u001b[38;5;241m.\u001b[39mnotebook\u001b[38;5;241m.\u001b[39miframe\u001b[38;5;241m.\u001b[39mheight\n\u001b[1;32m---> 29\u001b[0m src \u001b[38;5;241m=\u001b[39m html\u001b[38;5;241m.\u001b[39mescape(\u001b[43mprofile\u001b[49m\u001b[38;5;241;43m.\u001b[39;49m\u001b[43mto_html\u001b[49m\u001b[43m(\u001b[49m\u001b[43m)\u001b[49m)\n\u001b[0;32m     31\u001b[0m iframe \u001b[38;5;241m=\u001b[39m \u001b[38;5;124mf\u001b[39m\u001b[38;5;124m'\u001b[39m\u001b[38;5;124m<iframe width=\u001b[39m\u001b[38;5;124m\"\u001b[39m\u001b[38;5;132;01m{\u001b[39;00mwidth\u001b[38;5;132;01m}\u001b[39;00m\u001b[38;5;124m\"\u001b[39m\u001b[38;5;124m height=\u001b[39m\u001b[38;5;124m\"\u001b[39m\u001b[38;5;132;01m{\u001b[39;00mheight\u001b[38;5;132;01m}\u001b[39;00m\u001b[38;5;124m\"\u001b[39m\u001b[38;5;124m srcdoc=\u001b[39m\u001b[38;5;124m\"\u001b[39m\u001b[38;5;132;01m{\u001b[39;00msrc\u001b[38;5;132;01m}\u001b[39;00m\u001b[38;5;124m\"\u001b[39m\u001b[38;5;124m frameborder=\u001b[39m\u001b[38;5;124m\"\u001b[39m\u001b[38;5;124m0\u001b[39m\u001b[38;5;124m\"\u001b[39m\u001b[38;5;124m allowfullscreen></iframe>\u001b[39m\u001b[38;5;124m'\u001b[39m\n\u001b[0;32m     33\u001b[0m \u001b[38;5;28;01mreturn\u001b[39;00m HTML(iframe)\n",
      "File \u001b[1;32mI:\\anaconda3\\lib\\site-packages\\typeguard\\__init__.py:1033\u001b[0m, in \u001b[0;36mtypechecked.<locals>.wrapper\u001b[1;34m(*args, **kwargs)\u001b[0m\n\u001b[0;32m   1031\u001b[0m memo \u001b[38;5;241m=\u001b[39m _CallMemo(python_func, _localns, args\u001b[38;5;241m=\u001b[39margs, kwargs\u001b[38;5;241m=\u001b[39mkwargs)\n\u001b[0;32m   1032\u001b[0m check_argument_types(memo)\n\u001b[1;32m-> 1033\u001b[0m retval \u001b[38;5;241m=\u001b[39m func(\u001b[38;5;241m*\u001b[39margs, \u001b[38;5;241m*\u001b[39m\u001b[38;5;241m*\u001b[39mkwargs)\n\u001b[0;32m   1034\u001b[0m \u001b[38;5;28;01mtry\u001b[39;00m:\n\u001b[0;32m   1035\u001b[0m     check_return_type(retval, memo)\n",
      "File \u001b[1;32mI:\\anaconda3\\lib\\site-packages\\ydata_profiling\\profile_report.py:470\u001b[0m, in \u001b[0;36mProfileReport.to_html\u001b[1;34m(self)\u001b[0m\n\u001b[0;32m    462\u001b[0m \u001b[38;5;28;01mdef\u001b[39;00m \u001b[38;5;21mto_html\u001b[39m(\u001b[38;5;28mself\u001b[39m) \u001b[38;5;241m-\u001b[39m\u001b[38;5;241m>\u001b[39m \u001b[38;5;28mstr\u001b[39m:\n\u001b[0;32m    463\u001b[0m     \u001b[38;5;124;03m\"\"\"Generate and return complete template as lengthy string\u001b[39;00m\n\u001b[0;32m    464\u001b[0m \u001b[38;5;124;03m        for using with frameworks.\u001b[39;00m\n\u001b[0;32m    465\u001b[0m \n\u001b[1;32m   (...)\u001b[0m\n\u001b[0;32m    468\u001b[0m \n\u001b[0;32m    469\u001b[0m \u001b[38;5;124;03m    \"\"\"\u001b[39;00m\n\u001b[1;32m--> 470\u001b[0m     \u001b[38;5;28;01mreturn\u001b[39;00m \u001b[38;5;28;43mself\u001b[39;49m\u001b[38;5;241;43m.\u001b[39;49m\u001b[43mhtml\u001b[49m\n",
      "File \u001b[1;32mI:\\anaconda3\\lib\\site-packages\\typeguard\\__init__.py:1033\u001b[0m, in \u001b[0;36mtypechecked.<locals>.wrapper\u001b[1;34m(*args, **kwargs)\u001b[0m\n\u001b[0;32m   1031\u001b[0m memo \u001b[38;5;241m=\u001b[39m _CallMemo(python_func, _localns, args\u001b[38;5;241m=\u001b[39margs, kwargs\u001b[38;5;241m=\u001b[39mkwargs)\n\u001b[0;32m   1032\u001b[0m check_argument_types(memo)\n\u001b[1;32m-> 1033\u001b[0m retval \u001b[38;5;241m=\u001b[39m func(\u001b[38;5;241m*\u001b[39margs, \u001b[38;5;241m*\u001b[39m\u001b[38;5;241m*\u001b[39mkwargs)\n\u001b[0;32m   1034\u001b[0m \u001b[38;5;28;01mtry\u001b[39;00m:\n\u001b[0;32m   1035\u001b[0m     check_return_type(retval, memo)\n",
      "File \u001b[1;32mI:\\anaconda3\\lib\\site-packages\\ydata_profiling\\profile_report.py:277\u001b[0m, in \u001b[0;36mProfileReport.html\u001b[1;34m(self)\u001b[0m\n\u001b[0;32m    274\u001b[0m \u001b[38;5;129m@property\u001b[39m\n\u001b[0;32m    275\u001b[0m \u001b[38;5;28;01mdef\u001b[39;00m \u001b[38;5;21mhtml\u001b[39m(\u001b[38;5;28mself\u001b[39m) \u001b[38;5;241m-\u001b[39m\u001b[38;5;241m>\u001b[39m \u001b[38;5;28mstr\u001b[39m:\n\u001b[0;32m    276\u001b[0m     \u001b[38;5;28;01mif\u001b[39;00m \u001b[38;5;28mself\u001b[39m\u001b[38;5;241m.\u001b[39m_html \u001b[38;5;129;01mis\u001b[39;00m \u001b[38;5;28;01mNone\u001b[39;00m:\n\u001b[1;32m--> 277\u001b[0m         \u001b[38;5;28mself\u001b[39m\u001b[38;5;241m.\u001b[39m_html \u001b[38;5;241m=\u001b[39m \u001b[38;5;28;43mself\u001b[39;49m\u001b[38;5;241;43m.\u001b[39;49m\u001b[43m_render_html\u001b[49m\u001b[43m(\u001b[49m\u001b[43m)\u001b[49m\n\u001b[0;32m    278\u001b[0m     \u001b[38;5;28;01mreturn\u001b[39;00m \u001b[38;5;28mself\u001b[39m\u001b[38;5;241m.\u001b[39m_html\n",
      "File \u001b[1;32mI:\\anaconda3\\lib\\site-packages\\typeguard\\__init__.py:1033\u001b[0m, in \u001b[0;36mtypechecked.<locals>.wrapper\u001b[1;34m(*args, **kwargs)\u001b[0m\n\u001b[0;32m   1031\u001b[0m memo \u001b[38;5;241m=\u001b[39m _CallMemo(python_func, _localns, args\u001b[38;5;241m=\u001b[39margs, kwargs\u001b[38;5;241m=\u001b[39mkwargs)\n\u001b[0;32m   1032\u001b[0m check_argument_types(memo)\n\u001b[1;32m-> 1033\u001b[0m retval \u001b[38;5;241m=\u001b[39m func(\u001b[38;5;241m*\u001b[39margs, \u001b[38;5;241m*\u001b[39m\u001b[38;5;241m*\u001b[39mkwargs)\n\u001b[0;32m   1034\u001b[0m \u001b[38;5;28;01mtry\u001b[39;00m:\n\u001b[0;32m   1035\u001b[0m     check_return_type(retval, memo)\n",
      "File \u001b[1;32mI:\\anaconda3\\lib\\site-packages\\ydata_profiling\\profile_report.py:385\u001b[0m, in \u001b[0;36mProfileReport._render_html\u001b[1;34m(self)\u001b[0m\n\u001b[0;32m    382\u001b[0m \u001b[38;5;28;01mdef\u001b[39;00m \u001b[38;5;21m_render_html\u001b[39m(\u001b[38;5;28mself\u001b[39m) \u001b[38;5;241m-\u001b[39m\u001b[38;5;241m>\u001b[39m \u001b[38;5;28mstr\u001b[39m:\n\u001b[0;32m    383\u001b[0m     \u001b[38;5;28;01mfrom\u001b[39;00m \u001b[38;5;21;01mydata_profiling\u001b[39;00m\u001b[38;5;21;01m.\u001b[39;00m\u001b[38;5;21;01mreport\u001b[39;00m\u001b[38;5;21;01m.\u001b[39;00m\u001b[38;5;21;01mpresentation\u001b[39;00m\u001b[38;5;21;01m.\u001b[39;00m\u001b[38;5;21;01mflavours\u001b[39;00m \u001b[38;5;28;01mimport\u001b[39;00m HTMLReport\n\u001b[1;32m--> 385\u001b[0m     report \u001b[38;5;241m=\u001b[39m \u001b[38;5;28;43mself\u001b[39;49m\u001b[38;5;241;43m.\u001b[39;49m\u001b[43mreport\u001b[49m\n\u001b[0;32m    387\u001b[0m     \u001b[38;5;28;01mwith\u001b[39;00m tqdm(\n\u001b[0;32m    388\u001b[0m         total\u001b[38;5;241m=\u001b[39m\u001b[38;5;241m1\u001b[39m, desc\u001b[38;5;241m=\u001b[39m\u001b[38;5;124m\"\u001b[39m\u001b[38;5;124mRender HTML\u001b[39m\u001b[38;5;124m\"\u001b[39m, disable\u001b[38;5;241m=\u001b[39m\u001b[38;5;129;01mnot\u001b[39;00m \u001b[38;5;28mself\u001b[39m\u001b[38;5;241m.\u001b[39mconfig\u001b[38;5;241m.\u001b[39mprogress_bar\n\u001b[0;32m    389\u001b[0m     ) \u001b[38;5;28;01mas\u001b[39;00m pbar:\n\u001b[0;32m    390\u001b[0m         html \u001b[38;5;241m=\u001b[39m HTMLReport(copy\u001b[38;5;241m.\u001b[39mdeepcopy(report))\u001b[38;5;241m.\u001b[39mrender(\n\u001b[0;32m    391\u001b[0m             nav\u001b[38;5;241m=\u001b[39m\u001b[38;5;28mself\u001b[39m\u001b[38;5;241m.\u001b[39mconfig\u001b[38;5;241m.\u001b[39mhtml\u001b[38;5;241m.\u001b[39mnavbar_show,\n\u001b[0;32m    392\u001b[0m             offline\u001b[38;5;241m=\u001b[39m\u001b[38;5;28mself\u001b[39m\u001b[38;5;241m.\u001b[39mconfig\u001b[38;5;241m.\u001b[39mhtml\u001b[38;5;241m.\u001b[39muse_local_assets,\n\u001b[1;32m   (...)\u001b[0m\n\u001b[0;32m    400\u001b[0m             version\u001b[38;5;241m=\u001b[39m\u001b[38;5;28mself\u001b[39m\u001b[38;5;241m.\u001b[39mdescription_set\u001b[38;5;241m.\u001b[39mpackage[\u001b[38;5;124m\"\u001b[39m\u001b[38;5;124mydata_profiling_version\u001b[39m\u001b[38;5;124m\"\u001b[39m],\n\u001b[0;32m    401\u001b[0m         )\n",
      "File \u001b[1;32mI:\\anaconda3\\lib\\site-packages\\typeguard\\__init__.py:1033\u001b[0m, in \u001b[0;36mtypechecked.<locals>.wrapper\u001b[1;34m(*args, **kwargs)\u001b[0m\n\u001b[0;32m   1031\u001b[0m memo \u001b[38;5;241m=\u001b[39m _CallMemo(python_func, _localns, args\u001b[38;5;241m=\u001b[39margs, kwargs\u001b[38;5;241m=\u001b[39mkwargs)\n\u001b[0;32m   1032\u001b[0m check_argument_types(memo)\n\u001b[1;32m-> 1033\u001b[0m retval \u001b[38;5;241m=\u001b[39m func(\u001b[38;5;241m*\u001b[39margs, \u001b[38;5;241m*\u001b[39m\u001b[38;5;241m*\u001b[39mkwargs)\n\u001b[0;32m   1034\u001b[0m \u001b[38;5;28;01mtry\u001b[39;00m:\n\u001b[0;32m   1035\u001b[0m     check_return_type(retval, memo)\n",
      "File \u001b[1;32mI:\\anaconda3\\lib\\site-packages\\ydata_profiling\\profile_report.py:271\u001b[0m, in \u001b[0;36mProfileReport.report\u001b[1;34m(self)\u001b[0m\n\u001b[0;32m    268\u001b[0m \u001b[38;5;129m@property\u001b[39m\n\u001b[0;32m    269\u001b[0m \u001b[38;5;28;01mdef\u001b[39;00m \u001b[38;5;21mreport\u001b[39m(\u001b[38;5;28mself\u001b[39m) \u001b[38;5;241m-\u001b[39m\u001b[38;5;241m>\u001b[39m Root:\n\u001b[0;32m    270\u001b[0m     \u001b[38;5;28;01mif\u001b[39;00m \u001b[38;5;28mself\u001b[39m\u001b[38;5;241m.\u001b[39m_report \u001b[38;5;129;01mis\u001b[39;00m \u001b[38;5;28;01mNone\u001b[39;00m:\n\u001b[1;32m--> 271\u001b[0m         \u001b[38;5;28mself\u001b[39m\u001b[38;5;241m.\u001b[39m_report \u001b[38;5;241m=\u001b[39m \u001b[43mget_report_structure\u001b[49m\u001b[43m(\u001b[49m\u001b[38;5;28;43mself\u001b[39;49m\u001b[38;5;241;43m.\u001b[39;49m\u001b[43mconfig\u001b[49m\u001b[43m,\u001b[49m\u001b[43m \u001b[49m\u001b[38;5;28;43mself\u001b[39;49m\u001b[38;5;241;43m.\u001b[39;49m\u001b[43mdescription_set\u001b[49m\u001b[43m)\u001b[49m\n\u001b[0;32m    272\u001b[0m     \u001b[38;5;28;01mreturn\u001b[39;00m \u001b[38;5;28mself\u001b[39m\u001b[38;5;241m.\u001b[39m_report\n",
      "File \u001b[1;32mI:\\anaconda3\\lib\\site-packages\\ydata_profiling\\report\\structure\\report.py:387\u001b[0m, in \u001b[0;36mget_report_structure\u001b[1;34m(config, summary)\u001b[0m\n\u001b[0;32m    368\u001b[0m section_items: List[Renderable] \u001b[38;5;241m=\u001b[39m [\n\u001b[0;32m    369\u001b[0m     Container(\n\u001b[0;32m    370\u001b[0m         get_dataset_items(config, summary, alerts),\n\u001b[1;32m   (...)\u001b[0m\n\u001b[0;32m    374\u001b[0m     ),\n\u001b[0;32m    375\u001b[0m ]\n\u001b[0;32m    377\u001b[0m \u001b[38;5;28;01mif\u001b[39;00m \u001b[38;5;28mlen\u001b[39m(summary\u001b[38;5;241m.\u001b[39mvariables) \u001b[38;5;241m>\u001b[39m \u001b[38;5;241m0\u001b[39m:\n\u001b[0;32m    378\u001b[0m     section_items\u001b[38;5;241m.\u001b[39mappend(\n\u001b[0;32m    379\u001b[0m         Dropdown(\n\u001b[0;32m    380\u001b[0m             name\u001b[38;5;241m=\u001b[39m\u001b[38;5;124m\"\u001b[39m\u001b[38;5;124mVariables\u001b[39m\u001b[38;5;124m\"\u001b[39m,\n\u001b[0;32m    381\u001b[0m             anchor_id\u001b[38;5;241m=\u001b[39m\u001b[38;5;124m\"\u001b[39m\u001b[38;5;124mvariables-dropdown\u001b[39m\u001b[38;5;124m\"\u001b[39m,\n\u001b[0;32m    382\u001b[0m             \u001b[38;5;28mid\u001b[39m\u001b[38;5;241m=\u001b[39m\u001b[38;5;124m\"\u001b[39m\u001b[38;5;124mvariables-dropdown\u001b[39m\u001b[38;5;124m\"\u001b[39m,\n\u001b[0;32m    383\u001b[0m             is_row\u001b[38;5;241m=\u001b[39m\u001b[38;5;28;01mTrue\u001b[39;00m,\n\u001b[0;32m    384\u001b[0m             classes\u001b[38;5;241m=\u001b[39m[\u001b[38;5;124m\"\u001b[39m\u001b[38;5;124mdropdown-toggle\u001b[39m\u001b[38;5;124m\"\u001b[39m],\n\u001b[0;32m    385\u001b[0m             items\u001b[38;5;241m=\u001b[39m\u001b[38;5;28mlist\u001b[39m(summary\u001b[38;5;241m.\u001b[39mvariables),\n\u001b[0;32m    386\u001b[0m             item\u001b[38;5;241m=\u001b[39mContainer(\n\u001b[1;32m--> 387\u001b[0m                 \u001b[43mrender_variables_section\u001b[49m\u001b[43m(\u001b[49m\u001b[43mconfig\u001b[49m\u001b[43m,\u001b[49m\u001b[43m \u001b[49m\u001b[43msummary\u001b[49m\u001b[43m)\u001b[49m,\n\u001b[0;32m    388\u001b[0m                 sequence_type\u001b[38;5;241m=\u001b[39m\u001b[38;5;124m\"\u001b[39m\u001b[38;5;124maccordion\u001b[39m\u001b[38;5;124m\"\u001b[39m,\n\u001b[0;32m    389\u001b[0m                 name\u001b[38;5;241m=\u001b[39m\u001b[38;5;124m\"\u001b[39m\u001b[38;5;124mVariables\u001b[39m\u001b[38;5;124m\"\u001b[39m,\n\u001b[0;32m    390\u001b[0m                 anchor_id\u001b[38;5;241m=\u001b[39m\u001b[38;5;124m\"\u001b[39m\u001b[38;5;124mvariables\u001b[39m\u001b[38;5;124m\"\u001b[39m,\n\u001b[0;32m    391\u001b[0m             ),\n\u001b[0;32m    392\u001b[0m         )\n\u001b[0;32m    393\u001b[0m     )\n\u001b[0;32m    395\u001b[0m scatter_items \u001b[38;5;241m=\u001b[39m get_interactions(config, summary\u001b[38;5;241m.\u001b[39mscatter)\n\u001b[0;32m    396\u001b[0m \u001b[38;5;28;01mif\u001b[39;00m \u001b[38;5;28mlen\u001b[39m(scatter_items) \u001b[38;5;241m>\u001b[39m \u001b[38;5;241m0\u001b[39m:\n",
      "File \u001b[1;32mI:\\anaconda3\\lib\\site-packages\\ydata_profiling\\report\\structure\\report.py:162\u001b[0m, in \u001b[0;36mrender_variables_section\u001b[1;34m(config, dataframe_summary)\u001b[0m\n\u001b[0;32m    160\u001b[0m     variable_type \u001b[38;5;241m=\u001b[39m summary[\u001b[38;5;124m\"\u001b[39m\u001b[38;5;124mtype\u001b[39m\u001b[38;5;124m\"\u001b[39m]\n\u001b[0;32m    161\u001b[0m render_map_type \u001b[38;5;241m=\u001b[39m render_map\u001b[38;5;241m.\u001b[39mget(variable_type, render_map[\u001b[38;5;124m\"\u001b[39m\u001b[38;5;124mUnsupported\u001b[39m\u001b[38;5;124m\"\u001b[39m])\n\u001b[1;32m--> 162\u001b[0m template_variables\u001b[38;5;241m.\u001b[39mupdate(\u001b[43mrender_map_type\u001b[49m\u001b[43m(\u001b[49m\u001b[43mconfig\u001b[49m\u001b[43m,\u001b[49m\u001b[43m \u001b[49m\u001b[43mtemplate_variables\u001b[49m\u001b[43m)\u001b[49m)\n\u001b[0;32m    164\u001b[0m \u001b[38;5;66;03m# Ignore these\u001b[39;00m\n\u001b[0;32m    165\u001b[0m \u001b[38;5;28;01mif\u001b[39;00m reject_variables:\n",
      "File \u001b[1;32mI:\\anaconda3\\lib\\site-packages\\ydata_profiling\\report\\structure\\variables\\render_text.py:81\u001b[0m, in \u001b[0;36mrender_text\u001b[1;34m(config, summary)\u001b[0m\n\u001b[0;32m     77\u001b[0m top_items\u001b[38;5;241m.\u001b[39mappend(table)\n\u001b[0;32m     79\u001b[0m \u001b[38;5;28;01mif\u001b[39;00m words \u001b[38;5;129;01mand\u001b[39;00m \u001b[38;5;124m\"\u001b[39m\u001b[38;5;124mword_counts\u001b[39m\u001b[38;5;124m\"\u001b[39m \u001b[38;5;129;01min\u001b[39;00m summary:\n\u001b[0;32m     80\u001b[0m     mini_wordcloud \u001b[38;5;241m=\u001b[39m Image(\n\u001b[1;32m---> 81\u001b[0m         \u001b[43mplot_word_cloud\u001b[49m\u001b[43m(\u001b[49m\u001b[43mconfig\u001b[49m\u001b[43m,\u001b[49m\u001b[43m \u001b[49m\u001b[43msummary\u001b[49m\u001b[43m[\u001b[49m\u001b[38;5;124;43m\"\u001b[39;49m\u001b[38;5;124;43mword_counts\u001b[39;49m\u001b[38;5;124;43m\"\u001b[39;49m\u001b[43m]\u001b[49m\u001b[43m)\u001b[49m,\n\u001b[0;32m     82\u001b[0m         image_format\u001b[38;5;241m=\u001b[39mconfig\u001b[38;5;241m.\u001b[39mplot\u001b[38;5;241m.\u001b[39mimage_format,\n\u001b[0;32m     83\u001b[0m         alt\u001b[38;5;241m=\u001b[39m\u001b[38;5;124m\"\u001b[39m\u001b[38;5;124mMini wordcloud\u001b[39m\u001b[38;5;124m\"\u001b[39m,\n\u001b[0;32m     84\u001b[0m     )\n\u001b[0;32m     85\u001b[0m     top_items\u001b[38;5;241m.\u001b[39mappend(mini_wordcloud)\n\u001b[0;32m     86\u001b[0m template_variables[\u001b[38;5;124m\"\u001b[39m\u001b[38;5;124mtop\u001b[39m\u001b[38;5;124m\"\u001b[39m] \u001b[38;5;241m=\u001b[39m Container(top_items, sequence_type\u001b[38;5;241m=\u001b[39m\u001b[38;5;124m\"\u001b[39m\u001b[38;5;124mgrid\u001b[39m\u001b[38;5;124m\"\u001b[39m)\n",
      "File \u001b[1;32mI:\\anaconda3\\lib\\contextlib.py:79\u001b[0m, in \u001b[0;36mContextDecorator.__call__.<locals>.inner\u001b[1;34m(*args, **kwds)\u001b[0m\n\u001b[0;32m     76\u001b[0m \u001b[38;5;129m@wraps\u001b[39m(func)\n\u001b[0;32m     77\u001b[0m \u001b[38;5;28;01mdef\u001b[39;00m \u001b[38;5;21minner\u001b[39m(\u001b[38;5;241m*\u001b[39margs, \u001b[38;5;241m*\u001b[39m\u001b[38;5;241m*\u001b[39mkwds):\n\u001b[0;32m     78\u001b[0m     \u001b[38;5;28;01mwith\u001b[39;00m \u001b[38;5;28mself\u001b[39m\u001b[38;5;241m.\u001b[39m_recreate_cm():\n\u001b[1;32m---> 79\u001b[0m         \u001b[38;5;28;01mreturn\u001b[39;00m func(\u001b[38;5;241m*\u001b[39margs, \u001b[38;5;241m*\u001b[39m\u001b[38;5;241m*\u001b[39mkwds)\n",
      "File \u001b[1;32mI:\\anaconda3\\lib\\site-packages\\ydata_profiling\\visualisation\\plot.py:126\u001b[0m, in \u001b[0;36mplot_word_cloud\u001b[1;34m(config, word_counts)\u001b[0m\n\u001b[0;32m    124\u001b[0m \u001b[38;5;129m@manage_matplotlib_context\u001b[39m()\n\u001b[0;32m    125\u001b[0m \u001b[38;5;28;01mdef\u001b[39;00m \u001b[38;5;21mplot_word_cloud\u001b[39m(config: Settings, word_counts: pd\u001b[38;5;241m.\u001b[39mSeries) \u001b[38;5;241m-\u001b[39m\u001b[38;5;241m>\u001b[39m \u001b[38;5;28mstr\u001b[39m:\n\u001b[1;32m--> 126\u001b[0m     \u001b[43m_plot_word_cloud\u001b[49m\u001b[43m(\u001b[49m\u001b[43mseries\u001b[49m\u001b[38;5;241;43m=\u001b[39;49m\u001b[43mword_counts\u001b[49m\u001b[43m)\u001b[49m\n\u001b[0;32m    127\u001b[0m     \u001b[38;5;28;01mreturn\u001b[39;00m plot_360_n0sc0pe(config)\n",
      "File \u001b[1;32mI:\\anaconda3\\lib\\site-packages\\ydata_profiling\\visualisation\\plot.py:38\u001b[0m, in \u001b[0;36m_plot_word_cloud\u001b[1;34m(series, figsize)\u001b[0m\n\u001b[0;32m     36\u001b[0m \u001b[38;5;28;01mfor\u001b[39;00m i, series_data \u001b[38;5;129;01min\u001b[39;00m \u001b[38;5;28menumerate\u001b[39m(series):\n\u001b[0;32m     37\u001b[0m     word_dict \u001b[38;5;241m=\u001b[39m series_data\u001b[38;5;241m.\u001b[39mto_dict()\n\u001b[1;32m---> 38\u001b[0m     wordcloud \u001b[38;5;241m=\u001b[39m \u001b[43mWordCloud\u001b[49m\u001b[43m(\u001b[49m\n\u001b[0;32m     39\u001b[0m \u001b[43m        \u001b[49m\u001b[43mbackground_color\u001b[49m\u001b[38;5;241;43m=\u001b[39;49m\u001b[38;5;124;43m\"\u001b[39;49m\u001b[38;5;124;43mwhite\u001b[39;49m\u001b[38;5;124;43m\"\u001b[39;49m\u001b[43m,\u001b[49m\u001b[43m \u001b[49m\u001b[43mrandom_state\u001b[49m\u001b[38;5;241;43m=\u001b[39;49m\u001b[38;5;241;43m123\u001b[39;49m\u001b[43m,\u001b[49m\u001b[43m \u001b[49m\u001b[43mwidth\u001b[49m\u001b[38;5;241;43m=\u001b[39;49m\u001b[38;5;241;43m300\u001b[39;49m\u001b[43m,\u001b[49m\u001b[43m \u001b[49m\u001b[43mheight\u001b[49m\u001b[38;5;241;43m=\u001b[39;49m\u001b[38;5;241;43m200\u001b[39;49m\u001b[43m,\u001b[49m\u001b[43m \u001b[49m\u001b[43mscale\u001b[49m\u001b[38;5;241;43m=\u001b[39;49m\u001b[38;5;241;43m2\u001b[39;49m\n\u001b[0;32m     40\u001b[0m \u001b[43m    \u001b[49m\u001b[43m)\u001b[49m\u001b[38;5;241;43m.\u001b[39;49m\u001b[43mgenerate_from_frequencies\u001b[49m\u001b[43m(\u001b[49m\u001b[43mword_dict\u001b[49m\u001b[43m)\u001b[49m\n\u001b[0;32m     42\u001b[0m     ax \u001b[38;5;241m=\u001b[39m plot\u001b[38;5;241m.\u001b[39madd_subplot(\u001b[38;5;241m1\u001b[39m, \u001b[38;5;28mlen\u001b[39m(series), i \u001b[38;5;241m+\u001b[39m \u001b[38;5;241m1\u001b[39m)\n\u001b[0;32m     43\u001b[0m     ax\u001b[38;5;241m.\u001b[39mimshow(wordcloud)\n",
      "File \u001b[1;32mI:\\anaconda3\\lib\\site-packages\\wordcloud\\wordcloud.py:453\u001b[0m, in \u001b[0;36mWordCloud.generate_from_frequencies\u001b[1;34m(self, frequencies, max_font_size)\u001b[0m\n\u001b[0;32m    451\u001b[0m     font_size \u001b[38;5;241m=\u001b[39m \u001b[38;5;28mself\u001b[39m\u001b[38;5;241m.\u001b[39mheight\n\u001b[0;32m    452\u001b[0m \u001b[38;5;28;01melse\u001b[39;00m:\n\u001b[1;32m--> 453\u001b[0m     \u001b[38;5;28;43mself\u001b[39;49m\u001b[38;5;241;43m.\u001b[39;49m\u001b[43mgenerate_from_frequencies\u001b[49m\u001b[43m(\u001b[49m\u001b[38;5;28;43mdict\u001b[39;49m\u001b[43m(\u001b[49m\u001b[43mfrequencies\u001b[49m\u001b[43m[\u001b[49m\u001b[43m:\u001b[49m\u001b[38;5;241;43m2\u001b[39;49m\u001b[43m]\u001b[49m\u001b[43m)\u001b[49m\u001b[43m,\u001b[49m\n\u001b[0;32m    454\u001b[0m \u001b[43m                                   \u001b[49m\u001b[43mmax_font_size\u001b[49m\u001b[38;5;241;43m=\u001b[39;49m\u001b[38;5;28;43mself\u001b[39;49m\u001b[38;5;241;43m.\u001b[39;49m\u001b[43mheight\u001b[49m\u001b[43m)\u001b[49m\n\u001b[0;32m    455\u001b[0m     \u001b[38;5;66;03m# find font sizes\u001b[39;00m\n\u001b[0;32m    456\u001b[0m     sizes \u001b[38;5;241m=\u001b[39m [x[\u001b[38;5;241m1\u001b[39m] \u001b[38;5;28;01mfor\u001b[39;00m x \u001b[38;5;129;01min\u001b[39;00m \u001b[38;5;28mself\u001b[39m\u001b[38;5;241m.\u001b[39mlayout_]\n",
      "File \u001b[1;32mI:\\anaconda3\\lib\\site-packages\\wordcloud\\wordcloud.py:508\u001b[0m, in \u001b[0;36mWordCloud.generate_from_frequencies\u001b[1;34m(self, frequencies, max_font_size)\u001b[0m\n\u001b[0;32m    505\u001b[0m transposed_font \u001b[38;5;241m=\u001b[39m ImageFont\u001b[38;5;241m.\u001b[39mTransposedFont(\n\u001b[0;32m    506\u001b[0m     font, orientation\u001b[38;5;241m=\u001b[39morientation)\n\u001b[0;32m    507\u001b[0m \u001b[38;5;66;03m# get size of resulting text\u001b[39;00m\n\u001b[1;32m--> 508\u001b[0m box_size \u001b[38;5;241m=\u001b[39m \u001b[43mdraw\u001b[49m\u001b[38;5;241;43m.\u001b[39;49m\u001b[43mtextbbox\u001b[49m\u001b[43m(\u001b[49m\u001b[43m(\u001b[49m\u001b[38;5;241;43m0\u001b[39;49m\u001b[43m,\u001b[49m\u001b[43m \u001b[49m\u001b[38;5;241;43m0\u001b[39;49m\u001b[43m)\u001b[49m\u001b[43m,\u001b[49m\u001b[43m \u001b[49m\u001b[43mword\u001b[49m\u001b[43m,\u001b[49m\u001b[43m \u001b[49m\u001b[43mfont\u001b[49m\u001b[38;5;241;43m=\u001b[39;49m\u001b[43mtransposed_font\u001b[49m\u001b[43m,\u001b[49m\u001b[43m \u001b[49m\u001b[43manchor\u001b[49m\u001b[38;5;241;43m=\u001b[39;49m\u001b[38;5;124;43m\"\u001b[39;49m\u001b[38;5;124;43mlt\u001b[39;49m\u001b[38;5;124;43m\"\u001b[39;49m\u001b[43m)\u001b[49m\n\u001b[0;32m    509\u001b[0m \u001b[38;5;66;03m# find possible places using integral image:\u001b[39;00m\n\u001b[0;32m    510\u001b[0m result \u001b[38;5;241m=\u001b[39m occupancy\u001b[38;5;241m.\u001b[39msample_position(box_size[\u001b[38;5;241m3\u001b[39m] \u001b[38;5;241m+\u001b[39m \u001b[38;5;28mself\u001b[39m\u001b[38;5;241m.\u001b[39mmargin,\n\u001b[0;32m    511\u001b[0m                                    box_size[\u001b[38;5;241m2\u001b[39m] \u001b[38;5;241m+\u001b[39m \u001b[38;5;28mself\u001b[39m\u001b[38;5;241m.\u001b[39mmargin,\n\u001b[0;32m    512\u001b[0m                                    random_state)\n",
      "File \u001b[1;32mI:\\anaconda3\\lib\\site-packages\\PIL\\ImageDraw.py:671\u001b[0m, in \u001b[0;36mImageDraw.textbbox\u001b[1;34m(self, xy, text, font, anchor, spacing, align, direction, features, language, stroke_width, embedded_color)\u001b[0m\n\u001b[0;32m    669\u001b[0m     font \u001b[38;5;241m=\u001b[39m \u001b[38;5;28mself\u001b[39m\u001b[38;5;241m.\u001b[39mgetfont()\n\u001b[0;32m    670\u001b[0m \u001b[38;5;28;01mif\u001b[39;00m \u001b[38;5;129;01mnot\u001b[39;00m \u001b[38;5;28misinstance\u001b[39m(font, ImageFont\u001b[38;5;241m.\u001b[39mFreeTypeFont):\n\u001b[1;32m--> 671\u001b[0m     \u001b[38;5;28;01mraise\u001b[39;00m \u001b[38;5;167;01mValueError\u001b[39;00m(\u001b[38;5;124m\"\u001b[39m\u001b[38;5;124mOnly supported for TrueType fonts\u001b[39m\u001b[38;5;124m\"\u001b[39m)\n\u001b[0;32m    672\u001b[0m mode \u001b[38;5;241m=\u001b[39m \u001b[38;5;124m\"\u001b[39m\u001b[38;5;124mRGBA\u001b[39m\u001b[38;5;124m\"\u001b[39m \u001b[38;5;28;01mif\u001b[39;00m embedded_color \u001b[38;5;28;01melse\u001b[39;00m \u001b[38;5;28mself\u001b[39m\u001b[38;5;241m.\u001b[39mfontmode\n\u001b[0;32m    673\u001b[0m bbox \u001b[38;5;241m=\u001b[39m font\u001b[38;5;241m.\u001b[39mgetbbox(\n\u001b[0;32m    674\u001b[0m     text, mode, direction, features, language, stroke_width, anchor\n\u001b[0;32m    675\u001b[0m )\n",
      "\u001b[1;31mValueError\u001b[0m: Only supported for TrueType fonts"
     ]
    },
    {
     "data": {
      "text/plain": []
     },
     "execution_count": 3,
     "metadata": {},
     "output_type": "execute_result"
    },
    {
     "data": {
      "text/plain": [
       "<Figure size 432x288 with 0 Axes>"
      ]
     },
     "metadata": {},
     "output_type": "display_data"
    }
   ],
   "source": [
    "# Opening the training dataset\n",
    "profile_train = ProfileReport(train, minimal=True)\n",
    "profile_train"
   ]
  },
  {
   "cell_type": "code",
   "execution_count": 4,
   "metadata": {},
   "outputs": [
    {
     "data": {
      "application/vnd.jupyter.widget-view+json": {
       "model_id": "ec75427246114d61b173ea13efc3aa13",
       "version_major": 2,
       "version_minor": 0
      },
      "text/plain": [
       "Summarize dataset:   0%|          | 0/5 [00:00<?, ?it/s]"
      ]
     },
     "metadata": {},
     "output_type": "display_data"
    },
    {
     "data": {
      "application/vnd.jupyter.widget-view+json": {
       "model_id": "3c8c079b9388448a84f295cdd8fab019",
       "version_major": 2,
       "version_minor": 0
      },
      "text/plain": [
       "Generate report structure:   0%|          | 0/1 [00:00<?, ?it/s]"
      ]
     },
     "metadata": {},
     "output_type": "display_data"
    },
    {
     "ename": "ValueError",
     "evalue": "Only supported for TrueType fonts",
     "output_type": "error",
     "traceback": [
      "\u001b[1;31m---------------------------------------------------------------------------\u001b[0m",
      "\u001b[1;31mValueError\u001b[0m                                Traceback (most recent call last)",
      "File \u001b[1;32mI:\\anaconda3\\lib\\site-packages\\IPython\\core\\formatters.py:343\u001b[0m, in \u001b[0;36mBaseFormatter.__call__\u001b[1;34m(self, obj)\u001b[0m\n\u001b[0;32m    341\u001b[0m     method \u001b[38;5;241m=\u001b[39m get_real_method(obj, \u001b[38;5;28mself\u001b[39m\u001b[38;5;241m.\u001b[39mprint_method)\n\u001b[0;32m    342\u001b[0m     \u001b[38;5;28;01mif\u001b[39;00m method \u001b[38;5;129;01mis\u001b[39;00m \u001b[38;5;129;01mnot\u001b[39;00m \u001b[38;5;28;01mNone\u001b[39;00m:\n\u001b[1;32m--> 343\u001b[0m         \u001b[38;5;28;01mreturn\u001b[39;00m \u001b[43mmethod\u001b[49m\u001b[43m(\u001b[49m\u001b[43m)\u001b[49m\n\u001b[0;32m    344\u001b[0m     \u001b[38;5;28;01mreturn\u001b[39;00m \u001b[38;5;28;01mNone\u001b[39;00m\n\u001b[0;32m    345\u001b[0m \u001b[38;5;28;01melse\u001b[39;00m:\n",
      "File \u001b[1;32mI:\\anaconda3\\lib\\site-packages\\typeguard\\__init__.py:1033\u001b[0m, in \u001b[0;36mtypechecked.<locals>.wrapper\u001b[1;34m(*args, **kwargs)\u001b[0m\n\u001b[0;32m   1031\u001b[0m memo \u001b[38;5;241m=\u001b[39m _CallMemo(python_func, _localns, args\u001b[38;5;241m=\u001b[39margs, kwargs\u001b[38;5;241m=\u001b[39mkwargs)\n\u001b[0;32m   1032\u001b[0m check_argument_types(memo)\n\u001b[1;32m-> 1033\u001b[0m retval \u001b[38;5;241m=\u001b[39m func(\u001b[38;5;241m*\u001b[39margs, \u001b[38;5;241m*\u001b[39m\u001b[38;5;241m*\u001b[39mkwargs)\n\u001b[0;32m   1034\u001b[0m \u001b[38;5;28;01mtry\u001b[39;00m:\n\u001b[0;32m   1035\u001b[0m     check_return_type(retval, memo)\n",
      "File \u001b[1;32mI:\\anaconda3\\lib\\site-packages\\ydata_profiling\\profile_report.py:520\u001b[0m, in \u001b[0;36mProfileReport._repr_html_\u001b[1;34m(self)\u001b[0m\n\u001b[0;32m    518\u001b[0m \u001b[38;5;28;01mdef\u001b[39;00m \u001b[38;5;21m_repr_html_\u001b[39m(\u001b[38;5;28mself\u001b[39m) \u001b[38;5;241m-\u001b[39m\u001b[38;5;241m>\u001b[39m \u001b[38;5;28;01mNone\u001b[39;00m:\n\u001b[0;32m    519\u001b[0m     \u001b[38;5;124;03m\"\"\"The ipython notebook widgets user interface gets called by the jupyter notebook.\"\"\"\u001b[39;00m\n\u001b[1;32m--> 520\u001b[0m     \u001b[38;5;28;43mself\u001b[39;49m\u001b[38;5;241;43m.\u001b[39;49m\u001b[43mto_notebook_iframe\u001b[49m\u001b[43m(\u001b[49m\u001b[43m)\u001b[49m\n",
      "File \u001b[1;32mI:\\anaconda3\\lib\\site-packages\\typeguard\\__init__.py:1033\u001b[0m, in \u001b[0;36mtypechecked.<locals>.wrapper\u001b[1;34m(*args, **kwargs)\u001b[0m\n\u001b[0;32m   1031\u001b[0m memo \u001b[38;5;241m=\u001b[39m _CallMemo(python_func, _localns, args\u001b[38;5;241m=\u001b[39margs, kwargs\u001b[38;5;241m=\u001b[39mkwargs)\n\u001b[0;32m   1032\u001b[0m check_argument_types(memo)\n\u001b[1;32m-> 1033\u001b[0m retval \u001b[38;5;241m=\u001b[39m func(\u001b[38;5;241m*\u001b[39margs, \u001b[38;5;241m*\u001b[39m\u001b[38;5;241m*\u001b[39mkwargs)\n\u001b[0;32m   1034\u001b[0m \u001b[38;5;28;01mtry\u001b[39;00m:\n\u001b[0;32m   1035\u001b[0m     check_return_type(retval, memo)\n",
      "File \u001b[1;32mI:\\anaconda3\\lib\\site-packages\\ydata_profiling\\profile_report.py:500\u001b[0m, in \u001b[0;36mProfileReport.to_notebook_iframe\u001b[1;34m(self)\u001b[0m\n\u001b[0;32m    498\u001b[0m \u001b[38;5;28;01mwith\u001b[39;00m warnings\u001b[38;5;241m.\u001b[39mcatch_warnings():\n\u001b[0;32m    499\u001b[0m     warnings\u001b[38;5;241m.\u001b[39msimplefilter(\u001b[38;5;124m\"\u001b[39m\u001b[38;5;124mignore\u001b[39m\u001b[38;5;124m\"\u001b[39m)\n\u001b[1;32m--> 500\u001b[0m     display(\u001b[43mget_notebook_iframe\u001b[49m\u001b[43m(\u001b[49m\u001b[38;5;28;43mself\u001b[39;49m\u001b[38;5;241;43m.\u001b[39;49m\u001b[43mconfig\u001b[49m\u001b[43m,\u001b[49m\u001b[43m \u001b[49m\u001b[38;5;28;43mself\u001b[39;49m\u001b[43m)\u001b[49m)\n",
      "File \u001b[1;32mI:\\anaconda3\\lib\\site-packages\\ydata_profiling\\report\\presentation\\flavours\\widget\\notebook.py:75\u001b[0m, in \u001b[0;36mget_notebook_iframe\u001b[1;34m(config, profile)\u001b[0m\n\u001b[0;32m     73\u001b[0m     output \u001b[38;5;241m=\u001b[39m get_notebook_iframe_src(config, profile)\n\u001b[0;32m     74\u001b[0m \u001b[38;5;28;01melif\u001b[39;00m attribute \u001b[38;5;241m==\u001b[39m IframeAttribute\u001b[38;5;241m.\u001b[39msrcdoc:\n\u001b[1;32m---> 75\u001b[0m     output \u001b[38;5;241m=\u001b[39m \u001b[43mget_notebook_iframe_srcdoc\u001b[49m\u001b[43m(\u001b[49m\u001b[43mconfig\u001b[49m\u001b[43m,\u001b[49m\u001b[43m \u001b[49m\u001b[43mprofile\u001b[49m\u001b[43m)\u001b[49m\n\u001b[0;32m     76\u001b[0m \u001b[38;5;28;01melse\u001b[39;00m:\n\u001b[0;32m     77\u001b[0m     \u001b[38;5;28;01mraise\u001b[39;00m \u001b[38;5;167;01mValueError\u001b[39;00m(\n\u001b[0;32m     78\u001b[0m         \u001b[38;5;124mf\u001b[39m\u001b[38;5;124m'\u001b[39m\u001b[38;5;124mIframe Attribute can be \u001b[39m\u001b[38;5;124m\"\u001b[39m\u001b[38;5;124msrc\u001b[39m\u001b[38;5;124m\"\u001b[39m\u001b[38;5;124m or \u001b[39m\u001b[38;5;124m\"\u001b[39m\u001b[38;5;124msrcdoc\u001b[39m\u001b[38;5;124m\"\u001b[39m\u001b[38;5;124m (current: \u001b[39m\u001b[38;5;132;01m{\u001b[39;00mattribute\u001b[38;5;132;01m}\u001b[39;00m\u001b[38;5;124m).\u001b[39m\u001b[38;5;124m'\u001b[39m\n\u001b[0;32m     79\u001b[0m     )\n",
      "File \u001b[1;32mI:\\anaconda3\\lib\\site-packages\\ydata_profiling\\report\\presentation\\flavours\\widget\\notebook.py:29\u001b[0m, in \u001b[0;36mget_notebook_iframe_srcdoc\u001b[1;34m(config, profile)\u001b[0m\n\u001b[0;32m     27\u001b[0m width \u001b[38;5;241m=\u001b[39m config\u001b[38;5;241m.\u001b[39mnotebook\u001b[38;5;241m.\u001b[39miframe\u001b[38;5;241m.\u001b[39mwidth\n\u001b[0;32m     28\u001b[0m height \u001b[38;5;241m=\u001b[39m config\u001b[38;5;241m.\u001b[39mnotebook\u001b[38;5;241m.\u001b[39miframe\u001b[38;5;241m.\u001b[39mheight\n\u001b[1;32m---> 29\u001b[0m src \u001b[38;5;241m=\u001b[39m html\u001b[38;5;241m.\u001b[39mescape(\u001b[43mprofile\u001b[49m\u001b[38;5;241;43m.\u001b[39;49m\u001b[43mto_html\u001b[49m\u001b[43m(\u001b[49m\u001b[43m)\u001b[49m)\n\u001b[0;32m     31\u001b[0m iframe \u001b[38;5;241m=\u001b[39m \u001b[38;5;124mf\u001b[39m\u001b[38;5;124m'\u001b[39m\u001b[38;5;124m<iframe width=\u001b[39m\u001b[38;5;124m\"\u001b[39m\u001b[38;5;132;01m{\u001b[39;00mwidth\u001b[38;5;132;01m}\u001b[39;00m\u001b[38;5;124m\"\u001b[39m\u001b[38;5;124m height=\u001b[39m\u001b[38;5;124m\"\u001b[39m\u001b[38;5;132;01m{\u001b[39;00mheight\u001b[38;5;132;01m}\u001b[39;00m\u001b[38;5;124m\"\u001b[39m\u001b[38;5;124m srcdoc=\u001b[39m\u001b[38;5;124m\"\u001b[39m\u001b[38;5;132;01m{\u001b[39;00msrc\u001b[38;5;132;01m}\u001b[39;00m\u001b[38;5;124m\"\u001b[39m\u001b[38;5;124m frameborder=\u001b[39m\u001b[38;5;124m\"\u001b[39m\u001b[38;5;124m0\u001b[39m\u001b[38;5;124m\"\u001b[39m\u001b[38;5;124m allowfullscreen></iframe>\u001b[39m\u001b[38;5;124m'\u001b[39m\n\u001b[0;32m     33\u001b[0m \u001b[38;5;28;01mreturn\u001b[39;00m HTML(iframe)\n",
      "File \u001b[1;32mI:\\anaconda3\\lib\\site-packages\\typeguard\\__init__.py:1033\u001b[0m, in \u001b[0;36mtypechecked.<locals>.wrapper\u001b[1;34m(*args, **kwargs)\u001b[0m\n\u001b[0;32m   1031\u001b[0m memo \u001b[38;5;241m=\u001b[39m _CallMemo(python_func, _localns, args\u001b[38;5;241m=\u001b[39margs, kwargs\u001b[38;5;241m=\u001b[39mkwargs)\n\u001b[0;32m   1032\u001b[0m check_argument_types(memo)\n\u001b[1;32m-> 1033\u001b[0m retval \u001b[38;5;241m=\u001b[39m func(\u001b[38;5;241m*\u001b[39margs, \u001b[38;5;241m*\u001b[39m\u001b[38;5;241m*\u001b[39mkwargs)\n\u001b[0;32m   1034\u001b[0m \u001b[38;5;28;01mtry\u001b[39;00m:\n\u001b[0;32m   1035\u001b[0m     check_return_type(retval, memo)\n",
      "File \u001b[1;32mI:\\anaconda3\\lib\\site-packages\\ydata_profiling\\profile_report.py:470\u001b[0m, in \u001b[0;36mProfileReport.to_html\u001b[1;34m(self)\u001b[0m\n\u001b[0;32m    462\u001b[0m \u001b[38;5;28;01mdef\u001b[39;00m \u001b[38;5;21mto_html\u001b[39m(\u001b[38;5;28mself\u001b[39m) \u001b[38;5;241m-\u001b[39m\u001b[38;5;241m>\u001b[39m \u001b[38;5;28mstr\u001b[39m:\n\u001b[0;32m    463\u001b[0m     \u001b[38;5;124;03m\"\"\"Generate and return complete template as lengthy string\u001b[39;00m\n\u001b[0;32m    464\u001b[0m \u001b[38;5;124;03m        for using with frameworks.\u001b[39;00m\n\u001b[0;32m    465\u001b[0m \n\u001b[1;32m   (...)\u001b[0m\n\u001b[0;32m    468\u001b[0m \n\u001b[0;32m    469\u001b[0m \u001b[38;5;124;03m    \"\"\"\u001b[39;00m\n\u001b[1;32m--> 470\u001b[0m     \u001b[38;5;28;01mreturn\u001b[39;00m \u001b[38;5;28;43mself\u001b[39;49m\u001b[38;5;241;43m.\u001b[39;49m\u001b[43mhtml\u001b[49m\n",
      "File \u001b[1;32mI:\\anaconda3\\lib\\site-packages\\typeguard\\__init__.py:1033\u001b[0m, in \u001b[0;36mtypechecked.<locals>.wrapper\u001b[1;34m(*args, **kwargs)\u001b[0m\n\u001b[0;32m   1031\u001b[0m memo \u001b[38;5;241m=\u001b[39m _CallMemo(python_func, _localns, args\u001b[38;5;241m=\u001b[39margs, kwargs\u001b[38;5;241m=\u001b[39mkwargs)\n\u001b[0;32m   1032\u001b[0m check_argument_types(memo)\n\u001b[1;32m-> 1033\u001b[0m retval \u001b[38;5;241m=\u001b[39m func(\u001b[38;5;241m*\u001b[39margs, \u001b[38;5;241m*\u001b[39m\u001b[38;5;241m*\u001b[39mkwargs)\n\u001b[0;32m   1034\u001b[0m \u001b[38;5;28;01mtry\u001b[39;00m:\n\u001b[0;32m   1035\u001b[0m     check_return_type(retval, memo)\n",
      "File \u001b[1;32mI:\\anaconda3\\lib\\site-packages\\ydata_profiling\\profile_report.py:277\u001b[0m, in \u001b[0;36mProfileReport.html\u001b[1;34m(self)\u001b[0m\n\u001b[0;32m    274\u001b[0m \u001b[38;5;129m@property\u001b[39m\n\u001b[0;32m    275\u001b[0m \u001b[38;5;28;01mdef\u001b[39;00m \u001b[38;5;21mhtml\u001b[39m(\u001b[38;5;28mself\u001b[39m) \u001b[38;5;241m-\u001b[39m\u001b[38;5;241m>\u001b[39m \u001b[38;5;28mstr\u001b[39m:\n\u001b[0;32m    276\u001b[0m     \u001b[38;5;28;01mif\u001b[39;00m \u001b[38;5;28mself\u001b[39m\u001b[38;5;241m.\u001b[39m_html \u001b[38;5;129;01mis\u001b[39;00m \u001b[38;5;28;01mNone\u001b[39;00m:\n\u001b[1;32m--> 277\u001b[0m         \u001b[38;5;28mself\u001b[39m\u001b[38;5;241m.\u001b[39m_html \u001b[38;5;241m=\u001b[39m \u001b[38;5;28;43mself\u001b[39;49m\u001b[38;5;241;43m.\u001b[39;49m\u001b[43m_render_html\u001b[49m\u001b[43m(\u001b[49m\u001b[43m)\u001b[49m\n\u001b[0;32m    278\u001b[0m     \u001b[38;5;28;01mreturn\u001b[39;00m \u001b[38;5;28mself\u001b[39m\u001b[38;5;241m.\u001b[39m_html\n",
      "File \u001b[1;32mI:\\anaconda3\\lib\\site-packages\\typeguard\\__init__.py:1033\u001b[0m, in \u001b[0;36mtypechecked.<locals>.wrapper\u001b[1;34m(*args, **kwargs)\u001b[0m\n\u001b[0;32m   1031\u001b[0m memo \u001b[38;5;241m=\u001b[39m _CallMemo(python_func, _localns, args\u001b[38;5;241m=\u001b[39margs, kwargs\u001b[38;5;241m=\u001b[39mkwargs)\n\u001b[0;32m   1032\u001b[0m check_argument_types(memo)\n\u001b[1;32m-> 1033\u001b[0m retval \u001b[38;5;241m=\u001b[39m func(\u001b[38;5;241m*\u001b[39margs, \u001b[38;5;241m*\u001b[39m\u001b[38;5;241m*\u001b[39mkwargs)\n\u001b[0;32m   1034\u001b[0m \u001b[38;5;28;01mtry\u001b[39;00m:\n\u001b[0;32m   1035\u001b[0m     check_return_type(retval, memo)\n",
      "File \u001b[1;32mI:\\anaconda3\\lib\\site-packages\\ydata_profiling\\profile_report.py:385\u001b[0m, in \u001b[0;36mProfileReport._render_html\u001b[1;34m(self)\u001b[0m\n\u001b[0;32m    382\u001b[0m \u001b[38;5;28;01mdef\u001b[39;00m \u001b[38;5;21m_render_html\u001b[39m(\u001b[38;5;28mself\u001b[39m) \u001b[38;5;241m-\u001b[39m\u001b[38;5;241m>\u001b[39m \u001b[38;5;28mstr\u001b[39m:\n\u001b[0;32m    383\u001b[0m     \u001b[38;5;28;01mfrom\u001b[39;00m \u001b[38;5;21;01mydata_profiling\u001b[39;00m\u001b[38;5;21;01m.\u001b[39;00m\u001b[38;5;21;01mreport\u001b[39;00m\u001b[38;5;21;01m.\u001b[39;00m\u001b[38;5;21;01mpresentation\u001b[39;00m\u001b[38;5;21;01m.\u001b[39;00m\u001b[38;5;21;01mflavours\u001b[39;00m \u001b[38;5;28;01mimport\u001b[39;00m HTMLReport\n\u001b[1;32m--> 385\u001b[0m     report \u001b[38;5;241m=\u001b[39m \u001b[38;5;28;43mself\u001b[39;49m\u001b[38;5;241;43m.\u001b[39;49m\u001b[43mreport\u001b[49m\n\u001b[0;32m    387\u001b[0m     \u001b[38;5;28;01mwith\u001b[39;00m tqdm(\n\u001b[0;32m    388\u001b[0m         total\u001b[38;5;241m=\u001b[39m\u001b[38;5;241m1\u001b[39m, desc\u001b[38;5;241m=\u001b[39m\u001b[38;5;124m\"\u001b[39m\u001b[38;5;124mRender HTML\u001b[39m\u001b[38;5;124m\"\u001b[39m, disable\u001b[38;5;241m=\u001b[39m\u001b[38;5;129;01mnot\u001b[39;00m \u001b[38;5;28mself\u001b[39m\u001b[38;5;241m.\u001b[39mconfig\u001b[38;5;241m.\u001b[39mprogress_bar\n\u001b[0;32m    389\u001b[0m     ) \u001b[38;5;28;01mas\u001b[39;00m pbar:\n\u001b[0;32m    390\u001b[0m         html \u001b[38;5;241m=\u001b[39m HTMLReport(copy\u001b[38;5;241m.\u001b[39mdeepcopy(report))\u001b[38;5;241m.\u001b[39mrender(\n\u001b[0;32m    391\u001b[0m             nav\u001b[38;5;241m=\u001b[39m\u001b[38;5;28mself\u001b[39m\u001b[38;5;241m.\u001b[39mconfig\u001b[38;5;241m.\u001b[39mhtml\u001b[38;5;241m.\u001b[39mnavbar_show,\n\u001b[0;32m    392\u001b[0m             offline\u001b[38;5;241m=\u001b[39m\u001b[38;5;28mself\u001b[39m\u001b[38;5;241m.\u001b[39mconfig\u001b[38;5;241m.\u001b[39mhtml\u001b[38;5;241m.\u001b[39muse_local_assets,\n\u001b[1;32m   (...)\u001b[0m\n\u001b[0;32m    400\u001b[0m             version\u001b[38;5;241m=\u001b[39m\u001b[38;5;28mself\u001b[39m\u001b[38;5;241m.\u001b[39mdescription_set\u001b[38;5;241m.\u001b[39mpackage[\u001b[38;5;124m\"\u001b[39m\u001b[38;5;124mydata_profiling_version\u001b[39m\u001b[38;5;124m\"\u001b[39m],\n\u001b[0;32m    401\u001b[0m         )\n",
      "File \u001b[1;32mI:\\anaconda3\\lib\\site-packages\\typeguard\\__init__.py:1033\u001b[0m, in \u001b[0;36mtypechecked.<locals>.wrapper\u001b[1;34m(*args, **kwargs)\u001b[0m\n\u001b[0;32m   1031\u001b[0m memo \u001b[38;5;241m=\u001b[39m _CallMemo(python_func, _localns, args\u001b[38;5;241m=\u001b[39margs, kwargs\u001b[38;5;241m=\u001b[39mkwargs)\n\u001b[0;32m   1032\u001b[0m check_argument_types(memo)\n\u001b[1;32m-> 1033\u001b[0m retval \u001b[38;5;241m=\u001b[39m func(\u001b[38;5;241m*\u001b[39margs, \u001b[38;5;241m*\u001b[39m\u001b[38;5;241m*\u001b[39mkwargs)\n\u001b[0;32m   1034\u001b[0m \u001b[38;5;28;01mtry\u001b[39;00m:\n\u001b[0;32m   1035\u001b[0m     check_return_type(retval, memo)\n",
      "File \u001b[1;32mI:\\anaconda3\\lib\\site-packages\\ydata_profiling\\profile_report.py:271\u001b[0m, in \u001b[0;36mProfileReport.report\u001b[1;34m(self)\u001b[0m\n\u001b[0;32m    268\u001b[0m \u001b[38;5;129m@property\u001b[39m\n\u001b[0;32m    269\u001b[0m \u001b[38;5;28;01mdef\u001b[39;00m \u001b[38;5;21mreport\u001b[39m(\u001b[38;5;28mself\u001b[39m) \u001b[38;5;241m-\u001b[39m\u001b[38;5;241m>\u001b[39m Root:\n\u001b[0;32m    270\u001b[0m     \u001b[38;5;28;01mif\u001b[39;00m \u001b[38;5;28mself\u001b[39m\u001b[38;5;241m.\u001b[39m_report \u001b[38;5;129;01mis\u001b[39;00m \u001b[38;5;28;01mNone\u001b[39;00m:\n\u001b[1;32m--> 271\u001b[0m         \u001b[38;5;28mself\u001b[39m\u001b[38;5;241m.\u001b[39m_report \u001b[38;5;241m=\u001b[39m \u001b[43mget_report_structure\u001b[49m\u001b[43m(\u001b[49m\u001b[38;5;28;43mself\u001b[39;49m\u001b[38;5;241;43m.\u001b[39;49m\u001b[43mconfig\u001b[49m\u001b[43m,\u001b[49m\u001b[43m \u001b[49m\u001b[38;5;28;43mself\u001b[39;49m\u001b[38;5;241;43m.\u001b[39;49m\u001b[43mdescription_set\u001b[49m\u001b[43m)\u001b[49m\n\u001b[0;32m    272\u001b[0m     \u001b[38;5;28;01mreturn\u001b[39;00m \u001b[38;5;28mself\u001b[39m\u001b[38;5;241m.\u001b[39m_report\n",
      "File \u001b[1;32mI:\\anaconda3\\lib\\site-packages\\ydata_profiling\\report\\structure\\report.py:387\u001b[0m, in \u001b[0;36mget_report_structure\u001b[1;34m(config, summary)\u001b[0m\n\u001b[0;32m    368\u001b[0m section_items: List[Renderable] \u001b[38;5;241m=\u001b[39m [\n\u001b[0;32m    369\u001b[0m     Container(\n\u001b[0;32m    370\u001b[0m         get_dataset_items(config, summary, alerts),\n\u001b[1;32m   (...)\u001b[0m\n\u001b[0;32m    374\u001b[0m     ),\n\u001b[0;32m    375\u001b[0m ]\n\u001b[0;32m    377\u001b[0m \u001b[38;5;28;01mif\u001b[39;00m \u001b[38;5;28mlen\u001b[39m(summary\u001b[38;5;241m.\u001b[39mvariables) \u001b[38;5;241m>\u001b[39m \u001b[38;5;241m0\u001b[39m:\n\u001b[0;32m    378\u001b[0m     section_items\u001b[38;5;241m.\u001b[39mappend(\n\u001b[0;32m    379\u001b[0m         Dropdown(\n\u001b[0;32m    380\u001b[0m             name\u001b[38;5;241m=\u001b[39m\u001b[38;5;124m\"\u001b[39m\u001b[38;5;124mVariables\u001b[39m\u001b[38;5;124m\"\u001b[39m,\n\u001b[0;32m    381\u001b[0m             anchor_id\u001b[38;5;241m=\u001b[39m\u001b[38;5;124m\"\u001b[39m\u001b[38;5;124mvariables-dropdown\u001b[39m\u001b[38;5;124m\"\u001b[39m,\n\u001b[0;32m    382\u001b[0m             \u001b[38;5;28mid\u001b[39m\u001b[38;5;241m=\u001b[39m\u001b[38;5;124m\"\u001b[39m\u001b[38;5;124mvariables-dropdown\u001b[39m\u001b[38;5;124m\"\u001b[39m,\n\u001b[0;32m    383\u001b[0m             is_row\u001b[38;5;241m=\u001b[39m\u001b[38;5;28;01mTrue\u001b[39;00m,\n\u001b[0;32m    384\u001b[0m             classes\u001b[38;5;241m=\u001b[39m[\u001b[38;5;124m\"\u001b[39m\u001b[38;5;124mdropdown-toggle\u001b[39m\u001b[38;5;124m\"\u001b[39m],\n\u001b[0;32m    385\u001b[0m             items\u001b[38;5;241m=\u001b[39m\u001b[38;5;28mlist\u001b[39m(summary\u001b[38;5;241m.\u001b[39mvariables),\n\u001b[0;32m    386\u001b[0m             item\u001b[38;5;241m=\u001b[39mContainer(\n\u001b[1;32m--> 387\u001b[0m                 \u001b[43mrender_variables_section\u001b[49m\u001b[43m(\u001b[49m\u001b[43mconfig\u001b[49m\u001b[43m,\u001b[49m\u001b[43m \u001b[49m\u001b[43msummary\u001b[49m\u001b[43m)\u001b[49m,\n\u001b[0;32m    388\u001b[0m                 sequence_type\u001b[38;5;241m=\u001b[39m\u001b[38;5;124m\"\u001b[39m\u001b[38;5;124maccordion\u001b[39m\u001b[38;5;124m\"\u001b[39m,\n\u001b[0;32m    389\u001b[0m                 name\u001b[38;5;241m=\u001b[39m\u001b[38;5;124m\"\u001b[39m\u001b[38;5;124mVariables\u001b[39m\u001b[38;5;124m\"\u001b[39m,\n\u001b[0;32m    390\u001b[0m                 anchor_id\u001b[38;5;241m=\u001b[39m\u001b[38;5;124m\"\u001b[39m\u001b[38;5;124mvariables\u001b[39m\u001b[38;5;124m\"\u001b[39m,\n\u001b[0;32m    391\u001b[0m             ),\n\u001b[0;32m    392\u001b[0m         )\n\u001b[0;32m    393\u001b[0m     )\n\u001b[0;32m    395\u001b[0m scatter_items \u001b[38;5;241m=\u001b[39m get_interactions(config, summary\u001b[38;5;241m.\u001b[39mscatter)\n\u001b[0;32m    396\u001b[0m \u001b[38;5;28;01mif\u001b[39;00m \u001b[38;5;28mlen\u001b[39m(scatter_items) \u001b[38;5;241m>\u001b[39m \u001b[38;5;241m0\u001b[39m:\n",
      "File \u001b[1;32mI:\\anaconda3\\lib\\site-packages\\ydata_profiling\\report\\structure\\report.py:162\u001b[0m, in \u001b[0;36mrender_variables_section\u001b[1;34m(config, dataframe_summary)\u001b[0m\n\u001b[0;32m    160\u001b[0m     variable_type \u001b[38;5;241m=\u001b[39m summary[\u001b[38;5;124m\"\u001b[39m\u001b[38;5;124mtype\u001b[39m\u001b[38;5;124m\"\u001b[39m]\n\u001b[0;32m    161\u001b[0m render_map_type \u001b[38;5;241m=\u001b[39m render_map\u001b[38;5;241m.\u001b[39mget(variable_type, render_map[\u001b[38;5;124m\"\u001b[39m\u001b[38;5;124mUnsupported\u001b[39m\u001b[38;5;124m\"\u001b[39m])\n\u001b[1;32m--> 162\u001b[0m template_variables\u001b[38;5;241m.\u001b[39mupdate(\u001b[43mrender_map_type\u001b[49m\u001b[43m(\u001b[49m\u001b[43mconfig\u001b[49m\u001b[43m,\u001b[49m\u001b[43m \u001b[49m\u001b[43mtemplate_variables\u001b[49m\u001b[43m)\u001b[49m)\n\u001b[0;32m    164\u001b[0m \u001b[38;5;66;03m# Ignore these\u001b[39;00m\n\u001b[0;32m    165\u001b[0m \u001b[38;5;28;01mif\u001b[39;00m reject_variables:\n",
      "File \u001b[1;32mI:\\anaconda3\\lib\\site-packages\\ydata_profiling\\report\\structure\\variables\\render_text.py:81\u001b[0m, in \u001b[0;36mrender_text\u001b[1;34m(config, summary)\u001b[0m\n\u001b[0;32m     77\u001b[0m top_items\u001b[38;5;241m.\u001b[39mappend(table)\n\u001b[0;32m     79\u001b[0m \u001b[38;5;28;01mif\u001b[39;00m words \u001b[38;5;129;01mand\u001b[39;00m \u001b[38;5;124m\"\u001b[39m\u001b[38;5;124mword_counts\u001b[39m\u001b[38;5;124m\"\u001b[39m \u001b[38;5;129;01min\u001b[39;00m summary:\n\u001b[0;32m     80\u001b[0m     mini_wordcloud \u001b[38;5;241m=\u001b[39m Image(\n\u001b[1;32m---> 81\u001b[0m         \u001b[43mplot_word_cloud\u001b[49m\u001b[43m(\u001b[49m\u001b[43mconfig\u001b[49m\u001b[43m,\u001b[49m\u001b[43m \u001b[49m\u001b[43msummary\u001b[49m\u001b[43m[\u001b[49m\u001b[38;5;124;43m\"\u001b[39;49m\u001b[38;5;124;43mword_counts\u001b[39;49m\u001b[38;5;124;43m\"\u001b[39;49m\u001b[43m]\u001b[49m\u001b[43m)\u001b[49m,\n\u001b[0;32m     82\u001b[0m         image_format\u001b[38;5;241m=\u001b[39mconfig\u001b[38;5;241m.\u001b[39mplot\u001b[38;5;241m.\u001b[39mimage_format,\n\u001b[0;32m     83\u001b[0m         alt\u001b[38;5;241m=\u001b[39m\u001b[38;5;124m\"\u001b[39m\u001b[38;5;124mMini wordcloud\u001b[39m\u001b[38;5;124m\"\u001b[39m,\n\u001b[0;32m     84\u001b[0m     )\n\u001b[0;32m     85\u001b[0m     top_items\u001b[38;5;241m.\u001b[39mappend(mini_wordcloud)\n\u001b[0;32m     86\u001b[0m template_variables[\u001b[38;5;124m\"\u001b[39m\u001b[38;5;124mtop\u001b[39m\u001b[38;5;124m\"\u001b[39m] \u001b[38;5;241m=\u001b[39m Container(top_items, sequence_type\u001b[38;5;241m=\u001b[39m\u001b[38;5;124m\"\u001b[39m\u001b[38;5;124mgrid\u001b[39m\u001b[38;5;124m\"\u001b[39m)\n",
      "File \u001b[1;32mI:\\anaconda3\\lib\\contextlib.py:79\u001b[0m, in \u001b[0;36mContextDecorator.__call__.<locals>.inner\u001b[1;34m(*args, **kwds)\u001b[0m\n\u001b[0;32m     76\u001b[0m \u001b[38;5;129m@wraps\u001b[39m(func)\n\u001b[0;32m     77\u001b[0m \u001b[38;5;28;01mdef\u001b[39;00m \u001b[38;5;21minner\u001b[39m(\u001b[38;5;241m*\u001b[39margs, \u001b[38;5;241m*\u001b[39m\u001b[38;5;241m*\u001b[39mkwds):\n\u001b[0;32m     78\u001b[0m     \u001b[38;5;28;01mwith\u001b[39;00m \u001b[38;5;28mself\u001b[39m\u001b[38;5;241m.\u001b[39m_recreate_cm():\n\u001b[1;32m---> 79\u001b[0m         \u001b[38;5;28;01mreturn\u001b[39;00m func(\u001b[38;5;241m*\u001b[39margs, \u001b[38;5;241m*\u001b[39m\u001b[38;5;241m*\u001b[39mkwds)\n",
      "File \u001b[1;32mI:\\anaconda3\\lib\\site-packages\\ydata_profiling\\visualisation\\plot.py:126\u001b[0m, in \u001b[0;36mplot_word_cloud\u001b[1;34m(config, word_counts)\u001b[0m\n\u001b[0;32m    124\u001b[0m \u001b[38;5;129m@manage_matplotlib_context\u001b[39m()\n\u001b[0;32m    125\u001b[0m \u001b[38;5;28;01mdef\u001b[39;00m \u001b[38;5;21mplot_word_cloud\u001b[39m(config: Settings, word_counts: pd\u001b[38;5;241m.\u001b[39mSeries) \u001b[38;5;241m-\u001b[39m\u001b[38;5;241m>\u001b[39m \u001b[38;5;28mstr\u001b[39m:\n\u001b[1;32m--> 126\u001b[0m     \u001b[43m_plot_word_cloud\u001b[49m\u001b[43m(\u001b[49m\u001b[43mseries\u001b[49m\u001b[38;5;241;43m=\u001b[39;49m\u001b[43mword_counts\u001b[49m\u001b[43m)\u001b[49m\n\u001b[0;32m    127\u001b[0m     \u001b[38;5;28;01mreturn\u001b[39;00m plot_360_n0sc0pe(config)\n",
      "File \u001b[1;32mI:\\anaconda3\\lib\\site-packages\\ydata_profiling\\visualisation\\plot.py:38\u001b[0m, in \u001b[0;36m_plot_word_cloud\u001b[1;34m(series, figsize)\u001b[0m\n\u001b[0;32m     36\u001b[0m \u001b[38;5;28;01mfor\u001b[39;00m i, series_data \u001b[38;5;129;01min\u001b[39;00m \u001b[38;5;28menumerate\u001b[39m(series):\n\u001b[0;32m     37\u001b[0m     word_dict \u001b[38;5;241m=\u001b[39m series_data\u001b[38;5;241m.\u001b[39mto_dict()\n\u001b[1;32m---> 38\u001b[0m     wordcloud \u001b[38;5;241m=\u001b[39m \u001b[43mWordCloud\u001b[49m\u001b[43m(\u001b[49m\n\u001b[0;32m     39\u001b[0m \u001b[43m        \u001b[49m\u001b[43mbackground_color\u001b[49m\u001b[38;5;241;43m=\u001b[39;49m\u001b[38;5;124;43m\"\u001b[39;49m\u001b[38;5;124;43mwhite\u001b[39;49m\u001b[38;5;124;43m\"\u001b[39;49m\u001b[43m,\u001b[49m\u001b[43m \u001b[49m\u001b[43mrandom_state\u001b[49m\u001b[38;5;241;43m=\u001b[39;49m\u001b[38;5;241;43m123\u001b[39;49m\u001b[43m,\u001b[49m\u001b[43m \u001b[49m\u001b[43mwidth\u001b[49m\u001b[38;5;241;43m=\u001b[39;49m\u001b[38;5;241;43m300\u001b[39;49m\u001b[43m,\u001b[49m\u001b[43m \u001b[49m\u001b[43mheight\u001b[49m\u001b[38;5;241;43m=\u001b[39;49m\u001b[38;5;241;43m200\u001b[39;49m\u001b[43m,\u001b[49m\u001b[43m \u001b[49m\u001b[43mscale\u001b[49m\u001b[38;5;241;43m=\u001b[39;49m\u001b[38;5;241;43m2\u001b[39;49m\n\u001b[0;32m     40\u001b[0m \u001b[43m    \u001b[49m\u001b[43m)\u001b[49m\u001b[38;5;241;43m.\u001b[39;49m\u001b[43mgenerate_from_frequencies\u001b[49m\u001b[43m(\u001b[49m\u001b[43mword_dict\u001b[49m\u001b[43m)\u001b[49m\n\u001b[0;32m     42\u001b[0m     ax \u001b[38;5;241m=\u001b[39m plot\u001b[38;5;241m.\u001b[39madd_subplot(\u001b[38;5;241m1\u001b[39m, \u001b[38;5;28mlen\u001b[39m(series), i \u001b[38;5;241m+\u001b[39m \u001b[38;5;241m1\u001b[39m)\n\u001b[0;32m     43\u001b[0m     ax\u001b[38;5;241m.\u001b[39mimshow(wordcloud)\n",
      "File \u001b[1;32mI:\\anaconda3\\lib\\site-packages\\wordcloud\\wordcloud.py:453\u001b[0m, in \u001b[0;36mWordCloud.generate_from_frequencies\u001b[1;34m(self, frequencies, max_font_size)\u001b[0m\n\u001b[0;32m    451\u001b[0m     font_size \u001b[38;5;241m=\u001b[39m \u001b[38;5;28mself\u001b[39m\u001b[38;5;241m.\u001b[39mheight\n\u001b[0;32m    452\u001b[0m \u001b[38;5;28;01melse\u001b[39;00m:\n\u001b[1;32m--> 453\u001b[0m     \u001b[38;5;28;43mself\u001b[39;49m\u001b[38;5;241;43m.\u001b[39;49m\u001b[43mgenerate_from_frequencies\u001b[49m\u001b[43m(\u001b[49m\u001b[38;5;28;43mdict\u001b[39;49m\u001b[43m(\u001b[49m\u001b[43mfrequencies\u001b[49m\u001b[43m[\u001b[49m\u001b[43m:\u001b[49m\u001b[38;5;241;43m2\u001b[39;49m\u001b[43m]\u001b[49m\u001b[43m)\u001b[49m\u001b[43m,\u001b[49m\n\u001b[0;32m    454\u001b[0m \u001b[43m                                   \u001b[49m\u001b[43mmax_font_size\u001b[49m\u001b[38;5;241;43m=\u001b[39;49m\u001b[38;5;28;43mself\u001b[39;49m\u001b[38;5;241;43m.\u001b[39;49m\u001b[43mheight\u001b[49m\u001b[43m)\u001b[49m\n\u001b[0;32m    455\u001b[0m     \u001b[38;5;66;03m# find font sizes\u001b[39;00m\n\u001b[0;32m    456\u001b[0m     sizes \u001b[38;5;241m=\u001b[39m [x[\u001b[38;5;241m1\u001b[39m] \u001b[38;5;28;01mfor\u001b[39;00m x \u001b[38;5;129;01min\u001b[39;00m \u001b[38;5;28mself\u001b[39m\u001b[38;5;241m.\u001b[39mlayout_]\n",
      "File \u001b[1;32mI:\\anaconda3\\lib\\site-packages\\wordcloud\\wordcloud.py:508\u001b[0m, in \u001b[0;36mWordCloud.generate_from_frequencies\u001b[1;34m(self, frequencies, max_font_size)\u001b[0m\n\u001b[0;32m    505\u001b[0m transposed_font \u001b[38;5;241m=\u001b[39m ImageFont\u001b[38;5;241m.\u001b[39mTransposedFont(\n\u001b[0;32m    506\u001b[0m     font, orientation\u001b[38;5;241m=\u001b[39morientation)\n\u001b[0;32m    507\u001b[0m \u001b[38;5;66;03m# get size of resulting text\u001b[39;00m\n\u001b[1;32m--> 508\u001b[0m box_size \u001b[38;5;241m=\u001b[39m \u001b[43mdraw\u001b[49m\u001b[38;5;241;43m.\u001b[39;49m\u001b[43mtextbbox\u001b[49m\u001b[43m(\u001b[49m\u001b[43m(\u001b[49m\u001b[38;5;241;43m0\u001b[39;49m\u001b[43m,\u001b[49m\u001b[43m \u001b[49m\u001b[38;5;241;43m0\u001b[39;49m\u001b[43m)\u001b[49m\u001b[43m,\u001b[49m\u001b[43m \u001b[49m\u001b[43mword\u001b[49m\u001b[43m,\u001b[49m\u001b[43m \u001b[49m\u001b[43mfont\u001b[49m\u001b[38;5;241;43m=\u001b[39;49m\u001b[43mtransposed_font\u001b[49m\u001b[43m,\u001b[49m\u001b[43m \u001b[49m\u001b[43manchor\u001b[49m\u001b[38;5;241;43m=\u001b[39;49m\u001b[38;5;124;43m\"\u001b[39;49m\u001b[38;5;124;43mlt\u001b[39;49m\u001b[38;5;124;43m\"\u001b[39;49m\u001b[43m)\u001b[49m\n\u001b[0;32m    509\u001b[0m \u001b[38;5;66;03m# find possible places using integral image:\u001b[39;00m\n\u001b[0;32m    510\u001b[0m result \u001b[38;5;241m=\u001b[39m occupancy\u001b[38;5;241m.\u001b[39msample_position(box_size[\u001b[38;5;241m3\u001b[39m] \u001b[38;5;241m+\u001b[39m \u001b[38;5;28mself\u001b[39m\u001b[38;5;241m.\u001b[39mmargin,\n\u001b[0;32m    511\u001b[0m                                    box_size[\u001b[38;5;241m2\u001b[39m] \u001b[38;5;241m+\u001b[39m \u001b[38;5;28mself\u001b[39m\u001b[38;5;241m.\u001b[39mmargin,\n\u001b[0;32m    512\u001b[0m                                    random_state)\n",
      "File \u001b[1;32mI:\\anaconda3\\lib\\site-packages\\PIL\\ImageDraw.py:671\u001b[0m, in \u001b[0;36mImageDraw.textbbox\u001b[1;34m(self, xy, text, font, anchor, spacing, align, direction, features, language, stroke_width, embedded_color)\u001b[0m\n\u001b[0;32m    669\u001b[0m     font \u001b[38;5;241m=\u001b[39m \u001b[38;5;28mself\u001b[39m\u001b[38;5;241m.\u001b[39mgetfont()\n\u001b[0;32m    670\u001b[0m \u001b[38;5;28;01mif\u001b[39;00m \u001b[38;5;129;01mnot\u001b[39;00m \u001b[38;5;28misinstance\u001b[39m(font, ImageFont\u001b[38;5;241m.\u001b[39mFreeTypeFont):\n\u001b[1;32m--> 671\u001b[0m     \u001b[38;5;28;01mraise\u001b[39;00m \u001b[38;5;167;01mValueError\u001b[39;00m(\u001b[38;5;124m\"\u001b[39m\u001b[38;5;124mOnly supported for TrueType fonts\u001b[39m\u001b[38;5;124m\"\u001b[39m)\n\u001b[0;32m    672\u001b[0m mode \u001b[38;5;241m=\u001b[39m \u001b[38;5;124m\"\u001b[39m\u001b[38;5;124mRGBA\u001b[39m\u001b[38;5;124m\"\u001b[39m \u001b[38;5;28;01mif\u001b[39;00m embedded_color \u001b[38;5;28;01melse\u001b[39;00m \u001b[38;5;28mself\u001b[39m\u001b[38;5;241m.\u001b[39mfontmode\n\u001b[0;32m    673\u001b[0m bbox \u001b[38;5;241m=\u001b[39m font\u001b[38;5;241m.\u001b[39mgetbbox(\n\u001b[0;32m    674\u001b[0m     text, mode, direction, features, language, stroke_width, anchor\n\u001b[0;32m    675\u001b[0m )\n",
      "\u001b[1;31mValueError\u001b[0m: Only supported for TrueType fonts"
     ]
    },
    {
     "data": {
      "text/plain": []
     },
     "execution_count": 4,
     "metadata": {},
     "output_type": "execute_result"
    },
    {
     "data": {
      "text/plain": [
       "<Figure size 432x288 with 0 Axes>"
      ]
     },
     "metadata": {},
     "output_type": "display_data"
    }
   ],
   "source": [
    "# Opening the test dataset\n",
    "profile_test = ProfileReport(test, minimal=True)\n",
    "profile_test"
   ]
  },
  {
   "cell_type": "code",
   "execution_count": 5,
   "metadata": {
    "scrolled": false
   },
   "outputs": [
    {
     "data": {
      "application/vnd.jupyter.widget-view+json": {
       "model_id": "606608de7b2b4c9aa0079993eec5b50d",
       "version_major": 2,
       "version_minor": 0
      },
      "text/plain": [
       "Summarize dataset:   0%|          | 0/5 [00:00<?, ?it/s]"
      ]
     },
     "metadata": {},
     "output_type": "display_data"
    },
    {
     "data": {
      "application/vnd.jupyter.widget-view+json": {
       "model_id": "e324973c8b1e4bb1a2eb6b185ef389a5",
       "version_major": 2,
       "version_minor": 0
      },
      "text/plain": [
       "Generate report structure:   0%|          | 0/1 [00:00<?, ?it/s]"
      ]
     },
     "metadata": {},
     "output_type": "display_data"
    },
    {
     "ename": "ValueError",
     "evalue": "Only supported for TrueType fonts",
     "output_type": "error",
     "traceback": [
      "\u001b[1;31m---------------------------------------------------------------------------\u001b[0m",
      "\u001b[1;31mValueError\u001b[0m                                Traceback (most recent call last)",
      "File \u001b[1;32mI:\\anaconda3\\lib\\site-packages\\IPython\\core\\formatters.py:343\u001b[0m, in \u001b[0;36mBaseFormatter.__call__\u001b[1;34m(self, obj)\u001b[0m\n\u001b[0;32m    341\u001b[0m     method \u001b[38;5;241m=\u001b[39m get_real_method(obj, \u001b[38;5;28mself\u001b[39m\u001b[38;5;241m.\u001b[39mprint_method)\n\u001b[0;32m    342\u001b[0m     \u001b[38;5;28;01mif\u001b[39;00m method \u001b[38;5;129;01mis\u001b[39;00m \u001b[38;5;129;01mnot\u001b[39;00m \u001b[38;5;28;01mNone\u001b[39;00m:\n\u001b[1;32m--> 343\u001b[0m         \u001b[38;5;28;01mreturn\u001b[39;00m \u001b[43mmethod\u001b[49m\u001b[43m(\u001b[49m\u001b[43m)\u001b[49m\n\u001b[0;32m    344\u001b[0m     \u001b[38;5;28;01mreturn\u001b[39;00m \u001b[38;5;28;01mNone\u001b[39;00m\n\u001b[0;32m    345\u001b[0m \u001b[38;5;28;01melse\u001b[39;00m:\n",
      "File \u001b[1;32mI:\\anaconda3\\lib\\site-packages\\typeguard\\__init__.py:1033\u001b[0m, in \u001b[0;36mtypechecked.<locals>.wrapper\u001b[1;34m(*args, **kwargs)\u001b[0m\n\u001b[0;32m   1031\u001b[0m memo \u001b[38;5;241m=\u001b[39m _CallMemo(python_func, _localns, args\u001b[38;5;241m=\u001b[39margs, kwargs\u001b[38;5;241m=\u001b[39mkwargs)\n\u001b[0;32m   1032\u001b[0m check_argument_types(memo)\n\u001b[1;32m-> 1033\u001b[0m retval \u001b[38;5;241m=\u001b[39m func(\u001b[38;5;241m*\u001b[39margs, \u001b[38;5;241m*\u001b[39m\u001b[38;5;241m*\u001b[39mkwargs)\n\u001b[0;32m   1034\u001b[0m \u001b[38;5;28;01mtry\u001b[39;00m:\n\u001b[0;32m   1035\u001b[0m     check_return_type(retval, memo)\n",
      "File \u001b[1;32mI:\\anaconda3\\lib\\site-packages\\ydata_profiling\\profile_report.py:520\u001b[0m, in \u001b[0;36mProfileReport._repr_html_\u001b[1;34m(self)\u001b[0m\n\u001b[0;32m    518\u001b[0m \u001b[38;5;28;01mdef\u001b[39;00m \u001b[38;5;21m_repr_html_\u001b[39m(\u001b[38;5;28mself\u001b[39m) \u001b[38;5;241m-\u001b[39m\u001b[38;5;241m>\u001b[39m \u001b[38;5;28;01mNone\u001b[39;00m:\n\u001b[0;32m    519\u001b[0m     \u001b[38;5;124;03m\"\"\"The ipython notebook widgets user interface gets called by the jupyter notebook.\"\"\"\u001b[39;00m\n\u001b[1;32m--> 520\u001b[0m     \u001b[38;5;28;43mself\u001b[39;49m\u001b[38;5;241;43m.\u001b[39;49m\u001b[43mto_notebook_iframe\u001b[49m\u001b[43m(\u001b[49m\u001b[43m)\u001b[49m\n",
      "File \u001b[1;32mI:\\anaconda3\\lib\\site-packages\\typeguard\\__init__.py:1033\u001b[0m, in \u001b[0;36mtypechecked.<locals>.wrapper\u001b[1;34m(*args, **kwargs)\u001b[0m\n\u001b[0;32m   1031\u001b[0m memo \u001b[38;5;241m=\u001b[39m _CallMemo(python_func, _localns, args\u001b[38;5;241m=\u001b[39margs, kwargs\u001b[38;5;241m=\u001b[39mkwargs)\n\u001b[0;32m   1032\u001b[0m check_argument_types(memo)\n\u001b[1;32m-> 1033\u001b[0m retval \u001b[38;5;241m=\u001b[39m func(\u001b[38;5;241m*\u001b[39margs, \u001b[38;5;241m*\u001b[39m\u001b[38;5;241m*\u001b[39mkwargs)\n\u001b[0;32m   1034\u001b[0m \u001b[38;5;28;01mtry\u001b[39;00m:\n\u001b[0;32m   1035\u001b[0m     check_return_type(retval, memo)\n",
      "File \u001b[1;32mI:\\anaconda3\\lib\\site-packages\\ydata_profiling\\profile_report.py:500\u001b[0m, in \u001b[0;36mProfileReport.to_notebook_iframe\u001b[1;34m(self)\u001b[0m\n\u001b[0;32m    498\u001b[0m \u001b[38;5;28;01mwith\u001b[39;00m warnings\u001b[38;5;241m.\u001b[39mcatch_warnings():\n\u001b[0;32m    499\u001b[0m     warnings\u001b[38;5;241m.\u001b[39msimplefilter(\u001b[38;5;124m\"\u001b[39m\u001b[38;5;124mignore\u001b[39m\u001b[38;5;124m\"\u001b[39m)\n\u001b[1;32m--> 500\u001b[0m     display(\u001b[43mget_notebook_iframe\u001b[49m\u001b[43m(\u001b[49m\u001b[38;5;28;43mself\u001b[39;49m\u001b[38;5;241;43m.\u001b[39;49m\u001b[43mconfig\u001b[49m\u001b[43m,\u001b[49m\u001b[43m \u001b[49m\u001b[38;5;28;43mself\u001b[39;49m\u001b[43m)\u001b[49m)\n",
      "File \u001b[1;32mI:\\anaconda3\\lib\\site-packages\\ydata_profiling\\report\\presentation\\flavours\\widget\\notebook.py:75\u001b[0m, in \u001b[0;36mget_notebook_iframe\u001b[1;34m(config, profile)\u001b[0m\n\u001b[0;32m     73\u001b[0m     output \u001b[38;5;241m=\u001b[39m get_notebook_iframe_src(config, profile)\n\u001b[0;32m     74\u001b[0m \u001b[38;5;28;01melif\u001b[39;00m attribute \u001b[38;5;241m==\u001b[39m IframeAttribute\u001b[38;5;241m.\u001b[39msrcdoc:\n\u001b[1;32m---> 75\u001b[0m     output \u001b[38;5;241m=\u001b[39m \u001b[43mget_notebook_iframe_srcdoc\u001b[49m\u001b[43m(\u001b[49m\u001b[43mconfig\u001b[49m\u001b[43m,\u001b[49m\u001b[43m \u001b[49m\u001b[43mprofile\u001b[49m\u001b[43m)\u001b[49m\n\u001b[0;32m     76\u001b[0m \u001b[38;5;28;01melse\u001b[39;00m:\n\u001b[0;32m     77\u001b[0m     \u001b[38;5;28;01mraise\u001b[39;00m \u001b[38;5;167;01mValueError\u001b[39;00m(\n\u001b[0;32m     78\u001b[0m         \u001b[38;5;124mf\u001b[39m\u001b[38;5;124m'\u001b[39m\u001b[38;5;124mIframe Attribute can be \u001b[39m\u001b[38;5;124m\"\u001b[39m\u001b[38;5;124msrc\u001b[39m\u001b[38;5;124m\"\u001b[39m\u001b[38;5;124m or \u001b[39m\u001b[38;5;124m\"\u001b[39m\u001b[38;5;124msrcdoc\u001b[39m\u001b[38;5;124m\"\u001b[39m\u001b[38;5;124m (current: \u001b[39m\u001b[38;5;132;01m{\u001b[39;00mattribute\u001b[38;5;132;01m}\u001b[39;00m\u001b[38;5;124m).\u001b[39m\u001b[38;5;124m'\u001b[39m\n\u001b[0;32m     79\u001b[0m     )\n",
      "File \u001b[1;32mI:\\anaconda3\\lib\\site-packages\\ydata_profiling\\report\\presentation\\flavours\\widget\\notebook.py:29\u001b[0m, in \u001b[0;36mget_notebook_iframe_srcdoc\u001b[1;34m(config, profile)\u001b[0m\n\u001b[0;32m     27\u001b[0m width \u001b[38;5;241m=\u001b[39m config\u001b[38;5;241m.\u001b[39mnotebook\u001b[38;5;241m.\u001b[39miframe\u001b[38;5;241m.\u001b[39mwidth\n\u001b[0;32m     28\u001b[0m height \u001b[38;5;241m=\u001b[39m config\u001b[38;5;241m.\u001b[39mnotebook\u001b[38;5;241m.\u001b[39miframe\u001b[38;5;241m.\u001b[39mheight\n\u001b[1;32m---> 29\u001b[0m src \u001b[38;5;241m=\u001b[39m html\u001b[38;5;241m.\u001b[39mescape(\u001b[43mprofile\u001b[49m\u001b[38;5;241;43m.\u001b[39;49m\u001b[43mto_html\u001b[49m\u001b[43m(\u001b[49m\u001b[43m)\u001b[49m)\n\u001b[0;32m     31\u001b[0m iframe \u001b[38;5;241m=\u001b[39m \u001b[38;5;124mf\u001b[39m\u001b[38;5;124m'\u001b[39m\u001b[38;5;124m<iframe width=\u001b[39m\u001b[38;5;124m\"\u001b[39m\u001b[38;5;132;01m{\u001b[39;00mwidth\u001b[38;5;132;01m}\u001b[39;00m\u001b[38;5;124m\"\u001b[39m\u001b[38;5;124m height=\u001b[39m\u001b[38;5;124m\"\u001b[39m\u001b[38;5;132;01m{\u001b[39;00mheight\u001b[38;5;132;01m}\u001b[39;00m\u001b[38;5;124m\"\u001b[39m\u001b[38;5;124m srcdoc=\u001b[39m\u001b[38;5;124m\"\u001b[39m\u001b[38;5;132;01m{\u001b[39;00msrc\u001b[38;5;132;01m}\u001b[39;00m\u001b[38;5;124m\"\u001b[39m\u001b[38;5;124m frameborder=\u001b[39m\u001b[38;5;124m\"\u001b[39m\u001b[38;5;124m0\u001b[39m\u001b[38;5;124m\"\u001b[39m\u001b[38;5;124m allowfullscreen></iframe>\u001b[39m\u001b[38;5;124m'\u001b[39m\n\u001b[0;32m     33\u001b[0m \u001b[38;5;28;01mreturn\u001b[39;00m HTML(iframe)\n",
      "File \u001b[1;32mI:\\anaconda3\\lib\\site-packages\\typeguard\\__init__.py:1033\u001b[0m, in \u001b[0;36mtypechecked.<locals>.wrapper\u001b[1;34m(*args, **kwargs)\u001b[0m\n\u001b[0;32m   1031\u001b[0m memo \u001b[38;5;241m=\u001b[39m _CallMemo(python_func, _localns, args\u001b[38;5;241m=\u001b[39margs, kwargs\u001b[38;5;241m=\u001b[39mkwargs)\n\u001b[0;32m   1032\u001b[0m check_argument_types(memo)\n\u001b[1;32m-> 1033\u001b[0m retval \u001b[38;5;241m=\u001b[39m func(\u001b[38;5;241m*\u001b[39margs, \u001b[38;5;241m*\u001b[39m\u001b[38;5;241m*\u001b[39mkwargs)\n\u001b[0;32m   1034\u001b[0m \u001b[38;5;28;01mtry\u001b[39;00m:\n\u001b[0;32m   1035\u001b[0m     check_return_type(retval, memo)\n",
      "File \u001b[1;32mI:\\anaconda3\\lib\\site-packages\\ydata_profiling\\profile_report.py:470\u001b[0m, in \u001b[0;36mProfileReport.to_html\u001b[1;34m(self)\u001b[0m\n\u001b[0;32m    462\u001b[0m \u001b[38;5;28;01mdef\u001b[39;00m \u001b[38;5;21mto_html\u001b[39m(\u001b[38;5;28mself\u001b[39m) \u001b[38;5;241m-\u001b[39m\u001b[38;5;241m>\u001b[39m \u001b[38;5;28mstr\u001b[39m:\n\u001b[0;32m    463\u001b[0m     \u001b[38;5;124;03m\"\"\"Generate and return complete template as lengthy string\u001b[39;00m\n\u001b[0;32m    464\u001b[0m \u001b[38;5;124;03m        for using with frameworks.\u001b[39;00m\n\u001b[0;32m    465\u001b[0m \n\u001b[1;32m   (...)\u001b[0m\n\u001b[0;32m    468\u001b[0m \n\u001b[0;32m    469\u001b[0m \u001b[38;5;124;03m    \"\"\"\u001b[39;00m\n\u001b[1;32m--> 470\u001b[0m     \u001b[38;5;28;01mreturn\u001b[39;00m \u001b[38;5;28;43mself\u001b[39;49m\u001b[38;5;241;43m.\u001b[39;49m\u001b[43mhtml\u001b[49m\n",
      "File \u001b[1;32mI:\\anaconda3\\lib\\site-packages\\typeguard\\__init__.py:1033\u001b[0m, in \u001b[0;36mtypechecked.<locals>.wrapper\u001b[1;34m(*args, **kwargs)\u001b[0m\n\u001b[0;32m   1031\u001b[0m memo \u001b[38;5;241m=\u001b[39m _CallMemo(python_func, _localns, args\u001b[38;5;241m=\u001b[39margs, kwargs\u001b[38;5;241m=\u001b[39mkwargs)\n\u001b[0;32m   1032\u001b[0m check_argument_types(memo)\n\u001b[1;32m-> 1033\u001b[0m retval \u001b[38;5;241m=\u001b[39m func(\u001b[38;5;241m*\u001b[39margs, \u001b[38;5;241m*\u001b[39m\u001b[38;5;241m*\u001b[39mkwargs)\n\u001b[0;32m   1034\u001b[0m \u001b[38;5;28;01mtry\u001b[39;00m:\n\u001b[0;32m   1035\u001b[0m     check_return_type(retval, memo)\n",
      "File \u001b[1;32mI:\\anaconda3\\lib\\site-packages\\ydata_profiling\\profile_report.py:277\u001b[0m, in \u001b[0;36mProfileReport.html\u001b[1;34m(self)\u001b[0m\n\u001b[0;32m    274\u001b[0m \u001b[38;5;129m@property\u001b[39m\n\u001b[0;32m    275\u001b[0m \u001b[38;5;28;01mdef\u001b[39;00m \u001b[38;5;21mhtml\u001b[39m(\u001b[38;5;28mself\u001b[39m) \u001b[38;5;241m-\u001b[39m\u001b[38;5;241m>\u001b[39m \u001b[38;5;28mstr\u001b[39m:\n\u001b[0;32m    276\u001b[0m     \u001b[38;5;28;01mif\u001b[39;00m \u001b[38;5;28mself\u001b[39m\u001b[38;5;241m.\u001b[39m_html \u001b[38;5;129;01mis\u001b[39;00m \u001b[38;5;28;01mNone\u001b[39;00m:\n\u001b[1;32m--> 277\u001b[0m         \u001b[38;5;28mself\u001b[39m\u001b[38;5;241m.\u001b[39m_html \u001b[38;5;241m=\u001b[39m \u001b[38;5;28;43mself\u001b[39;49m\u001b[38;5;241;43m.\u001b[39;49m\u001b[43m_render_html\u001b[49m\u001b[43m(\u001b[49m\u001b[43m)\u001b[49m\n\u001b[0;32m    278\u001b[0m     \u001b[38;5;28;01mreturn\u001b[39;00m \u001b[38;5;28mself\u001b[39m\u001b[38;5;241m.\u001b[39m_html\n",
      "File \u001b[1;32mI:\\anaconda3\\lib\\site-packages\\typeguard\\__init__.py:1033\u001b[0m, in \u001b[0;36mtypechecked.<locals>.wrapper\u001b[1;34m(*args, **kwargs)\u001b[0m\n\u001b[0;32m   1031\u001b[0m memo \u001b[38;5;241m=\u001b[39m _CallMemo(python_func, _localns, args\u001b[38;5;241m=\u001b[39margs, kwargs\u001b[38;5;241m=\u001b[39mkwargs)\n\u001b[0;32m   1032\u001b[0m check_argument_types(memo)\n\u001b[1;32m-> 1033\u001b[0m retval \u001b[38;5;241m=\u001b[39m func(\u001b[38;5;241m*\u001b[39margs, \u001b[38;5;241m*\u001b[39m\u001b[38;5;241m*\u001b[39mkwargs)\n\u001b[0;32m   1034\u001b[0m \u001b[38;5;28;01mtry\u001b[39;00m:\n\u001b[0;32m   1035\u001b[0m     check_return_type(retval, memo)\n",
      "File \u001b[1;32mI:\\anaconda3\\lib\\site-packages\\ydata_profiling\\profile_report.py:385\u001b[0m, in \u001b[0;36mProfileReport._render_html\u001b[1;34m(self)\u001b[0m\n\u001b[0;32m    382\u001b[0m \u001b[38;5;28;01mdef\u001b[39;00m \u001b[38;5;21m_render_html\u001b[39m(\u001b[38;5;28mself\u001b[39m) \u001b[38;5;241m-\u001b[39m\u001b[38;5;241m>\u001b[39m \u001b[38;5;28mstr\u001b[39m:\n\u001b[0;32m    383\u001b[0m     \u001b[38;5;28;01mfrom\u001b[39;00m \u001b[38;5;21;01mydata_profiling\u001b[39;00m\u001b[38;5;21;01m.\u001b[39;00m\u001b[38;5;21;01mreport\u001b[39;00m\u001b[38;5;21;01m.\u001b[39;00m\u001b[38;5;21;01mpresentation\u001b[39;00m\u001b[38;5;21;01m.\u001b[39;00m\u001b[38;5;21;01mflavours\u001b[39;00m \u001b[38;5;28;01mimport\u001b[39;00m HTMLReport\n\u001b[1;32m--> 385\u001b[0m     report \u001b[38;5;241m=\u001b[39m \u001b[38;5;28;43mself\u001b[39;49m\u001b[38;5;241;43m.\u001b[39;49m\u001b[43mreport\u001b[49m\n\u001b[0;32m    387\u001b[0m     \u001b[38;5;28;01mwith\u001b[39;00m tqdm(\n\u001b[0;32m    388\u001b[0m         total\u001b[38;5;241m=\u001b[39m\u001b[38;5;241m1\u001b[39m, desc\u001b[38;5;241m=\u001b[39m\u001b[38;5;124m\"\u001b[39m\u001b[38;5;124mRender HTML\u001b[39m\u001b[38;5;124m\"\u001b[39m, disable\u001b[38;5;241m=\u001b[39m\u001b[38;5;129;01mnot\u001b[39;00m \u001b[38;5;28mself\u001b[39m\u001b[38;5;241m.\u001b[39mconfig\u001b[38;5;241m.\u001b[39mprogress_bar\n\u001b[0;32m    389\u001b[0m     ) \u001b[38;5;28;01mas\u001b[39;00m pbar:\n\u001b[0;32m    390\u001b[0m         html \u001b[38;5;241m=\u001b[39m HTMLReport(copy\u001b[38;5;241m.\u001b[39mdeepcopy(report))\u001b[38;5;241m.\u001b[39mrender(\n\u001b[0;32m    391\u001b[0m             nav\u001b[38;5;241m=\u001b[39m\u001b[38;5;28mself\u001b[39m\u001b[38;5;241m.\u001b[39mconfig\u001b[38;5;241m.\u001b[39mhtml\u001b[38;5;241m.\u001b[39mnavbar_show,\n\u001b[0;32m    392\u001b[0m             offline\u001b[38;5;241m=\u001b[39m\u001b[38;5;28mself\u001b[39m\u001b[38;5;241m.\u001b[39mconfig\u001b[38;5;241m.\u001b[39mhtml\u001b[38;5;241m.\u001b[39muse_local_assets,\n\u001b[1;32m   (...)\u001b[0m\n\u001b[0;32m    400\u001b[0m             version\u001b[38;5;241m=\u001b[39m\u001b[38;5;28mself\u001b[39m\u001b[38;5;241m.\u001b[39mdescription_set\u001b[38;5;241m.\u001b[39mpackage[\u001b[38;5;124m\"\u001b[39m\u001b[38;5;124mydata_profiling_version\u001b[39m\u001b[38;5;124m\"\u001b[39m],\n\u001b[0;32m    401\u001b[0m         )\n",
      "File \u001b[1;32mI:\\anaconda3\\lib\\site-packages\\typeguard\\__init__.py:1033\u001b[0m, in \u001b[0;36mtypechecked.<locals>.wrapper\u001b[1;34m(*args, **kwargs)\u001b[0m\n\u001b[0;32m   1031\u001b[0m memo \u001b[38;5;241m=\u001b[39m _CallMemo(python_func, _localns, args\u001b[38;5;241m=\u001b[39margs, kwargs\u001b[38;5;241m=\u001b[39mkwargs)\n\u001b[0;32m   1032\u001b[0m check_argument_types(memo)\n\u001b[1;32m-> 1033\u001b[0m retval \u001b[38;5;241m=\u001b[39m func(\u001b[38;5;241m*\u001b[39margs, \u001b[38;5;241m*\u001b[39m\u001b[38;5;241m*\u001b[39mkwargs)\n\u001b[0;32m   1034\u001b[0m \u001b[38;5;28;01mtry\u001b[39;00m:\n\u001b[0;32m   1035\u001b[0m     check_return_type(retval, memo)\n",
      "File \u001b[1;32mI:\\anaconda3\\lib\\site-packages\\ydata_profiling\\profile_report.py:271\u001b[0m, in \u001b[0;36mProfileReport.report\u001b[1;34m(self)\u001b[0m\n\u001b[0;32m    268\u001b[0m \u001b[38;5;129m@property\u001b[39m\n\u001b[0;32m    269\u001b[0m \u001b[38;5;28;01mdef\u001b[39;00m \u001b[38;5;21mreport\u001b[39m(\u001b[38;5;28mself\u001b[39m) \u001b[38;5;241m-\u001b[39m\u001b[38;5;241m>\u001b[39m Root:\n\u001b[0;32m    270\u001b[0m     \u001b[38;5;28;01mif\u001b[39;00m \u001b[38;5;28mself\u001b[39m\u001b[38;5;241m.\u001b[39m_report \u001b[38;5;129;01mis\u001b[39;00m \u001b[38;5;28;01mNone\u001b[39;00m:\n\u001b[1;32m--> 271\u001b[0m         \u001b[38;5;28mself\u001b[39m\u001b[38;5;241m.\u001b[39m_report \u001b[38;5;241m=\u001b[39m \u001b[43mget_report_structure\u001b[49m\u001b[43m(\u001b[49m\u001b[38;5;28;43mself\u001b[39;49m\u001b[38;5;241;43m.\u001b[39;49m\u001b[43mconfig\u001b[49m\u001b[43m,\u001b[49m\u001b[43m \u001b[49m\u001b[38;5;28;43mself\u001b[39;49m\u001b[38;5;241;43m.\u001b[39;49m\u001b[43mdescription_set\u001b[49m\u001b[43m)\u001b[49m\n\u001b[0;32m    272\u001b[0m     \u001b[38;5;28;01mreturn\u001b[39;00m \u001b[38;5;28mself\u001b[39m\u001b[38;5;241m.\u001b[39m_report\n",
      "File \u001b[1;32mI:\\anaconda3\\lib\\site-packages\\ydata_profiling\\report\\structure\\report.py:387\u001b[0m, in \u001b[0;36mget_report_structure\u001b[1;34m(config, summary)\u001b[0m\n\u001b[0;32m    368\u001b[0m section_items: List[Renderable] \u001b[38;5;241m=\u001b[39m [\n\u001b[0;32m    369\u001b[0m     Container(\n\u001b[0;32m    370\u001b[0m         get_dataset_items(config, summary, alerts),\n\u001b[1;32m   (...)\u001b[0m\n\u001b[0;32m    374\u001b[0m     ),\n\u001b[0;32m    375\u001b[0m ]\n\u001b[0;32m    377\u001b[0m \u001b[38;5;28;01mif\u001b[39;00m \u001b[38;5;28mlen\u001b[39m(summary\u001b[38;5;241m.\u001b[39mvariables) \u001b[38;5;241m>\u001b[39m \u001b[38;5;241m0\u001b[39m:\n\u001b[0;32m    378\u001b[0m     section_items\u001b[38;5;241m.\u001b[39mappend(\n\u001b[0;32m    379\u001b[0m         Dropdown(\n\u001b[0;32m    380\u001b[0m             name\u001b[38;5;241m=\u001b[39m\u001b[38;5;124m\"\u001b[39m\u001b[38;5;124mVariables\u001b[39m\u001b[38;5;124m\"\u001b[39m,\n\u001b[0;32m    381\u001b[0m             anchor_id\u001b[38;5;241m=\u001b[39m\u001b[38;5;124m\"\u001b[39m\u001b[38;5;124mvariables-dropdown\u001b[39m\u001b[38;5;124m\"\u001b[39m,\n\u001b[0;32m    382\u001b[0m             \u001b[38;5;28mid\u001b[39m\u001b[38;5;241m=\u001b[39m\u001b[38;5;124m\"\u001b[39m\u001b[38;5;124mvariables-dropdown\u001b[39m\u001b[38;5;124m\"\u001b[39m,\n\u001b[0;32m    383\u001b[0m             is_row\u001b[38;5;241m=\u001b[39m\u001b[38;5;28;01mTrue\u001b[39;00m,\n\u001b[0;32m    384\u001b[0m             classes\u001b[38;5;241m=\u001b[39m[\u001b[38;5;124m\"\u001b[39m\u001b[38;5;124mdropdown-toggle\u001b[39m\u001b[38;5;124m\"\u001b[39m],\n\u001b[0;32m    385\u001b[0m             items\u001b[38;5;241m=\u001b[39m\u001b[38;5;28mlist\u001b[39m(summary\u001b[38;5;241m.\u001b[39mvariables),\n\u001b[0;32m    386\u001b[0m             item\u001b[38;5;241m=\u001b[39mContainer(\n\u001b[1;32m--> 387\u001b[0m                 \u001b[43mrender_variables_section\u001b[49m\u001b[43m(\u001b[49m\u001b[43mconfig\u001b[49m\u001b[43m,\u001b[49m\u001b[43m \u001b[49m\u001b[43msummary\u001b[49m\u001b[43m)\u001b[49m,\n\u001b[0;32m    388\u001b[0m                 sequence_type\u001b[38;5;241m=\u001b[39m\u001b[38;5;124m\"\u001b[39m\u001b[38;5;124maccordion\u001b[39m\u001b[38;5;124m\"\u001b[39m,\n\u001b[0;32m    389\u001b[0m                 name\u001b[38;5;241m=\u001b[39m\u001b[38;5;124m\"\u001b[39m\u001b[38;5;124mVariables\u001b[39m\u001b[38;5;124m\"\u001b[39m,\n\u001b[0;32m    390\u001b[0m                 anchor_id\u001b[38;5;241m=\u001b[39m\u001b[38;5;124m\"\u001b[39m\u001b[38;5;124mvariables\u001b[39m\u001b[38;5;124m\"\u001b[39m,\n\u001b[0;32m    391\u001b[0m             ),\n\u001b[0;32m    392\u001b[0m         )\n\u001b[0;32m    393\u001b[0m     )\n\u001b[0;32m    395\u001b[0m scatter_items \u001b[38;5;241m=\u001b[39m get_interactions(config, summary\u001b[38;5;241m.\u001b[39mscatter)\n\u001b[0;32m    396\u001b[0m \u001b[38;5;28;01mif\u001b[39;00m \u001b[38;5;28mlen\u001b[39m(scatter_items) \u001b[38;5;241m>\u001b[39m \u001b[38;5;241m0\u001b[39m:\n",
      "File \u001b[1;32mI:\\anaconda3\\lib\\site-packages\\ydata_profiling\\report\\structure\\report.py:162\u001b[0m, in \u001b[0;36mrender_variables_section\u001b[1;34m(config, dataframe_summary)\u001b[0m\n\u001b[0;32m    160\u001b[0m     variable_type \u001b[38;5;241m=\u001b[39m summary[\u001b[38;5;124m\"\u001b[39m\u001b[38;5;124mtype\u001b[39m\u001b[38;5;124m\"\u001b[39m]\n\u001b[0;32m    161\u001b[0m render_map_type \u001b[38;5;241m=\u001b[39m render_map\u001b[38;5;241m.\u001b[39mget(variable_type, render_map[\u001b[38;5;124m\"\u001b[39m\u001b[38;5;124mUnsupported\u001b[39m\u001b[38;5;124m\"\u001b[39m])\n\u001b[1;32m--> 162\u001b[0m template_variables\u001b[38;5;241m.\u001b[39mupdate(\u001b[43mrender_map_type\u001b[49m\u001b[43m(\u001b[49m\u001b[43mconfig\u001b[49m\u001b[43m,\u001b[49m\u001b[43m \u001b[49m\u001b[43mtemplate_variables\u001b[49m\u001b[43m)\u001b[49m)\n\u001b[0;32m    164\u001b[0m \u001b[38;5;66;03m# Ignore these\u001b[39;00m\n\u001b[0;32m    165\u001b[0m \u001b[38;5;28;01mif\u001b[39;00m reject_variables:\n",
      "File \u001b[1;32mI:\\anaconda3\\lib\\site-packages\\ydata_profiling\\report\\structure\\variables\\render_text.py:81\u001b[0m, in \u001b[0;36mrender_text\u001b[1;34m(config, summary)\u001b[0m\n\u001b[0;32m     77\u001b[0m top_items\u001b[38;5;241m.\u001b[39mappend(table)\n\u001b[0;32m     79\u001b[0m \u001b[38;5;28;01mif\u001b[39;00m words \u001b[38;5;129;01mand\u001b[39;00m \u001b[38;5;124m\"\u001b[39m\u001b[38;5;124mword_counts\u001b[39m\u001b[38;5;124m\"\u001b[39m \u001b[38;5;129;01min\u001b[39;00m summary:\n\u001b[0;32m     80\u001b[0m     mini_wordcloud \u001b[38;5;241m=\u001b[39m Image(\n\u001b[1;32m---> 81\u001b[0m         \u001b[43mplot_word_cloud\u001b[49m\u001b[43m(\u001b[49m\u001b[43mconfig\u001b[49m\u001b[43m,\u001b[49m\u001b[43m \u001b[49m\u001b[43msummary\u001b[49m\u001b[43m[\u001b[49m\u001b[38;5;124;43m\"\u001b[39;49m\u001b[38;5;124;43mword_counts\u001b[39;49m\u001b[38;5;124;43m\"\u001b[39;49m\u001b[43m]\u001b[49m\u001b[43m)\u001b[49m,\n\u001b[0;32m     82\u001b[0m         image_format\u001b[38;5;241m=\u001b[39mconfig\u001b[38;5;241m.\u001b[39mplot\u001b[38;5;241m.\u001b[39mimage_format,\n\u001b[0;32m     83\u001b[0m         alt\u001b[38;5;241m=\u001b[39m\u001b[38;5;124m\"\u001b[39m\u001b[38;5;124mMini wordcloud\u001b[39m\u001b[38;5;124m\"\u001b[39m,\n\u001b[0;32m     84\u001b[0m     )\n\u001b[0;32m     85\u001b[0m     top_items\u001b[38;5;241m.\u001b[39mappend(mini_wordcloud)\n\u001b[0;32m     86\u001b[0m template_variables[\u001b[38;5;124m\"\u001b[39m\u001b[38;5;124mtop\u001b[39m\u001b[38;5;124m\"\u001b[39m] \u001b[38;5;241m=\u001b[39m Container(top_items, sequence_type\u001b[38;5;241m=\u001b[39m\u001b[38;5;124m\"\u001b[39m\u001b[38;5;124mgrid\u001b[39m\u001b[38;5;124m\"\u001b[39m)\n",
      "File \u001b[1;32mI:\\anaconda3\\lib\\contextlib.py:79\u001b[0m, in \u001b[0;36mContextDecorator.__call__.<locals>.inner\u001b[1;34m(*args, **kwds)\u001b[0m\n\u001b[0;32m     76\u001b[0m \u001b[38;5;129m@wraps\u001b[39m(func)\n\u001b[0;32m     77\u001b[0m \u001b[38;5;28;01mdef\u001b[39;00m \u001b[38;5;21minner\u001b[39m(\u001b[38;5;241m*\u001b[39margs, \u001b[38;5;241m*\u001b[39m\u001b[38;5;241m*\u001b[39mkwds):\n\u001b[0;32m     78\u001b[0m     \u001b[38;5;28;01mwith\u001b[39;00m \u001b[38;5;28mself\u001b[39m\u001b[38;5;241m.\u001b[39m_recreate_cm():\n\u001b[1;32m---> 79\u001b[0m         \u001b[38;5;28;01mreturn\u001b[39;00m func(\u001b[38;5;241m*\u001b[39margs, \u001b[38;5;241m*\u001b[39m\u001b[38;5;241m*\u001b[39mkwds)\n",
      "File \u001b[1;32mI:\\anaconda3\\lib\\site-packages\\ydata_profiling\\visualisation\\plot.py:126\u001b[0m, in \u001b[0;36mplot_word_cloud\u001b[1;34m(config, word_counts)\u001b[0m\n\u001b[0;32m    124\u001b[0m \u001b[38;5;129m@manage_matplotlib_context\u001b[39m()\n\u001b[0;32m    125\u001b[0m \u001b[38;5;28;01mdef\u001b[39;00m \u001b[38;5;21mplot_word_cloud\u001b[39m(config: Settings, word_counts: pd\u001b[38;5;241m.\u001b[39mSeries) \u001b[38;5;241m-\u001b[39m\u001b[38;5;241m>\u001b[39m \u001b[38;5;28mstr\u001b[39m:\n\u001b[1;32m--> 126\u001b[0m     \u001b[43m_plot_word_cloud\u001b[49m\u001b[43m(\u001b[49m\u001b[43mseries\u001b[49m\u001b[38;5;241;43m=\u001b[39;49m\u001b[43mword_counts\u001b[49m\u001b[43m)\u001b[49m\n\u001b[0;32m    127\u001b[0m     \u001b[38;5;28;01mreturn\u001b[39;00m plot_360_n0sc0pe(config)\n",
      "File \u001b[1;32mI:\\anaconda3\\lib\\site-packages\\ydata_profiling\\visualisation\\plot.py:38\u001b[0m, in \u001b[0;36m_plot_word_cloud\u001b[1;34m(series, figsize)\u001b[0m\n\u001b[0;32m     36\u001b[0m \u001b[38;5;28;01mfor\u001b[39;00m i, series_data \u001b[38;5;129;01min\u001b[39;00m \u001b[38;5;28menumerate\u001b[39m(series):\n\u001b[0;32m     37\u001b[0m     word_dict \u001b[38;5;241m=\u001b[39m series_data\u001b[38;5;241m.\u001b[39mto_dict()\n\u001b[1;32m---> 38\u001b[0m     wordcloud \u001b[38;5;241m=\u001b[39m \u001b[43mWordCloud\u001b[49m\u001b[43m(\u001b[49m\n\u001b[0;32m     39\u001b[0m \u001b[43m        \u001b[49m\u001b[43mbackground_color\u001b[49m\u001b[38;5;241;43m=\u001b[39;49m\u001b[38;5;124;43m\"\u001b[39;49m\u001b[38;5;124;43mwhite\u001b[39;49m\u001b[38;5;124;43m\"\u001b[39;49m\u001b[43m,\u001b[49m\u001b[43m \u001b[49m\u001b[43mrandom_state\u001b[49m\u001b[38;5;241;43m=\u001b[39;49m\u001b[38;5;241;43m123\u001b[39;49m\u001b[43m,\u001b[49m\u001b[43m \u001b[49m\u001b[43mwidth\u001b[49m\u001b[38;5;241;43m=\u001b[39;49m\u001b[38;5;241;43m300\u001b[39;49m\u001b[43m,\u001b[49m\u001b[43m \u001b[49m\u001b[43mheight\u001b[49m\u001b[38;5;241;43m=\u001b[39;49m\u001b[38;5;241;43m200\u001b[39;49m\u001b[43m,\u001b[49m\u001b[43m \u001b[49m\u001b[43mscale\u001b[49m\u001b[38;5;241;43m=\u001b[39;49m\u001b[38;5;241;43m2\u001b[39;49m\n\u001b[0;32m     40\u001b[0m \u001b[43m    \u001b[49m\u001b[43m)\u001b[49m\u001b[38;5;241;43m.\u001b[39;49m\u001b[43mgenerate_from_frequencies\u001b[49m\u001b[43m(\u001b[49m\u001b[43mword_dict\u001b[49m\u001b[43m)\u001b[49m\n\u001b[0;32m     42\u001b[0m     ax \u001b[38;5;241m=\u001b[39m plot\u001b[38;5;241m.\u001b[39madd_subplot(\u001b[38;5;241m1\u001b[39m, \u001b[38;5;28mlen\u001b[39m(series), i \u001b[38;5;241m+\u001b[39m \u001b[38;5;241m1\u001b[39m)\n\u001b[0;32m     43\u001b[0m     ax\u001b[38;5;241m.\u001b[39mimshow(wordcloud)\n",
      "File \u001b[1;32mI:\\anaconda3\\lib\\site-packages\\wordcloud\\wordcloud.py:453\u001b[0m, in \u001b[0;36mWordCloud.generate_from_frequencies\u001b[1;34m(self, frequencies, max_font_size)\u001b[0m\n\u001b[0;32m    451\u001b[0m     font_size \u001b[38;5;241m=\u001b[39m \u001b[38;5;28mself\u001b[39m\u001b[38;5;241m.\u001b[39mheight\n\u001b[0;32m    452\u001b[0m \u001b[38;5;28;01melse\u001b[39;00m:\n\u001b[1;32m--> 453\u001b[0m     \u001b[38;5;28;43mself\u001b[39;49m\u001b[38;5;241;43m.\u001b[39;49m\u001b[43mgenerate_from_frequencies\u001b[49m\u001b[43m(\u001b[49m\u001b[38;5;28;43mdict\u001b[39;49m\u001b[43m(\u001b[49m\u001b[43mfrequencies\u001b[49m\u001b[43m[\u001b[49m\u001b[43m:\u001b[49m\u001b[38;5;241;43m2\u001b[39;49m\u001b[43m]\u001b[49m\u001b[43m)\u001b[49m\u001b[43m,\u001b[49m\n\u001b[0;32m    454\u001b[0m \u001b[43m                                   \u001b[49m\u001b[43mmax_font_size\u001b[49m\u001b[38;5;241;43m=\u001b[39;49m\u001b[38;5;28;43mself\u001b[39;49m\u001b[38;5;241;43m.\u001b[39;49m\u001b[43mheight\u001b[49m\u001b[43m)\u001b[49m\n\u001b[0;32m    455\u001b[0m     \u001b[38;5;66;03m# find font sizes\u001b[39;00m\n\u001b[0;32m    456\u001b[0m     sizes \u001b[38;5;241m=\u001b[39m [x[\u001b[38;5;241m1\u001b[39m] \u001b[38;5;28;01mfor\u001b[39;00m x \u001b[38;5;129;01min\u001b[39;00m \u001b[38;5;28mself\u001b[39m\u001b[38;5;241m.\u001b[39mlayout_]\n",
      "File \u001b[1;32mI:\\anaconda3\\lib\\site-packages\\wordcloud\\wordcloud.py:508\u001b[0m, in \u001b[0;36mWordCloud.generate_from_frequencies\u001b[1;34m(self, frequencies, max_font_size)\u001b[0m\n\u001b[0;32m    505\u001b[0m transposed_font \u001b[38;5;241m=\u001b[39m ImageFont\u001b[38;5;241m.\u001b[39mTransposedFont(\n\u001b[0;32m    506\u001b[0m     font, orientation\u001b[38;5;241m=\u001b[39morientation)\n\u001b[0;32m    507\u001b[0m \u001b[38;5;66;03m# get size of resulting text\u001b[39;00m\n\u001b[1;32m--> 508\u001b[0m box_size \u001b[38;5;241m=\u001b[39m \u001b[43mdraw\u001b[49m\u001b[38;5;241;43m.\u001b[39;49m\u001b[43mtextbbox\u001b[49m\u001b[43m(\u001b[49m\u001b[43m(\u001b[49m\u001b[38;5;241;43m0\u001b[39;49m\u001b[43m,\u001b[49m\u001b[43m \u001b[49m\u001b[38;5;241;43m0\u001b[39;49m\u001b[43m)\u001b[49m\u001b[43m,\u001b[49m\u001b[43m \u001b[49m\u001b[43mword\u001b[49m\u001b[43m,\u001b[49m\u001b[43m \u001b[49m\u001b[43mfont\u001b[49m\u001b[38;5;241;43m=\u001b[39;49m\u001b[43mtransposed_font\u001b[49m\u001b[43m,\u001b[49m\u001b[43m \u001b[49m\u001b[43manchor\u001b[49m\u001b[38;5;241;43m=\u001b[39;49m\u001b[38;5;124;43m\"\u001b[39;49m\u001b[38;5;124;43mlt\u001b[39;49m\u001b[38;5;124;43m\"\u001b[39;49m\u001b[43m)\u001b[49m\n\u001b[0;32m    509\u001b[0m \u001b[38;5;66;03m# find possible places using integral image:\u001b[39;00m\n\u001b[0;32m    510\u001b[0m result \u001b[38;5;241m=\u001b[39m occupancy\u001b[38;5;241m.\u001b[39msample_position(box_size[\u001b[38;5;241m3\u001b[39m] \u001b[38;5;241m+\u001b[39m \u001b[38;5;28mself\u001b[39m\u001b[38;5;241m.\u001b[39mmargin,\n\u001b[0;32m    511\u001b[0m                                    box_size[\u001b[38;5;241m2\u001b[39m] \u001b[38;5;241m+\u001b[39m \u001b[38;5;28mself\u001b[39m\u001b[38;5;241m.\u001b[39mmargin,\n\u001b[0;32m    512\u001b[0m                                    random_state)\n",
      "File \u001b[1;32mI:\\anaconda3\\lib\\site-packages\\PIL\\ImageDraw.py:671\u001b[0m, in \u001b[0;36mImageDraw.textbbox\u001b[1;34m(self, xy, text, font, anchor, spacing, align, direction, features, language, stroke_width, embedded_color)\u001b[0m\n\u001b[0;32m    669\u001b[0m     font \u001b[38;5;241m=\u001b[39m \u001b[38;5;28mself\u001b[39m\u001b[38;5;241m.\u001b[39mgetfont()\n\u001b[0;32m    670\u001b[0m \u001b[38;5;28;01mif\u001b[39;00m \u001b[38;5;129;01mnot\u001b[39;00m \u001b[38;5;28misinstance\u001b[39m(font, ImageFont\u001b[38;5;241m.\u001b[39mFreeTypeFont):\n\u001b[1;32m--> 671\u001b[0m     \u001b[38;5;28;01mraise\u001b[39;00m \u001b[38;5;167;01mValueError\u001b[39;00m(\u001b[38;5;124m\"\u001b[39m\u001b[38;5;124mOnly supported for TrueType fonts\u001b[39m\u001b[38;5;124m\"\u001b[39m)\n\u001b[0;32m    672\u001b[0m mode \u001b[38;5;241m=\u001b[39m \u001b[38;5;124m\"\u001b[39m\u001b[38;5;124mRGBA\u001b[39m\u001b[38;5;124m\"\u001b[39m \u001b[38;5;28;01mif\u001b[39;00m embedded_color \u001b[38;5;28;01melse\u001b[39;00m \u001b[38;5;28mself\u001b[39m\u001b[38;5;241m.\u001b[39mfontmode\n\u001b[0;32m    673\u001b[0m bbox \u001b[38;5;241m=\u001b[39m font\u001b[38;5;241m.\u001b[39mgetbbox(\n\u001b[0;32m    674\u001b[0m     text, mode, direction, features, language, stroke_width, anchor\n\u001b[0;32m    675\u001b[0m )\n",
      "\u001b[1;31mValueError\u001b[0m: Only supported for TrueType fonts"
     ]
    },
    {
     "data": {
      "text/plain": []
     },
     "execution_count": 5,
     "metadata": {},
     "output_type": "execute_result"
    },
    {
     "data": {
      "text/plain": [
       "<Figure size 432x288 with 0 Axes>"
      ]
     },
     "metadata": {},
     "output_type": "display_data"
    }
   ],
   "source": [
    "# Opening the full database\n",
    "profile_full = ProfileReport(full, minimal=True)\n",
    "profile_full"
   ]
  },
  {
   "cell_type": "markdown",
   "metadata": {},
   "source": [
    "Upon the initial data analysis, we observe the following:\n",
    "\n",
    "- The full dataset contains 87 columns, while the test set has 53;\n",
    "- No duplicates are present in the datasets;\n",
    "- Missing values constitute an extremely small percentage overall (from less than 0.1% to a maximum of 0.3%). However, some columns have 9-11% missing values. Given that temporally adjacent parameters are often similar, the 'ffill' method can be employed to fill in the gaps using the previous row's value;\n",
    "- The 'date' column is of the 'object' type and should be converted to 'datetime'."
   ]
  },
  {
   "cell_type": "code",
   "execution_count": 6,
   "metadata": {},
   "outputs": [],
   "source": [
    "# Changing the date column type\n",
    "train['date'] = pd.to_datetime(train['date'], format='%Y-%m-%dT%H:%M')\n",
    "full['date'] = pd.to_datetime(full['date'], format='%Y-%m-%dT%H:%M')\n",
    "test['date'] = pd.to_datetime(test['date'], format='%Y-%m-%dT%H:%M')"
   ]
  },
  {
   "cell_type": "code",
   "execution_count": 7,
   "metadata": {},
   "outputs": [],
   "source": [
    "# Handling missing values\n",
    "train.ffill(axis='rows', inplace=True)\n",
    "full.ffill(axis='rows', inplace=True)\n",
    "test.ffill(axis='rows', inplace=True)"
   ]
  },
  {
   "cell_type": "markdown",
   "metadata": {},
   "source": [
    "At this stage, our task is to verify that the enrichment efficiency is calculated correctly.\n",
    "\n",
    "For this, it needs to be computed on the training dataset for the feature 'rougher.output.recovery' and determine the MAE (Mean Absolute Error) between the computations and the feature value.\n",
    "\n",
    "Recall the enrichment efficiency formula:\n",
    "\n",
    "recovery = (((C*(F-T))/((F*(C-T)))* 100%\n",
    "где:\n",
    "\n",
    "- C — gold content in the concentrate post-flotation/cleaning;\n",
    "- F — gold content in the raw material/concentrate pre-flotation/cleaning;\n",
    "- T — gold content in tailings post-flotation/cleaning.\n",
    "\n",
    "In our database:\n",
    "- C — rougher.output.concentrate_au;\n",
    "- F — rougher.input.feed_au;\n",
    "- T — rougher.output.tail_au.\n",
    "\n",
    "The computations should be compared to the 'rougher.output.recovery' feature."
   ]
  },
  {
   "cell_type": "code",
   "execution_count": 8,
   "metadata": {},
   "outputs": [],
   "source": [
    "# We will create a function to calculate the enrichment efficiency.\n",
    "\n",
    "def recovery(c,f,t):\n",
    "    recovery = (((c*(f-t)))/((f*(c-t))))*100\n",
    "    return recovery"
   ]
  },
  {
   "cell_type": "code",
   "execution_count": 9,
   "metadata": {},
   "outputs": [
    {
     "name": "stdout",
     "output_type": "stream",
     "text": [
      "Mean Absolute Error: 9.73512347450521e-15\n"
     ]
    }
   ],
   "source": [
    "c = train['rougher.output.concentrate_au']\n",
    "f = train['rougher.input.feed_au']\n",
    "t = train['rougher.output.tail_au']\n",
    "\n",
    "recovery_train = train['rougher.output.recovery']\n",
    "recovery_train_calc = recovery(c,f,t)\n",
    "\n",
    "mae = mean_absolute_error(recovery_train, recovery_train_calc)\n",
    "print('Mean Absolute Error:', mae)"
   ]
  },
  {
   "cell_type": "code",
   "execution_count": 10,
   "metadata": {
    "scrolled": true
   },
   "outputs": [
    {
     "data": {
      "text/plain": [
       "{'final.output.concentrate_ag',\n",
       " 'final.output.concentrate_au',\n",
       " 'final.output.concentrate_pb',\n",
       " 'final.output.concentrate_sol',\n",
       " 'final.output.recovery',\n",
       " 'final.output.tail_ag',\n",
       " 'final.output.tail_au',\n",
       " 'final.output.tail_pb',\n",
       " 'final.output.tail_sol',\n",
       " 'primary_cleaner.output.concentrate_ag',\n",
       " 'primary_cleaner.output.concentrate_au',\n",
       " 'primary_cleaner.output.concentrate_pb',\n",
       " 'primary_cleaner.output.concentrate_sol',\n",
       " 'primary_cleaner.output.tail_ag',\n",
       " 'primary_cleaner.output.tail_au',\n",
       " 'primary_cleaner.output.tail_pb',\n",
       " 'primary_cleaner.output.tail_sol',\n",
       " 'rougher.calculation.au_pb_ratio',\n",
       " 'rougher.calculation.floatbank10_sulfate_to_au_feed',\n",
       " 'rougher.calculation.floatbank11_sulfate_to_au_feed',\n",
       " 'rougher.calculation.sulfate_to_au_concentrate',\n",
       " 'rougher.output.concentrate_ag',\n",
       " 'rougher.output.concentrate_au',\n",
       " 'rougher.output.concentrate_pb',\n",
       " 'rougher.output.concentrate_sol',\n",
       " 'rougher.output.recovery',\n",
       " 'rougher.output.tail_ag',\n",
       " 'rougher.output.tail_au',\n",
       " 'rougher.output.tail_pb',\n",
       " 'rougher.output.tail_sol',\n",
       " 'secondary_cleaner.output.tail_ag',\n",
       " 'secondary_cleaner.output.tail_au',\n",
       " 'secondary_cleaner.output.tail_pb',\n",
       " 'secondary_cleaner.output.tail_sol'}"
      ]
     },
     "execution_count": 10,
     "metadata": {},
     "output_type": "execute_result"
    }
   ],
   "source": [
    "set(train.columns)-set(test.columns) "
   ]
  },
  {
   "cell_type": "markdown",
   "metadata": {},
   "source": [
    "<b>Conclusions</b>\n",
    "\n",
    "At the onset, we analyzed three datasets - the full dataset, training, and test sets.\n",
    "\n",
    "Data preprocessing was conducted. The 'date' column data type was changed to 'datetime'. No duplicates were detected, missing values comprise no more than 0.1-0.3% of the total dataset, but range between 3 to 11% in some columns. These gaps were filled by duplicating the previous temporal value since data is indexed by date and time of acquisition, making the preceding value the most relevant for filling gaps.\n",
    "\n",
    "The enrichment efficiency calculation's accuracy was validated. For this, we determined the mean absolute error between our calculated enrichment efficiency and the 'rougher.output.recovery' feature value. The MAE value is minuscule, allowing us to conclude that the enrichment efficiency was correctly calculated.\n",
    "\n",
    "Features unavailable in the test set were identified. The test set lacks features reflecting element concentrations after various cleaning stages and their quantities in tailings. Furthermore, target features - final.output.recovery and rougher.output.recovery - are absent in the test set. Therefore, non-target features absent in the test set will be removed from the training set since they shouldn't be used for training the model. Also, target features will be added to the test set from the full database. These operations will be executed post-data analysis."
   ]
  },
  {
   "cell_type": "markdown",
   "metadata": {},
   "source": [
    "## Data analysis"
   ]
  },
  {
   "cell_type": "markdown",
   "metadata": {},
   "source": [
    "### Change in Metal Concentrations (Au, Ag, Pb) at Various Cleaning "
   ]
  },
  {
   "cell_type": "code",
   "execution_count": 11,
   "metadata": {},
   "outputs": [],
   "source": [
    "# Select columns to plot for gold\n",
    "\n",
    "full_au = full[['rougher.input.feed_au',\n",
    "                'rougher.output.concentrate_au', \n",
    "                'primary_cleaner.output.concentrate_au', \n",
    "                'final.output.concentrate_au']]\n",
    "\n",
    "# For silver\n",
    "full_ag = full[['rougher.input.feed_ag',\n",
    "                'rougher.output.concentrate_ag',\n",
    "                'primary_cleaner.output.concentrate_ag', \n",
    "                'final.output.concentrate_ag']]\n",
    "\n",
    "# And for lead\n",
    "full_pb = full[['rougher.input.feed_pb',\n",
    "                'rougher.output.concentrate_pb', \n",
    "                'primary_cleaner.output.concentrate_pb', \n",
    "                'final.output.concentrate_pb']]"
   ]
  },
  {
   "cell_type": "code",
   "execution_count": 12,
   "metadata": {
    "scrolled": true
   },
   "outputs": [],
   "source": [
    "# Function for graphs:\n",
    "\n",
    "def fig_metal(df, metal):\n",
    "    fig, ax = plt.subplots(figsize=(15,8))\n",
    "    ax.set_title(f'Concentration of {metal} in Mixtures')\n",
    "    ax.set_xlabel('Concentration')\n",
    "    ax.set_ylabel('Observations, n')\n",
    "    for c in df:\n",
    "        df[c].hist(alpha=.7) \n",
    "        ax.legend(['Mixture', 'Flotation', 'Primary Cleaning', 'Final Concentrate'])"
   ]
  },
  {
   "cell_type": "code",
   "execution_count": 13,
   "metadata": {},
   "outputs": [
    {
     "data": {
      "image/png": "[encoded data removed]",
      "text/plain": [
       "<Figure size 1080x576 with 1 Axes>"
      ]
     },
     "metadata": {
      "needs_background": "light"
     },
     "output_type": "display_data"
    }
   ],
   "source": [
    "fig_metal(full_au, 'Gold')"
   ]
  },
  {
   "cell_type": "code",
   "execution_count": 14,
   "metadata": {
    "scrolled": false
   },
   "outputs": [
    {
     "data": {
      "image/png": "[encoded data removed]",
      "text/plain": [
       "<Figure size 1080x576 with 1 Axes>"
      ]
     },
     "metadata": {
      "needs_background": "light"
     },
     "output_type": "display_data"
    }
   ],
   "source": [
    "fig_metal(full_ag, 'Silver')"
   ]
  },
  {
   "cell_type": "code",
   "execution_count": 15,
   "metadata": {
    "scrolled": false
   },
   "outputs": [
    {
     "data": {
      "image/png": "[encoded data removed]",
      "text/plain": [
       "<Figure size 1080x576 with 1 Axes>"
      ]
     },
     "metadata": {
      "needs_background": "light"
     },
     "output_type": "display_data"
    }
   ],
   "source": [
    "fig_metal(full_pb, 'Lead')"
   ]
  },
  {
   "cell_type": "markdown",
   "metadata": {},
   "source": [
    "The most significant change is in the concentration of gold - it increases at each subsequent stage. After the final stage, the concentration of silver notably decreases, while that of lead increases after flotation and then remains roughly consistent."
   ]
  },
  {
   "cell_type": "markdown",
   "metadata": {},
   "source": [
    "### Comparison of Raw Material Granule Size Distribution in Training and Test Samples"
   ]
  },
  {
   "cell_type": "code",
   "execution_count": 16,
   "metadata": {},
   "outputs": [
    {
     "data": {
      "image/png": "[encoded data removed]",
      "text/plain": [
       "<Figure size 720x432 with 1 Axes>"
      ]
     },
     "metadata": {
      "needs_background": "light"
     },
     "output_type": "display_data"
    }
   ],
   "source": [
    "# Construct histograms (flotation stage)\n",
    "\n",
    "train['rougher.input.feed_size'].hist(bins=100, alpha=0.7, label='Training Sample', figsize=(10,6))\n",
    "test['rougher.input.feed_size'].hist(bins=100, alpha=0.7, label='Test Sample', figsize=(10,6))\n",
    "plt.title('Comparison of Raw Material Granule Size Distribution After Primary Cleaning in Training and Test Samples')\n",
    "plt.xlabel('Granule Size')\n",
    "plt.ylabel('Observations, n')\n",
    "plt.legend()\n",
    "plt.show()"
   ]
  },
  {
   "cell_type": "code",
   "execution_count": 17,
   "metadata": {},
   "outputs": [
    {
     "data": {
      "image/png": "[encoded data removed]",
      "text/plain": [
       "<Figure size 720x432 with 1 Axes>"
      ]
     },
     "metadata": {
      "needs_background": "light"
     },
     "output_type": "display_data"
    }
   ],
   "source": [
    "# Construct histograms (primary cleaning stage)\n",
    "\n",
    "train['primary_cleaner.input.feed_size'].hist(bins=100, alpha=0.7, label='Training Sample', figsize=(10,6))\n",
    "test['primary_cleaner.input.feed_size'].hist(bins=100, alpha=0.7, label='Test Sample', figsize=(10,6))\n",
    "plt.title('Comparison of Raw Material Granule Size Distribution After Primary Cleaning in Training and Test Samples')\n",
    "plt.xlabel('Granule Size')\n",
    "plt.ylabel('Observations, n')\n",
    "plt.legend()\n",
    "plt.show()"
   ]
  },
  {
   "cell_type": "code",
   "execution_count": 18,
   "metadata": {},
   "outputs": [
    {
     "name": "stdout",
     "output_type": "stream",
     "text": [
      "Kolmogorov-Smirnov Test After Flotation Stage:\n",
      "KstestResult(statistic=0.2502993057549405, pvalue=5.1997046130555955e-213)\n",
      "\n",
      "Kolmogorov-Smirnov Test After Primary Cleaning Stage:\n",
      "KstestResult(statistic=0.05922065470904381, pvalue=3.5273935105512727e-12)\n"
     ]
    }
   ],
   "source": [
    "# In general, the distributions are quite similar; for accuracy, one can conduct the Kolmogorov-Smirnov test.\n",
    "\n",
    "print('Kolmogorov-Smirnov Test After Flotation Stage:')\n",
    "print(ks_2samp(train['rougher.input.feed_size'], test['rougher.input.feed_size']))\n",
    "print('')\n",
    "print('Kolmogorov-Smirnov Test After Primary Cleaning Stage:')\n",
    "print(ks_2samp(train['primary_cleaner.input.feed_size'], test['primary_cleaner.input.feed_size']))"
   ]
  },
  {
   "cell_type": "markdown",
   "metadata": {},
   "source": [
    "Both from the graphs and the statistical test results (p<0.05), it's evident that the raw material granule size distribution after flotation and primary cleaning stages in the training and test samples don't differ. Therefore, there's no risk of an incorrect model assessment."
   ]
  },
  {
   "cell_type": "code",
   "execution_count": 19,
   "metadata": {
    "scrolled": false
   },
   "outputs": [
    {
     "data": {
      "image/png": "[encoded data removed]",
      "text/plain": [
       "<Figure size 720x432 with 1 Axes>"
      ]
     },
     "metadata": {
      "needs_background": "light"
     },
     "output_type": "display_data"
    }
   ],
   "source": [
    "sns.kdeplot(train['rougher.input.feed_size'], shade=True, label='Training Sample')\n",
    "sns.kdeplot(test['rougher.input.feed_size'], shade=True, label='Test Sample')\n",
    "plt.ylim(0, None)\n",
    "plt.xlim(0, 200)\n",
    "plt.gcf().set_size_inches(10, 6)\n",
    "plt.title('Comparison of Raw Material Granule Size Distribution After Flotation in Training and Test Samples')\n",
    "plt.legend()\n",
    "plt.show()"
   ]
  },
  {
   "cell_type": "code",
   "execution_count": 20,
   "metadata": {
    "scrolled": false
   },
   "outputs": [
    {
     "data": {
      "image/png": "[encoded data removed]",
      "text/plain": [
       "<Figure size 720x432 with 1 Axes>"
      ]
     },
     "metadata": {
      "needs_background": "light"
     },
     "output_type": "display_data"
    }
   ],
   "source": [
    "sns.kdeplot(train['primary_cleaner.input.feed_size'], shade=True, label='Training Sample')\n",
    "sns.kdeplot(test['primary_cleaner.input.feed_size'], shade=True, label='Test Sample')\n",
    "plt.gcf().set_size_inches(10, 6)\n",
    "plt.title('Comparison of Raw Material Granule Size Distribution After Primary Cleaning in Training and Test Samples')\n",
    "plt.legend()\n",
    "plt.show()"
   ]
  },
  {
   "cell_type": "markdown",
   "metadata": {},
   "source": [
    "### Total concentration of all substances at different stages"
   ]
  },
  {
   "cell_type": "code",
   "execution_count": 21,
   "metadata": {},
   "outputs": [],
   "source": [
    "#In the complete dataset, we sum up all metals and salts at different stages:\n",
    "\n",
    "#Mixture\n",
    "full_rougher_input_feed_sum = (full['rougher.input.feed_au'] + full['rougher.input.feed_ag'] + \n",
    "                               full['rougher.input.feed_pb'] + full['rougher.input.feed_sol'])\n",
    "\n",
    "#Flotation\n",
    "full_rougher_output_concentrate_sum = (full['rougher.output.concentrate_au'] + full['rougher.output.concentrate_ag'] + \n",
    "                                        full['rougher.output.concentrate_pb'] + full['rougher.output.concentrate_sol'])\n",
    "\n",
    "#Primary treatment\n",
    "full_primary_cleaner_output_concentrate_sum = (full['primary_cleaner.output.concentrate_au'] + \n",
    "                                                full['primary_cleaner.output.concentrate_ag'] + \n",
    "                                                full['primary_cleaner.output.concentrate_pb'] +\n",
    "                                                full['primary_cleaner.output.concentrate_sol'])\n",
    "\n",
    "#Final stage\n",
    "full_final_output_concentrate_sum = (full['final.output.concentrate_au'] + full['final.output.concentrate_ag'] + \n",
    "                                      full['final.output.concentrate_pb'] + full['final.output.concentrate_sol'])\n",
    "\n",
    "#Create a dataframe for the graph\n",
    "full_metal_sol = {'rougher_input_sum': full_rougher_input_feed_sum,\n",
    "                  'rougher_output_sum': full_rougher_output_concentrate_sum,\n",
    "                  'primary_cleaner_sum': full_primary_cleaner_output_concentrate_sum,\n",
    "                  'final_sum': full_final_output_concentrate_sum}\n",
    "\n",
    "full_metal_sol = pd.DataFrame(full_metal_sol)"
   ]
  },
  {
   "cell_type": "code",
   "execution_count": 22,
   "metadata": {
    "scrolled": false
   },
   "outputs": [
    {
     "data": {
      "image/png": "[encoded data removed]",
      "text/plain": [
       "<Figure size 1080x576 with 1 Axes>"
      ]
     },
     "metadata": {
      "needs_background": "light"
     },
     "output_type": "display_data"
    }
   ],
   "source": [
    "#Total concentration graph\n",
    "\n",
    "fig_metal(full_metal_sol, 'Metals and salts')"
   ]
  },
  {
   "cell_type": "markdown",
   "metadata": {},
   "source": [
    "We see that in the final concentrate, there is the highest total concentration of metals and salts. Importantly, we observe an anomaly - there are samples where the total concentration of metals and salts is negative, which is highly unlikely. As this can adversely affect model training, we will remove these data."
   ]
  },
  {
   "cell_type": "code",
   "execution_count": 23,
   "metadata": {},
   "outputs": [],
   "source": [
    "#Create a dataframe with the total amount of metals and salts for subsequent merging with the training sample.\n",
    "\n",
    "train_rougher_input_feed_sum = (train['rougher.input.feed_au'] + train['rougher.input.feed_ag'] + \n",
    "                               train['rougher.input.feed_pb'] + train['rougher.input.feed_sol'])\n",
    "\n",
    "train_rougher_output_concentrate_sum = (train['rougher.output.concentrate_au'] + \n",
    "                                       train['rougher.output.concentrate_ag'] +\n",
    "                                       train['rougher.output.concentrate_pb'] + \n",
    "                                       train['rougher.output.concentrate_sol'])\n",
    "\n",
    "train_primary_cleaner_output_concentrate_sum = (train['primary_cleaner.output.concentrate_au'] + \n",
    "                                                train['primary_cleaner.output.concentrate_ag'] + \n",
    "                                                train['primary_cleaner.output.concentrate_pb'] +\n",
    "                                                train['primary_cleaner.output.concentrate_sol'])\n",
    "\n",
    "train_final_output_concentrate_sum = (train['final.output.concentrate_au'] + \n",
    "                                           train['final.output.concentrate_ag'] +\n",
    "                                           train['final.output.concentrate_pb'] +\n",
    "                                           train['final.output.concentrate_sol'])\n",
    "\n",
    "train_metal_sol_for_merge = {'date': train['date'],\n",
    "                            'rougher_input_sum': train_rougher_input_feed_sum,\n",
    "                            'rougher_output_sum': train_rougher_output_concentrate_sum,\n",
    "                            'primary_cleaner_sum': train_primary_cleaner_output_concentrate_sum,\n",
    "                            'final_sum': train_final_output_concentrate_sum}\n",
    "\n",
    "train_metal_sol_for_merge = pd.DataFrame(train_metal_sol_for_merge)\n",
    "\n",
    "#Merge by the \"date\" column\n",
    "\n",
    "train_with_anomaly = train.merge(train_metal_sol_for_merge, on='date')"
   ]
  },
  {
   "cell_type": "code",
   "execution_count": 24,
   "metadata": {
    "scrolled": true
   },
   "outputs": [
    {
     "data": {
      "text/plain": [
       "(14149, 91)"
      ]
     },
     "execution_count": 24,
     "metadata": {},
     "output_type": "execute_result"
    }
   ],
   "source": [
    "#Check the volume of the dataframe\n",
    "\n",
    "train_with_anomaly.shape"
   ]
  },
  {
   "cell_type": "code",
   "execution_count": 25,
   "metadata": {},
   "outputs": [],
   "source": [
    "#Retain data without abnormally low values\n",
    "\n",
    "train_ex_anomaly = train_with_anomaly.query('rougher_input_sum > 1 and \\\n",
    "rougher_output_sum > 1 and \\\n",
    "primary_cleaner_sum > 1 and \\\n",
    "final_sum > 1')"
   ]
  },
  {
   "cell_type": "code",
   "execution_count": 26,
   "metadata": {
    "scrolled": true
   },
   "outputs": [
    {
     "data": {
      "text/plain": [
       "(13599, 91)"
      ]
     },
     "execution_count": 26,
     "metadata": {},
     "output_type": "execute_result"
    }
   ],
   "source": [
    "# Recheck the dataframe's volume to ensure that the data is removed\n",
    "\n",
    "train_ex_anomaly.shape"
   ]
  },
  {
   "cell_type": "code",
   "execution_count": 27,
   "metadata": {},
   "outputs": [],
   "source": [
    "#Now, we can remove unnecessary features from the training sample that are absent in the test sample.\n",
    "#The features \"final.output.recovery\" and \"rougher.output.recovery\" are essentially target ones, so we \n",
    "#cannot remove them from the training sample. We'll remove \n",
    "#those features absent in the test sample except the targets.\n",
    "\n",
    "train_good = train_ex_anomaly.drop(columns=['final.output.concentrate_ag', 'final.output.concentrate_au',\n",
    " 'final.output.concentrate_pb', 'final.output.concentrate_sol', 'final.output.tail_ag',\n",
    " 'final.output.tail_au', 'final.output.tail_pb', 'final.output.tail_sol',\n",
    " 'primary_cleaner.output.concentrate_ag', 'primary_cleaner.output.concentrate_au',\n",
    " 'primary_cleaner.output.concentrate_pb', 'primary_cleaner.output.concentrate_sol',\n",
    " 'primary_cleaner.output.tail_ag', 'primary_cleaner.output.tail_au',\n",
    " 'primary_cleaner.output.tail_pb', 'primary_cleaner.output.tail_sol',\n",
    " 'rougher.calculation.au_pb_ratio', 'rougher.calculation.floatbank10_sulfate_to_au_feed',\n",
    " 'rougher.calculation.floatbank11_sulfate_to_au_feed', 'rougher.calculation.sulfate_to_au_concentrate',\n",
    " 'rougher.output.concentrate_ag', 'rougher.output.concentrate_au', 'rougher.output.concentrate_pb',\n",
    " 'rougher.output.concentrate_sol', 'rougher.output.tail_ag', 'rougher.output.tail_au',\n",
    " 'rougher.output.tail_pb', 'rougher.output.tail_sol', 'secondary_cleaner.output.tail_ag',\n",
    " 'secondary_cleaner.output.tail_au', 'secondary_cleaner.output.tail_pb',\n",
    " 'secondary_cleaner.output.tail_sol', 'rougher_input_sum', 'rougher_output_sum', \n",
    " 'primary_cleaner_sum', 'final_sum'], axis=1)"
   ]
  },
  {
   "cell_type": "code",
   "execution_count": 28,
   "metadata": {},
   "outputs": [],
   "source": [
    "#Conversely, we'll add target features from the complete dataset \n",
    "#to the test one, based on the \"date\" column.\n",
    "\n",
    "test_good = test.merge(full.loc[:,['date','rougher.output.recovery','final.output.recovery']], on='date')"
   ]
  },
  {
   "cell_type": "code",
   "execution_count": 29,
   "metadata": {},
   "outputs": [
    {
     "name": "stdout",
     "output_type": "stream",
     "text": [
      "(13599, 55)\n"
     ]
    },
    {
     "data": {
      "text/plain": [
       "(5290, 55)"
      ]
     },
     "execution_count": 29,
     "metadata": {},
     "output_type": "execute_result"
    }
   ],
   "source": [
    "#Check the volumes of the resulting databases\n",
    "\n",
    "print(train_good.shape)\n",
    "test_good.shape"
   ]
  },
  {
   "cell_type": "markdown",
   "metadata": {},
   "source": [
    "<b>Conclusions</b>\n",
    "\n",
    "We analyzed the provided datasets. We noticed that with each subsequent processing stage, the concentration of gold significantly increases, which is essentially the processing goal. The distribution of raw material granule sizes after flotation and primary cleaning stages in the training and test samples are consistent. While analyzing the total concentration of metals and salts in mixtures, we found that there are samples with zero total concentration values. For more accurate model training, anomalous values have been removed. Databases are ready for use in model training."
   ]
  },
  {
   "cell_type": "markdown",
   "metadata": {},
   "source": [
    "## Model"
   ]
  },
  {
   "cell_type": "markdown",
   "metadata": {},
   "source": [
    "### Preparation for Model Training"
   ]
  },
  {
   "cell_type": "code",
   "execution_count": 30,
   "metadata": {},
   "outputs": [],
   "source": [
    "# Function to calculate sMAPE\n",
    "\n",
    "def smape(target, predictions):\n",
    "    \n",
    "    return round(\n",
    "        np.mean(\n",
    "            np.abs(predictions - target) / \n",
    "            ((np.abs(predictions) + np.abs(target))/2)\n",
    "        )*100, 3\n",
    "    )"
   ]
  },
  {
   "cell_type": "code",
   "execution_count": 31,
   "metadata": {},
   "outputs": [],
   "source": [
    "# Function to compute the final sMAPE\n",
    "\n",
    "def smape_total(smape_rougher, smape_final):\n",
    "    return (0.25*smape_rougher + 0.75*smape_final)"
   ]
  },
  {
   "cell_type": "code",
   "execution_count": 32,
   "metadata": {},
   "outputs": [],
   "source": [
    "# Create a set of features and a target feature for each of the samples:\n",
    "\n",
    "#Training\n",
    "features_train = train_good.drop(['date', 'rougher.output.recovery', 'final.output.recovery'], axis=1)\n",
    "target_train_rougher = train_good['rougher.output.recovery']\n",
    "target_train_final = train_good['final.output.recovery']\n",
    "\n",
    "\n",
    "# Testing\n",
    "features_test = test_good.drop(['date', 'rougher.output.recovery', 'final.output.recovery'], axis=1)\n",
    "target_test_rougher = test_good['rougher.output.recovery']\n",
    "target_test_final = test_good['final.output.recovery']"
   ]
  },
  {
   "cell_type": "code",
   "execution_count": 33,
   "metadata": {},
   "outputs": [],
   "source": [
    "# Scale the data using standardization\n",
    "\n",
    "scaler = StandardScaler()\n",
    "scaler.fit(features_train)\n",
    "features_train = scaler.transform(features_train)\n",
    "features_test = scaler.transform(features_test)"
   ]
  },
  {
   "cell_type": "markdown",
   "metadata": {},
   "source": [
    "### Model Training"
   ]
  },
  {
   "cell_type": "code",
   "execution_count": 34,
   "metadata": {},
   "outputs": [
    {
     "name": "stderr",
     "output_type": "stream",
     "text": [
      "100%|██████████████████████████████████████████████████████████████████████████████████| 10/10 [00:49<00:00,  5.00s/it]"
     ]
    },
    {
     "name": "stdout",
     "output_type": "stream",
     "text": [
      "Final sMAPE of the best Decision Tree model on the validation sample: -8.6336 at max_depth: 3\n"
     ]
    },
    {
     "name": "stderr",
     "output_type": "stream",
     "text": [
      "\n"
     ]
    }
   ],
   "source": [
    "# Decision tree\n",
    "\n",
    "best_model_dt = None\n",
    "best_result_dt = -20\n",
    "best_depth_dt = 0\n",
    "for depth in tqdm(range(1,20,2)):\n",
    "    model_dt = DecisionTreeRegressor(random_state=12345, max_depth = depth)\n",
    "    scorer = make_scorer(smape, greater_is_better=False)\n",
    "    smape_rougher_tree = cross_val_score(model_dt, features_train, target_train_rougher, scoring=scorer, cv=5).mean()\n",
    "    smape_final_tree = cross_val_score(model_dt, features_train, target_train_final, scoring=scorer, cv=5).mean()\n",
    "    result_dt = smape_total(smape_rougher_tree, smape_final_tree)\n",
    "    if result_dt > best_result_dt:\n",
    "        best_model_dt = model_dt\n",
    "        best_result_dt = result_dt\n",
    "        best_depth_dt = depth\n",
    "        \n",
    "print('Final sMAPE of the best Decision Tree model on the validation sample:', \n",
    "      best_result_dt, 'at max_depth:', best_depth_dt)"
   ]
  },
  {
   "cell_type": "code",
   "execution_count": 35,
   "metadata": {},
   "outputs": [
    {
     "name": "stderr",
     "output_type": "stream",
     "text": [
      "100%|█████████████████████████████████████████████████████████████████████████████████| 10/10 [34:11<00:00, 205.13s/it]"
     ]
    },
    {
     "name": "stdout",
     "output_type": "stream",
     "text": [
      "Final sMAPE of the best Random Forest model on the validation sample: -8.454950000000002 at max_depth: 5 and n_estimators: 19\n"
     ]
    },
    {
     "name": "stderr",
     "output_type": "stream",
     "text": [
      "\n"
     ]
    }
   ],
   "source": [
    "# Random Forest\n",
    "\n",
    "best_model_rf = None\n",
    "best_result_rf = -20\n",
    "best_depth_rf = 0\n",
    "best_est_rf = 0\n",
    "for est in tqdm(range(1,20,2)):\n",
    "    for depth in range(1,20,2):\n",
    "        model_rf = RandomForestRegressor(random_state=12345, n_estimators=est, max_depth=depth)\n",
    "        scorer = make_scorer(smape, greater_is_better=False)\n",
    "        smape_rougher_forest = cross_val_score(model_rf, features_train, target_train_rougher, scoring=scorer, cv=5).mean()\n",
    "        smape_final_forest = cross_val_score(model_rf, features_train, target_train_final, scoring=scorer, cv=5).mean()\n",
    "        result_rf = smape_total(smape_rougher_forest, smape_final_forest)\n",
    "        if result_rf > best_result_rf:\n",
    "            best_model_rf = model_rf\n",
    "            best_result_rf = result_rf\n",
    "            best_depth_rf = depth\n",
    "            best_est_rf = est\n",
    "\n",
    "print('Final sMAPE of the best Random Forest model on the validation sample:', best_result_rf, \n",
    "      'at max_depth:', best_depth_rf, 'and n_estimators:', best_est_rf)"
   ]
  },
  {
   "cell_type": "code",
   "execution_count": 36,
   "metadata": {},
   "outputs": [
    {
     "name": "stdout",
     "output_type": "stream",
     "text": [
      "Final sMAPE of the best Random Forest model on the validation sample: -10.0911\n"
     ]
    }
   ],
   "source": [
    "# LinearRegression\n",
    "\n",
    "model_lr = LinearRegression()\n",
    "scorer = make_scorer(smape, greater_is_better=False)\n",
    "smape_rougher_lr = cross_val_score(model_lr, features_train, target_train_rougher, scoring=scorer, cv=5).mean()\n",
    "smape_final_lr =  cross_val_score(model_lr, features_train, target_train_final, scoring=scorer, cv=5).mean()\n",
    "print('Final sMAPE of the best Random Forest model on the validation sample:', smape_total(smape_rougher_lr, smape_final_lr))"
   ]
  },
  {
   "cell_type": "markdown",
   "metadata": {},
   "source": [
    "The model that showed the value closest to 0 for the symmetric mean absolute percentage deviation was the Random Forest with max_depth and n_estimators at 19."
   ]
  },
  {
   "cell_type": "markdown",
   "metadata": {},
   "source": [
    "### Model Testing"
   ]
  },
  {
   "cell_type": "code",
   "execution_count": 37,
   "metadata": {},
   "outputs": [
    {
     "name": "stdout",
     "output_type": "stream",
     "text": [
      "sMAPE on the test sample when using the Random Forest model: 9.364\n"
     ]
    }
   ],
   "source": [
    "#We found that the best model is the Random Forest. We test it on the test sample with previously identified best hyperparameters.\n",
    "\n",
    "model_rf_test_rougher = RandomForestRegressor(random_state=12345, n_estimators=19, max_depth=5)\n",
    "model_rf_test_final = RandomForestRegressor(random_state=12345, n_estimators=19, max_depth=5)\n",
    "model_rf_test_rougher.fit(features_train, target_train_rougher)\n",
    "model_rf_test_final.fit(features_train, target_train_final)\n",
    "rf_predictions_test_rougher = model_rf_test_rougher.predict(features_test)\n",
    "rf_predictions_test_final = model_rf_test_final.predict(features_test)\n",
    "rf_smape_rougher = smape(target_test_rougher, rf_predictions_test_rougher)\n",
    "rf_smape_final = smape(target_test_final, rf_predictions_test_final)\n",
    "rf_smape_total = smape_total(rf_smape_rougher, rf_smape_final)\n",
    "print(f'sMAPE on the test sample when using the Random Forest model: {rf_smape_total}')"
   ]
  },
  {
   "cell_type": "markdown",
   "metadata": {},
   "source": [
    "### Model Adequacy Test"
   ]
  },
  {
   "cell_type": "code",
   "execution_count": 38,
   "metadata": {},
   "outputs": [
    {
     "name": "stdout",
     "output_type": "stream",
     "text": [
      "sMAPE of the Dummy model: 9.8325\n"
     ]
    }
   ],
   "source": [
    "# We create a Dummy model to assess the adequacy of the model.\n",
    "\n",
    "dummy_model_rougher = DummyRegressor(strategy=\"mean\")\n",
    "dummy_model_final = DummyRegressor(strategy=\"mean\")\n",
    "dummy_model_rougher.fit(features_train, target_train_rougher)\n",
    "dummy_model_final.fit(features_train, target_train_final)\n",
    "dummy_predictions_model_rougher = dummy_model_rougher.predict(features_test)\n",
    "dummy_predictions_model_final = dummy_model_final.predict(features_test)\n",
    "dummy_smape_rougher = smape(target_test_rougher, dummy_predictions_model_rougher)\n",
    "dummy_smape_final = smape(target_test_final, dummy_predictions_model_final)\n",
    "dummy_smape_total = smape_total(dummy_smape_rougher, dummy_smape_final)\n",
    "print(f'sMAPE of the Dummy model: {dummy_smape_total}')"
   ]
  },
  {
   "cell_type": "markdown",
   "metadata": {},
   "source": [
    "## Conclusion"
   ]
  },
  {
   "cell_type": "markdown",
   "metadata": {},
   "source": [
    "Our task was to prepare a prototype machine learning model predicting the gold recovery coefficient from gold-bearing ore.\n",
    "\n",
    "An initial data analysis was conducted. A relatively small amount of missing data was detected (0.1-0.3% of all data). They were filled using the method of duplicating the previous value. The correctness of the enrichment efficiency calculation was verified. We calculated the mean absolute error between the efficiency of enrichment calculated by us and the value of the feature rougher.output.recovery - the value turned out to be small, meaning the enrichment efficiency was calculated correctly.\n",
    "\n",
    "It was confirmed that with each subsequent processing stage, the concentration of gold increases. The size of raw material granules after the flotation and primary cleaning stages in the training and test samples do not differ - there's no risk of the model being improperly evaluated. Also, anomalous values of some ore samples were identified, in which there is almost no concentration of any metals and salts. These samples were removed from the training database for more accurate model training.\n",
    "\n",
    "Three models were trained - Decision Tree, Random Forest, and Logistic Regression. When assessing quality using cross-validation, the Random Forest model showed an sMAPE closest to zero. When testing the model on the test sample, it showed an sMAPE result of 9.364. Moreover, the Random Forest model passed the adequacy check - the Dummy model shows a greater symmetric mean absolute percentage deviation than our trained model."
   ]
  }
 ],
 "metadata": {
  "ExecuteTimeLog": [
   {
    "duration": 1664,
    "start_time": "2023-02-13T19:23:01.004Z"
   },
   {
    "duration": 2204,
    "start_time": "2023-02-13T19:23:02.670Z"
   },
   {
    "duration": 4,
    "start_time": "2023-02-13T19:23:04.876Z"
   },
   {
    "duration": 163,
    "start_time": "2023-02-13T19:23:27.016Z"
   },
   {
    "duration": 1496,
    "start_time": "2023-02-15T07:56:37.899Z"
   },
   {
    "duration": 2057,
    "start_time": "2023-02-15T07:56:39.397Z"
   },
   {
    "duration": 6,
    "start_time": "2023-02-15T07:56:41.457Z"
   },
   {
    "duration": 3,
    "start_time": "2023-02-15T08:08:59.064Z"
   },
   {
    "duration": 14045,
    "start_time": "2023-02-15T08:09:03.655Z"
   },
   {
    "duration": 677,
    "start_time": "2023-02-15T08:09:25.315Z"
   },
   {
    "duration": 2553,
    "start_time": "2023-02-15T08:09:31.269Z"
   },
   {
    "duration": 155,
    "start_time": "2023-02-15T08:12:10.723Z"
   },
   {
    "duration": 3,
    "start_time": "2023-02-15T08:12:27.848Z"
   },
   {
    "duration": 1249,
    "start_time": "2023-02-15T08:12:29.553Z"
   },
   {
    "duration": 156234,
    "start_time": "2023-02-15T08:12:30.804Z"
   },
   {
    "duration": 30,
    "start_time": "2023-02-15T08:15:46.892Z"
   },
   {
    "duration": 61822,
    "start_time": "2023-02-15T08:15:52.268Z"
   },
   {
    "duration": 15,
    "start_time": "2023-02-15T08:17:20.614Z"
   },
   {
    "duration": 60253,
    "start_time": "2023-02-15T08:17:30.741Z"
   },
   {
    "duration": 31,
    "start_time": "2023-02-15T08:22:23.068Z"
   },
   {
    "duration": 31126,
    "start_time": "2023-02-15T08:22:44.196Z"
   },
   {
    "duration": 59691,
    "start_time": "2023-02-15T08:23:15.325Z"
   },
   {
    "duration": 2,
    "start_time": "2023-02-15T09:10:31.754Z"
   },
   {
    "duration": 5,
    "start_time": "2023-02-15T09:10:32.365Z"
   },
   {
    "duration": 16,
    "start_time": "2023-02-15T09:27:54.257Z"
   },
   {
    "duration": 7,
    "start_time": "2023-02-15T09:28:21.562Z"
   },
   {
    "duration": 16,
    "start_time": "2023-02-15T09:28:32.546Z"
   },
   {
    "duration": 17,
    "start_time": "2023-02-15T09:28:45.468Z"
   },
   {
    "duration": 17,
    "start_time": "2023-02-15T09:30:12.470Z"
   },
   {
    "duration": 44,
    "start_time": "2023-02-15T09:38:13.735Z"
   },
   {
    "duration": 12,
    "start_time": "2023-02-15T09:38:23.355Z"
   },
   {
    "duration": 13,
    "start_time": "2023-02-15T09:38:56.919Z"
   },
   {
    "duration": 13,
    "start_time": "2023-02-15T09:39:00.855Z"
   },
   {
    "duration": 11,
    "start_time": "2023-02-15T09:39:16.004Z"
   },
   {
    "duration": 11,
    "start_time": "2023-02-15T09:39:53.185Z"
   },
   {
    "duration": 2009,
    "start_time": "2023-02-15T09:40:16.311Z"
   },
   {
    "duration": 1587,
    "start_time": "2023-02-15T09:40:18.323Z"
   },
   {
    "duration": 59590,
    "start_time": "2023-02-15T09:40:19.912Z"
   },
   {
    "duration": 109,
    "start_time": "2023-02-15T09:41:26.108Z"
   },
   {
    "duration": 31762,
    "start_time": "2023-02-15T09:41:31.672Z"
   },
   {
    "duration": 60754,
    "start_time": "2023-02-15T09:42:03.449Z"
   },
   {
    "duration": 44,
    "start_time": "2023-02-15T09:43:04.205Z"
   },
   {
    "duration": 12,
    "start_time": "2023-02-15T09:43:04.250Z"
   },
   {
    "duration": 16,
    "start_time": "2023-02-15T09:43:13.517Z"
   },
   {
    "duration": 11,
    "start_time": "2023-02-15T09:43:28.080Z"
   },
   {
    "duration": 16,
    "start_time": "2023-02-15T09:43:34.617Z"
   },
   {
    "duration": 86,
    "start_time": "2023-02-15T10:13:03.017Z"
   },
   {
    "duration": 67,
    "start_time": "2023-02-15T10:13:33.776Z"
   },
   {
    "duration": 50,
    "start_time": "2023-02-15T10:13:46.476Z"
   },
   {
    "duration": 93,
    "start_time": "2023-02-15T10:14:46.093Z"
   },
   {
    "duration": 163,
    "start_time": "2023-02-15T10:15:08.243Z"
   },
   {
    "duration": 4,
    "start_time": "2023-02-15T13:50:06.461Z"
   },
   {
    "duration": 451,
    "start_time": "2023-02-15T13:50:07.383Z"
   },
   {
    "duration": 13452,
    "start_time": "2023-02-15T13:50:14.606Z"
   },
   {
    "duration": 1856,
    "start_time": "2023-02-15T13:50:33.099Z"
   },
   {
    "duration": 1639,
    "start_time": "2023-02-15T13:51:58.405Z"
   },
   {
    "duration": 63162,
    "start_time": "2023-02-15T13:52:04.332Z"
   },
   {
    "duration": 31234,
    "start_time": "2023-02-15T13:53:07.497Z"
   },
   {
    "duration": 58781,
    "start_time": "2023-02-15T13:53:38.733Z"
   },
   {
    "duration": 34,
    "start_time": "2023-02-15T13:54:37.517Z"
   },
   {
    "duration": 12,
    "start_time": "2023-02-15T13:54:37.553Z"
   },
   {
    "duration": 22,
    "start_time": "2023-02-15T13:55:32.854Z"
   },
   {
    "duration": 11,
    "start_time": "2023-02-15T13:55:33.186Z"
   },
   {
    "duration": 72,
    "start_time": "2023-02-15T13:55:34.281Z"
   },
   {
    "duration": 162,
    "start_time": "2023-02-15T13:55:47.430Z"
   },
   {
    "duration": 4,
    "start_time": "2023-02-15T13:56:07.303Z"
   },
   {
    "duration": 144,
    "start_time": "2023-02-15T13:57:16.498Z"
   },
   {
    "duration": 4,
    "start_time": "2023-02-15T13:57:27.473Z"
   },
   {
    "duration": 3,
    "start_time": "2023-02-15T13:58:42.497Z"
   },
   {
    "duration": 115,
    "start_time": "2023-02-15T13:58:57.905Z"
   },
   {
    "duration": 14,
    "start_time": "2023-02-15T13:59:23.910Z"
   },
   {
    "duration": 4,
    "start_time": "2023-02-15T14:00:13.713Z"
   },
   {
    "duration": 7,
    "start_time": "2023-02-15T14:00:19.732Z"
   },
   {
    "duration": 4,
    "start_time": "2023-02-15T14:05:38.341Z"
   },
   {
    "duration": 4,
    "start_time": "2023-02-15T14:07:23.188Z"
   },
   {
    "duration": 4,
    "start_time": "2023-02-15T14:07:27.577Z"
   },
   {
    "duration": 5,
    "start_time": "2023-02-15T14:07:34.011Z"
   },
   {
    "duration": 10,
    "start_time": "2023-02-15T14:07:59.675Z"
   },
   {
    "duration": 2,
    "start_time": "2023-02-15T14:08:02.820Z"
   },
   {
    "duration": 12,
    "start_time": "2023-02-15T14:08:03.473Z"
   },
   {
    "duration": 4,
    "start_time": "2023-02-15T14:08:19.790Z"
   },
   {
    "duration": 14,
    "start_time": "2023-02-15T14:10:29.550Z"
   },
   {
    "duration": 15,
    "start_time": "2023-02-15T14:10:49.452Z"
   },
   {
    "duration": 12,
    "start_time": "2023-02-15T14:26:53.147Z"
   },
   {
    "duration": 15,
    "start_time": "2023-02-15T14:41:50.592Z"
   },
   {
    "duration": 11,
    "start_time": "2023-02-15T15:36:12.031Z"
   },
   {
    "duration": 3,
    "start_time": "2023-02-15T15:36:15.091Z"
   },
   {
    "duration": 4,
    "start_time": "2023-02-15T15:36:15.344Z"
   },
   {
    "duration": 12,
    "start_time": "2023-02-15T15:37:00.038Z"
   },
   {
    "duration": 3,
    "start_time": "2023-02-15T15:40:31.923Z"
   },
   {
    "duration": 4,
    "start_time": "2023-02-15T15:40:37.951Z"
   },
   {
    "duration": 6,
    "start_time": "2023-02-15T15:52:50.918Z"
   },
   {
    "duration": 15,
    "start_time": "2023-02-15T15:53:03.102Z"
   },
   {
    "duration": 13,
    "start_time": "2023-02-15T16:00:58.751Z"
   },
   {
    "duration": 10,
    "start_time": "2023-02-15T16:01:10.103Z"
   },
   {
    "duration": 53,
    "start_time": "2023-02-15T16:01:28.719Z"
   },
   {
    "duration": 13,
    "start_time": "2023-02-15T16:01:42.438Z"
   },
   {
    "duration": 4,
    "start_time": "2023-02-15T16:02:39.628Z"
   },
   {
    "duration": 12,
    "start_time": "2023-02-15T16:02:49.197Z"
   },
   {
    "duration": 4,
    "start_time": "2023-02-15T16:02:56.852Z"
   },
   {
    "duration": 5,
    "start_time": "2023-02-15T16:03:03.445Z"
   },
   {
    "duration": 13593,
    "start_time": "2023-02-15T18:50:13.444Z"
   },
   {
    "duration": 2240,
    "start_time": "2023-02-15T18:50:27.040Z"
   },
   {
    "duration": 1227,
    "start_time": "2023-02-15T18:50:29.282Z"
   },
   {
    "duration": 57850,
    "start_time": "2023-02-15T18:50:30.511Z"
   },
   {
    "duration": 31053,
    "start_time": "2023-02-15T18:51:28.363Z"
   },
   {
    "duration": 15185,
    "start_time": "2023-02-16T16:19:18.376Z"
   },
   {
    "duration": 2440,
    "start_time": "2023-02-16T16:19:33.564Z"
   },
   {
    "duration": 1793,
    "start_time": "2023-02-16T16:19:36.006Z"
   },
   {
    "duration": 61248,
    "start_time": "2023-02-16T16:19:37.801Z"
   },
   {
    "duration": 33750,
    "start_time": "2023-02-16T16:20:39.051Z"
   },
   {
    "duration": 62833,
    "start_time": "2023-02-16T16:21:12.803Z"
   },
   {
    "duration": 20,
    "start_time": "2023-02-16T16:22:15.639Z"
   },
   {
    "duration": 75,
    "start_time": "2023-02-16T16:22:15.661Z"
   },
   {
    "duration": 4,
    "start_time": "2023-02-16T16:22:15.739Z"
   },
   {
    "duration": 15,
    "start_time": "2023-02-16T16:22:15.745Z"
   },
   {
    "duration": 5,
    "start_time": "2023-02-16T16:22:15.762Z"
   },
   {
    "duration": 8,
    "start_time": "2023-02-16T16:22:15.769Z"
   },
   {
    "duration": 65,
    "start_time": "2023-02-16T16:22:15.779Z"
   },
   {
    "duration": 5,
    "start_time": "2023-02-16T16:22:15.847Z"
   },
   {
    "duration": 12957,
    "start_time": "2023-02-17T07:54:40.265Z"
   },
   {
    "duration": 2037,
    "start_time": "2023-02-17T07:54:53.224Z"
   },
   {
    "duration": 1792,
    "start_time": "2023-02-17T07:54:55.263Z"
   },
   {
    "duration": 55462,
    "start_time": "2023-02-17T07:54:57.057Z"
   },
   {
    "duration": 29294,
    "start_time": "2023-02-17T07:55:52.521Z"
   },
   {
    "duration": 55125,
    "start_time": "2023-02-17T07:56:21.816Z"
   },
   {
    "duration": 12,
    "start_time": "2023-02-17T07:57:16.948Z"
   },
   {
    "duration": 13,
    "start_time": "2023-02-17T07:57:16.961Z"
   },
   {
    "duration": 3,
    "start_time": "2023-02-17T07:57:16.976Z"
   },
   {
    "duration": 11,
    "start_time": "2023-02-17T07:57:16.981Z"
   },
   {
    "duration": 5,
    "start_time": "2023-02-17T07:57:17.049Z"
   },
   {
    "duration": 8,
    "start_time": "2023-02-17T07:57:17.055Z"
   },
   {
    "duration": 11,
    "start_time": "2023-02-17T07:57:17.064Z"
   },
   {
    "duration": 5,
    "start_time": "2023-02-17T07:57:17.076Z"
   },
   {
    "duration": 958,
    "start_time": "2023-02-17T08:17:26.767Z"
   },
   {
    "duration": 16,
    "start_time": "2023-02-17T08:17:51.644Z"
   },
   {
    "duration": 8,
    "start_time": "2023-02-17T08:18:12.672Z"
   },
   {
    "duration": 883,
    "start_time": "2023-02-17T08:18:18.220Z"
   },
   {
    "duration": 9,
    "start_time": "2023-02-17T08:18:25.674Z"
   },
   {
    "duration": 16,
    "start_time": "2023-02-17T08:19:15.590Z"
   },
   {
    "duration": 3,
    "start_time": "2023-02-17T08:19:19.906Z"
   },
   {
    "duration": 17,
    "start_time": "2023-02-17T08:19:20.338Z"
   },
   {
    "duration": 253,
    "start_time": "2023-02-17T08:19:29.338Z"
   },
   {
    "duration": 10,
    "start_time": "2023-02-17T08:22:50.447Z"
   },
   {
    "duration": 4,
    "start_time": "2023-02-17T08:22:53.638Z"
   },
   {
    "duration": 4,
    "start_time": "2023-02-17T08:22:58.340Z"
   },
   {
    "duration": 275,
    "start_time": "2023-02-17T08:22:58.526Z"
   },
   {
    "duration": 4,
    "start_time": "2023-02-17T08:23:26.210Z"
   },
   {
    "duration": 267,
    "start_time": "2023-02-17T08:23:28.401Z"
   },
   {
    "duration": 5,
    "start_time": "2023-02-17T08:24:31.965Z"
   },
   {
    "duration": 294,
    "start_time": "2023-02-17T08:24:32.595Z"
   },
   {
    "duration": 53,
    "start_time": "2023-02-17T08:26:04.946Z"
   },
   {
    "duration": 354,
    "start_time": "2023-02-17T08:26:05.191Z"
   },
   {
    "duration": 63,
    "start_time": "2023-02-17T08:26:17.934Z"
   },
   {
    "duration": 4,
    "start_time": "2023-02-17T08:27:04.006Z"
   },
   {
    "duration": 271,
    "start_time": "2023-02-17T08:27:06.623Z"
   },
   {
    "duration": 54,
    "start_time": "2023-02-17T08:27:13.252Z"
   },
   {
    "duration": 4,
    "start_time": "2023-02-17T08:27:33.045Z"
   },
   {
    "duration": 141,
    "start_time": "2023-02-17T08:27:33.329Z"
   },
   {
    "duration": 4,
    "start_time": "2023-02-17T08:28:01.681Z"
   },
   {
    "duration": 131,
    "start_time": "2023-02-17T08:28:03.296Z"
   },
   {
    "duration": 4,
    "start_time": "2023-02-17T08:28:17.775Z"
   },
   {
    "duration": 280,
    "start_time": "2023-02-17T08:28:18.252Z"
   },
   {
    "duration": 4,
    "start_time": "2023-02-17T08:28:52.575Z"
   },
   {
    "duration": 134,
    "start_time": "2023-02-17T08:28:53.760Z"
   },
   {
    "duration": 4,
    "start_time": "2023-02-17T08:28:58.859Z"
   },
   {
    "duration": 276,
    "start_time": "2023-02-17T08:28:59.882Z"
   },
   {
    "duration": 4,
    "start_time": "2023-02-17T08:29:11.339Z"
   },
   {
    "duration": 280,
    "start_time": "2023-02-17T08:29:12.304Z"
   },
   {
    "duration": 322,
    "start_time": "2023-02-17T08:29:45.022Z"
   },
   {
    "duration": 4,
    "start_time": "2023-02-17T08:30:47.802Z"
   },
   {
    "duration": 295,
    "start_time": "2023-02-17T08:30:48.128Z"
   },
   {
    "duration": 314,
    "start_time": "2023-02-17T08:30:49.355Z"
   },
   {
    "duration": 12,
    "start_time": "2023-02-17T08:31:23.348Z"
   },
   {
    "duration": 301,
    "start_time": "2023-02-17T08:31:27.234Z"
   },
   {
    "duration": 4,
    "start_time": "2023-02-17T08:37:50.296Z"
   },
   {
    "duration": 317,
    "start_time": "2023-02-17T08:37:50.521Z"
   },
   {
    "duration": 3,
    "start_time": "2023-02-17T08:37:57.017Z"
   },
   {
    "duration": 286,
    "start_time": "2023-02-17T08:37:57.180Z"
   },
   {
    "duration": 327,
    "start_time": "2023-02-17T08:38:00.852Z"
   },
   {
    "duration": 330,
    "start_time": "2023-02-17T08:38:01.835Z"
   },
   {
    "duration": 9,
    "start_time": "2023-02-17T08:38:27.167Z"
   },
   {
    "duration": 5,
    "start_time": "2023-02-17T08:38:28.281Z"
   },
   {
    "duration": 297,
    "start_time": "2023-02-17T08:38:28.899Z"
   },
   {
    "duration": 7,
    "start_time": "2023-02-17T08:39:06.714Z"
   },
   {
    "duration": 4,
    "start_time": "2023-02-17T08:39:08.495Z"
   },
   {
    "duration": 283,
    "start_time": "2023-02-17T08:39:08.983Z"
   },
   {
    "duration": 316,
    "start_time": "2023-02-17T08:39:09.947Z"
   },
   {
    "duration": 314,
    "start_time": "2023-02-17T08:39:10.311Z"
   },
   {
    "duration": 4,
    "start_time": "2023-02-17T08:39:21.707Z"
   },
   {
    "duration": 288,
    "start_time": "2023-02-17T08:39:22.019Z"
   },
   {
    "duration": 303,
    "start_time": "2023-02-17T08:39:24.113Z"
   },
   {
    "duration": 354,
    "start_time": "2023-02-17T08:39:25.157Z"
   },
   {
    "duration": 594,
    "start_time": "2023-02-17T08:40:36.751Z"
   },
   {
    "duration": 15,
    "start_time": "2023-02-17T08:41:21.589Z"
   },
   {
    "duration": 162,
    "start_time": "2023-02-17T08:41:58.261Z"
   },
   {
    "duration": 180,
    "start_time": "2023-02-17T08:42:04.689Z"
   },
   {
    "duration": 167,
    "start_time": "2023-02-17T08:42:09.742Z"
   },
   {
    "duration": 304,
    "start_time": "2023-02-17T08:42:18.399Z"
   },
   {
    "duration": 491,
    "start_time": "2023-02-17T08:42:22.184Z"
   },
   {
    "duration": 349,
    "start_time": "2023-02-17T08:42:35.436Z"
   },
   {
    "duration": 4,
    "start_time": "2023-02-17T08:43:18.082Z"
   },
   {
    "duration": 1959,
    "start_time": "2023-02-17T08:43:21.906Z"
   },
   {
    "duration": 456,
    "start_time": "2023-02-17T08:45:06.522Z"
   },
   {
    "duration": 512,
    "start_time": "2023-02-17T08:46:18.447Z"
   },
   {
    "duration": 513,
    "start_time": "2023-02-17T08:46:29.838Z"
   },
   {
    "duration": 649,
    "start_time": "2023-02-17T08:47:06.889Z"
   },
   {
    "duration": 473,
    "start_time": "2023-02-17T08:47:21.175Z"
   },
   {
    "duration": 672,
    "start_time": "2023-02-17T08:47:54.946Z"
   },
   {
    "duration": 531,
    "start_time": "2023-02-17T08:48:07.361Z"
   },
   {
    "duration": 637,
    "start_time": "2023-02-17T08:49:14.015Z"
   },
   {
    "duration": 445,
    "start_time": "2023-02-17T08:49:22.779Z"
   },
   {
    "duration": 489,
    "start_time": "2023-02-17T08:49:28.506Z"
   },
   {
    "duration": 618,
    "start_time": "2023-02-17T08:53:13.313Z"
   },
   {
    "duration": 558,
    "start_time": "2023-02-17T08:53:30.525Z"
   },
   {
    "duration": 535,
    "start_time": "2023-02-17T08:53:42.371Z"
   },
   {
    "duration": 497,
    "start_time": "2023-02-17T08:53:54.100Z"
   },
   {
    "duration": 704,
    "start_time": "2023-02-17T08:54:16.027Z"
   },
   {
    "duration": 4,
    "start_time": "2023-02-17T08:58:31.502Z"
   },
   {
    "duration": 11,
    "start_time": "2023-02-17T08:59:02.313Z"
   },
   {
    "duration": 464,
    "start_time": "2023-02-17T10:14:01.165Z"
   },
   {
    "duration": 8,
    "start_time": "2023-02-17T10:14:20.463Z"
   },
   {
    "duration": 9,
    "start_time": "2023-02-17T10:14:30.252Z"
   },
   {
    "duration": 11,
    "start_time": "2023-02-17T10:14:34.289Z"
   },
   {
    "duration": 441,
    "start_time": "2023-02-17T10:17:24.480Z"
   },
   {
    "duration": 11,
    "start_time": "2023-02-17T10:17:28.254Z"
   },
   {
    "duration": 445,
    "start_time": "2023-02-17T10:18:03.078Z"
   },
   {
    "duration": 4,
    "start_time": "2023-02-17T10:26:09.038Z"
   },
   {
    "duration": 44,
    "start_time": "2023-02-17T10:27:29.763Z"
   },
   {
    "duration": 12,
    "start_time": "2023-02-17T10:27:33.619Z"
   },
   {
    "duration": 11,
    "start_time": "2023-02-17T10:27:56.083Z"
   },
   {
    "duration": 13,
    "start_time": "2023-02-17T10:28:05.738Z"
   },
   {
    "duration": 14,
    "start_time": "2023-02-17T10:28:42.888Z"
   },
   {
    "duration": 5,
    "start_time": "2023-02-17T10:28:54.605Z"
   },
   {
    "duration": 12,
    "start_time": "2023-02-17T10:29:04.836Z"
   },
   {
    "duration": 6,
    "start_time": "2023-02-17T10:29:34.779Z"
   },
   {
    "duration": 6,
    "start_time": "2023-02-17T10:29:55.725Z"
   },
   {
    "duration": 6,
    "start_time": "2023-02-17T10:30:27.517Z"
   },
   {
    "duration": 16,
    "start_time": "2023-02-17T11:13:27.843Z"
   },
   {
    "duration": 199,
    "start_time": "2023-02-17T11:16:34.233Z"
   },
   {
    "duration": 296,
    "start_time": "2023-02-17T11:17:39.635Z"
   },
   {
    "duration": 5,
    "start_time": "2023-02-17T11:18:49.965Z"
   },
   {
    "duration": 273,
    "start_time": "2023-02-17T11:18:50.384Z"
   },
   {
    "duration": 288,
    "start_time": "2023-02-17T11:18:50.735Z"
   },
   {
    "duration": 310,
    "start_time": "2023-02-17T11:18:51.025Z"
   },
   {
    "duration": 459,
    "start_time": "2023-02-17T11:18:51.543Z"
   },
   {
    "duration": 448,
    "start_time": "2023-02-17T11:18:53.334Z"
   },
   {
    "duration": 10,
    "start_time": "2023-02-17T11:18:54.688Z"
   },
   {
    "duration": 9,
    "start_time": "2023-02-17T11:18:55.787Z"
   },
   {
    "duration": 489,
    "start_time": "2023-02-17T11:18:56.788Z"
   },
   {
    "duration": 48,
    "start_time": "2023-02-17T11:46:23.799Z"
   },
   {
    "duration": 14,
    "start_time": "2023-02-17T11:46:37.257Z"
   },
   {
    "duration": 31,
    "start_time": "2023-02-17T11:47:33.823Z"
   },
   {
    "duration": 12,
    "start_time": "2023-02-17T11:48:04.127Z"
   },
   {
    "duration": 10,
    "start_time": "2023-02-17T11:48:14.053Z"
   },
   {
    "duration": 8,
    "start_time": "2023-02-17T11:52:56.503Z"
   },
   {
    "duration": 250,
    "start_time": "2023-02-17T11:52:58.455Z"
   },
   {
    "duration": 10,
    "start_time": "2023-02-17T11:53:01.882Z"
   },
   {
    "duration": 11,
    "start_time": "2023-02-17T11:53:24.545Z"
   },
   {
    "duration": 119,
    "start_time": "2023-02-17T11:53:44.064Z"
   },
   {
    "duration": 41,
    "start_time": "2023-02-17T11:53:52.205Z"
   },
   {
    "duration": 48,
    "start_time": "2023-02-17T11:54:10.822Z"
   },
   {
    "duration": 16,
    "start_time": "2023-02-17T11:54:25.425Z"
   },
   {
    "duration": 12,
    "start_time": "2023-02-17T11:55:22.767Z"
   },
   {
    "duration": 13,
    "start_time": "2023-02-17T11:55:37.775Z"
   },
   {
    "duration": 12,
    "start_time": "2023-02-17T11:55:43.781Z"
   },
   {
    "duration": 11,
    "start_time": "2023-02-17T11:55:47.660Z"
   },
   {
    "duration": 13,
    "start_time": "2023-02-17T11:56:01.324Z"
   },
   {
    "duration": 12,
    "start_time": "2023-02-17T11:56:06.255Z"
   },
   {
    "duration": 13,
    "start_time": "2023-02-17T11:56:10.178Z"
   },
   {
    "duration": 21,
    "start_time": "2023-02-17T11:58:06.883Z"
   },
   {
    "duration": 22,
    "start_time": "2023-02-17T11:58:19.212Z"
   },
   {
    "duration": 14,
    "start_time": "2023-02-17T11:58:23.120Z"
   },
   {
    "duration": 10,
    "start_time": "2023-02-17T11:58:41.498Z"
   },
   {
    "duration": 13,
    "start_time": "2023-02-17T11:58:46.531Z"
   },
   {
    "duration": 10,
    "start_time": "2023-02-17T11:58:59.536Z"
   },
   {
    "duration": 8,
    "start_time": "2023-02-17T11:59:13.278Z"
   },
   {
    "duration": 14,
    "start_time": "2023-02-17T11:59:28.074Z"
   },
   {
    "duration": 57,
    "start_time": "2023-02-17T11:59:51.526Z"
   },
   {
    "duration": 14,
    "start_time": "2023-02-17T11:59:57.048Z"
   },
   {
    "duration": 53,
    "start_time": "2023-02-17T11:59:58.759Z"
   },
   {
    "duration": 15,
    "start_time": "2023-02-17T12:00:07.225Z"
   },
   {
    "duration": 13,
    "start_time": "2023-02-17T12:00:13.678Z"
   },
   {
    "duration": 15,
    "start_time": "2023-02-17T12:00:21.088Z"
   },
   {
    "duration": 19,
    "start_time": "2023-02-17T12:00:45.221Z"
   },
   {
    "duration": 10,
    "start_time": "2023-02-17T12:01:06.957Z"
   },
   {
    "duration": 8,
    "start_time": "2023-02-17T12:01:29.188Z"
   },
   {
    "duration": 7,
    "start_time": "2023-02-17T12:01:43.714Z"
   },
   {
    "duration": 8,
    "start_time": "2023-02-17T12:01:56.181Z"
   },
   {
    "duration": 8,
    "start_time": "2023-02-17T12:02:07.005Z"
   },
   {
    "duration": 8,
    "start_time": "2023-02-17T12:06:21.784Z"
   },
   {
    "duration": 3,
    "start_time": "2023-02-17T12:46:04.868Z"
   },
   {
    "duration": 3,
    "start_time": "2023-02-17T12:46:30.209Z"
   },
   {
    "duration": 4,
    "start_time": "2023-02-17T12:46:56.199Z"
   },
   {
    "duration": 11,
    "start_time": "2023-02-17T12:47:07.247Z"
   },
   {
    "duration": 5,
    "start_time": "2023-02-17T12:47:18.988Z"
   },
   {
    "duration": 20,
    "start_time": "2023-02-17T12:47:18.995Z"
   },
   {
    "duration": 11,
    "start_time": "2023-02-17T12:47:51.623Z"
   },
   {
    "duration": 291,
    "start_time": "2023-02-17T12:47:54.061Z"
   },
   {
    "duration": 5,
    "start_time": "2023-02-17T12:48:07.494Z"
   },
   {
    "duration": 11,
    "start_time": "2023-02-17T12:48:08.041Z"
   },
   {
    "duration": 894,
    "start_time": "2023-02-17T12:56:53.581Z"
   },
   {
    "duration": 4,
    "start_time": "2023-02-17T13:14:00.991Z"
   },
   {
    "duration": 4,
    "start_time": "2023-02-17T13:14:01.181Z"
   },
   {
    "duration": 19,
    "start_time": "2023-02-17T13:26:17.396Z"
   },
   {
    "duration": 38,
    "start_time": "2023-02-17T13:26:58.489Z"
   },
   {
    "duration": 88,
    "start_time": "2023-02-17T13:27:05.835Z"
   },
   {
    "duration": 23,
    "start_time": "2023-02-17T13:27:18.609Z"
   },
   {
    "duration": 4,
    "start_time": "2023-02-17T13:27:28.392Z"
   },
   {
    "duration": 21,
    "start_time": "2023-02-17T13:28:38.458Z"
   },
   {
    "duration": 4,
    "start_time": "2023-02-17T13:28:44.263Z"
   },
   {
    "duration": 26,
    "start_time": "2023-02-17T13:30:08.460Z"
   },
   {
    "duration": 21,
    "start_time": "2023-02-17T13:30:39.713Z"
   },
   {
    "duration": 19,
    "start_time": "2023-02-17T13:31:22.859Z"
   },
   {
    "duration": 81,
    "start_time": "2023-02-17T13:31:39.113Z"
   },
   {
    "duration": 11,
    "start_time": "2023-02-17T13:31:44.114Z"
   },
   {
    "duration": 4,
    "start_time": "2023-02-17T13:32:06.215Z"
   },
   {
    "duration": 7,
    "start_time": "2023-02-17T13:32:10.960Z"
   },
   {
    "duration": 11,
    "start_time": "2023-02-17T13:33:08.710Z"
   },
   {
    "duration": 15,
    "start_time": "2023-02-17T13:33:14.068Z"
   },
   {
    "duration": 16,
    "start_time": "2023-02-17T13:36:27.905Z"
   },
   {
    "duration": 4,
    "start_time": "2023-02-17T13:36:35.539Z"
   },
   {
    "duration": 83,
    "start_time": "2023-02-17T13:37:25.250Z"
   },
   {
    "duration": 16,
    "start_time": "2023-02-17T13:38:21.296Z"
   },
   {
    "duration": 4,
    "start_time": "2023-02-17T13:38:21.802Z"
   },
   {
    "duration": 8,
    "start_time": "2023-02-17T13:41:21.092Z"
   },
   {
    "duration": 9,
    "start_time": "2023-02-17T13:41:22.175Z"
   },
   {
    "duration": 4,
    "start_time": "2023-02-17T13:41:23.032Z"
   },
   {
    "duration": 8,
    "start_time": "2023-02-17T13:42:56.422Z"
   },
   {
    "duration": 10,
    "start_time": "2023-02-17T13:42:57.873Z"
   },
   {
    "duration": 5,
    "start_time": "2023-02-17T13:42:58.980Z"
   },
   {
    "duration": 11,
    "start_time": "2023-02-17T14:00:23.686Z"
   },
   {
    "duration": 38,
    "start_time": "2023-02-17T14:00:38.684Z"
   },
   {
    "duration": 23,
    "start_time": "2023-02-17T14:00:46.216Z"
   },
   {
    "duration": 20,
    "start_time": "2023-02-17T14:06:08.189Z"
   },
   {
    "duration": 28,
    "start_time": "2023-02-17T14:37:48.108Z"
   },
   {
    "duration": 18,
    "start_time": "2023-02-17T14:40:56.961Z"
   },
   {
    "duration": 16,
    "start_time": "2023-02-17T14:41:02.091Z"
   },
   {
    "duration": 16,
    "start_time": "2023-02-17T14:41:32.483Z"
   },
   {
    "duration": 15,
    "start_time": "2023-02-17T14:42:07.144Z"
   },
   {
    "duration": 17,
    "start_time": "2023-02-17T14:42:15.219Z"
   },
   {
    "duration": 2183,
    "start_time": "2023-02-17T14:42:38.045Z"
   },
   {
    "duration": 1857,
    "start_time": "2023-02-17T14:42:40.231Z"
   },
   {
    "duration": 1272,
    "start_time": "2023-02-17T14:42:42.090Z"
   },
   {
    "duration": 54631,
    "start_time": "2023-02-17T14:42:43.363Z"
   },
   {
    "duration": 29019,
    "start_time": "2023-02-17T14:43:37.997Z"
   },
   {
    "duration": 54900,
    "start_time": "2023-02-17T14:44:07.018Z"
   },
   {
    "duration": 36,
    "start_time": "2023-02-17T14:45:01.921Z"
   },
   {
    "duration": 11,
    "start_time": "2023-02-17T14:45:01.959Z"
   },
   {
    "duration": 29,
    "start_time": "2023-02-17T14:45:01.971Z"
   },
   {
    "duration": 49,
    "start_time": "2023-02-17T14:45:02.002Z"
   },
   {
    "duration": 37,
    "start_time": "2023-02-17T14:45:02.053Z"
   },
   {
    "duration": 17,
    "start_time": "2023-02-17T14:45:02.091Z"
   },
   {
    "duration": 12,
    "start_time": "2023-02-17T14:45:02.110Z"
   },
   {
    "duration": 294,
    "start_time": "2023-02-17T14:45:02.125Z"
   },
   {
    "duration": 271,
    "start_time": "2023-02-17T14:45:02.421Z"
   },
   {
    "duration": 296,
    "start_time": "2023-02-17T14:45:02.694Z"
   },
   {
    "duration": 468,
    "start_time": "2023-02-17T14:45:02.992Z"
   },
   {
    "duration": 528,
    "start_time": "2023-02-17T14:45:03.462Z"
   },
   {
    "duration": 11,
    "start_time": "2023-02-17T14:45:03.991Z"
   },
   {
    "duration": 10,
    "start_time": "2023-02-17T14:45:04.003Z"
   },
   {
    "duration": 288,
    "start_time": "2023-02-17T14:45:04.014Z"
   },
   {
    "duration": 17,
    "start_time": "2023-02-17T14:45:04.304Z"
   },
   {
    "duration": 4,
    "start_time": "2023-02-17T14:45:04.323Z"
   },
   {
    "duration": 39,
    "start_time": "2023-02-17T14:45:04.328Z"
   },
   {
    "duration": 4,
    "start_time": "2023-02-17T14:45:04.368Z"
   },
   {
    "duration": 15,
    "start_time": "2023-02-17T14:45:04.374Z"
   },
   {
    "duration": 14,
    "start_time": "2023-02-17T14:45:04.390Z"
   },
   {
    "duration": 4,
    "start_time": "2023-02-17T14:45:04.406Z"
   },
   {
    "duration": 14,
    "start_time": "2023-02-17T14:45:04.412Z"
   },
   {
    "duration": 19,
    "start_time": "2023-02-17T14:45:04.428Z"
   },
   {
    "duration": 24,
    "start_time": "2023-02-17T14:45:04.449Z"
   },
   {
    "duration": 32,
    "start_time": "2023-02-17T14:45:04.475Z"
   },
   {
    "duration": 1180,
    "start_time": "2023-02-17T14:55:54.168Z"
   },
   {
    "duration": 2586,
    "start_time": "2023-02-17T14:56:40.164Z"
   },
   {
    "duration": 4,
    "start_time": "2023-02-17T14:56:46.478Z"
   },
   {
    "duration": 3,
    "start_time": "2023-02-17T14:56:47.374Z"
   },
   {
    "duration": 2042,
    "start_time": "2023-02-17T14:58:01.914Z"
   },
   {
    "duration": 270,
    "start_time": "2023-02-17T14:58:04.049Z"
   },
   {
    "duration": 7906,
    "start_time": "2023-02-17T14:58:24.396Z"
   },
   {
    "duration": 15,
    "start_time": "2023-02-17T15:12:09.107Z"
   },
   {
    "duration": 5,
    "start_time": "2023-02-17T15:12:28.359Z"
   },
   {
    "duration": 104593,
    "start_time": "2023-02-17T15:12:34.046Z"
   },
   {
    "duration": 2213,
    "start_time": "2023-02-17T15:14:30.025Z"
   },
   {
    "duration": 8011,
    "start_time": "2023-02-17T15:14:52.230Z"
   },
   {
    "duration": 5,
    "start_time": "2023-02-17T16:26:53.071Z"
   },
   {
    "duration": 4,
    "start_time": "2023-02-17T16:27:42.196Z"
   },
   {
    "duration": 2790,
    "start_time": "2023-02-17T16:31:17.272Z"
   },
   {
    "duration": 2535,
    "start_time": "2023-02-17T16:32:36.313Z"
   },
   {
    "duration": 2,
    "start_time": "2023-02-17T16:33:16.838Z"
   },
   {
    "duration": 2196,
    "start_time": "2023-02-17T16:34:15.952Z"
   },
   {
    "duration": 16467,
    "start_time": "2023-02-17T16:36:28.282Z"
   },
   {
    "duration": 14381,
    "start_time": "2023-02-17T16:37:00.467Z"
   },
   {
    "duration": 17208,
    "start_time": "2023-02-17T16:38:29.910Z"
   },
   {
    "duration": 14,
    "start_time": "2023-02-17T16:42:27.754Z"
   },
   {
    "duration": 659,
    "start_time": "2023-02-17T16:45:42.819Z"
   },
   {
    "duration": 647,
    "start_time": "2023-02-17T16:46:02.580Z"
   },
   {
    "duration": 715,
    "start_time": "2023-02-17T16:46:32.694Z"
   },
   {
    "duration": 3216,
    "start_time": "2023-02-17T16:47:24.044Z"
   },
   {
    "duration": 660,
    "start_time": "2023-02-17T16:48:00.738Z"
   },
   {
    "duration": 31459,
    "start_time": "2023-02-17T16:48:41.133Z"
   },
   {
    "duration": 30052,
    "start_time": "2023-02-17T16:49:27.658Z"
   },
   {
    "duration": 18033,
    "start_time": "2023-02-17T16:52:24.966Z"
   },
   {
    "duration": 31306,
    "start_time": "2023-02-17T16:53:13.414Z"
   },
   {
    "duration": 4321,
    "start_time": "2023-02-17T16:58:41.667Z"
   },
   {
    "duration": 30388,
    "start_time": "2023-02-17T16:58:48.866Z"
   },
   {
    "duration": 3128,
    "start_time": "2023-02-17T17:00:25.911Z"
   },
   {
    "duration": 43552,
    "start_time": "2023-02-17T17:01:28.044Z"
   },
   {
    "duration": 18,
    "start_time": "2023-02-17T17:04:16.763Z"
   },
   {
    "duration": 2622508,
    "start_time": "2023-02-17T17:04:50.310Z"
   },
   {
    "duration": 7568,
    "start_time": "2023-02-17T18:13:09.220Z"
   },
   {
    "duration": 7630,
    "start_time": "2023-02-17T18:19:20.573Z"
   },
   {
    "duration": 5,
    "start_time": "2023-02-17T18:22:55.856Z"
   },
   {
    "duration": 4,
    "start_time": "2023-02-17T18:24:24.777Z"
   },
   {
    "duration": 4,
    "start_time": "2023-02-17T18:24:32.274Z"
   },
   {
    "duration": 5,
    "start_time": "2023-02-17T18:24:38.205Z"
   },
   {
    "duration": 5,
    "start_time": "2023-02-17T18:25:10.202Z"
   },
   {
    "duration": 15,
    "start_time": "2023-02-17T18:27:26.127Z"
   },
   {
    "duration": 4,
    "start_time": "2023-02-17T18:27:36.137Z"
   },
   {
    "duration": 4,
    "start_time": "2023-02-17T18:27:40.430Z"
   },
   {
    "duration": 7,
    "start_time": "2023-02-17T18:27:48.056Z"
   },
   {
    "duration": 3,
    "start_time": "2023-02-17T18:27:53.400Z"
   },
   {
    "duration": 3,
    "start_time": "2023-02-17T18:27:54.284Z"
   },
   {
    "duration": 7,
    "start_time": "2023-02-17T18:27:54.890Z"
   },
   {
    "duration": 18,
    "start_time": "2023-02-17T18:28:02.612Z"
   },
   {
    "duration": 5,
    "start_time": "2023-02-17T18:28:09.136Z"
   },
   {
    "duration": 7644,
    "start_time": "2023-02-17T18:28:15.896Z"
   },
   {
    "duration": 7658,
    "start_time": "2023-02-17T18:28:35.838Z"
   },
   {
    "duration": 7820,
    "start_time": "2023-02-17T18:29:01.186Z"
   },
   {
    "duration": 7676,
    "start_time": "2023-02-17T18:29:20.965Z"
   },
   {
    "duration": 5,
    "start_time": "2023-02-17T18:35:22.121Z"
   },
   {
    "duration": 16,
    "start_time": "2023-02-17T18:40:44.135Z"
   },
   {
    "duration": 10,
    "start_time": "2023-02-17T18:40:57.057Z"
   },
   {
    "duration": 10,
    "start_time": "2023-02-17T18:41:06.381Z"
   },
   {
    "duration": 10,
    "start_time": "2023-02-17T18:41:12.555Z"
   },
   {
    "duration": 10,
    "start_time": "2023-02-17T18:41:27.367Z"
   },
   {
    "duration": 2,
    "start_time": "2023-02-17T18:49:45.984Z"
   },
   {
    "duration": 4,
    "start_time": "2023-02-17T18:49:50.315Z"
   },
   {
    "duration": 5,
    "start_time": "2023-02-17T18:52:04.570Z"
   },
   {
    "duration": 770,
    "start_time": "2023-02-17T19:02:07.488Z"
   },
   {
    "duration": 16,
    "start_time": "2023-02-17T19:02:22.456Z"
   },
   {
    "duration": 17,
    "start_time": "2023-02-17T19:03:29.418Z"
   },
   {
    "duration": 22,
    "start_time": "2023-02-17T19:03:39.386Z"
   },
   {
    "duration": 15,
    "start_time": "2023-02-17T19:03:43.516Z"
   },
   {
    "duration": 8,
    "start_time": "2023-02-17T19:49:10.753Z"
   },
   {
    "duration": 3,
    "start_time": "2023-02-17T19:58:10.090Z"
   },
   {
    "duration": 7096,
    "start_time": "2023-02-17T20:00:37.566Z"
   },
   {
    "duration": 9,
    "start_time": "2023-02-17T20:01:51.803Z"
   },
   {
    "duration": 8,
    "start_time": "2023-02-17T20:02:12.565Z"
   },
   {
    "duration": 450,
    "start_time": "2023-02-17T20:21:35.954Z"
   },
   {
    "duration": 282,
    "start_time": "2023-02-17T20:26:55.809Z"
   },
   {
    "duration": 1988,
    "start_time": "2023-02-17T20:27:01.092Z"
   },
   {
    "duration": 267,
    "start_time": "2023-02-17T20:27:09.158Z"
   },
   {
    "duration": 63,
    "start_time": "2023-02-18T08:44:45.162Z"
   },
   {
    "duration": 14972,
    "start_time": "2023-02-18T12:00:11.941Z"
   },
   {
    "duration": 2418,
    "start_time": "2023-02-18T12:00:26.915Z"
   },
   {
    "duration": 1904,
    "start_time": "2023-02-18T12:00:29.335Z"
   },
   {
    "duration": 61852,
    "start_time": "2023-02-18T12:00:31.241Z"
   },
   {
    "duration": 32710,
    "start_time": "2023-02-18T12:01:33.094Z"
   },
   {
    "duration": 61764,
    "start_time": "2023-02-18T12:02:05.806Z"
   },
   {
    "duration": 20,
    "start_time": "2023-02-18T12:03:07.573Z"
   },
   {
    "duration": 50,
    "start_time": "2023-02-18T12:03:07.595Z"
   },
   {
    "duration": 12,
    "start_time": "2023-02-18T12:03:07.647Z"
   },
   {
    "duration": 13,
    "start_time": "2023-02-18T12:03:07.662Z"
   },
   {
    "duration": 9,
    "start_time": "2023-02-18T12:03:07.677Z"
   },
   {
    "duration": 53,
    "start_time": "2023-02-18T12:03:07.688Z"
   },
   {
    "duration": 15,
    "start_time": "2023-02-18T12:03:07.743Z"
   },
   {
    "duration": 431,
    "start_time": "2023-02-18T12:03:07.760Z"
   },
   {
    "duration": 6,
    "start_time": "2023-02-18T12:06:18.816Z"
   },
   {
    "duration": 52,
    "start_time": "2023-02-18T12:25:36.172Z"
   },
   {
    "duration": 4097,
    "start_time": "2023-02-18T12:26:01.417Z"
   },
   {
    "duration": 424,
    "start_time": "2023-02-18T12:27:22.454Z"
   },
   {
    "duration": 381,
    "start_time": "2023-02-18T12:30:36.535Z"
   },
   {
    "duration": 431,
    "start_time": "2023-02-18T12:32:06.798Z"
   },
   {
    "duration": 577,
    "start_time": "2023-02-18T12:35:36.689Z"
   },
   {
    "duration": 366,
    "start_time": "2023-02-18T12:36:00.316Z"
   },
   {
    "duration": 446,
    "start_time": "2023-02-18T12:37:30.798Z"
   },
   {
    "duration": 374,
    "start_time": "2023-02-18T12:39:15.004Z"
   },
   {
    "duration": 460,
    "start_time": "2023-02-18T12:40:06.189Z"
   },
   {
    "duration": 379,
    "start_time": "2023-02-18T12:40:17.258Z"
   },
   {
    "duration": 577,
    "start_time": "2023-02-18T12:41:13.693Z"
   },
   {
    "duration": 559,
    "start_time": "2023-02-18T12:41:49.017Z"
   },
   {
    "duration": 548,
    "start_time": "2023-02-18T12:42:05.228Z"
   },
   {
    "duration": 464,
    "start_time": "2023-02-18T12:42:58.716Z"
   },
   {
    "duration": 480,
    "start_time": "2023-02-18T12:43:12.473Z"
   },
   {
    "duration": 15,
    "start_time": "2023-02-18T12:44:36.571Z"
   },
   {
    "duration": 2477,
    "start_time": "2023-02-18T12:44:57.448Z"
   },
   {
    "duration": 6,
    "start_time": "2023-02-18T12:44:59.928Z"
   },
   {
    "duration": 1665,
    "start_time": "2023-02-18T12:44:59.936Z"
   },
   {
    "duration": 67899,
    "start_time": "2023-02-18T12:45:01.603Z"
   },
   {
    "duration": 34888,
    "start_time": "2023-02-18T12:46:09.504Z"
   },
   {
    "duration": 65379,
    "start_time": "2023-02-18T12:46:44.394Z"
   },
   {
    "duration": 13,
    "start_time": "2023-02-18T12:47:49.775Z"
   },
   {
    "duration": 56,
    "start_time": "2023-02-18T12:47:49.790Z"
   },
   {
    "duration": 3,
    "start_time": "2023-02-18T12:47:49.848Z"
   },
   {
    "duration": 36,
    "start_time": "2023-02-18T12:47:49.855Z"
   },
   {
    "duration": 65,
    "start_time": "2023-02-18T12:47:49.894Z"
   },
   {
    "duration": 25,
    "start_time": "2023-02-18T12:47:49.961Z"
   },
   {
    "duration": 49,
    "start_time": "2023-02-18T12:47:49.989Z"
   },
   {
    "duration": 333,
    "start_time": "2023-02-18T12:47:50.041Z"
   },
   {
    "duration": 337,
    "start_time": "2023-02-18T12:47:50.376Z"
   },
   {
    "duration": 317,
    "start_time": "2023-02-18T12:47:50.715Z"
   },
   {
    "duration": 564,
    "start_time": "2023-02-18T12:47:51.037Z"
   },
   {
    "duration": 2215,
    "start_time": "2023-02-18T12:47:51.603Z"
   },
   {
    "duration": 29,
    "start_time": "2023-02-18T12:47:53.820Z"
   },
   {
    "duration": 517,
    "start_time": "2023-02-18T12:47:53.851Z"
   },
   {
    "duration": 500,
    "start_time": "2023-02-18T12:47:54.370Z"
   },
   {
    "duration": 11,
    "start_time": "2023-02-18T12:47:54.872Z"
   },
   {
    "duration": 314,
    "start_time": "2023-02-18T12:47:54.885Z"
   },
   {
    "duration": 19,
    "start_time": "2023-02-18T12:47:55.201Z"
   },
   {
    "duration": 18,
    "start_time": "2023-02-18T12:47:55.221Z"
   },
   {
    "duration": 47,
    "start_time": "2023-02-18T12:47:55.240Z"
   },
   {
    "duration": 14,
    "start_time": "2023-02-18T12:47:55.289Z"
   },
   {
    "duration": 17,
    "start_time": "2023-02-18T12:47:55.306Z"
   },
   {
    "duration": 33,
    "start_time": "2023-02-18T12:47:55.326Z"
   },
   {
    "duration": 42,
    "start_time": "2023-02-18T12:47:55.362Z"
   },
   {
    "duration": 23,
    "start_time": "2023-02-18T12:47:55.406Z"
   },
   {
    "duration": 18,
    "start_time": "2023-02-18T12:47:55.431Z"
   },
   {
    "duration": 14,
    "start_time": "2023-02-18T12:47:55.451Z"
   },
   {
    "duration": 37,
    "start_time": "2023-02-18T12:47:55.467Z"
   },
   {
    "duration": 13958,
    "start_time": "2023-02-18T17:48:51.024Z"
   },
   {
    "duration": 2426,
    "start_time": "2023-02-18T17:49:04.984Z"
   },
   {
    "duration": 1858,
    "start_time": "2023-02-18T17:49:07.412Z"
   },
   {
    "duration": 56506,
    "start_time": "2023-02-18T17:49:09.272Z"
   },
   {
    "duration": 31854,
    "start_time": "2023-02-18T17:50:05.780Z"
   },
   {
    "duration": 60049,
    "start_time": "2023-02-18T17:50:37.636Z"
   },
   {
    "duration": 17,
    "start_time": "2023-02-18T17:51:37.706Z"
   },
   {
    "duration": 19,
    "start_time": "2023-02-18T17:51:37.725Z"
   },
   {
    "duration": 3,
    "start_time": "2023-02-18T17:51:37.745Z"
   },
   {
    "duration": 6,
    "start_time": "2023-02-18T17:51:37.752Z"
   },
   {
    "duration": 61,
    "start_time": "2023-02-18T17:51:37.759Z"
   },
   {
    "duration": 7,
    "start_time": "2023-02-18T17:51:37.822Z"
   },
   {
    "duration": 6,
    "start_time": "2023-02-18T17:51:37.831Z"
   },
   {
    "duration": 398,
    "start_time": "2023-02-18T17:51:37.838Z"
   },
   {
    "duration": 310,
    "start_time": "2023-02-18T17:51:38.238Z"
   },
   {
    "duration": 306,
    "start_time": "2023-02-18T17:51:38.550Z"
   },
   {
    "duration": 526,
    "start_time": "2023-02-18T17:51:38.858Z"
   },
   {
    "duration": 541,
    "start_time": "2023-02-18T17:51:39.385Z"
   },
   {
    "duration": 17,
    "start_time": "2023-02-18T17:51:39.928Z"
   },
   {
    "duration": 520,
    "start_time": "2023-02-18T17:51:39.946Z"
   },
   {
    "duration": 481,
    "start_time": "2023-02-18T17:51:40.468Z"
   },
   {
    "duration": 9,
    "start_time": "2023-02-18T17:51:40.950Z"
   },
   {
    "duration": 458,
    "start_time": "2023-02-18T17:51:40.961Z"
   },
   {
    "duration": 17,
    "start_time": "2023-02-18T17:51:41.421Z"
   },
   {
    "duration": 12,
    "start_time": "2023-02-18T17:51:41.440Z"
   },
   {
    "duration": 30,
    "start_time": "2023-02-18T17:51:41.454Z"
   },
   {
    "duration": 24,
    "start_time": "2023-02-18T17:51:41.485Z"
   },
   {
    "duration": 14,
    "start_time": "2023-02-18T17:51:41.514Z"
   },
   {
    "duration": 13,
    "start_time": "2023-02-18T17:51:41.530Z"
   },
   {
    "duration": 12,
    "start_time": "2023-02-18T17:51:41.545Z"
   },
   {
    "duration": 3,
    "start_time": "2023-02-18T17:51:41.558Z"
   },
   {
    "duration": 5,
    "start_time": "2023-02-18T17:51:41.563Z"
   },
   {
    "duration": 17,
    "start_time": "2023-02-18T17:51:41.569Z"
   },
   {
    "duration": 27,
    "start_time": "2023-02-18T17:51:41.588Z"
   },
   {
    "duration": 12,
    "start_time": "2023-02-18T17:51:56.204Z"
   },
   {
    "duration": 4,
    "start_time": "2023-02-18T18:00:31.053Z"
   },
   {
    "duration": 2054,
    "start_time": "2023-02-18T18:00:31.059Z"
   },
   {
    "duration": 1992,
    "start_time": "2023-02-18T18:00:33.115Z"
   },
   {
    "duration": 57271,
    "start_time": "2023-02-18T18:00:35.110Z"
   },
   {
    "duration": 32800,
    "start_time": "2023-02-18T18:01:32.383Z"
   },
   {
    "duration": 61296,
    "start_time": "2023-02-18T18:02:05.185Z"
   },
   {
    "duration": 40,
    "start_time": "2023-02-18T18:03:06.484Z"
   },
   {
    "duration": 12,
    "start_time": "2023-02-18T18:03:06.526Z"
   },
   {
    "duration": 2,
    "start_time": "2023-02-18T18:03:06.541Z"
   },
   {
    "duration": 65,
    "start_time": "2023-02-18T18:03:06.545Z"
   },
   {
    "duration": 11,
    "start_time": "2023-02-18T18:03:06.613Z"
   },
   {
    "duration": 8,
    "start_time": "2023-02-18T18:03:06.625Z"
   },
   {
    "duration": 10,
    "start_time": "2023-02-18T18:03:06.634Z"
   },
   {
    "duration": 441,
    "start_time": "2023-02-18T18:03:06.646Z"
   },
   {
    "duration": 318,
    "start_time": "2023-02-18T18:03:07.089Z"
   },
   {
    "duration": 318,
    "start_time": "2023-02-18T18:03:07.409Z"
   },
   {
    "duration": 520,
    "start_time": "2023-02-18T18:03:07.728Z"
   },
   {
    "duration": 535,
    "start_time": "2023-02-18T18:03:08.251Z"
   },
   {
    "duration": 41,
    "start_time": "2023-02-18T18:03:08.788Z"
   },
   {
    "duration": 422,
    "start_time": "2023-02-18T18:03:08.833Z"
   },
   {
    "duration": 496,
    "start_time": "2023-02-18T18:03:09.257Z"
   },
   {
    "duration": 11,
    "start_time": "2023-02-18T18:03:09.755Z"
   },
   {
    "duration": 297,
    "start_time": "2023-02-18T18:03:09.768Z"
   },
   {
    "duration": 18,
    "start_time": "2023-02-18T18:03:10.068Z"
   },
   {
    "duration": 4,
    "start_time": "2023-02-18T18:03:10.087Z"
   },
   {
    "duration": 27,
    "start_time": "2023-02-18T18:03:10.112Z"
   },
   {
    "duration": 3,
    "start_time": "2023-02-18T18:03:10.141Z"
   },
   {
    "duration": 8,
    "start_time": "2023-02-18T18:03:10.146Z"
   },
   {
    "duration": 18,
    "start_time": "2023-02-18T18:03:10.156Z"
   },
   {
    "duration": 7,
    "start_time": "2023-02-18T18:03:10.175Z"
   },
   {
    "duration": 6,
    "start_time": "2023-02-18T18:03:10.184Z"
   },
   {
    "duration": 4,
    "start_time": "2023-02-18T18:03:10.205Z"
   },
   {
    "duration": 27,
    "start_time": "2023-02-18T18:03:10.210Z"
   },
   {
    "duration": 25,
    "start_time": "2023-02-18T18:03:10.239Z"
   },
   {
    "duration": 46055,
    "start_time": "2023-02-18T18:03:10.266Z"
   },
   {
    "duration": 2634391,
    "start_time": "2023-02-18T18:03:56.323Z"
   },
   {
    "duration": 3889,
    "start_time": "2023-02-18T18:47:50.716Z"
   },
   {
    "duration": 7842,
    "start_time": "2023-02-18T18:47:54.608Z"
   },
   {
    "duration": 9,
    "start_time": "2023-02-18T18:48:02.452Z"
   }
  ],
  "kernelspec": {
   "display_name": "Python 3 (ipykernel)",
   "language": "python",
   "name": "python3"
  },
  "language_info": {
   "codemirror_mode": {
    "name": "ipython",
    "version": 3
   },
   "file_extension": ".py",
   "mimetype": "text/x-python",
   "name": "python",
   "nbconvert_exporter": "python",
   "pygments_lexer": "ipython3",
   "version": "3.9.12"
  },
  "toc": {
   "base_numbering": 1,
   "nav_menu": {},
   "number_sections": true,
   "sideBar": true,
   "skip_h1_title": true,
   "title_cell": "Содержание",
   "title_sidebar": "Contents",
   "toc_cell": true,
   "toc_position": {
    "height": "calc(100% - 180px)",
    "left": "10px",
    "top": "150px",
    "width": "165px"
   },
   "toc_section_display": true,
   "toc_window_display": true
  }
 },
 "nbformat": 4,
 "nbformat_minor": 2
}
